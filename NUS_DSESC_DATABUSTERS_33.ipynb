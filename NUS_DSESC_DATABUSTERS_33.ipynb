{
  "cells": [
    {
      "cell_type": "markdown",
      "metadata": {
        "id": "Ac7I8Cn1uCXl"
      },
      "source": [
        "## 1) Libraries Installation\n",
        "##### The cell below is to help you keep track the libraries used and install them quickly.\n",
        "##### Ensure the correct library names are used, and follow the syntax: **%pip install PACKAGE_NAME**."
      ]
    },
    {
      "cell_type": "code",
      "execution_count": 3,
      "metadata": {
        "id": "a4GYYh8ruCXl",
        "outputId": "0a4e85aa-a1aa-40cf-b208-7cbf81ce12d5",
        "colab": {
          "base_uri": "https://localhost:8080/"
        }
      },
      "outputs": [
        {
          "output_type": "stream",
          "name": "stderr",
          "text": [
            "Installing package into ‘/usr/local/lib/R/site-library’\n",
            "(as ‘lib’ is unspecified)\n",
            "\n",
            "Installing package into ‘/usr/local/lib/R/site-library’\n",
            "(as ‘lib’ is unspecified)\n",
            "\n",
            "also installing the dependencies ‘quadprog’, ‘progressr’, ‘ggdist’, ‘numDeriv’, ‘fabletools’, ‘distributional’\n",
            "\n",
            "\n",
            "Installing package into ‘/usr/local/lib/R/site-library’\n",
            "(as ‘lib’ is unspecified)\n",
            "\n",
            "Loading required package: fabletools\n",
            "\n"
          ]
        }
      ],
      "source": [
        "install.packages('tsibble')\n",
        "install.packages('fable')\n",
        "install.packages('fabletools')\n",
        "library(tidyverse)\n",
        "library(tsibble)\n",
        "library(fable)\n",
        "library(fabletools)\n",
        "library(stats)"
      ]
    },
    {
      "cell_type": "markdown",
      "metadata": {
        "id": "0dW6s07OuCXm"
      },
      "source": [
        "## 2) Main Section for Code\n",
        "### **ALL code for machine learning and dataset analysis** should be entered below.\n",
        "##### Ensure that your code is clear and readable.\n",
        "##### Remember to include comments and markdown notes as necessary to explain and highlight important segments of your code."
      ]
    },
    {
      "cell_type": "code",
      "execution_count": 10,
      "metadata": {
        "id": "EyoqPn4nuCXm",
        "outputId": "799444b5-1756-4d4b-9b3c-bf62a7c3c89e",
        "colab": {
          "base_uri": "https://localhost:8080/",
          "height": 315
        }
      },
      "outputs": [
        {
          "output_type": "stream",
          "name": "stderr",
          "text": [
            "Warning message in file(file, \"rt\"):\n",
            "“cannot open file 'Quarterly Data.csv': No such file or directory”\n"
          ]
        },
        {
          "output_type": "error",
          "ename": "ERROR",
          "evalue": "Error in file(file, \"rt\"): cannot open the connection\n",
          "traceback": [
            "Error in file(file, \"rt\"): cannot open the connection\nTraceback:\n",
            "1. read.table(file = file, header = header, sep = sep, quote = quote, \n .     dec = dec, fill = fill, comment.char = comment.char, ...)",
            "2. file(file, \"rt\")",
            "3. .handleSimpleError(function (cnd) \n . {\n .     watcher$capture_plot_and_output()\n .     cnd <- sanitize_call(cnd)\n .     watcher$push(cnd)\n .     switch(on_error, continue = invokeRestart(\"eval_continue\"), \n .         stop = invokeRestart(\"eval_stop\"), error = NULL)\n . }, \"cannot open the connection\", base::quote(file(file, \"rt\")))"
          ]
        }
      ],
      "source": [
        "###...code...###\n",
        "system(\"git pull\")\n",
        "data = read.csv(\"Quarterly Data.csv\")\n",
        "data = data[-c(1:2),]\n",
        "gdp <- data %>%\n",
        "  select('sasdate', \"GDPC1\", 'GS10TB3Mx')\n",
        "\n",
        "gdp$sasdate <- yearquarter(gdp$sasdate)\n",
        "\n",
        "gdp_ts <- as_tsibble(gdp , index=sasdate)\n",
        "\n",
        "gdp_ts$logGDP <- log(gdp_ts$GDPC1)\n",
        "gdp_ts$GDPGR <- 400 * difference(gdp_ts$logGDP, lag=1, differences=1) # Annualised GDP growth rate\n",
        "gdpgr_plot <- ggplot(gdp_ts, aes(x=sasdate, y=GDPGR)) + geom_line() # Plot of annualised GDP growth rate\n",
        "gdpgr_plot + labs(x=\"Year\", y = \"Annualised GDP growth rate\")\n",
        "\n",
        "ar1 <- gdp_ts[-c(1),] %>%\n",
        "  model(AR(GDPGR ~ order(2) + lag(GS10TB3Mx)))\n",
        "\n",
        "report(ar1)\n",
        "\n",
        "fitted_ar1 <- ar1 %>%\n",
        "  fitted() %>%\n",
        "  select(\"sasdate\", \".fitted\")\n",
        "\n",
        "gdp_ts <-gdp_ts %>%\n",
        "  left_join(fitted_ar1, by=c(\"sasdate\"=\"sasdate\"))\n",
        "\n",
        "gdp_ts <- gdp_ts %>%\n",
        "  mutate(mean_sq=(GDPGR - .fitted)^2) %>%\n",
        "  mutate(recession=ifelse(GDPGR<0, 1, 0))"
      ]
    },
    {
      "cell_type": "markdown",
      "metadata": {
        "id": "N_03OJuQuCXm"
      },
      "source": [
        "#### Remember to rename your file name to **NUS_DSESC_DATABUSTERS_XX.ipynb** and ensure that it can run successfully. Good luck and have fun!"
      ]
    }
  ],
  "metadata": {
    "kernelspec": {
      "display_name": "R",
      "name": "ir"
    },
    "language_info": {
      "name": "R"
    },
    "colab": {
      "provenance": []
    }
  },
  "nbformat": 4,
  "nbformat_minor": 0
}