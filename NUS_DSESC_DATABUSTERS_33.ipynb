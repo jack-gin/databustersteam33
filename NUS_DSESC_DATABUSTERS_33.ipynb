{
  "cells": [
    {
      "cell_type": "markdown",
      "metadata": {
        "id": "Ac7I8Cn1uCXl"
      },
      "source": [
        "## 1) Libraries Installation\n",
        "##### The cell below is to help you keep track the libraries used and install them quickly.\n",
        "##### Ensure the correct library names are used, and follow the syntax: **%pip install PACKAGE_NAME**."
      ]
    },
    {
      "cell_type": "code",
      "execution_count": 1,
      "metadata": {
        "id": "a4GYYh8ruCXl",
        "outputId": "85e58793-c448-49d1-ef08-7d9bec410240",
        "colab": {
          "base_uri": "https://localhost:8080/"
        }
      },
      "outputs": [
        {
          "output_type": "stream",
          "name": "stderr",
          "text": [
            "── \u001b[1mAttaching core tidyverse packages\u001b[22m ──────────────────────── tidyverse 2.0.0 ──\n",
            "\u001b[32m✔\u001b[39m \u001b[34mdplyr    \u001b[39m 1.1.4     \u001b[32m✔\u001b[39m \u001b[34mreadr    \u001b[39m 2.1.5\n",
            "\u001b[32m✔\u001b[39m \u001b[34mforcats  \u001b[39m 1.0.0     \u001b[32m✔\u001b[39m \u001b[34mstringr  \u001b[39m 1.5.1\n",
            "\u001b[32m✔\u001b[39m \u001b[34mggplot2  \u001b[39m 3.5.1     \u001b[32m✔\u001b[39m \u001b[34mtibble   \u001b[39m 3.2.1\n",
            "\u001b[32m✔\u001b[39m \u001b[34mlubridate\u001b[39m 1.9.4     \u001b[32m✔\u001b[39m \u001b[34mtidyr    \u001b[39m 1.3.1\n",
            "\u001b[32m✔\u001b[39m \u001b[34mpurrr    \u001b[39m 1.0.4     \n",
            "── \u001b[1mConflicts\u001b[22m ────────────────────────────────────────── tidyverse_conflicts() ──\n",
            "\u001b[31m✖\u001b[39m \u001b[34mdplyr\u001b[39m::\u001b[32mfilter()\u001b[39m masks \u001b[34mstats\u001b[39m::filter()\n",
            "\u001b[31m✖\u001b[39m \u001b[34mdplyr\u001b[39m::\u001b[32mlag()\u001b[39m    masks \u001b[34mstats\u001b[39m::lag()\n",
            "\u001b[36mℹ\u001b[39m Use the conflicted package (\u001b[3m\u001b[34m<http://conflicted.r-lib.org/>\u001b[39m\u001b[23m) to force all conflicts to become errors\n",
            "Registered S3 method overwritten by 'tsibble':\n",
            "  method               from \n",
            "  as_tibble.grouped_df dplyr\n",
            "\n",
            "\n",
            "Attaching package: ‘tsibble’\n",
            "\n",
            "\n",
            "The following object is masked from ‘package:lubridate’:\n",
            "\n",
            "    interval\n",
            "\n",
            "\n",
            "The following objects are masked from ‘package:base’:\n",
            "\n",
            "    intersect, setdiff, union\n",
            "\n",
            "\n",
            "Loading required package: fabletools\n",
            "\n"
          ]
        }
      ],
      "source": [
        "#install.packages('tsibble')\n",
        "#install.packages('fable')\n",
        "#install.packages('fabletools')\n",
        "#install.packages('BVAR')\n",
        "#install.packages('feasts')\n",
        "#install.packages(\"urca\")\n",
        "library(tidyverse)\n",
        "library(tsibble)\n",
        "library(fable)\n",
        "library(fabletools)\n",
        "library(stats)\n",
        "library(BVAR)\n",
        "library(feasts)\n",
        "library(urca)"
      ]
    },
    {
      "cell_type": "markdown",
      "metadata": {
        "id": "0dW6s07OuCXm"
      },
      "source": [
        "## 2) Main Section for Code\n",
        "### Preparing dataset for analysis and applying the relevant stationarity-inducing transformations to the variables."
      ]
    },
    {
      "cell_type": "code",
      "execution_count": 10,
      "metadata": {
        "id": "EyoqPn4nuCXm"
      },
      "outputs": [],
      "source": [
        "data = read.csv(\"https://raw.githubusercontent.com/dsesc-acads/Databusters/refs/heads/main/Quarterly%20Data.csv\")\n",
        "data = data[-c(1:38),]\n",
        "data <- data %>%\n",
        "  dplyr::select('sasdate', \"GDPC1\", 'GS10TB3Mx', 'CLAIMSx', 'ANDENOx', 'UMCSENTx') %>%\n",
        "  mutate(sasdate = yearquarter(sasdate))\n",
        "transformed <- fred_transform(data[,-1], type=c('fred_qd'), codes=c(5,1,5,5,2))\n",
        "transformed <- cbind(data$sasdate[-1], transformed) %>%\n",
        "  rename(date = 'data$sasdate[-1]') %>%\n",
        "  mutate(GDPC1 = 4 * GDPC1) %>%\n",
        "  as_tsibble(index=date)\n",
        "\n",
        "transformed <- transformed %>%\n",
        "  mutate(across(c(GS10TB3Mx, CLAIMSx, ANDENOx, UMCSENTx, GDPC1),\n",
        "                 list(lag1 = ~ lag(., 1), lag2 = ~ lag(., 2),lag3 = ~ lag(., 3), lag4 = ~ lag(., 4)),\n",
        "                 .names = \"{col}_{fn}\"))\n",
        "\n",
        "transformed <- transformed[-c(1:4),]"
      ]
    },
    {
      "cell_type": "markdown",
      "source": [
        "## 3) AR Lag Selection\n",
        "### Preparing dataset for analysis and applying the relevant stationarity-inducing transformations to the variables."
      ],
      "metadata": {
        "id": "dIPTy75jFRk7"
      }
    },
    {
      "cell_type": "code",
      "source": [
        "ar_lags <- transformed[1:215,] %>%\n",
        "  model(ar1 = AR(GDPC1 ~ order(1)),\n",
        "        ar2 = AR(GDPC1 ~ order(2)),\n",
        "        ar3 = AR(GDPC1 ~ order(3)),\n",
        "        ar4 = AR(GDPC1 ~ order(4)),\n",
        "        ar5 = AR(GDPC1 ~ order(5)),\n",
        "        ar6 = AR(GDPC1 ~ order(6)),\n",
        "        ar7 = AR(GDPC1 ~ order(7)),\n",
        "        ar8 = AR(GDPC1 ~ order(8)))\n",
        "\n",
        "glance(ar_lags) %>%\n",
        "  arrange(AIC)\n",
        "\n",
        "ar_lags %>%\n",
        "  fabletools::forecast(new_data=transformed[216:219,]) %>%\n",
        "  accuracy(transformed)"
      ],
      "metadata": {
        "colab": {
          "base_uri": "https://localhost:8080/",
          "height": 681
        },
        "id": "66LPc-vLFayT",
        "outputId": "1e868f45-1a9c-416d-9915-a20b11326e13"
      },
      "execution_count": 11,
      "outputs": [
        {
          "output_type": "display_data",
          "data": {
            "text/html": [
              "<table class=\"dataframe\">\n",
              "<caption>A tibble: 8 × 6</caption>\n",
              "<thead>\n",
              "\t<tr><th scope=col>.model</th><th scope=col>sigma2</th><th scope=col>AIC</th><th scope=col>AICc</th><th scope=col>BIC</th><th scope=col>dof</th></tr>\n",
              "\t<tr><th scope=col>&lt;chr&gt;</th><th scope=col>&lt;dbl&gt;</th><th scope=col>&lt;dbl&gt;</th><th scope=col>&lt;dbl&gt;</th><th scope=col>&lt;dbl&gt;</th><th scope=col>&lt;int&gt;</th></tr>\n",
              "</thead>\n",
              "<tbody>\n",
              "\t<tr><td>ar1</td><td>19.39081</td><td> 3.887315</td><td> 3.943918</td><td>10.62859</td><td>213</td></tr>\n",
              "\t<tr><td>ar2</td><td>19.41131</td><td> 6.114516</td><td> 6.228260</td><td>16.22643</td><td>212</td></tr>\n",
              "\t<tr><td>ar3</td><td>19.38513</td><td> 7.824285</td><td> 8.014761</td><td>21.30684</td><td>211</td></tr>\n",
              "\t<tr><td>ar4</td><td>19.42438</td><td>10.259214</td><td>10.546295</td><td>27.11240</td><td>210</td></tr>\n",
              "\t<tr><td>ar5</td><td>19.49947</td><td>13.088720</td><td>13.492567</td><td>33.31255</td><td>209</td></tr>\n",
              "\t<tr><td>ar8</td><td>19.07915</td><td>14.403660</td><td>15.281709</td><td>44.73940</td><td>206</td></tr>\n",
              "\t<tr><td>ar6</td><td>19.51098</td><td>15.215632</td><td>15.756695</td><td>38.81010</td><td>208</td></tr>\n",
              "\t<tr><td>ar7</td><td>19.34867</td><td>15.419565</td><td>16.118594</td><td>42.38467</td><td>207</td></tr>\n",
              "</tbody>\n",
              "</table>\n"
            ],
            "text/markdown": "\nA tibble: 8 × 6\n\n| .model &lt;chr&gt; | sigma2 &lt;dbl&gt; | AIC &lt;dbl&gt; | AICc &lt;dbl&gt; | BIC &lt;dbl&gt; | dof &lt;int&gt; |\n|---|---|---|---|---|---|\n| ar1 | 19.39081 |  3.887315 |  3.943918 | 10.62859 | 213 |\n| ar2 | 19.41131 |  6.114516 |  6.228260 | 16.22643 | 212 |\n| ar3 | 19.38513 |  7.824285 |  8.014761 | 21.30684 | 211 |\n| ar4 | 19.42438 | 10.259214 | 10.546295 | 27.11240 | 210 |\n| ar5 | 19.49947 | 13.088720 | 13.492567 | 33.31255 | 209 |\n| ar8 | 19.07915 | 14.403660 | 15.281709 | 44.73940 | 206 |\n| ar6 | 19.51098 | 15.215632 | 15.756695 | 38.81010 | 208 |\n| ar7 | 19.34867 | 15.419565 | 16.118594 | 42.38467 | 207 |\n\n",
            "text/latex": "A tibble: 8 × 6\n\\begin{tabular}{llllll}\n .model & sigma2 & AIC & AICc & BIC & dof\\\\\n <chr> & <dbl> & <dbl> & <dbl> & <dbl> & <int>\\\\\n\\hline\n\t ar1 & 19.39081 &  3.887315 &  3.943918 & 10.62859 & 213\\\\\n\t ar2 & 19.41131 &  6.114516 &  6.228260 & 16.22643 & 212\\\\\n\t ar3 & 19.38513 &  7.824285 &  8.014761 & 21.30684 & 211\\\\\n\t ar4 & 19.42438 & 10.259214 & 10.546295 & 27.11240 & 210\\\\\n\t ar5 & 19.49947 & 13.088720 & 13.492567 & 33.31255 & 209\\\\\n\t ar8 & 19.07915 & 14.403660 & 15.281709 & 44.73940 & 206\\\\\n\t ar6 & 19.51098 & 15.215632 & 15.756695 & 38.81010 & 208\\\\\n\t ar7 & 19.34867 & 15.419565 & 16.118594 & 42.38467 & 207\\\\\n\\end{tabular}\n",
            "text/plain": [
              "  .model sigma2   AIC       AICc      BIC      dof\n",
              "1 ar1    19.39081  3.887315  3.943918 10.62859 213\n",
              "2 ar2    19.41131  6.114516  6.228260 16.22643 212\n",
              "3 ar3    19.38513  7.824285  8.014761 21.30684 211\n",
              "4 ar4    19.42438 10.259214 10.546295 27.11240 210\n",
              "5 ar5    19.49947 13.088720 13.492567 33.31255 209\n",
              "6 ar8    19.07915 14.403660 15.281709 44.73940 206\n",
              "7 ar6    19.51098 15.215632 15.756695 38.81010 208\n",
              "8 ar7    19.34867 15.419565 16.118594 42.38467 207"
            ]
          },
          "metadata": {}
        },
        {
          "output_type": "display_data",
          "data": {
            "text/html": [
              "<table class=\"dataframe\">\n",
              "<caption>A tibble: 8 × 10</caption>\n",
              "<thead>\n",
              "\t<tr><th scope=col>.model</th><th scope=col>.type</th><th scope=col>ME</th><th scope=col>RMSE</th><th scope=col>MAE</th><th scope=col>MPE</th><th scope=col>MAPE</th><th scope=col>MASE</th><th scope=col>RMSSE</th><th scope=col>ACF1</th></tr>\n",
              "\t<tr><th scope=col>&lt;chr&gt;</th><th scope=col>&lt;chr&gt;</th><th scope=col>&lt;dbl&gt;</th><th scope=col>&lt;dbl&gt;</th><th scope=col>&lt;dbl&gt;</th><th scope=col>&lt;dbl&gt;</th><th scope=col>&lt;dbl&gt;</th><th scope=col>&lt;dbl&gt;</th><th scope=col>&lt;dbl&gt;</th><th scope=col>&lt;dbl&gt;</th></tr>\n",
              "</thead>\n",
              "<tbody>\n",
              "\t<tr><td>ar1</td><td>Test</td><td>0.4649493</td><td>0.8348992</td><td>0.5954848</td><td>10.95524</td><td>16.34803</td><td>0.1590267</td><td>0.1343137</td><td>-0.2781114</td></tr>\n",
              "\t<tr><td>ar2</td><td>Test</td><td>0.4542497</td><td>0.8372748</td><td>0.6037337</td><td>10.52520</td><td>16.70080</td><td>0.1612296</td><td>0.1346959</td><td>-0.2835602</td></tr>\n",
              "\t<tr><td>ar3</td><td>Test</td><td>0.4484738</td><td>0.8205455</td><td>0.6083450</td><td>10.43221</td><td>17.03695</td><td>0.1624611</td><td>0.1320046</td><td>-0.3238528</td></tr>\n",
              "\t<tr><td>ar4</td><td>Test</td><td>0.4454774</td><td>0.8117210</td><td>0.6028504</td><td>10.39569</td><td>16.89720</td><td>0.1609937</td><td>0.1305850</td><td>-0.3419946</td></tr>\n",
              "\t<tr><td>ar5</td><td>Test</td><td>0.4365601</td><td>0.8072075</td><td>0.5950677</td><td>10.09854</td><td>16.64694</td><td>0.1589153</td><td>0.1298589</td><td>-0.3364216</td></tr>\n",
              "\t<tr><td>ar6</td><td>Test</td><td>0.4408962</td><td>0.6741048</td><td>0.4544737</td><td>11.46929</td><td>12.03021</td><td>0.1213691</td><td>0.1084461</td><td>-0.4090615</td></tr>\n",
              "\t<tr><td>ar7</td><td>Test</td><td>0.4472806</td><td>0.7368671</td><td>0.4608549</td><td>11.43507</td><td>11.99586</td><td>0.1230732</td><td>0.1185429</td><td>-0.5282952</td></tr>\n",
              "\t<tr><td>ar8</td><td>Test</td><td>0.6605542</td><td>0.8423000</td><td>0.6605542</td><td>18.82127</td><td>18.82127</td><td>0.1764038</td><td>0.1355043</td><td>-0.4503462</td></tr>\n",
              "</tbody>\n",
              "</table>\n"
            ],
            "text/markdown": "\nA tibble: 8 × 10\n\n| .model &lt;chr&gt; | .type &lt;chr&gt; | ME &lt;dbl&gt; | RMSE &lt;dbl&gt; | MAE &lt;dbl&gt; | MPE &lt;dbl&gt; | MAPE &lt;dbl&gt; | MASE &lt;dbl&gt; | RMSSE &lt;dbl&gt; | ACF1 &lt;dbl&gt; |\n|---|---|---|---|---|---|---|---|---|---|\n| ar1 | Test | 0.4649493 | 0.8348992 | 0.5954848 | 10.95524 | 16.34803 | 0.1590267 | 0.1343137 | -0.2781114 |\n| ar2 | Test | 0.4542497 | 0.8372748 | 0.6037337 | 10.52520 | 16.70080 | 0.1612296 | 0.1346959 | -0.2835602 |\n| ar3 | Test | 0.4484738 | 0.8205455 | 0.6083450 | 10.43221 | 17.03695 | 0.1624611 | 0.1320046 | -0.3238528 |\n| ar4 | Test | 0.4454774 | 0.8117210 | 0.6028504 | 10.39569 | 16.89720 | 0.1609937 | 0.1305850 | -0.3419946 |\n| ar5 | Test | 0.4365601 | 0.8072075 | 0.5950677 | 10.09854 | 16.64694 | 0.1589153 | 0.1298589 | -0.3364216 |\n| ar6 | Test | 0.4408962 | 0.6741048 | 0.4544737 | 11.46929 | 12.03021 | 0.1213691 | 0.1084461 | -0.4090615 |\n| ar7 | Test | 0.4472806 | 0.7368671 | 0.4608549 | 11.43507 | 11.99586 | 0.1230732 | 0.1185429 | -0.5282952 |\n| ar8 | Test | 0.6605542 | 0.8423000 | 0.6605542 | 18.82127 | 18.82127 | 0.1764038 | 0.1355043 | -0.4503462 |\n\n",
            "text/latex": "A tibble: 8 × 10\n\\begin{tabular}{llllllllll}\n .model & .type & ME & RMSE & MAE & MPE & MAPE & MASE & RMSSE & ACF1\\\\\n <chr> & <chr> & <dbl> & <dbl> & <dbl> & <dbl> & <dbl> & <dbl> & <dbl> & <dbl>\\\\\n\\hline\n\t ar1 & Test & 0.4649493 & 0.8348992 & 0.5954848 & 10.95524 & 16.34803 & 0.1590267 & 0.1343137 & -0.2781114\\\\\n\t ar2 & Test & 0.4542497 & 0.8372748 & 0.6037337 & 10.52520 & 16.70080 & 0.1612296 & 0.1346959 & -0.2835602\\\\\n\t ar3 & Test & 0.4484738 & 0.8205455 & 0.6083450 & 10.43221 & 17.03695 & 0.1624611 & 0.1320046 & -0.3238528\\\\\n\t ar4 & Test & 0.4454774 & 0.8117210 & 0.6028504 & 10.39569 & 16.89720 & 0.1609937 & 0.1305850 & -0.3419946\\\\\n\t ar5 & Test & 0.4365601 & 0.8072075 & 0.5950677 & 10.09854 & 16.64694 & 0.1589153 & 0.1298589 & -0.3364216\\\\\n\t ar6 & Test & 0.4408962 & 0.6741048 & 0.4544737 & 11.46929 & 12.03021 & 0.1213691 & 0.1084461 & -0.4090615\\\\\n\t ar7 & Test & 0.4472806 & 0.7368671 & 0.4608549 & 11.43507 & 11.99586 & 0.1230732 & 0.1185429 & -0.5282952\\\\\n\t ar8 & Test & 0.6605542 & 0.8423000 & 0.6605542 & 18.82127 & 18.82127 & 0.1764038 & 0.1355043 & -0.4503462\\\\\n\\end{tabular}\n",
            "text/plain": [
              "  .model .type ME        RMSE      MAE       MPE      MAPE     MASE     \n",
              "1 ar1    Test  0.4649493 0.8348992 0.5954848 10.95524 16.34803 0.1590267\n",
              "2 ar2    Test  0.4542497 0.8372748 0.6037337 10.52520 16.70080 0.1612296\n",
              "3 ar3    Test  0.4484738 0.8205455 0.6083450 10.43221 17.03695 0.1624611\n",
              "4 ar4    Test  0.4454774 0.8117210 0.6028504 10.39569 16.89720 0.1609937\n",
              "5 ar5    Test  0.4365601 0.8072075 0.5950677 10.09854 16.64694 0.1589153\n",
              "6 ar6    Test  0.4408962 0.6741048 0.4544737 11.46929 12.03021 0.1213691\n",
              "7 ar7    Test  0.4472806 0.7368671 0.4608549 11.43507 11.99586 0.1230732\n",
              "8 ar8    Test  0.6605542 0.8423000 0.6605542 18.82127 18.82127 0.1764038\n",
              "  RMSSE     ACF1      \n",
              "1 0.1343137 -0.2781114\n",
              "2 0.1346959 -0.2835602\n",
              "3 0.1320046 -0.3238528\n",
              "4 0.1305850 -0.3419946\n",
              "5 0.1298589 -0.3364216\n",
              "6 0.1084461 -0.4090615\n",
              "7 0.1185429 -0.5282952\n",
              "8 0.1355043 -0.4503462"
            ]
          },
          "metadata": {}
        }
      ]
    },
    {
      "cell_type": "markdown",
      "source": [
        "Selection of lags of other predictors:"
      ],
      "metadata": {
        "id": "5PtGPZcNGJl9"
      }
    },
    {
      "cell_type": "code",
      "source": [
        "### Term Spread\n",
        "ardl_spread<- transformed[1:215,] %>%\n",
        "  model(AR(GDPC1 ~ order(1)),\n",
        "        AR(GDPC1 ~ order(1) + GS10TB3Mx_lag1),\n",
        "        AR(GDPC1 ~ order(1) + GS10TB3Mx_lag1 + GS10TB3Mx_lag2),\n",
        "        AR(GDPC1 ~ order(1) + GS10TB3Mx_lag1 + GS10TB3Mx_lag2 + GS10TB3Mx_lag3),\n",
        "        AR(GDPC1 ~ order(1) + GS10TB3Mx_lag1 + GS10TB3Mx_lag2 + GS10TB3Mx_lag3 + GS10TB3Mx_lag4))\n",
        "\n",
        "glance(ardl_spread) %>%\n",
        "  arrange(AIC)"
      ],
      "metadata": {
        "id": "K9z4NFA-GM3L",
        "outputId": "7a719051-4510-4c4a-fa0d-f355b2066fc8",
        "colab": {
          "base_uri": "https://localhost:8080/",
          "height": 255
        }
      },
      "execution_count": 12,
      "outputs": [
        {
          "output_type": "display_data",
          "data": {
            "text/html": [
              "<table class=\"dataframe\">\n",
              "<caption>A tibble: 5 × 6</caption>\n",
              "<thead>\n",
              "\t<tr><th scope=col>.model</th><th scope=col>sigma2</th><th scope=col>AIC</th><th scope=col>AICc</th><th scope=col>BIC</th><th scope=col>dof</th></tr>\n",
              "\t<tr><th scope=col>&lt;chr&gt;</th><th scope=col>&lt;dbl&gt;</th><th scope=col>&lt;dbl&gt;</th><th scope=col>&lt;dbl&gt;</th><th scope=col>&lt;dbl&gt;</th><th scope=col>&lt;int&gt;</th></tr>\n",
              "</thead>\n",
              "<tbody>\n",
              "\t<tr><td>AR(GDPC1 ~ order(1) + GS10TB3Mx_lag1 + GS10TB3Mx_lag2)                                        </td><td>18.18772</td><td>-5.884038</td><td>-5.693562</td><td> 7.598514</td><td>211</td></tr>\n",
              "\t<tr><td>AR(GDPC1 ~ order(1) + GS10TB3Mx_lag1 + GS10TB3Mx_lag2 + GS10TB3Mx_lag3)                       </td><td>18.15880</td><td>-4.226142</td><td>-3.939061</td><td>12.627048</td><td>210</td></tr>\n",
              "\t<tr><td>AR(GDPC1 ~ order(1) + GS10TB3Mx_lag1 + GS10TB3Mx_lag2 + GS10TB3Mx_lag3 + \n",
              "    GS10TB3Mx_lag4)</td><td>18.12433</td><td>-2.634605</td><td>-2.230759</td><td>17.589223</td><td>209</td></tr>\n",
              "\t<tr><td>AR(GDPC1 ~ order(1) + GS10TB3Mx_lag1)                                                         </td><td>18.69201</td><td>-2.003878</td><td>-1.890134</td><td> 8.108036</td><td>212</td></tr>\n",
              "\t<tr><td>AR(GDPC1 ~ order(1))                                                                          </td><td>19.39081</td><td> 3.887315</td><td> 3.943918</td><td>10.628591</td><td>213</td></tr>\n",
              "</tbody>\n",
              "</table>\n"
            ],
            "text/markdown": "\nA tibble: 5 × 6\n\n| .model &lt;chr&gt; | sigma2 &lt;dbl&gt; | AIC &lt;dbl&gt; | AICc &lt;dbl&gt; | BIC &lt;dbl&gt; | dof &lt;int&gt; |\n|---|---|---|---|---|---|\n| AR(GDPC1 ~ order(1) + GS10TB3Mx_lag1 + GS10TB3Mx_lag2)                                         | 18.18772 | -5.884038 | -5.693562 |  7.598514 | 211 |\n| AR(GDPC1 ~ order(1) + GS10TB3Mx_lag1 + GS10TB3Mx_lag2 + GS10TB3Mx_lag3)                        | 18.15880 | -4.226142 | -3.939061 | 12.627048 | 210 |\n| AR(GDPC1 ~ order(1) + GS10TB3Mx_lag1 + GS10TB3Mx_lag2 + GS10TB3Mx_lag3 + \n    GS10TB3Mx_lag4) | 18.12433 | -2.634605 | -2.230759 | 17.589223 | 209 |\n| AR(GDPC1 ~ order(1) + GS10TB3Mx_lag1)                                                          | 18.69201 | -2.003878 | -1.890134 |  8.108036 | 212 |\n| AR(GDPC1 ~ order(1))                                                                           | 19.39081 |  3.887315 |  3.943918 | 10.628591 | 213 |\n\n",
            "text/latex": "A tibble: 5 × 6\n\\begin{tabular}{llllll}\n .model & sigma2 & AIC & AICc & BIC & dof\\\\\n <chr> & <dbl> & <dbl> & <dbl> & <dbl> & <int>\\\\\n\\hline\n\t AR(GDPC1 \\textasciitilde{} order(1) + GS10TB3Mx\\_lag1 + GS10TB3Mx\\_lag2)                                         & 18.18772 & -5.884038 & -5.693562 &  7.598514 & 211\\\\\n\t AR(GDPC1 \\textasciitilde{} order(1) + GS10TB3Mx\\_lag1 + GS10TB3Mx\\_lag2 + GS10TB3Mx\\_lag3)                        & 18.15880 & -4.226142 & -3.939061 & 12.627048 & 210\\\\\n\t AR(GDPC1 \\textasciitilde{} order(1) + GS10TB3Mx\\_lag1 + GS10TB3Mx\\_lag2 + GS10TB3Mx\\_lag3 + \n    GS10TB3Mx\\_lag4) & 18.12433 & -2.634605 & -2.230759 & 17.589223 & 209\\\\\n\t AR(GDPC1 \\textasciitilde{} order(1) + GS10TB3Mx\\_lag1)                                                          & 18.69201 & -2.003878 & -1.890134 &  8.108036 & 212\\\\\n\t AR(GDPC1 \\textasciitilde{} order(1))                                                                           & 19.39081 &  3.887315 &  3.943918 & 10.628591 & 213\\\\\n\\end{tabular}\n",
            "text/plain": [
              "  .model                                                                                        \n",
              "1 AR(GDPC1 ~ order(1) + GS10TB3Mx_lag1 + GS10TB3Mx_lag2)                                        \n",
              "2 AR(GDPC1 ~ order(1) + GS10TB3Mx_lag1 + GS10TB3Mx_lag2 + GS10TB3Mx_lag3)                       \n",
              "3 AR(GDPC1 ~ order(1) + GS10TB3Mx_lag1 + GS10TB3Mx_lag2 + GS10TB3Mx_lag3 + \\n    GS10TB3Mx_lag4)\n",
              "4 AR(GDPC1 ~ order(1) + GS10TB3Mx_lag1)                                                         \n",
              "5 AR(GDPC1 ~ order(1))                                                                          \n",
              "  sigma2   AIC       AICc      BIC       dof\n",
              "1 18.18772 -5.884038 -5.693562  7.598514 211\n",
              "2 18.15880 -4.226142 -3.939061 12.627048 210\n",
              "3 18.12433 -2.634605 -2.230759 17.589223 209\n",
              "4 18.69201 -2.003878 -1.890134  8.108036 212\n",
              "5 19.39081  3.887315  3.943918 10.628591 213"
            ]
          },
          "metadata": {}
        }
      ]
    },
    {
      "cell_type": "markdown",
      "source": [],
      "metadata": {
        "id": "f4C_rIwpGIwI"
      }
    },
    {
      "cell_type": "code",
      "source": [
        "### Unemployment claims\n",
        "ardl_claims<- transformed[1:215,] %>%\n",
        "  model(AR(GDPC1 ~ order(1)),\n",
        "        AR(GDPC1 ~ order(1) + CLAIMSx_lag1),\n",
        "        AR(GDPC1 ~ order(1) + CLAIMSx_lag1 + CLAIMSx_lag2),\n",
        "        AR(GDPC1 ~ order(1) + CLAIMSx_lag1 + CLAIMSx_lag2 + CLAIMSx_lag3),\n",
        "        AR(GDPC1 ~ order(1) + CLAIMSx_lag1 + CLAIMSx_lag2 + CLAIMSx_lag3 + CLAIMSx_lag4))\n",
        "\n",
        "glance(ardl_claims) %>%\n",
        "  arrange(AIC)\n"
      ],
      "metadata": {
        "id": "S4_DAPeRGYwQ",
        "outputId": "a872adf4-88f6-4d94-da83-2083fab08f51",
        "colab": {
          "base_uri": "https://localhost:8080/",
          "height": 255
        }
      },
      "execution_count": 13,
      "outputs": [
        {
          "output_type": "display_data",
          "data": {
            "text/html": [
              "<table class=\"dataframe\">\n",
              "<caption>A tibble: 5 × 6</caption>\n",
              "<thead>\n",
              "\t<tr><th scope=col>.model</th><th scope=col>sigma2</th><th scope=col>AIC</th><th scope=col>AICc</th><th scope=col>BIC</th><th scope=col>dof</th></tr>\n",
              "\t<tr><th scope=col>&lt;chr&gt;</th><th scope=col>&lt;dbl&gt;</th><th scope=col>&lt;dbl&gt;</th><th scope=col>&lt;dbl&gt;</th><th scope=col>&lt;dbl&gt;</th><th scope=col>&lt;int&gt;</th></tr>\n",
              "</thead>\n",
              "<tbody>\n",
              "\t<tr><td>AR(GDPC1 ~ order(1) + CLAIMSx_lag1 + CLAIMSx_lag2 + CLAIMSx_lag3 + \n",
              "    CLAIMSx_lag4)</td><td>15.04411</td><td>-42.682365</td><td>-42.278518</td><td>-22.45854</td><td>209</td></tr>\n",
              "\t<tr><td>AR(GDPC1 ~ order(1) + CLAIMSx_lag1 + CLAIMSx_lag2 + CLAIMSx_lag3)                     </td><td>15.26594</td><td>-41.535387</td><td>-41.248306</td><td>-24.68220</td><td>210</td></tr>\n",
              "\t<tr><td>AR(GDPC1 ~ order(1) + CLAIMSx_lag1 + CLAIMSx_lag2)                                    </td><td>15.45349</td><td>-40.910092</td><td>-40.719616</td><td>-27.42754</td><td>211</td></tr>\n",
              "\t<tr><td>AR(GDPC1 ~ order(1) + CLAIMSx_lag1)                                                   </td><td>16.25040</td><td>-32.099198</td><td>-31.985454</td><td>-21.98728</td><td>212</td></tr>\n",
              "\t<tr><td>AR(GDPC1 ~ order(1))                                                                  </td><td>19.39081</td><td>  3.887315</td><td>  3.943918</td><td> 10.62859</td><td>213</td></tr>\n",
              "</tbody>\n",
              "</table>\n"
            ],
            "text/markdown": "\nA tibble: 5 × 6\n\n| .model &lt;chr&gt; | sigma2 &lt;dbl&gt; | AIC &lt;dbl&gt; | AICc &lt;dbl&gt; | BIC &lt;dbl&gt; | dof &lt;int&gt; |\n|---|---|---|---|---|---|\n| AR(GDPC1 ~ order(1) + CLAIMSx_lag1 + CLAIMSx_lag2 + CLAIMSx_lag3 + \n    CLAIMSx_lag4) | 15.04411 | -42.682365 | -42.278518 | -22.45854 | 209 |\n| AR(GDPC1 ~ order(1) + CLAIMSx_lag1 + CLAIMSx_lag2 + CLAIMSx_lag3)                      | 15.26594 | -41.535387 | -41.248306 | -24.68220 | 210 |\n| AR(GDPC1 ~ order(1) + CLAIMSx_lag1 + CLAIMSx_lag2)                                     | 15.45349 | -40.910092 | -40.719616 | -27.42754 | 211 |\n| AR(GDPC1 ~ order(1) + CLAIMSx_lag1)                                                    | 16.25040 | -32.099198 | -31.985454 | -21.98728 | 212 |\n| AR(GDPC1 ~ order(1))                                                                   | 19.39081 |   3.887315 |   3.943918 |  10.62859 | 213 |\n\n",
            "text/latex": "A tibble: 5 × 6\n\\begin{tabular}{llllll}\n .model & sigma2 & AIC & AICc & BIC & dof\\\\\n <chr> & <dbl> & <dbl> & <dbl> & <dbl> & <int>\\\\\n\\hline\n\t AR(GDPC1 \\textasciitilde{} order(1) + CLAIMSx\\_lag1 + CLAIMSx\\_lag2 + CLAIMSx\\_lag3 + \n    CLAIMSx\\_lag4) & 15.04411 & -42.682365 & -42.278518 & -22.45854 & 209\\\\\n\t AR(GDPC1 \\textasciitilde{} order(1) + CLAIMSx\\_lag1 + CLAIMSx\\_lag2 + CLAIMSx\\_lag3)                      & 15.26594 & -41.535387 & -41.248306 & -24.68220 & 210\\\\\n\t AR(GDPC1 \\textasciitilde{} order(1) + CLAIMSx\\_lag1 + CLAIMSx\\_lag2)                                     & 15.45349 & -40.910092 & -40.719616 & -27.42754 & 211\\\\\n\t AR(GDPC1 \\textasciitilde{} order(1) + CLAIMSx\\_lag1)                                                    & 16.25040 & -32.099198 & -31.985454 & -21.98728 & 212\\\\\n\t AR(GDPC1 \\textasciitilde{} order(1))                                                                   & 19.39081 &   3.887315 &   3.943918 &  10.62859 & 213\\\\\n\\end{tabular}\n",
            "text/plain": [
              "  .model                                                                                \n",
              "1 AR(GDPC1 ~ order(1) + CLAIMSx_lag1 + CLAIMSx_lag2 + CLAIMSx_lag3 + \\n    CLAIMSx_lag4)\n",
              "2 AR(GDPC1 ~ order(1) + CLAIMSx_lag1 + CLAIMSx_lag2 + CLAIMSx_lag3)                     \n",
              "3 AR(GDPC1 ~ order(1) + CLAIMSx_lag1 + CLAIMSx_lag2)                                    \n",
              "4 AR(GDPC1 ~ order(1) + CLAIMSx_lag1)                                                   \n",
              "5 AR(GDPC1 ~ order(1))                                                                  \n",
              "  sigma2   AIC        AICc       BIC       dof\n",
              "1 15.04411 -42.682365 -42.278518 -22.45854 209\n",
              "2 15.26594 -41.535387 -41.248306 -24.68220 210\n",
              "3 15.45349 -40.910092 -40.719616 -27.42754 211\n",
              "4 16.25040 -32.099198 -31.985454 -21.98728 212\n",
              "5 19.39081   3.887315   3.943918  10.62859 213"
            ]
          },
          "metadata": {}
        }
      ]
    },
    {
      "cell_type": "code",
      "source": [
        "### Housing starts\n",
        "ardl_hstarts<- transformed[1:215,] %>%\n",
        "  model(AR(GDPC1 ~ order(1)),\n",
        "        AR(GDPC1 ~ order(1) + ANDENOx_lag1),\n",
        "        AR(GDPC1 ~ order(1) + ANDENOx_lag1 + ANDENOx_lag2),\n",
        "        AR(GDPC1 ~ order(1) + ANDENOx_lag1 + ANDENOx_lag2 + ANDENOx_lag3),\n",
        "        AR(GDPC1 ~ order(1) + ANDENOx_lag1 + ANDENOx_lag2 + ANDENOx_lag3 + ANDENOx_lag4))\n",
        "\n",
        "glance(ardl_hstarts) %>%\n",
        "  arrange(AIC)\n"
      ],
      "metadata": {
        "id": "bCBf1BNCGiBi",
        "outputId": "0ed7bf45-90ac-4876-a4a8-077339b828e1",
        "colab": {
          "base_uri": "https://localhost:8080/",
          "height": 255
        }
      },
      "execution_count": 14,
      "outputs": [
        {
          "output_type": "display_data",
          "data": {
            "text/html": [
              "<table class=\"dataframe\">\n",
              "<caption>A tibble: 5 × 6</caption>\n",
              "<thead>\n",
              "\t<tr><th scope=col>.model</th><th scope=col>sigma2</th><th scope=col>AIC</th><th scope=col>AICc</th><th scope=col>BIC</th><th scope=col>dof</th></tr>\n",
              "\t<tr><th scope=col>&lt;chr&gt;</th><th scope=col>&lt;dbl&gt;</th><th scope=col>&lt;dbl&gt;</th><th scope=col>&lt;dbl&gt;</th><th scope=col>&lt;dbl&gt;</th><th scope=col>&lt;int&gt;</th></tr>\n",
              "</thead>\n",
              "<tbody>\n",
              "\t<tr><td>AR(GDPC1 ~ order(1) + ANDENOx_lag1 + ANDENOx_lag2)                                    </td><td>18.53431</td><td>-1.8254707</td><td>-1.6349945</td><td>11.65708</td><td>211</td></tr>\n",
              "\t<tr><td>AR(GDPC1 ~ order(1) + ANDENOx_lag1 + ANDENOx_lag2 + ANDENOx_lag3)                     </td><td>18.47990</td><td>-0.4575456</td><td>-0.1704643</td><td>16.39564</td><td>210</td></tr>\n",
              "\t<tr><td>AR(GDPC1 ~ order(1) + ANDENOx_lag1 + ANDENOx_lag2 + ANDENOx_lag3 + \n",
              "    ANDENOx_lag4)</td><td>18.43130</td><td> 0.9763187</td><td> 1.3801648</td><td>21.20015</td><td>209</td></tr>\n",
              "\t<tr><td>AR(GDPC1 ~ order(1))                                                                  </td><td>19.39081</td><td> 3.8873146</td><td> 3.9439184</td><td>10.62859</td><td>213</td></tr>\n",
              "\t<tr><td>AR(GDPC1 ~ order(1) + ANDENOx_lag1)                                                   </td><td>19.39060</td><td> 5.8850083</td><td> 5.9987524</td><td>15.99692</td><td>212</td></tr>\n",
              "</tbody>\n",
              "</table>\n"
            ],
            "text/markdown": "\nA tibble: 5 × 6\n\n| .model &lt;chr&gt; | sigma2 &lt;dbl&gt; | AIC &lt;dbl&gt; | AICc &lt;dbl&gt; | BIC &lt;dbl&gt; | dof &lt;int&gt; |\n|---|---|---|---|---|---|\n| AR(GDPC1 ~ order(1) + ANDENOx_lag1 + ANDENOx_lag2)                                     | 18.53431 | -1.8254707 | -1.6349945 | 11.65708 | 211 |\n| AR(GDPC1 ~ order(1) + ANDENOx_lag1 + ANDENOx_lag2 + ANDENOx_lag3)                      | 18.47990 | -0.4575456 | -0.1704643 | 16.39564 | 210 |\n| AR(GDPC1 ~ order(1) + ANDENOx_lag1 + ANDENOx_lag2 + ANDENOx_lag3 + \n    ANDENOx_lag4) | 18.43130 |  0.9763187 |  1.3801648 | 21.20015 | 209 |\n| AR(GDPC1 ~ order(1))                                                                   | 19.39081 |  3.8873146 |  3.9439184 | 10.62859 | 213 |\n| AR(GDPC1 ~ order(1) + ANDENOx_lag1)                                                    | 19.39060 |  5.8850083 |  5.9987524 | 15.99692 | 212 |\n\n",
            "text/latex": "A tibble: 5 × 6\n\\begin{tabular}{llllll}\n .model & sigma2 & AIC & AICc & BIC & dof\\\\\n <chr> & <dbl> & <dbl> & <dbl> & <dbl> & <int>\\\\\n\\hline\n\t AR(GDPC1 \\textasciitilde{} order(1) + ANDENOx\\_lag1 + ANDENOx\\_lag2)                                     & 18.53431 & -1.8254707 & -1.6349945 & 11.65708 & 211\\\\\n\t AR(GDPC1 \\textasciitilde{} order(1) + ANDENOx\\_lag1 + ANDENOx\\_lag2 + ANDENOx\\_lag3)                      & 18.47990 & -0.4575456 & -0.1704643 & 16.39564 & 210\\\\\n\t AR(GDPC1 \\textasciitilde{} order(1) + ANDENOx\\_lag1 + ANDENOx\\_lag2 + ANDENOx\\_lag3 + \n    ANDENOx\\_lag4) & 18.43130 &  0.9763187 &  1.3801648 & 21.20015 & 209\\\\\n\t AR(GDPC1 \\textasciitilde{} order(1))                                                                   & 19.39081 &  3.8873146 &  3.9439184 & 10.62859 & 213\\\\\n\t AR(GDPC1 \\textasciitilde{} order(1) + ANDENOx\\_lag1)                                                    & 19.39060 &  5.8850083 &  5.9987524 & 15.99692 & 212\\\\\n\\end{tabular}\n",
            "text/plain": [
              "  .model                                                                                \n",
              "1 AR(GDPC1 ~ order(1) + ANDENOx_lag1 + ANDENOx_lag2)                                    \n",
              "2 AR(GDPC1 ~ order(1) + ANDENOx_lag1 + ANDENOx_lag2 + ANDENOx_lag3)                     \n",
              "3 AR(GDPC1 ~ order(1) + ANDENOx_lag1 + ANDENOx_lag2 + ANDENOx_lag3 + \\n    ANDENOx_lag4)\n",
              "4 AR(GDPC1 ~ order(1))                                                                  \n",
              "5 AR(GDPC1 ~ order(1) + ANDENOx_lag1)                                                   \n",
              "  sigma2   AIC        AICc       BIC      dof\n",
              "1 18.53431 -1.8254707 -1.6349945 11.65708 211\n",
              "2 18.47990 -0.4575456 -0.1704643 16.39564 210\n",
              "3 18.43130  0.9763187  1.3801648 21.20015 209\n",
              "4 19.39081  3.8873146  3.9439184 10.62859 213\n",
              "5 19.39060  5.8850083  5.9987524 15.99692 212"
            ]
          },
          "metadata": {}
        }
      ]
    },
    {
      "cell_type": "code",
      "source": [
        "### Consumer Sentiment Index\n",
        "ardl_csent <- transformed[1:215,] %>%\n",
        "  model(AR(GDPC1 ~ order(1)),\n",
        "        AR(GDPC1 ~ order(1) + UMCSENTx_lag1),\n",
        "        AR(GDPC1 ~ order(1) + UMCSENTx_lag1 + UMCSENTx_lag2),\n",
        "        AR(GDPC1 ~ order(1) + UMCSENTx_lag1 + UMCSENTx_lag2 + UMCSENTx_lag3),\n",
        "        AR(GDPC1 ~ order(1) + UMCSENTx_lag1 + UMCSENTx_lag2 + UMCSENTx_lag3 + UMCSENTx_lag4))\n",
        "\n",
        "glance(ardl_csent) %>%\n",
        "  arrange(AIC)\n"
      ],
      "metadata": {
        "id": "Og7iu3Y4GlBV",
        "outputId": "3d85a1d7-8e3e-476c-dee9-45cda8558c55",
        "colab": {
          "base_uri": "https://localhost:8080/",
          "height": 255
        }
      },
      "execution_count": 15,
      "outputs": [
        {
          "output_type": "display_data",
          "data": {
            "text/html": [
              "<table class=\"dataframe\">\n",
              "<caption>A tibble: 5 × 6</caption>\n",
              "<thead>\n",
              "\t<tr><th scope=col>.model</th><th scope=col>sigma2</th><th scope=col>AIC</th><th scope=col>AICc</th><th scope=col>BIC</th><th scope=col>dof</th></tr>\n",
              "\t<tr><th scope=col>&lt;chr&gt;</th><th scope=col>&lt;dbl&gt;</th><th scope=col>&lt;dbl&gt;</th><th scope=col>&lt;dbl&gt;</th><th scope=col>&lt;dbl&gt;</th><th scope=col>&lt;int&gt;</th></tr>\n",
              "</thead>\n",
              "<tbody>\n",
              "\t<tr><td>AR(GDPC1 ~ order(1) + UMCSENTx_lag1 + UMCSENTx_lag2 + UMCSENTx_lag3 + \n",
              "    UMCSENTx_lag4)</td><td>18.51930</td><td>2.000300</td><td>2.404146</td><td>22.22413</td><td>209</td></tr>\n",
              "\t<tr><td>AR(GDPC1 ~ order(1) + UMCSENTx_lag1 + UMCSENTx_lag2 + UMCSENTx_lag3)                      </td><td>18.81839</td><td>3.444946</td><td>3.732027</td><td>20.29814</td><td>210</td></tr>\n",
              "\t<tr><td>AR(GDPC1 ~ order(1))                                                                      </td><td>19.39081</td><td>3.887315</td><td>3.943918</td><td>10.62859</td><td>213</td></tr>\n",
              "\t<tr><td>AR(GDPC1 ~ order(1) + UMCSENTx_lag1 + UMCSENTx_lag2)                                      </td><td>19.06065</td><td>4.195016</td><td>4.385493</td><td>17.67757</td><td>211</td></tr>\n",
              "\t<tr><td>AR(GDPC1 ~ order(1) + UMCSENTx_lag1)                                                      </td><td>19.35868</td><td>5.530801</td><td>5.644545</td><td>15.64272</td><td>212</td></tr>\n",
              "</tbody>\n",
              "</table>\n"
            ],
            "text/markdown": "\nA tibble: 5 × 6\n\n| .model &lt;chr&gt; | sigma2 &lt;dbl&gt; | AIC &lt;dbl&gt; | AICc &lt;dbl&gt; | BIC &lt;dbl&gt; | dof &lt;int&gt; |\n|---|---|---|---|---|---|\n| AR(GDPC1 ~ order(1) + UMCSENTx_lag1 + UMCSENTx_lag2 + UMCSENTx_lag3 + \n    UMCSENTx_lag4) | 18.51930 | 2.000300 | 2.404146 | 22.22413 | 209 |\n| AR(GDPC1 ~ order(1) + UMCSENTx_lag1 + UMCSENTx_lag2 + UMCSENTx_lag3)                       | 18.81839 | 3.444946 | 3.732027 | 20.29814 | 210 |\n| AR(GDPC1 ~ order(1))                                                                       | 19.39081 | 3.887315 | 3.943918 | 10.62859 | 213 |\n| AR(GDPC1 ~ order(1) + UMCSENTx_lag1 + UMCSENTx_lag2)                                       | 19.06065 | 4.195016 | 4.385493 | 17.67757 | 211 |\n| AR(GDPC1 ~ order(1) + UMCSENTx_lag1)                                                       | 19.35868 | 5.530801 | 5.644545 | 15.64272 | 212 |\n\n",
            "text/latex": "A tibble: 5 × 6\n\\begin{tabular}{llllll}\n .model & sigma2 & AIC & AICc & BIC & dof\\\\\n <chr> & <dbl> & <dbl> & <dbl> & <dbl> & <int>\\\\\n\\hline\n\t AR(GDPC1 \\textasciitilde{} order(1) + UMCSENTx\\_lag1 + UMCSENTx\\_lag2 + UMCSENTx\\_lag3 + \n    UMCSENTx\\_lag4) & 18.51930 & 2.000300 & 2.404146 & 22.22413 & 209\\\\\n\t AR(GDPC1 \\textasciitilde{} order(1) + UMCSENTx\\_lag1 + UMCSENTx\\_lag2 + UMCSENTx\\_lag3)                       & 18.81839 & 3.444946 & 3.732027 & 20.29814 & 210\\\\\n\t AR(GDPC1 \\textasciitilde{} order(1))                                                                       & 19.39081 & 3.887315 & 3.943918 & 10.62859 & 213\\\\\n\t AR(GDPC1 \\textasciitilde{} order(1) + UMCSENTx\\_lag1 + UMCSENTx\\_lag2)                                       & 19.06065 & 4.195016 & 4.385493 & 17.67757 & 211\\\\\n\t AR(GDPC1 \\textasciitilde{} order(1) + UMCSENTx\\_lag1)                                                       & 19.35868 & 5.530801 & 5.644545 & 15.64272 & 212\\\\\n\\end{tabular}\n",
            "text/plain": [
              "  .model                                                                                    \n",
              "1 AR(GDPC1 ~ order(1) + UMCSENTx_lag1 + UMCSENTx_lag2 + UMCSENTx_lag3 + \\n    UMCSENTx_lag4)\n",
              "2 AR(GDPC1 ~ order(1) + UMCSENTx_lag1 + UMCSENTx_lag2 + UMCSENTx_lag3)                      \n",
              "3 AR(GDPC1 ~ order(1))                                                                      \n",
              "4 AR(GDPC1 ~ order(1) + UMCSENTx_lag1 + UMCSENTx_lag2)                                      \n",
              "5 AR(GDPC1 ~ order(1) + UMCSENTx_lag1)                                                      \n",
              "  sigma2   AIC      AICc     BIC      dof\n",
              "1 18.51930 2.000300 2.404146 22.22413 209\n",
              "2 18.81839 3.444946 3.732027 20.29814 210\n",
              "3 19.39081 3.887315 3.943918 10.62859 213\n",
              "4 19.06065 4.195016 4.385493 17.67757 211\n",
              "5 19.35868 5.530801 5.644545 15.64272 212"
            ]
          },
          "metadata": {}
        }
      ]
    },
    {
      "cell_type": "code",
      "source": [
        "ardl_combined <- transformed[1:215,] %>%\n",
        "  model(AR(GDPC1 ~ order(1) + CLAIMSx_lag1 + CLAIMSx_lag2 + CLAIMSx_lag3 + CLAIMSx_lag4 + ANDENOx_lag1 + ANDENOx_lag2 + GS10TB3Mx_lag1 + GS10TB3Mx_lag2 + UMCSENTx_lag1 + UMCSENTx_lag2 + UMCSENTx_lag3 + UMCSENTx_lag4))\n",
        "\n",
        "glance(ardl_combined)\n",
        "\n",
        "ardl_combined %>%\n",
        "  fabletools::forecast(new_data=transformed[216:219,]) %>%\n",
        "  accuracy(transformed)\n",
        "\n"
      ],
      "metadata": {
        "id": "BdDz8U0zGo5g",
        "outputId": "6caa5581-15a4-4588-b2cd-bf1c1e4cf13f",
        "colab": {
          "base_uri": "https://localhost:8080/",
          "height": 277
        }
      },
      "execution_count": 16,
      "outputs": [
        {
          "output_type": "display_data",
          "data": {
            "text/html": [
              "<table class=\"dataframe\">\n",
              "<caption>A tibble: 1 × 6</caption>\n",
              "<thead>\n",
              "\t<tr><th scope=col>.model</th><th scope=col>sigma2</th><th scope=col>AIC</th><th scope=col>AICc</th><th scope=col>BIC</th><th scope=col>dof</th></tr>\n",
              "\t<tr><th scope=col>&lt;chr&gt;</th><th scope=col>&lt;dbl&gt;</th><th scope=col>&lt;dbl&gt;</th><th scope=col>&lt;dbl&gt;</th><th scope=col>&lt;dbl&gt;</th><th scope=col>&lt;int&gt;</th></tr>\n",
              "</thead>\n",
              "<tbody>\n",
              "\t<tr><td>AR(GDPC1 ~ order(1) + CLAIMSx_lag1 + CLAIMSx_lag2 + CLAIMSx_lag3 + \n",
              "    CLAIMSx_lag4 + ANDENOx_lag1 + ANDENOx_lag2 + GS10TB3Mx_lag1 + \n",
              "    GS10TB3Mx_lag2 + UMCSENTx_lag1 + UMCSENTx_lag2 + UMCSENTx_lag3 + \n",
              "    UMCSENTx_lag4)</td><td>11.68745</td><td>-80.96372</td><td>-78.86372</td><td>-33.77479</td><td>201</td></tr>\n",
              "</tbody>\n",
              "</table>\n"
            ],
            "text/markdown": "\nA tibble: 1 × 6\n\n| .model &lt;chr&gt; | sigma2 &lt;dbl&gt; | AIC &lt;dbl&gt; | AICc &lt;dbl&gt; | BIC &lt;dbl&gt; | dof &lt;int&gt; |\n|---|---|---|---|---|---|\n| AR(GDPC1 ~ order(1) + CLAIMSx_lag1 + CLAIMSx_lag2 + CLAIMSx_lag3 + \n    CLAIMSx_lag4 + ANDENOx_lag1 + ANDENOx_lag2 + GS10TB3Mx_lag1 + \n    GS10TB3Mx_lag2 + UMCSENTx_lag1 + UMCSENTx_lag2 + UMCSENTx_lag3 + \n    UMCSENTx_lag4) | 11.68745 | -80.96372 | -78.86372 | -33.77479 | 201 |\n\n",
            "text/latex": "A tibble: 1 × 6\n\\begin{tabular}{llllll}\n .model & sigma2 & AIC & AICc & BIC & dof\\\\\n <chr> & <dbl> & <dbl> & <dbl> & <dbl> & <int>\\\\\n\\hline\n\t AR(GDPC1 \\textasciitilde{} order(1) + CLAIMSx\\_lag1 + CLAIMSx\\_lag2 + CLAIMSx\\_lag3 + \n    CLAIMSx\\_lag4 + ANDENOx\\_lag1 + ANDENOx\\_lag2 + GS10TB3Mx\\_lag1 + \n    GS10TB3Mx\\_lag2 + UMCSENTx\\_lag1 + UMCSENTx\\_lag2 + UMCSENTx\\_lag3 + \n    UMCSENTx\\_lag4) & 11.68745 & -80.96372 & -78.86372 & -33.77479 & 201\\\\\n\\end{tabular}\n",
            "text/plain": [
              "  .model                                                                                                                                                                                                                            \n",
              "1 AR(GDPC1 ~ order(1) + CLAIMSx_lag1 + CLAIMSx_lag2 + CLAIMSx_lag3 + \\n    CLAIMSx_lag4 + ANDENOx_lag1 + ANDENOx_lag2 + GS10TB3Mx_lag1 + \\n    GS10TB3Mx_lag2 + UMCSENTx_lag1 + UMCSENTx_lag2 + UMCSENTx_lag3 + \\n    UMCSENTx_lag4)\n",
              "  sigma2   AIC       AICc      BIC       dof\n",
              "1 11.68745 -80.96372 -78.86372 -33.77479 201"
            ]
          },
          "metadata": {}
        },
        {
          "output_type": "display_data",
          "data": {
            "text/html": [
              "<table class=\"dataframe\">\n",
              "<caption>A tibble: 1 × 10</caption>\n",
              "<thead>\n",
              "\t<tr><th scope=col>.model</th><th scope=col>.type</th><th scope=col>ME</th><th scope=col>RMSE</th><th scope=col>MAE</th><th scope=col>MPE</th><th scope=col>MAPE</th><th scope=col>MASE</th><th scope=col>RMSSE</th><th scope=col>ACF1</th></tr>\n",
              "\t<tr><th scope=col>&lt;chr&gt;</th><th scope=col>&lt;chr&gt;</th><th scope=col>&lt;dbl&gt;</th><th scope=col>&lt;dbl&gt;</th><th scope=col>&lt;dbl&gt;</th><th scope=col>&lt;dbl&gt;</th><th scope=col>&lt;dbl&gt;</th><th scope=col>&lt;dbl&gt;</th><th scope=col>&lt;dbl&gt;</th><th scope=col>&lt;dbl&gt;</th></tr>\n",
              "</thead>\n",
              "<tbody>\n",
              "\t<tr><td>AR(GDPC1 ~ order(1) + CLAIMSx_lag1 + CLAIMSx_lag2 + CLAIMSx_lag3 + \n",
              "    CLAIMSx_lag4 + ANDENOx_lag1 + ANDENOx_lag2 + GS10TB3Mx_lag1 + \n",
              "    GS10TB3Mx_lag2 + UMCSENTx_lag1 + UMCSENTx_lag2 + UMCSENTx_lag3 + \n",
              "    UMCSENTx_lag4)</td><td>Test</td><td>1.00991</td><td>1.569894</td><td>1.420098</td><td>30.86572</td><td>43.9194</td><td>0.3792432</td><td>0.2525554</td><td>-0.5208495</td></tr>\n",
              "</tbody>\n",
              "</table>\n"
            ],
            "text/markdown": "\nA tibble: 1 × 10\n\n| .model &lt;chr&gt; | .type &lt;chr&gt; | ME &lt;dbl&gt; | RMSE &lt;dbl&gt; | MAE &lt;dbl&gt; | MPE &lt;dbl&gt; | MAPE &lt;dbl&gt; | MASE &lt;dbl&gt; | RMSSE &lt;dbl&gt; | ACF1 &lt;dbl&gt; |\n|---|---|---|---|---|---|---|---|---|---|\n| AR(GDPC1 ~ order(1) + CLAIMSx_lag1 + CLAIMSx_lag2 + CLAIMSx_lag3 + \n    CLAIMSx_lag4 + ANDENOx_lag1 + ANDENOx_lag2 + GS10TB3Mx_lag1 + \n    GS10TB3Mx_lag2 + UMCSENTx_lag1 + UMCSENTx_lag2 + UMCSENTx_lag3 + \n    UMCSENTx_lag4) | Test | 1.00991 | 1.569894 | 1.420098 | 30.86572 | 43.9194 | 0.3792432 | 0.2525554 | -0.5208495 |\n\n",
            "text/latex": "A tibble: 1 × 10\n\\begin{tabular}{llllllllll}\n .model & .type & ME & RMSE & MAE & MPE & MAPE & MASE & RMSSE & ACF1\\\\\n <chr> & <chr> & <dbl> & <dbl> & <dbl> & <dbl> & <dbl> & <dbl> & <dbl> & <dbl>\\\\\n\\hline\n\t AR(GDPC1 \\textasciitilde{} order(1) + CLAIMSx\\_lag1 + CLAIMSx\\_lag2 + CLAIMSx\\_lag3 + \n    CLAIMSx\\_lag4 + ANDENOx\\_lag1 + ANDENOx\\_lag2 + GS10TB3Mx\\_lag1 + \n    GS10TB3Mx\\_lag2 + UMCSENTx\\_lag1 + UMCSENTx\\_lag2 + UMCSENTx\\_lag3 + \n    UMCSENTx\\_lag4) & Test & 1.00991 & 1.569894 & 1.420098 & 30.86572 & 43.9194 & 0.3792432 & 0.2525554 & -0.5208495\\\\\n\\end{tabular}\n",
            "text/plain": [
              "  .model                                                                                                                                                                                                                            \n",
              "1 AR(GDPC1 ~ order(1) + CLAIMSx_lag1 + CLAIMSx_lag2 + CLAIMSx_lag3 + \\n    CLAIMSx_lag4 + ANDENOx_lag1 + ANDENOx_lag2 + GS10TB3Mx_lag1 + \\n    GS10TB3Mx_lag2 + UMCSENTx_lag1 + UMCSENTx_lag2 + UMCSENTx_lag3 + \\n    UMCSENTx_lag4)\n",
              "  .type ME      RMSE     MAE      MPE      MAPE    MASE      RMSSE    \n",
              "1 Test  1.00991 1.569894 1.420098 30.86572 43.9194 0.3792432 0.2525554\n",
              "  ACF1      \n",
              "1 -0.5208495"
            ]
          },
          "metadata": {}
        }
      ]
    },
    {
      "cell_type": "markdown",
      "source": [],
      "metadata": {
        "id": "HJgWo7p-GYjp"
      }
    },
    {
      "cell_type": "code",
      "source": [
        "var <- transformed[1:215,] %>%\n",
        "  model(var1 = VAR(vars(GDPC1, CLAIMSx, UMCSENTx, GS10TB3Mx, ANDENOx) ~ AR(1)),\n",
        "        var2 = VAR(vars(GDPC1, CLAIMSx, UMCSENTx, GS10TB3Mx, ANDENOx) ~ AR(2)),\n",
        "        var3 = VAR(vars(GDPC1, CLAIMSx, UMCSENTx, GS10TB3Mx, ANDENOx) ~ AR(3)),\n",
        "        var4 = VAR(vars(GDPC1, CLAIMSx, UMCSENTx, GS10TB3Mx, ANDENOx) ~ AR(4)))\n",
        "\n",
        "\n",
        "for (i in 1:4){\n",
        "   print(sprintf(\"AIC of VAR %s is %s\", i, var[[i]][[1]][[\"fit\"]][[\"fit\"]][[\"AIC\"]]))\n",
        "}\n",
        "\n",
        "var %>%\n",
        "  fabletools::forecast(new_data=transformed[216:219,]) %>%\n",
        "  accuracy(transformed) %>%\n",
        "  filter(.response == 'GDPC1') %>%\n",
        "  arrange(RMSE)\n"
      ],
      "metadata": {
        "id": "Hm3QkmJAIxzo",
        "outputId": "676c65eb-22c8-4bf2-dda8-2b4bcec56742",
        "colab": {
          "base_uri": "https://localhost:8080/",
          "height": 295
        }
      },
      "execution_count": 18,
      "outputs": [
        {
          "output_type": "stream",
          "name": "stdout",
          "text": [
            "[1] \"AIC of VAR 1 is 5928.44235391567\"\n",
            "[1] \"AIC of VAR 2 is 5847.34857094617\"\n",
            "[1] \"AIC of VAR 3 is 5853.57678037953\"\n",
            "[1] \"AIC of VAR 4 is 5826.9000853482\"\n"
          ]
        },
        {
          "output_type": "display_data",
          "data": {
            "text/html": [
              "<table class=\"dataframe\">\n",
              "<caption>A tibble: 4 × 11</caption>\n",
              "<thead>\n",
              "\t<tr><th scope=col>.model</th><th scope=col>.response</th><th scope=col>.type</th><th scope=col>ME</th><th scope=col>RMSE</th><th scope=col>MAE</th><th scope=col>MPE</th><th scope=col>MAPE</th><th scope=col>MASE</th><th scope=col>RMSSE</th><th scope=col>ACF1</th></tr>\n",
              "\t<tr><th scope=col>&lt;chr&gt;</th><th scope=col>&lt;chr&gt;</th><th scope=col>&lt;chr&gt;</th><th scope=col>&lt;dbl&gt;</th><th scope=col>&lt;dbl&gt;</th><th scope=col>&lt;dbl&gt;</th><th scope=col>&lt;dbl&gt;</th><th scope=col>&lt;dbl&gt;</th><th scope=col>&lt;dbl&gt;</th><th scope=col>&lt;dbl&gt;</th><th scope=col>&lt;dbl&gt;</th></tr>\n",
              "</thead>\n",
              "<tbody>\n",
              "\t<tr><td>var1</td><td>GDPC1</td><td>Test</td><td>1.548758</td><td>1.674906</td><td>1.548758</td><td>47.56132</td><td>47.56132</td><td>0.4136022</td><td>0.2694491</td><td>-0.30773978</td></tr>\n",
              "\t<tr><td>var2</td><td>GDPC1</td><td>Test</td><td>1.642458</td><td>1.852914</td><td>1.642458</td><td>49.96256</td><td>49.96256</td><td>0.4386253</td><td>0.2980860</td><td>-0.03717379</td></tr>\n",
              "\t<tr><td>var3</td><td>GDPC1</td><td>Test</td><td>2.127077</td><td>2.242014</td><td>2.127077</td><td>67.70228</td><td>67.70228</td><td>0.5680449</td><td>0.3606822</td><td>-0.03163843</td></tr>\n",
              "\t<tr><td>var4</td><td>GDPC1</td><td>Test</td><td>2.699485</td><td>2.794232</td><td>2.699485</td><td>85.00987</td><td>85.00987</td><td>0.7209088</td><td>0.4495199</td><td>-0.43835207</td></tr>\n",
              "</tbody>\n",
              "</table>\n"
            ],
            "text/markdown": "\nA tibble: 4 × 11\n\n| .model &lt;chr&gt; | .response &lt;chr&gt; | .type &lt;chr&gt; | ME &lt;dbl&gt; | RMSE &lt;dbl&gt; | MAE &lt;dbl&gt; | MPE &lt;dbl&gt; | MAPE &lt;dbl&gt; | MASE &lt;dbl&gt; | RMSSE &lt;dbl&gt; | ACF1 &lt;dbl&gt; |\n|---|---|---|---|---|---|---|---|---|---|---|\n| var1 | GDPC1 | Test | 1.548758 | 1.674906 | 1.548758 | 47.56132 | 47.56132 | 0.4136022 | 0.2694491 | -0.30773978 |\n| var2 | GDPC1 | Test | 1.642458 | 1.852914 | 1.642458 | 49.96256 | 49.96256 | 0.4386253 | 0.2980860 | -0.03717379 |\n| var3 | GDPC1 | Test | 2.127077 | 2.242014 | 2.127077 | 67.70228 | 67.70228 | 0.5680449 | 0.3606822 | -0.03163843 |\n| var4 | GDPC1 | Test | 2.699485 | 2.794232 | 2.699485 | 85.00987 | 85.00987 | 0.7209088 | 0.4495199 | -0.43835207 |\n\n",
            "text/latex": "A tibble: 4 × 11\n\\begin{tabular}{lllllllllll}\n .model & .response & .type & ME & RMSE & MAE & MPE & MAPE & MASE & RMSSE & ACF1\\\\\n <chr> & <chr> & <chr> & <dbl> & <dbl> & <dbl> & <dbl> & <dbl> & <dbl> & <dbl> & <dbl>\\\\\n\\hline\n\t var1 & GDPC1 & Test & 1.548758 & 1.674906 & 1.548758 & 47.56132 & 47.56132 & 0.4136022 & 0.2694491 & -0.30773978\\\\\n\t var2 & GDPC1 & Test & 1.642458 & 1.852914 & 1.642458 & 49.96256 & 49.96256 & 0.4386253 & 0.2980860 & -0.03717379\\\\\n\t var3 & GDPC1 & Test & 2.127077 & 2.242014 & 2.127077 & 67.70228 & 67.70228 & 0.5680449 & 0.3606822 & -0.03163843\\\\\n\t var4 & GDPC1 & Test & 2.699485 & 2.794232 & 2.699485 & 85.00987 & 85.00987 & 0.7209088 & 0.4495199 & -0.43835207\\\\\n\\end{tabular}\n",
            "text/plain": [
              "  .model .response .type ME       RMSE     MAE      MPE      MAPE     MASE     \n",
              "1 var1   GDPC1     Test  1.548758 1.674906 1.548758 47.56132 47.56132 0.4136022\n",
              "2 var2   GDPC1     Test  1.642458 1.852914 1.642458 49.96256 49.96256 0.4386253\n",
              "3 var3   GDPC1     Test  2.127077 2.242014 2.127077 67.70228 67.70228 0.5680449\n",
              "4 var4   GDPC1     Test  2.699485 2.794232 2.699485 85.00987 85.00987 0.7209088\n",
              "  RMSSE     ACF1       \n",
              "1 0.2694491 -0.30773978\n",
              "2 0.2980860 -0.03717379\n",
              "3 0.3606822 -0.03163843\n",
              "4 0.4495199 -0.43835207"
            ]
          },
          "metadata": {}
        }
      ]
    },
    {
      "cell_type": "markdown",
      "source": [
        "## Forecasting"
      ],
      "metadata": {
        "id": "Z7xhou0VKlax"
      }
    },
    {
      "cell_type": "code",
      "source": [
        "## Q1 2024\n",
        "### AR\n",
        "ar1 <-transformed %>%\n",
        "  model(ar1 = AR(GDPC1 ~ order(1)))\n",
        "\n",
        "ar1_fc <- ar1 %>%\n",
        "  fabletools::forecast(h=5)\n",
        "ar1_fc\n",
        "\n",
        "\n",
        "### ARDL using direct h-step forecasting\n",
        "transformed_ardl <- transformed %>%\n",
        "  mutate(across(c(GDPC1, GS10TB3Mx, CLAIMSx, ANDENOx, UMCSENTx),\n",
        "                list(lag5 = ~ lag(., 5), lag6 = ~ lag(., 6),lag7 = ~ lag(., 7), lag8 = ~ lag(., 8), lag9 = ~ lag(., 9)),\n",
        "                .names = \"{col}_{fn}\"))\n",
        "\n",
        "last_obs <- transformed_ardl %>% slice_tail(n = 3)\n",
        "future_data1 <- new_data(transformed, n = 1, keep_all=TRUE) %>%\n",
        "  mutate(\n",
        "    date = yearquarter(\"2025 Q1\"),\n",
        "    GDPC1_lag2 = last_obs$GDPC1[3],\n",
        "    CLAIMSx_lag2 = last_obs$CLAIMSx_lag1[3],\n",
        "    CLAIMSx_lag3 = last_obs$CLAIMSx_lag2[3],  # Correctly getting the t-2 value\n",
        "    CLAIMSx_lag4 = last_obs$CLAIMSx_lag3[3],\n",
        "    CLAIMSx_lag5 = last_obs$CLAIMSx_lag4[3],\n",
        "    ANDENOx_lag2 = last_obs$ANDENOx_lag1[3],\n",
        "    ANDENOx_lag3 = last_obs$ANDENOx_lag2[3],\n",
        "    GS10TB3Mx_lag2 = last_obs$GS10TB3Mx_lag1[3],\n",
        "    GS10TB3Mx_lag3 = last_obs$GS10TB3Mx_lag2[3],\n",
        "    UMCSENTx_lag2 = last_obs$UMCSENTx_lag1[3],\n",
        "    UMCSENTx_lag3 = last_obs$UMCSENTx_lag2[3],\n",
        "    UMCSENTx_lag4 = last_obs$UMCSENTx_lag3[3],\n",
        "    UMCSENTx_lag5 = last_obs$UMCSENTx_lag4[3]\n",
        "  )\n",
        "head\n",
        "q1_ardl <- transformed_ardl[-c(1:9),] %>%\n",
        "  model(TSLM(GDPC1 ~ GDPC1_lag2 + CLAIMSx_lag2 + CLAIMSx_lag3 + CLAIMSx_lag4 + CLAIMSx_lag5 + ANDENOx_lag2 + ANDENOx_lag3 + GS10TB3Mx_lag2 + GS10TB3Mx_lag3 + UMCSENTx_lag2 + UMCSENTx_lag3 + UMCSENTx_lag4 + UMCSENTx_lag5))\n",
        "ardl_fc_q1 <- q1_ardl %>%\n",
        "  fabletools::forecast(future_data1)\n",
        "hilo(q1_fc_ardl, 50) %>%\n",
        "  dplyr::select(.mean, '50%')\n",
        "\n",
        "### VAR\n",
        "var_fc <- transformed %>%\n",
        "  model(var1 = VAR(vars(GDPC1, CLAIMSx, UMCSENTx, GS10TB3Mx, ANDENOx) ~ AR(1))) %>%\n",
        "  fabletools::forecast()\n",
        "\n",
        "hilo(var_fc, 50) %>%\n",
        "  dplyr::select(.mean, '50%')\n",
        "\n",
        "mean_forecast_q1 <- (ar1_fc[2,4] + var_final[[4]][2] + ardl_fc_q1[4])/3\n",
        "print(sprintf(\"The mean forecast growth for Q1 2025 is %s%%\", round(mean_forecast_q1,2)))"
      ],
      "metadata": {
        "id": "jGg6hPEcKpFC",
        "outputId": "96d34d11-3cd8-4a81-f7e5-4141efb537dc",
        "colab": {
          "base_uri": "https://localhost:8080/",
          "height": 902
        }
      },
      "execution_count": 50,
      "outputs": [
        {
          "output_type": "display_data",
          "data": {
            "text/html": [
              "<table class=\"dataframe\">\n",
              "<caption>A fbl_ts: 5 × 4</caption>\n",
              "<thead>\n",
              "\t<tr><th scope=col>.model</th><th scope=col>date</th><th scope=col>GDPC1</th><th scope=col>.mean</th></tr>\n",
              "\t<tr><th scope=col>&lt;chr&gt;</th><th scope=col>&lt;qtr&gt;</th><th scope=col>&lt;dist&gt;</th><th scope=col>&lt;dbl&gt;</th></tr>\n",
              "</thead>\n",
              "<tbody>\n",
              "\t<tr><td>ar1</td><td>2024 Q4</td><td>N(2.7, 19)</td><td>2.687118</td></tr>\n",
              "\t<tr><td>ar1</td><td>2025 Q1</td><td>N(2.7, 19)</td><td>2.687968</td></tr>\n",
              "\t<tr><td>ar1</td><td>2025 Q2</td><td>N(2.7, 19)</td><td>2.687966</td></tr>\n",
              "\t<tr><td>ar1</td><td>2025 Q3</td><td>N(2.7, 19)</td><td>2.687966</td></tr>\n",
              "\t<tr><td>ar1</td><td>2025 Q4</td><td>N(2.7, 19)</td><td>2.687966</td></tr>\n",
              "</tbody>\n",
              "</table>\n"
            ],
            "text/markdown": "\nA fbl_ts: 5 × 4\n\n| .model &lt;chr&gt; | date &lt;qtr&gt; | GDPC1 &lt;dist&gt; | .mean &lt;dbl&gt; |\n|---|---|---|---|\n| ar1 | 2024 Q4 | N(2.7, 19) | 2.687118 |\n| ar1 | 2025 Q1 | N(2.7, 19) | 2.687968 |\n| ar1 | 2025 Q2 | N(2.7, 19) | 2.687966 |\n| ar1 | 2025 Q3 | N(2.7, 19) | 2.687966 |\n| ar1 | 2025 Q4 | N(2.7, 19) | 2.687966 |\n\n",
            "text/latex": "A fbl\\_ts: 5 × 4\n\\begin{tabular}{llll}\n .model & date & GDPC1 & .mean\\\\\n <chr> & <qtr> & <dist> & <dbl>\\\\\n\\hline\n\t ar1 & 2024 Q4 & N(2.7, 19) & 2.687118\\\\\n\t ar1 & 2025 Q1 & N(2.7, 19) & 2.687968\\\\\n\t ar1 & 2025 Q2 & N(2.7, 19) & 2.687966\\\\\n\t ar1 & 2025 Q3 & N(2.7, 19) & 2.687966\\\\\n\t ar1 & 2025 Q4 & N(2.7, 19) & 2.687966\\\\\n\\end{tabular}\n",
            "text/plain": [
              "  .model date    GDPC1      .mean   \n",
              "1 ar1    2024 Q4 N(2.7, 19) 2.687118\n",
              "2 ar1    2025 Q1 N(2.7, 19) 2.687968\n",
              "3 ar1    2025 Q2 N(2.7, 19) 2.687966\n",
              "4 ar1    2025 Q3 N(2.7, 19) 2.687966\n",
              "5 ar1    2025 Q4 N(2.7, 19) 2.687966"
            ]
          },
          "metadata": {}
        },
        {
          "output_type": "display_data",
          "data": {
            "text/html": [
              "<pre class=language-r><code>function (x, ...) \n",
              "UseMethod(\"head\")</code></pre>"
            ],
            "text/markdown": "```r\nfunction (x, ...) \nUseMethod(\"head\")\n```",
            "text/latex": "\\begin{minted}{r}\nfunction (x, ...) \nUseMethod(\"head\")\n\\end{minted}",
            "text/plain": [
              "function (x, ...) \n",
              "UseMethod(\"head\")\n",
              "<bytecode: 0x56ab2f654308>\n",
              "<environment: namespace:utils>"
            ]
          },
          "metadata": {}
        },
        {
          "output_type": "display_data",
          "data": {
            "text/html": [
              "<table class=\"dataframe\">\n",
              "<caption>A tbl_ts: 1 × 3</caption>\n",
              "<thead>\n",
              "\t<tr><th scope=col>.mean</th><th scope=col>50%</th><th scope=col>date</th></tr>\n",
              "\t<tr><th scope=col>&lt;dbl&gt;</th><th scope=col>&lt;hilo&gt;</th><th scope=col>&lt;qtr&gt;</th></tr>\n",
              "</thead>\n",
              "<tbody>\n",
              "\t<tr><td>0.4951366</td><td>[-2.392346, 3.382619]50</td><td>2025 Q1</td></tr>\n",
              "</tbody>\n",
              "</table>\n"
            ],
            "text/markdown": "\nA tbl_ts: 1 × 3\n\n| .mean &lt;dbl&gt; | 50% &lt;hilo&gt; | date &lt;qtr&gt; |\n|---|---|---|\n| 0.4951366 | [-2.392346, 3.382619]50 | 2025 Q1 |\n\n",
            "text/latex": "A tbl\\_ts: 1 × 3\n\\begin{tabular}{lll}\n .mean & 50\\% & date\\\\\n <dbl> & <hilo> & <qtr>\\\\\n\\hline\n\t 0.4951366 & {[}-2.392346, 3.382619{]}50 & 2025 Q1\\\\\n\\end{tabular}\n",
            "text/plain": [
              "  .mean     50%                     date   \n",
              "1 0.4951366 [-2.392346, 3.382619]50 2025 Q1"
            ]
          },
          "metadata": {}
        },
        {
          "output_type": "display_data",
          "data": {
            "text/plain": [
              "  .mean    <NA>     <NA>      <NA>       <NA>       50%$GDPC1              \n",
              "1 1.082540 6.783605 -3.082020 -0.9723130 -3.7650265 [-1.608111, 3.773192]50\n",
              "2 1.181692 6.401041 -1.744071 -0.6850986 -1.3195331 [-1.734628, 4.098011]50\n",
              "3 1.352452 5.950651 -1.870099 -0.4568163 -1.6794934 [-1.582727, 4.287631]50\n",
              "4 1.447969 5.436091 -1.629722 -0.2453853 -1.3565503 [-1.493977, 4.389915]50\n",
              "5 1.583093 4.868580 -1.488598 -0.0582414 -1.2397654 [-1.364342, 4.530529]50\n",
              "6 1.696534 4.373873 -1.338555  0.1092989 -1.0731694 [-1.255233, 4.648300]50\n",
              "7 1.799930 3.929687 -1.212381  0.2585118 -0.9419102 [-1.155286, 4.755145]50\n",
              "8 1.891384 3.534700 -1.097695  0.3916158 -0.8198984 [-1.066568, 4.849337]50\n",
              "  50%$CLAIMSx             50%$UMCSENTx             50%$GS10TB3Mx             \n",
              "1 [-3.036191, 16.60340]50 [-6.584493, 0.4204531]50 [-1.3494992, -0.5951267]50\n",
              "2 [-4.453254, 17.25534]50 [-5.365405, 1.8772625]50 [-1.2098170, -0.1603802]50\n",
              "3 [-4.969712, 16.87101]50 [-5.506413, 1.7662154]50 [-1.0750515,  0.1614188]50\n",
              "4 [-5.518195, 16.39038]50 [-5.275299, 2.0158544]50 [-0.9292489,  0.4384783]50\n",
              "5 [-6.113020, 15.85018]50 [-5.140948, 2.1637521]50 [-0.7900660,  0.6735832]50\n",
              "6 [-6.629376, 15.37712]50 [-4.996363, 2.3192536]50 [-0.6585393,  0.8771371]50\n",
              "7 [-7.090764, 14.95014]50 [-4.874500, 2.4497377]50 [-0.5367958,  1.0538195]50\n",
              "8 [-7.499408, 14.56881]50 [-4.763244, 2.5678527]50 [-0.4248750,  1.2081065]50\n",
              "  50%$ANDENOx              date   \n",
              "1 [-8.179430, 0.6493772]50 2024 Q4\n",
              "2 [-5.904973, 3.2659065]50 2025 Q1\n",
              "3 [-6.305857, 2.9468705]50 2025 Q2\n",
              "4 [-5.991937, 3.2788360]50 2025 Q3\n",
              "5 [-5.881068, 3.4015376]50 2025 Q4\n",
              "6 [-5.719309, 3.5729700]50 2026 Q1\n",
              "7 [-5.591842, 3.7080218]50 2026 Q2\n",
              "8 [-5.472856, 3.8330589]50 2026 Q3"
            ]
          },
          "metadata": {}
        },
        {
          "output_type": "stream",
          "name": "stdout",
          "text": [
            "[1] \"The mean forecast growth for Q1 2025 is 1.45%\"\n"
          ]
        }
      ]
    },
    {
      "cell_type": "code",
      "source": [
        "## Q2 2025\n",
        "### ARDL using direct h-step forecasting\n",
        "transformed_ardl <- transformed %>%\n",
        "  mutate(across(c(GDPC1, GS10TB3Mx, CLAIMSx, ANDENOx, UMCSENTx),\n",
        "                list(lag5 = ~ lag(., 5), lag6 = ~ lag(., 6),lag7 = ~ lag(., 7), lag8 = ~ lag(., 8), lag9 = ~ lag(., 9)),\n",
        "                .names = \"{col}_{fn}\"))\n",
        "\n",
        "\n",
        "future_data2 <- new_data(transformed, n = 1, keep_all=TRUE) %>%\n",
        "  mutate(\n",
        "    date = yearquarter(\"2025 Q2\"),\n",
        "    GDPC1_lag3 = last_obs$GDPC1[3],\n",
        "    CLAIMSx_lag3 = last_obs$CLAIMSx_lag1[3],\n",
        "    CLAIMSx_lag4 = last_obs$CLAIMSx_lag2[3],  # Correctly getting the t-2 value\n",
        "    CLAIMSx_lag5 = last_obs$CLAIMSx_lag3[3],\n",
        "    CLAIMSx_lag6 = last_obs$CLAIMSx_lag4[3],\n",
        "    ANDENOx_lag3 = last_obs$ANDENOx_lag1[3],\n",
        "    ANDENOx_lag4 = last_obs$ANDENOx_lag2[3],\n",
        "    GS10TB3Mx_lag3 = last_obs$GS10TB3Mx_lag1[3],\n",
        "    GS10TB3Mx_lag4 = last_obs$GS10TB3Mx_lag2[3],\n",
        "    UMCSENTx_lag3 = last_obs$UMCSENTx_lag1[3],\n",
        "    UMCSENTx_lag4 = last_obs$UMCSENTx_lag2[3],\n",
        "    UMCSENTx_lag5 = last_obs$UMCSENTx_lag3[3],\n",
        "    UMCSENTx_lag6 = last_obs$UMCSENTx_lag4[3]\n",
        "  )\n",
        "head\n",
        "q2_ardl <- transformed_ardl[-c(1:9),] %>%\n",
        "  model(TSLM(GDPC1 ~ GDPC1_lag3 + CLAIMSx_lag3 + CLAIMSx_lag4 + CLAIMSx_lag5 + CLAIMSx_lag6 + ANDENOx_lag3 + ANDENOx_lag4 + GS10TB3Mx_lag3 + GS10TB3Mx_lag4 + UMCSENTx_lag3 + UMCSENTx_lag4 + UMCSENTx_lag5 + UMCSENTx_lag6))\n",
        "ardl_fc_q2 <- q2_ardl %>%\n",
        "  fabletools::forecast(future_data2)\n",
        "hilo(ardl_fc_q2, 50) %>%\n",
        "  dplyr::select(.mean, '50%')\n",
        "\n",
        "mean_forecast_q2 <- (ar1_fc[3,4] + var_final[[4]][3] + ardl_fc_q2[4])/3\n",
        "print(sprintf(\"The mean forecast growth for Q2 2025 is %s%%\", round(mean_forecast_q2,2)))\n",
        "\n",
        "### Since our VAR and AR forecasts are already iterated through Q4 2025, we do not need to do a separate forecast and will just take the corresponding values from the forecast earlier."
      ],
      "metadata": {
        "id": "vJ2UWIUP6Pcc",
        "outputId": "9fb97f59-ab95-4c44-b245-539ceece7116",
        "colab": {
          "base_uri": "https://localhost:8080/",
          "height": 182
        }
      },
      "execution_count": 49,
      "outputs": [
        {
          "output_type": "display_data",
          "data": {
            "text/html": [
              "<pre class=language-r><code>function (x, ...) \n",
              "UseMethod(\"head\")</code></pre>"
            ],
            "text/markdown": "```r\nfunction (x, ...) \nUseMethod(\"head\")\n```",
            "text/latex": "\\begin{minted}{r}\nfunction (x, ...) \nUseMethod(\"head\")\n\\end{minted}",
            "text/plain": [
              "function (x, ...) \n",
              "UseMethod(\"head\")\n",
              "<bytecode: 0x56ab2f654308>\n",
              "<environment: namespace:utils>"
            ]
          },
          "metadata": {}
        },
        {
          "output_type": "display_data",
          "data": {
            "text/html": [
              "<table class=\"dataframe\">\n",
              "<caption>A tbl_ts: 1 × 3</caption>\n",
              "<thead>\n",
              "\t<tr><th scope=col>.mean</th><th scope=col>50%</th><th scope=col>date</th></tr>\n",
              "\t<tr><th scope=col>&lt;dbl&gt;</th><th scope=col>&lt;hilo&gt;</th><th scope=col>&lt;qtr&gt;</th></tr>\n",
              "</thead>\n",
              "<tbody>\n",
              "\t<tr><td>-0.006035769</td><td>[-3.092566, 3.080495]50</td><td>2025 Q2</td></tr>\n",
              "</tbody>\n",
              "</table>\n"
            ],
            "text/markdown": "\nA tbl_ts: 1 × 3\n\n| .mean &lt;dbl&gt; | 50% &lt;hilo&gt; | date &lt;qtr&gt; |\n|---|---|---|\n| -0.006035769 | [-3.092566, 3.080495]50 | 2025 Q2 |\n\n",
            "text/latex": "A tbl\\_ts: 1 × 3\n\\begin{tabular}{lll}\n .mean & 50\\% & date\\\\\n <dbl> & <hilo> & <qtr>\\\\\n\\hline\n\t -0.006035769 & {[}-3.092566, 3.080495{]}50 & 2025 Q2\\\\\n\\end{tabular}\n",
            "text/plain": [
              "  .mean        50%                     date   \n",
              "1 -0.006035769 [-3.092566, 3.080495]50 2025 Q2"
            ]
          },
          "metadata": {}
        },
        {
          "output_type": "stream",
          "name": "stdout",
          "text": [
            "[1] \"The mean forecast growth for Q2 2025 is 1.34%\"\n"
          ]
        }
      ]
    },
    {
      "cell_type": "code",
      "source": [
        "## Q4 2025\n",
        "### ARDL using direct h-step forecasting\n",
        "transformed_ardl <- transformed %>%\n",
        "  mutate(across(c(GDPC1, GS10TB3Mx, CLAIMSx, ANDENOx, UMCSENTx),\n",
        "                list(lag5 = ~ lag(., 5), lag6 = ~ lag(., 6),lag7 = ~ lag(., 7), lag8 = ~ lag(., 8), lag9 = ~ lag(., 9)),\n",
        "                .names = \"{col}_{fn}\"))\n",
        "\n",
        "\n",
        "future_data2 <- new_data(transformed, n = 1, keep_all=TRUE) %>%\n",
        "  mutate(\n",
        "    date = yearquarter(\"2025 Q2\"),\n",
        "    GDPC1_lag5 = last_obs$GDPC1[3],\n",
        "    CLAIMSx_lag5 = last_obs$CLAIMSx_lag1[3],\n",
        "    CLAIMSx_lag6 = last_obs$CLAIMSx_lag2[3],  # Correctly getting the t-2 value\n",
        "    CLAIMSx_lag7 = last_obs$CLAIMSx_lag3[3],\n",
        "    CLAIMSx_lag8 = last_obs$CLAIMSx_lag4[3],\n",
        "    ANDENOx_lag5 = last_obs$ANDENOx_lag1[3],\n",
        "    ANDENOx_lag6 = last_obs$ANDENOx_lag2[3],\n",
        "    GS10TB3Mx_lag5 = last_obs$GS10TB3Mx_lag1[3],\n",
        "    GS10TB3Mx_lag6 = last_obs$GS10TB3Mx_lag2[3],\n",
        "    UMCSENTx_lag5 = last_obs$UMCSENTx_lag1[3],\n",
        "    UMCSENTx_lag6 = last_obs$UMCSENTx_lag2[3],\n",
        "    UMCSENTx_lag7 = last_obs$UMCSENTx_lag3[3],\n",
        "    UMCSENTx_lag8 = last_obs$UMCSENTx_lag4[3]\n",
        "  )\n",
        "head\n",
        "q4_ardl <- transformed_ardl[-c(1:9),] %>%\n",
        "  model(TSLM(GDPC1 ~ GDPC1_lag5 + CLAIMSx_lag5 + CLAIMSx_lag6 + CLAIMSx_lag7 + CLAIMSx_lag8 + ANDENOx_lag5 + ANDENOx_lag6 + GS10TB3Mx_lag5 + GS10TB3Mx_lag6 + UMCSENTx_lag5 + UMCSENTx_lag6 + UMCSENTx_lag7 + UMCSENTx_lag8))\n",
        "ardl_fc_q4 <- q4_ardl %>%\n",
        "  fabletools::forecast(future_data2)\n",
        "hilo(ardl_fc_q4, 50) %>%\n",
        "  dplyr::select(.mean, '50%')\n",
        "\n",
        "mean_forecast_q4 <- (ar1_fc[5,4] + var_final[[4]][5] + ardl_fc_q4[4])/3\n",
        "print(sprintf(\"The mean forecast growth for Q4 2025 is %s%%\", round(mean_forecast_q4,2)))\n",
        "\n",
        "### Since our VAR and AR forecasts are already iterated through Q4 2025, we do not need to do a separate forecast and will just take the corresponding values from the forecast earlier."
      ],
      "metadata": {
        "id": "e1vrRQ1D8EpC",
        "outputId": "7117c117-d3f1-42bb-cda5-f723718f7070",
        "colab": {
          "base_uri": "https://localhost:8080/",
          "height": 182
        }
      },
      "execution_count": 48,
      "outputs": [
        {
          "output_type": "display_data",
          "data": {
            "text/html": [
              "<pre class=language-r><code>function (x, ...) \n",
              "UseMethod(\"head\")</code></pre>"
            ],
            "text/markdown": "```r\nfunction (x, ...) \nUseMethod(\"head\")\n```",
            "text/latex": "\\begin{minted}{r}\nfunction (x, ...) \nUseMethod(\"head\")\n\\end{minted}",
            "text/plain": [
              "function (x, ...) \n",
              "UseMethod(\"head\")\n",
              "<bytecode: 0x56ab2f654308>\n",
              "<environment: namespace:utils>"
            ]
          },
          "metadata": {}
        },
        {
          "output_type": "display_data",
          "data": {
            "text/html": [
              "<table class=\"dataframe\">\n",
              "<caption>A tbl_ts: 1 × 3</caption>\n",
              "<thead>\n",
              "\t<tr><th scope=col>.mean</th><th scope=col>50%</th><th scope=col>date</th></tr>\n",
              "\t<tr><th scope=col>&lt;dbl&gt;</th><th scope=col>&lt;hilo&gt;</th><th scope=col>&lt;qtr&gt;</th></tr>\n",
              "</thead>\n",
              "<tbody>\n",
              "\t<tr><td>1.168397</td><td>[-1.938538, 4.275333]50</td><td>2025 Q2</td></tr>\n",
              "</tbody>\n",
              "</table>\n"
            ],
            "text/markdown": "\nA tbl_ts: 1 × 3\n\n| .mean &lt;dbl&gt; | 50% &lt;hilo&gt; | date &lt;qtr&gt; |\n|---|---|---|\n| 1.168397 | [-1.938538, 4.275333]50 | 2025 Q2 |\n\n",
            "text/latex": "A tbl\\_ts: 1 × 3\n\\begin{tabular}{lll}\n .mean & 50\\% & date\\\\\n <dbl> & <hilo> & <qtr>\\\\\n\\hline\n\t 1.168397 & {[}-1.938538, 4.275333{]}50 & 2025 Q2\\\\\n\\end{tabular}\n",
            "text/plain": [
              "  .mean    50%                     date   \n",
              "1 1.168397 [-1.938538, 4.275333]50 2025 Q2"
            ]
          },
          "metadata": {}
        },
        {
          "output_type": "stream",
          "name": "stdout",
          "text": [
            "[1] \"The mean forecast growth for Q4 2025 is 1.81 %\"\n"
          ]
        }
      ]
    }
  ],
  "metadata": {
    "kernelspec": {
      "display_name": "R",
      "name": "ir"
    },
    "language_info": {
      "name": "R"
    },
    "colab": {
      "provenance": []
    }
  },
  "nbformat": 4,
  "nbformat_minor": 0
}