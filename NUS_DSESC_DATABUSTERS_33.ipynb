{
  "cells": [
    {
      "cell_type": "markdown",
      "metadata": {
        "id": "Ac7I8Cn1uCXl"
      },
      "source": [
        "## 1) Libraries Installation\n",
        "##### The cell below is to help you keep track the libraries used and install them quickly.\n",
        "##### Ensure the correct library names are used, and follow the syntax: **%pip install PACKAGE_NAME**."
      ]
    },
    {
      "cell_type": "code",
      "execution_count": 22,
      "metadata": {
        "id": "a4GYYh8ruCXl",
        "outputId": "0169e4c6-26c9-4be0-cedb-440ba7442934",
        "colab": {
          "base_uri": "https://localhost:8080/"
        }
      },
      "outputs": [
        {
          "output_type": "stream",
          "name": "stderr",
          "text": [
            "Installing package into ‘/usr/local/lib/R/site-library’\n",
            "(as ‘lib’ is unspecified)\n",
            "\n"
          ]
        }
      ],
      "source": [
        "#install.packages('tsibble')\n",
        "#install.packages('fable')\n",
        "#install.packages('fabletools')\n",
        "#install.packages('BVAR')\n",
        "#install.packages('feasts')\n",
        "#install.packages(\"urca\")\n",
        "library(tidyverse)\n",
        "library(tsibble)\n",
        "library(fable)\n",
        "library(fabletools)\n",
        "library(stats)\n",
        "library(BVAR)\n",
        "library(feasts)\n",
        "library(urca)"
      ]
    },
    {
      "cell_type": "markdown",
      "metadata": {
        "id": "0dW6s07OuCXm"
      },
      "source": [
        "## 2) Main Section for Code\n",
        "### Preparing dataset for analysis and applying the relevant stationarity-inducing transformations to the variables."
      ]
    },
    {
      "cell_type": "code",
      "execution_count": 4,
      "metadata": {
        "id": "EyoqPn4nuCXm"
      },
      "outputs": [],
      "source": [
        "data = read.csv(\"https://raw.githubusercontent.com/dsesc-acads/Databusters/refs/heads/main/Quarterly%20Data.csv\")\n",
        "data = data[-c(1:38),]\n",
        "data <- data %>%\n",
        "  dplyr::select('sasdate', \"GDPC1\", 'GS10TB3Mx', 'CLAIMSx', 'ANDENOx', 'UMCSENTx') %>%\n",
        "  mutate(sasdate = yearquarter(sasdate))\n",
        "transformed <- fred_transform(data[,-1], type=c('fred_qd'), codes=c(5,1,5,5,2))\n",
        "transformed <- cbind(data$sasdate[-1], transformed) %>%\n",
        "  rename(date = 'data$sasdate[-1]') %>%\n",
        "  mutate(GDPC1 = 4 * GDPC1) %>%\n",
        "  as_tsibble(index=date)\n",
        "\n",
        "transformed <- transformed %>%\n",
        "  mutate(across(c(GS10TB3Mx, CLAIMSx, ANDENOx, UMCSENTx),\n",
        "                 list(lag1 = ~ lag(., 1), lag2 = ~ lag(., 2),lag3 = ~ lag(., 3), lag4 = ~ lag(., 4)),\n",
        "                 .names = \"{col}_{fn}\"))\n",
        "\n",
        "transformed <- transformed[-c(1:4),]"
      ]
    },
    {
      "cell_type": "markdown",
      "source": [
        "## 3) AR Lag Selection\n",
        "### Preparing dataset for analysis and applying the relevant stationarity-inducing transformations to the variables."
      ],
      "metadata": {
        "id": "dIPTy75jFRk7"
      }
    },
    {
      "cell_type": "code",
      "source": [
        "ar_lags <- transformed[1:215,] %>%\n",
        "  model(ar1 = AR(GDPC1 ~ order(1)),\n",
        "        ar2 = AR(GDPC1 ~ order(2)),\n",
        "        ar3 = AR(GDPC1 ~ order(3)),\n",
        "        ar4 = AR(GDPC1 ~ order(4)),\n",
        "        ar5 = AR(GDPC1 ~ order(5)),\n",
        "        ar6 = AR(GDPC1 ~ order(6)),\n",
        "        ar7 = AR(GDPC1 ~ order(7)),\n",
        "        ar8 = AR(GDPC1 ~ order(8)))\n",
        "\n",
        "glance(ar_lags) %>%\n",
        "  arrange(AIC)\n",
        "\n",
        "ar_lags %>%\n",
        "  fabletools::forecast(new_data=transformed[216:219,]) %>%\n",
        "  accuracy(transformed)"
      ],
      "metadata": {
        "colab": {
          "base_uri": "https://localhost:8080/",
          "height": 681
        },
        "id": "66LPc-vLFayT",
        "outputId": "72540379-e09e-48ee-8407-7eb815c836fa"
      },
      "execution_count": 7,
      "outputs": [
        {
          "output_type": "display_data",
          "data": {
            "text/html": [
              "<table class=\"dataframe\">\n",
              "<caption>A tibble: 8 × 6</caption>\n",
              "<thead>\n",
              "\t<tr><th scope=col>.model</th><th scope=col>sigma2</th><th scope=col>AIC</th><th scope=col>AICc</th><th scope=col>BIC</th><th scope=col>dof</th></tr>\n",
              "\t<tr><th scope=col>&lt;chr&gt;</th><th scope=col>&lt;dbl&gt;</th><th scope=col>&lt;dbl&gt;</th><th scope=col>&lt;dbl&gt;</th><th scope=col>&lt;dbl&gt;</th><th scope=col>&lt;int&gt;</th></tr>\n",
              "</thead>\n",
              "<tbody>\n",
              "\t<tr><td>ar1</td><td>19.39081</td><td> 3.887315</td><td> 3.943918</td><td>10.62859</td><td>213</td></tr>\n",
              "\t<tr><td>ar2</td><td>19.41131</td><td> 6.114516</td><td> 6.228260</td><td>16.22643</td><td>212</td></tr>\n",
              "\t<tr><td>ar3</td><td>19.38513</td><td> 7.824285</td><td> 8.014761</td><td>21.30684</td><td>211</td></tr>\n",
              "\t<tr><td>ar4</td><td>19.42438</td><td>10.259214</td><td>10.546295</td><td>27.11240</td><td>210</td></tr>\n",
              "\t<tr><td>ar5</td><td>19.49947</td><td>13.088720</td><td>13.492567</td><td>33.31255</td><td>209</td></tr>\n",
              "\t<tr><td>ar8</td><td>19.07915</td><td>14.403660</td><td>15.281709</td><td>44.73940</td><td>206</td></tr>\n",
              "\t<tr><td>ar6</td><td>19.51098</td><td>15.215632</td><td>15.756695</td><td>38.81010</td><td>208</td></tr>\n",
              "\t<tr><td>ar7</td><td>19.34867</td><td>15.419565</td><td>16.118594</td><td>42.38467</td><td>207</td></tr>\n",
              "</tbody>\n",
              "</table>\n"
            ],
            "text/markdown": "\nA tibble: 8 × 6\n\n| .model &lt;chr&gt; | sigma2 &lt;dbl&gt; | AIC &lt;dbl&gt; | AICc &lt;dbl&gt; | BIC &lt;dbl&gt; | dof &lt;int&gt; |\n|---|---|---|---|---|---|\n| ar1 | 19.39081 |  3.887315 |  3.943918 | 10.62859 | 213 |\n| ar2 | 19.41131 |  6.114516 |  6.228260 | 16.22643 | 212 |\n| ar3 | 19.38513 |  7.824285 |  8.014761 | 21.30684 | 211 |\n| ar4 | 19.42438 | 10.259214 | 10.546295 | 27.11240 | 210 |\n| ar5 | 19.49947 | 13.088720 | 13.492567 | 33.31255 | 209 |\n| ar8 | 19.07915 | 14.403660 | 15.281709 | 44.73940 | 206 |\n| ar6 | 19.51098 | 15.215632 | 15.756695 | 38.81010 | 208 |\n| ar7 | 19.34867 | 15.419565 | 16.118594 | 42.38467 | 207 |\n\n",
            "text/latex": "A tibble: 8 × 6\n\\begin{tabular}{llllll}\n .model & sigma2 & AIC & AICc & BIC & dof\\\\\n <chr> & <dbl> & <dbl> & <dbl> & <dbl> & <int>\\\\\n\\hline\n\t ar1 & 19.39081 &  3.887315 &  3.943918 & 10.62859 & 213\\\\\n\t ar2 & 19.41131 &  6.114516 &  6.228260 & 16.22643 & 212\\\\\n\t ar3 & 19.38513 &  7.824285 &  8.014761 & 21.30684 & 211\\\\\n\t ar4 & 19.42438 & 10.259214 & 10.546295 & 27.11240 & 210\\\\\n\t ar5 & 19.49947 & 13.088720 & 13.492567 & 33.31255 & 209\\\\\n\t ar8 & 19.07915 & 14.403660 & 15.281709 & 44.73940 & 206\\\\\n\t ar6 & 19.51098 & 15.215632 & 15.756695 & 38.81010 & 208\\\\\n\t ar7 & 19.34867 & 15.419565 & 16.118594 & 42.38467 & 207\\\\\n\\end{tabular}\n",
            "text/plain": [
              "  .model sigma2   AIC       AICc      BIC      dof\n",
              "1 ar1    19.39081  3.887315  3.943918 10.62859 213\n",
              "2 ar2    19.41131  6.114516  6.228260 16.22643 212\n",
              "3 ar3    19.38513  7.824285  8.014761 21.30684 211\n",
              "4 ar4    19.42438 10.259214 10.546295 27.11240 210\n",
              "5 ar5    19.49947 13.088720 13.492567 33.31255 209\n",
              "6 ar8    19.07915 14.403660 15.281709 44.73940 206\n",
              "7 ar6    19.51098 15.215632 15.756695 38.81010 208\n",
              "8 ar7    19.34867 15.419565 16.118594 42.38467 207"
            ]
          },
          "metadata": {}
        },
        {
          "output_type": "display_data",
          "data": {
            "text/html": [
              "<table class=\"dataframe\">\n",
              "<caption>A tibble: 8 × 10</caption>\n",
              "<thead>\n",
              "\t<tr><th scope=col>.model</th><th scope=col>.type</th><th scope=col>ME</th><th scope=col>RMSE</th><th scope=col>MAE</th><th scope=col>MPE</th><th scope=col>MAPE</th><th scope=col>MASE</th><th scope=col>RMSSE</th><th scope=col>ACF1</th></tr>\n",
              "\t<tr><th scope=col>&lt;chr&gt;</th><th scope=col>&lt;chr&gt;</th><th scope=col>&lt;dbl&gt;</th><th scope=col>&lt;dbl&gt;</th><th scope=col>&lt;dbl&gt;</th><th scope=col>&lt;dbl&gt;</th><th scope=col>&lt;dbl&gt;</th><th scope=col>&lt;dbl&gt;</th><th scope=col>&lt;dbl&gt;</th><th scope=col>&lt;dbl&gt;</th></tr>\n",
              "</thead>\n",
              "<tbody>\n",
              "\t<tr><td>ar1</td><td>Test</td><td>0.4649493</td><td>0.8348992</td><td>0.5954848</td><td>10.95524</td><td>16.34803</td><td>0.1590267</td><td>0.1343137</td><td>-0.2781114</td></tr>\n",
              "\t<tr><td>ar2</td><td>Test</td><td>0.4542497</td><td>0.8372748</td><td>0.6037337</td><td>10.52520</td><td>16.70080</td><td>0.1612296</td><td>0.1346959</td><td>-0.2835602</td></tr>\n",
              "\t<tr><td>ar3</td><td>Test</td><td>0.4484738</td><td>0.8205455</td><td>0.6083450</td><td>10.43221</td><td>17.03695</td><td>0.1624611</td><td>0.1320046</td><td>-0.3238528</td></tr>\n",
              "\t<tr><td>ar4</td><td>Test</td><td>0.4454774</td><td>0.8117210</td><td>0.6028504</td><td>10.39569</td><td>16.89720</td><td>0.1609937</td><td>0.1305850</td><td>-0.3419946</td></tr>\n",
              "\t<tr><td>ar5</td><td>Test</td><td>0.4365601</td><td>0.8072075</td><td>0.5950677</td><td>10.09854</td><td>16.64694</td><td>0.1589153</td><td>0.1298589</td><td>-0.3364216</td></tr>\n",
              "\t<tr><td>ar6</td><td>Test</td><td>0.4408962</td><td>0.6741048</td><td>0.4544737</td><td>11.46929</td><td>12.03021</td><td>0.1213691</td><td>0.1084461</td><td>-0.4090615</td></tr>\n",
              "\t<tr><td>ar7</td><td>Test</td><td>0.4472806</td><td>0.7368671</td><td>0.4608549</td><td>11.43507</td><td>11.99586</td><td>0.1230732</td><td>0.1185429</td><td>-0.5282952</td></tr>\n",
              "\t<tr><td>ar8</td><td>Test</td><td>0.6605542</td><td>0.8423000</td><td>0.6605542</td><td>18.82127</td><td>18.82127</td><td>0.1764038</td><td>0.1355043</td><td>-0.4503462</td></tr>\n",
              "</tbody>\n",
              "</table>\n"
            ],
            "text/markdown": "\nA tibble: 8 × 10\n\n| .model &lt;chr&gt; | .type &lt;chr&gt; | ME &lt;dbl&gt; | RMSE &lt;dbl&gt; | MAE &lt;dbl&gt; | MPE &lt;dbl&gt; | MAPE &lt;dbl&gt; | MASE &lt;dbl&gt; | RMSSE &lt;dbl&gt; | ACF1 &lt;dbl&gt; |\n|---|---|---|---|---|---|---|---|---|---|\n| ar1 | Test | 0.4649493 | 0.8348992 | 0.5954848 | 10.95524 | 16.34803 | 0.1590267 | 0.1343137 | -0.2781114 |\n| ar2 | Test | 0.4542497 | 0.8372748 | 0.6037337 | 10.52520 | 16.70080 | 0.1612296 | 0.1346959 | -0.2835602 |\n| ar3 | Test | 0.4484738 | 0.8205455 | 0.6083450 | 10.43221 | 17.03695 | 0.1624611 | 0.1320046 | -0.3238528 |\n| ar4 | Test | 0.4454774 | 0.8117210 | 0.6028504 | 10.39569 | 16.89720 | 0.1609937 | 0.1305850 | -0.3419946 |\n| ar5 | Test | 0.4365601 | 0.8072075 | 0.5950677 | 10.09854 | 16.64694 | 0.1589153 | 0.1298589 | -0.3364216 |\n| ar6 | Test | 0.4408962 | 0.6741048 | 0.4544737 | 11.46929 | 12.03021 | 0.1213691 | 0.1084461 | -0.4090615 |\n| ar7 | Test | 0.4472806 | 0.7368671 | 0.4608549 | 11.43507 | 11.99586 | 0.1230732 | 0.1185429 | -0.5282952 |\n| ar8 | Test | 0.6605542 | 0.8423000 | 0.6605542 | 18.82127 | 18.82127 | 0.1764038 | 0.1355043 | -0.4503462 |\n\n",
            "text/latex": "A tibble: 8 × 10\n\\begin{tabular}{llllllllll}\n .model & .type & ME & RMSE & MAE & MPE & MAPE & MASE & RMSSE & ACF1\\\\\n <chr> & <chr> & <dbl> & <dbl> & <dbl> & <dbl> & <dbl> & <dbl> & <dbl> & <dbl>\\\\\n\\hline\n\t ar1 & Test & 0.4649493 & 0.8348992 & 0.5954848 & 10.95524 & 16.34803 & 0.1590267 & 0.1343137 & -0.2781114\\\\\n\t ar2 & Test & 0.4542497 & 0.8372748 & 0.6037337 & 10.52520 & 16.70080 & 0.1612296 & 0.1346959 & -0.2835602\\\\\n\t ar3 & Test & 0.4484738 & 0.8205455 & 0.6083450 & 10.43221 & 17.03695 & 0.1624611 & 0.1320046 & -0.3238528\\\\\n\t ar4 & Test & 0.4454774 & 0.8117210 & 0.6028504 & 10.39569 & 16.89720 & 0.1609937 & 0.1305850 & -0.3419946\\\\\n\t ar5 & Test & 0.4365601 & 0.8072075 & 0.5950677 & 10.09854 & 16.64694 & 0.1589153 & 0.1298589 & -0.3364216\\\\\n\t ar6 & Test & 0.4408962 & 0.6741048 & 0.4544737 & 11.46929 & 12.03021 & 0.1213691 & 0.1084461 & -0.4090615\\\\\n\t ar7 & Test & 0.4472806 & 0.7368671 & 0.4608549 & 11.43507 & 11.99586 & 0.1230732 & 0.1185429 & -0.5282952\\\\\n\t ar8 & Test & 0.6605542 & 0.8423000 & 0.6605542 & 18.82127 & 18.82127 & 0.1764038 & 0.1355043 & -0.4503462\\\\\n\\end{tabular}\n",
            "text/plain": [
              "  .model .type ME        RMSE      MAE       MPE      MAPE     MASE     \n",
              "1 ar1    Test  0.4649493 0.8348992 0.5954848 10.95524 16.34803 0.1590267\n",
              "2 ar2    Test  0.4542497 0.8372748 0.6037337 10.52520 16.70080 0.1612296\n",
              "3 ar3    Test  0.4484738 0.8205455 0.6083450 10.43221 17.03695 0.1624611\n",
              "4 ar4    Test  0.4454774 0.8117210 0.6028504 10.39569 16.89720 0.1609937\n",
              "5 ar5    Test  0.4365601 0.8072075 0.5950677 10.09854 16.64694 0.1589153\n",
              "6 ar6    Test  0.4408962 0.6741048 0.4544737 11.46929 12.03021 0.1213691\n",
              "7 ar7    Test  0.4472806 0.7368671 0.4608549 11.43507 11.99586 0.1230732\n",
              "8 ar8    Test  0.6605542 0.8423000 0.6605542 18.82127 18.82127 0.1764038\n",
              "  RMSSE     ACF1      \n",
              "1 0.1343137 -0.2781114\n",
              "2 0.1346959 -0.2835602\n",
              "3 0.1320046 -0.3238528\n",
              "4 0.1305850 -0.3419946\n",
              "5 0.1298589 -0.3364216\n",
              "6 0.1084461 -0.4090615\n",
              "7 0.1185429 -0.5282952\n",
              "8 0.1355043 -0.4503462"
            ]
          },
          "metadata": {}
        }
      ]
    },
    {
      "cell_type": "markdown",
      "source": [
        "Selection of lags of other predictors:"
      ],
      "metadata": {
        "id": "5PtGPZcNGJl9"
      }
    },
    {
      "cell_type": "code",
      "source": [
        "### Term Spread\n",
        "ardl_spread<- transformed[1:215,] %>%\n",
        "  model(AR(GDPC1 ~ order(1)),\n",
        "        AR(GDPC1 ~ order(1) + GS10TB3Mx_lag1),\n",
        "        AR(GDPC1 ~ order(1) + GS10TB3Mx_lag1 + GS10TB3Mx_lag2),\n",
        "        AR(GDPC1 ~ order(1) + GS10TB3Mx_lag1 + GS10TB3Mx_lag2 + GS10TB3Mx_lag3),\n",
        "        AR(GDPC1 ~ order(1) + GS10TB3Mx_lag1 + GS10TB3Mx_lag2 + GS10TB3Mx_lag3 + GS10TB3Mx_lag4))\n",
        "\n",
        "glance(ardl_spread) %>%\n",
        "  arrange(AIC)"
      ],
      "metadata": {
        "id": "K9z4NFA-GM3L",
        "outputId": "8e8c6217-d98a-40af-d178-397dcb1a6d9a",
        "colab": {
          "base_uri": "https://localhost:8080/",
          "height": 255
        }
      },
      "execution_count": 10,
      "outputs": [
        {
          "output_type": "display_data",
          "data": {
            "text/html": [
              "<table class=\"dataframe\">\n",
              "<caption>A tibble: 5 × 6</caption>\n",
              "<thead>\n",
              "\t<tr><th scope=col>.model</th><th scope=col>sigma2</th><th scope=col>AIC</th><th scope=col>AICc</th><th scope=col>BIC</th><th scope=col>dof</th></tr>\n",
              "\t<tr><th scope=col>&lt;chr&gt;</th><th scope=col>&lt;dbl&gt;</th><th scope=col>&lt;dbl&gt;</th><th scope=col>&lt;dbl&gt;</th><th scope=col>&lt;dbl&gt;</th><th scope=col>&lt;int&gt;</th></tr>\n",
              "</thead>\n",
              "<tbody>\n",
              "\t<tr><td>AR(GDPC1 ~ order(1) + GS10TB3Mx_lag1 + GS10TB3Mx_lag2)                                        </td><td>18.18772</td><td>-5.884038</td><td>-5.693562</td><td> 7.598514</td><td>211</td></tr>\n",
              "\t<tr><td>AR(GDPC1 ~ order(1) + GS10TB3Mx_lag1 + GS10TB3Mx_lag2 + GS10TB3Mx_lag3)                       </td><td>18.15880</td><td>-4.226142</td><td>-3.939061</td><td>12.627048</td><td>210</td></tr>\n",
              "\t<tr><td>AR(GDPC1 ~ order(1) + GS10TB3Mx_lag1 + GS10TB3Mx_lag2 + GS10TB3Mx_lag3 + \n",
              "    GS10TB3Mx_lag4)</td><td>18.12433</td><td>-2.634605</td><td>-2.230759</td><td>17.589223</td><td>209</td></tr>\n",
              "\t<tr><td>AR(GDPC1 ~ order(1) + GS10TB3Mx_lag1)                                                         </td><td>18.69201</td><td>-2.003878</td><td>-1.890134</td><td> 8.108036</td><td>212</td></tr>\n",
              "\t<tr><td>AR(GDPC1 ~ order(1))                                                                          </td><td>19.39081</td><td> 3.887315</td><td> 3.943918</td><td>10.628591</td><td>213</td></tr>\n",
              "</tbody>\n",
              "</table>\n"
            ],
            "text/markdown": "\nA tibble: 5 × 6\n\n| .model &lt;chr&gt; | sigma2 &lt;dbl&gt; | AIC &lt;dbl&gt; | AICc &lt;dbl&gt; | BIC &lt;dbl&gt; | dof &lt;int&gt; |\n|---|---|---|---|---|---|\n| AR(GDPC1 ~ order(1) + GS10TB3Mx_lag1 + GS10TB3Mx_lag2)                                         | 18.18772 | -5.884038 | -5.693562 |  7.598514 | 211 |\n| AR(GDPC1 ~ order(1) + GS10TB3Mx_lag1 + GS10TB3Mx_lag2 + GS10TB3Mx_lag3)                        | 18.15880 | -4.226142 | -3.939061 | 12.627048 | 210 |\n| AR(GDPC1 ~ order(1) + GS10TB3Mx_lag1 + GS10TB3Mx_lag2 + GS10TB3Mx_lag3 + \n    GS10TB3Mx_lag4) | 18.12433 | -2.634605 | -2.230759 | 17.589223 | 209 |\n| AR(GDPC1 ~ order(1) + GS10TB3Mx_lag1)                                                          | 18.69201 | -2.003878 | -1.890134 |  8.108036 | 212 |\n| AR(GDPC1 ~ order(1))                                                                           | 19.39081 |  3.887315 |  3.943918 | 10.628591 | 213 |\n\n",
            "text/latex": "A tibble: 5 × 6\n\\begin{tabular}{llllll}\n .model & sigma2 & AIC & AICc & BIC & dof\\\\\n <chr> & <dbl> & <dbl> & <dbl> & <dbl> & <int>\\\\\n\\hline\n\t AR(GDPC1 \\textasciitilde{} order(1) + GS10TB3Mx\\_lag1 + GS10TB3Mx\\_lag2)                                         & 18.18772 & -5.884038 & -5.693562 &  7.598514 & 211\\\\\n\t AR(GDPC1 \\textasciitilde{} order(1) + GS10TB3Mx\\_lag1 + GS10TB3Mx\\_lag2 + GS10TB3Mx\\_lag3)                        & 18.15880 & -4.226142 & -3.939061 & 12.627048 & 210\\\\\n\t AR(GDPC1 \\textasciitilde{} order(1) + GS10TB3Mx\\_lag1 + GS10TB3Mx\\_lag2 + GS10TB3Mx\\_lag3 + \n    GS10TB3Mx\\_lag4) & 18.12433 & -2.634605 & -2.230759 & 17.589223 & 209\\\\\n\t AR(GDPC1 \\textasciitilde{} order(1) + GS10TB3Mx\\_lag1)                                                          & 18.69201 & -2.003878 & -1.890134 &  8.108036 & 212\\\\\n\t AR(GDPC1 \\textasciitilde{} order(1))                                                                           & 19.39081 &  3.887315 &  3.943918 & 10.628591 & 213\\\\\n\\end{tabular}\n",
            "text/plain": [
              "  .model                                                                                        \n",
              "1 AR(GDPC1 ~ order(1) + GS10TB3Mx_lag1 + GS10TB3Mx_lag2)                                        \n",
              "2 AR(GDPC1 ~ order(1) + GS10TB3Mx_lag1 + GS10TB3Mx_lag2 + GS10TB3Mx_lag3)                       \n",
              "3 AR(GDPC1 ~ order(1) + GS10TB3Mx_lag1 + GS10TB3Mx_lag2 + GS10TB3Mx_lag3 + \\n    GS10TB3Mx_lag4)\n",
              "4 AR(GDPC1 ~ order(1) + GS10TB3Mx_lag1)                                                         \n",
              "5 AR(GDPC1 ~ order(1))                                                                          \n",
              "  sigma2   AIC       AICc      BIC       dof\n",
              "1 18.18772 -5.884038 -5.693562  7.598514 211\n",
              "2 18.15880 -4.226142 -3.939061 12.627048 210\n",
              "3 18.12433 -2.634605 -2.230759 17.589223 209\n",
              "4 18.69201 -2.003878 -1.890134  8.108036 212\n",
              "5 19.39081  3.887315  3.943918 10.628591 213"
            ]
          },
          "metadata": {}
        }
      ]
    },
    {
      "cell_type": "markdown",
      "source": [],
      "metadata": {
        "id": "f4C_rIwpGIwI"
      }
    },
    {
      "cell_type": "code",
      "source": [
        "### Unemployment claims\n",
        "ardl_claims<- transformed[1:215,] %>%\n",
        "  model(AR(GDPC1 ~ order(1)),\n",
        "        AR(GDPC1 ~ order(1) + CLAIMSx_lag1),\n",
        "        AR(GDPC1 ~ order(1) + CLAIMSx_lag1 + CLAIMSx_lag2),\n",
        "        AR(GDPC1 ~ order(1) + CLAIMSx_lag1 + CLAIMSx_lag2 + CLAIMSx_lag3),\n",
        "        AR(GDPC1 ~ order(1) + CLAIMSx_lag1 + CLAIMSx_lag2 + CLAIMSx_lag3 + CLAIMSx_lag4))\n",
        "\n",
        "glance(ardl_claims) %>%\n",
        "  arrange(AIC)\n"
      ],
      "metadata": {
        "id": "S4_DAPeRGYwQ",
        "outputId": "13e597a2-d88b-4bbd-bf02-08de34b71c84",
        "colab": {
          "base_uri": "https://localhost:8080/",
          "height": 255
        }
      },
      "execution_count": 11,
      "outputs": [
        {
          "output_type": "display_data",
          "data": {
            "text/html": [
              "<table class=\"dataframe\">\n",
              "<caption>A tibble: 5 × 6</caption>\n",
              "<thead>\n",
              "\t<tr><th scope=col>.model</th><th scope=col>sigma2</th><th scope=col>AIC</th><th scope=col>AICc</th><th scope=col>BIC</th><th scope=col>dof</th></tr>\n",
              "\t<tr><th scope=col>&lt;chr&gt;</th><th scope=col>&lt;dbl&gt;</th><th scope=col>&lt;dbl&gt;</th><th scope=col>&lt;dbl&gt;</th><th scope=col>&lt;dbl&gt;</th><th scope=col>&lt;int&gt;</th></tr>\n",
              "</thead>\n",
              "<tbody>\n",
              "\t<tr><td>AR(GDPC1 ~ order(1) + CLAIMSx_lag1 + CLAIMSx_lag2 + CLAIMSx_lag3 + \n",
              "    CLAIMSx_lag4)</td><td>15.04411</td><td>-42.682365</td><td>-42.278518</td><td>-22.45854</td><td>209</td></tr>\n",
              "\t<tr><td>AR(GDPC1 ~ order(1) + CLAIMSx_lag1 + CLAIMSx_lag2 + CLAIMSx_lag3)                     </td><td>15.26594</td><td>-41.535387</td><td>-41.248306</td><td>-24.68220</td><td>210</td></tr>\n",
              "\t<tr><td>AR(GDPC1 ~ order(1) + CLAIMSx_lag1 + CLAIMSx_lag2)                                    </td><td>15.45349</td><td>-40.910092</td><td>-40.719616</td><td>-27.42754</td><td>211</td></tr>\n",
              "\t<tr><td>AR(GDPC1 ~ order(1) + CLAIMSx_lag1)                                                   </td><td>16.25040</td><td>-32.099198</td><td>-31.985454</td><td>-21.98728</td><td>212</td></tr>\n",
              "\t<tr><td>AR(GDPC1 ~ order(1))                                                                  </td><td>19.39081</td><td>  3.887315</td><td>  3.943918</td><td> 10.62859</td><td>213</td></tr>\n",
              "</tbody>\n",
              "</table>\n"
            ],
            "text/markdown": "\nA tibble: 5 × 6\n\n| .model &lt;chr&gt; | sigma2 &lt;dbl&gt; | AIC &lt;dbl&gt; | AICc &lt;dbl&gt; | BIC &lt;dbl&gt; | dof &lt;int&gt; |\n|---|---|---|---|---|---|\n| AR(GDPC1 ~ order(1) + CLAIMSx_lag1 + CLAIMSx_lag2 + CLAIMSx_lag3 + \n    CLAIMSx_lag4) | 15.04411 | -42.682365 | -42.278518 | -22.45854 | 209 |\n| AR(GDPC1 ~ order(1) + CLAIMSx_lag1 + CLAIMSx_lag2 + CLAIMSx_lag3)                      | 15.26594 | -41.535387 | -41.248306 | -24.68220 | 210 |\n| AR(GDPC1 ~ order(1) + CLAIMSx_lag1 + CLAIMSx_lag2)                                     | 15.45349 | -40.910092 | -40.719616 | -27.42754 | 211 |\n| AR(GDPC1 ~ order(1) + CLAIMSx_lag1)                                                    | 16.25040 | -32.099198 | -31.985454 | -21.98728 | 212 |\n| AR(GDPC1 ~ order(1))                                                                   | 19.39081 |   3.887315 |   3.943918 |  10.62859 | 213 |\n\n",
            "text/latex": "A tibble: 5 × 6\n\\begin{tabular}{llllll}\n .model & sigma2 & AIC & AICc & BIC & dof\\\\\n <chr> & <dbl> & <dbl> & <dbl> & <dbl> & <int>\\\\\n\\hline\n\t AR(GDPC1 \\textasciitilde{} order(1) + CLAIMSx\\_lag1 + CLAIMSx\\_lag2 + CLAIMSx\\_lag3 + \n    CLAIMSx\\_lag4) & 15.04411 & -42.682365 & -42.278518 & -22.45854 & 209\\\\\n\t AR(GDPC1 \\textasciitilde{} order(1) + CLAIMSx\\_lag1 + CLAIMSx\\_lag2 + CLAIMSx\\_lag3)                      & 15.26594 & -41.535387 & -41.248306 & -24.68220 & 210\\\\\n\t AR(GDPC1 \\textasciitilde{} order(1) + CLAIMSx\\_lag1 + CLAIMSx\\_lag2)                                     & 15.45349 & -40.910092 & -40.719616 & -27.42754 & 211\\\\\n\t AR(GDPC1 \\textasciitilde{} order(1) + CLAIMSx\\_lag1)                                                    & 16.25040 & -32.099198 & -31.985454 & -21.98728 & 212\\\\\n\t AR(GDPC1 \\textasciitilde{} order(1))                                                                   & 19.39081 &   3.887315 &   3.943918 &  10.62859 & 213\\\\\n\\end{tabular}\n",
            "text/plain": [
              "  .model                                                                                \n",
              "1 AR(GDPC1 ~ order(1) + CLAIMSx_lag1 + CLAIMSx_lag2 + CLAIMSx_lag3 + \\n    CLAIMSx_lag4)\n",
              "2 AR(GDPC1 ~ order(1) + CLAIMSx_lag1 + CLAIMSx_lag2 + CLAIMSx_lag3)                     \n",
              "3 AR(GDPC1 ~ order(1) + CLAIMSx_lag1 + CLAIMSx_lag2)                                    \n",
              "4 AR(GDPC1 ~ order(1) + CLAIMSx_lag1)                                                   \n",
              "5 AR(GDPC1 ~ order(1))                                                                  \n",
              "  sigma2   AIC        AICc       BIC       dof\n",
              "1 15.04411 -42.682365 -42.278518 -22.45854 209\n",
              "2 15.26594 -41.535387 -41.248306 -24.68220 210\n",
              "3 15.45349 -40.910092 -40.719616 -27.42754 211\n",
              "4 16.25040 -32.099198 -31.985454 -21.98728 212\n",
              "5 19.39081   3.887315   3.943918  10.62859 213"
            ]
          },
          "metadata": {}
        }
      ]
    },
    {
      "cell_type": "code",
      "source": [
        "### Housing starts\n",
        "ardl_hstarts<- transformed[1:215,] %>%\n",
        "  model(AR(GDPC1 ~ order(1)),\n",
        "        AR(GDPC1 ~ order(1) + ANDENOx_lag1),\n",
        "        AR(GDPC1 ~ order(1) + ANDENOx_lag1 + ANDENOx_lag2),\n",
        "        AR(GDPC1 ~ order(1) + ANDENOx_lag1 + ANDENOx_lag2 + ANDENOx_lag3),\n",
        "        AR(GDPC1 ~ order(1) + ANDENOx_lag1 + ANDENOx_lag2 + ANDENOx_lag3 + ANDENOx_lag4))\n",
        "\n",
        "glance(ardl_hstarts) %>%\n",
        "  arrange(AIC)\n"
      ],
      "metadata": {
        "id": "bCBf1BNCGiBi",
        "outputId": "fda3c194-679d-4d9d-8a03-6eab0e865aa4",
        "colab": {
          "base_uri": "https://localhost:8080/",
          "height": 255
        }
      },
      "execution_count": 12,
      "outputs": [
        {
          "output_type": "display_data",
          "data": {
            "text/html": [
              "<table class=\"dataframe\">\n",
              "<caption>A tibble: 5 × 6</caption>\n",
              "<thead>\n",
              "\t<tr><th scope=col>.model</th><th scope=col>sigma2</th><th scope=col>AIC</th><th scope=col>AICc</th><th scope=col>BIC</th><th scope=col>dof</th></tr>\n",
              "\t<tr><th scope=col>&lt;chr&gt;</th><th scope=col>&lt;dbl&gt;</th><th scope=col>&lt;dbl&gt;</th><th scope=col>&lt;dbl&gt;</th><th scope=col>&lt;dbl&gt;</th><th scope=col>&lt;int&gt;</th></tr>\n",
              "</thead>\n",
              "<tbody>\n",
              "\t<tr><td>AR(GDPC1 ~ order(1) + ANDENOx_lag1 + ANDENOx_lag2)                                    </td><td>18.53431</td><td>-1.8254707</td><td>-1.6349945</td><td>11.65708</td><td>211</td></tr>\n",
              "\t<tr><td>AR(GDPC1 ~ order(1) + ANDENOx_lag1 + ANDENOx_lag2 + ANDENOx_lag3)                     </td><td>18.47990</td><td>-0.4575456</td><td>-0.1704643</td><td>16.39564</td><td>210</td></tr>\n",
              "\t<tr><td>AR(GDPC1 ~ order(1) + ANDENOx_lag1 + ANDENOx_lag2 + ANDENOx_lag3 + \n",
              "    ANDENOx_lag4)</td><td>18.43130</td><td> 0.9763187</td><td> 1.3801648</td><td>21.20015</td><td>209</td></tr>\n",
              "\t<tr><td>AR(GDPC1 ~ order(1))                                                                  </td><td>19.39081</td><td> 3.8873146</td><td> 3.9439184</td><td>10.62859</td><td>213</td></tr>\n",
              "\t<tr><td>AR(GDPC1 ~ order(1) + ANDENOx_lag1)                                                   </td><td>19.39060</td><td> 5.8850083</td><td> 5.9987524</td><td>15.99692</td><td>212</td></tr>\n",
              "</tbody>\n",
              "</table>\n"
            ],
            "text/markdown": "\nA tibble: 5 × 6\n\n| .model &lt;chr&gt; | sigma2 &lt;dbl&gt; | AIC &lt;dbl&gt; | AICc &lt;dbl&gt; | BIC &lt;dbl&gt; | dof &lt;int&gt; |\n|---|---|---|---|---|---|\n| AR(GDPC1 ~ order(1) + ANDENOx_lag1 + ANDENOx_lag2)                                     | 18.53431 | -1.8254707 | -1.6349945 | 11.65708 | 211 |\n| AR(GDPC1 ~ order(1) + ANDENOx_lag1 + ANDENOx_lag2 + ANDENOx_lag3)                      | 18.47990 | -0.4575456 | -0.1704643 | 16.39564 | 210 |\n| AR(GDPC1 ~ order(1) + ANDENOx_lag1 + ANDENOx_lag2 + ANDENOx_lag3 + \n    ANDENOx_lag4) | 18.43130 |  0.9763187 |  1.3801648 | 21.20015 | 209 |\n| AR(GDPC1 ~ order(1))                                                                   | 19.39081 |  3.8873146 |  3.9439184 | 10.62859 | 213 |\n| AR(GDPC1 ~ order(1) + ANDENOx_lag1)                                                    | 19.39060 |  5.8850083 |  5.9987524 | 15.99692 | 212 |\n\n",
            "text/latex": "A tibble: 5 × 6\n\\begin{tabular}{llllll}\n .model & sigma2 & AIC & AICc & BIC & dof\\\\\n <chr> & <dbl> & <dbl> & <dbl> & <dbl> & <int>\\\\\n\\hline\n\t AR(GDPC1 \\textasciitilde{} order(1) + ANDENOx\\_lag1 + ANDENOx\\_lag2)                                     & 18.53431 & -1.8254707 & -1.6349945 & 11.65708 & 211\\\\\n\t AR(GDPC1 \\textasciitilde{} order(1) + ANDENOx\\_lag1 + ANDENOx\\_lag2 + ANDENOx\\_lag3)                      & 18.47990 & -0.4575456 & -0.1704643 & 16.39564 & 210\\\\\n\t AR(GDPC1 \\textasciitilde{} order(1) + ANDENOx\\_lag1 + ANDENOx\\_lag2 + ANDENOx\\_lag3 + \n    ANDENOx\\_lag4) & 18.43130 &  0.9763187 &  1.3801648 & 21.20015 & 209\\\\\n\t AR(GDPC1 \\textasciitilde{} order(1))                                                                   & 19.39081 &  3.8873146 &  3.9439184 & 10.62859 & 213\\\\\n\t AR(GDPC1 \\textasciitilde{} order(1) + ANDENOx\\_lag1)                                                    & 19.39060 &  5.8850083 &  5.9987524 & 15.99692 & 212\\\\\n\\end{tabular}\n",
            "text/plain": [
              "  .model                                                                                \n",
              "1 AR(GDPC1 ~ order(1) + ANDENOx_lag1 + ANDENOx_lag2)                                    \n",
              "2 AR(GDPC1 ~ order(1) + ANDENOx_lag1 + ANDENOx_lag2 + ANDENOx_lag3)                     \n",
              "3 AR(GDPC1 ~ order(1) + ANDENOx_lag1 + ANDENOx_lag2 + ANDENOx_lag3 + \\n    ANDENOx_lag4)\n",
              "4 AR(GDPC1 ~ order(1))                                                                  \n",
              "5 AR(GDPC1 ~ order(1) + ANDENOx_lag1)                                                   \n",
              "  sigma2   AIC        AICc       BIC      dof\n",
              "1 18.53431 -1.8254707 -1.6349945 11.65708 211\n",
              "2 18.47990 -0.4575456 -0.1704643 16.39564 210\n",
              "3 18.43130  0.9763187  1.3801648 21.20015 209\n",
              "4 19.39081  3.8873146  3.9439184 10.62859 213\n",
              "5 19.39060  5.8850083  5.9987524 15.99692 212"
            ]
          },
          "metadata": {}
        }
      ]
    },
    {
      "cell_type": "code",
      "source": [
        "### Consumer Sentiment Index\n",
        "ardl_csent <- transformed[1:215,] %>%\n",
        "  model(AR(GDPC1 ~ order(1)),\n",
        "        AR(GDPC1 ~ order(1) + UMCSENTx_lag1),\n",
        "        AR(GDPC1 ~ order(1) + UMCSENTx_lag1 + UMCSENTx_lag2),\n",
        "        AR(GDPC1 ~ order(1) + UMCSENTx_lag1 + UMCSENTx_lag2 + UMCSENTx_lag3),\n",
        "        AR(GDPC1 ~ order(1) + UMCSENTx_lag1 + UMCSENTx_lag2 + UMCSENTx_lag3 + UMCSENTx_lag4))\n",
        "\n",
        "glance(ardl_csent) %>%\n",
        "  arrange(AIC)\n"
      ],
      "metadata": {
        "id": "Og7iu3Y4GlBV",
        "outputId": "3a406f82-a36a-4099-c433-1e20e3a42868",
        "colab": {
          "base_uri": "https://localhost:8080/",
          "height": 255
        }
      },
      "execution_count": 13,
      "outputs": [
        {
          "output_type": "display_data",
          "data": {
            "text/html": [
              "<table class=\"dataframe\">\n",
              "<caption>A tibble: 5 × 6</caption>\n",
              "<thead>\n",
              "\t<tr><th scope=col>.model</th><th scope=col>sigma2</th><th scope=col>AIC</th><th scope=col>AICc</th><th scope=col>BIC</th><th scope=col>dof</th></tr>\n",
              "\t<tr><th scope=col>&lt;chr&gt;</th><th scope=col>&lt;dbl&gt;</th><th scope=col>&lt;dbl&gt;</th><th scope=col>&lt;dbl&gt;</th><th scope=col>&lt;dbl&gt;</th><th scope=col>&lt;int&gt;</th></tr>\n",
              "</thead>\n",
              "<tbody>\n",
              "\t<tr><td>AR(GDPC1 ~ order(1) + UMCSENTx_lag1 + UMCSENTx_lag2 + UMCSENTx_lag3 + \n",
              "    UMCSENTx_lag4)</td><td>18.51930</td><td>2.000300</td><td>2.404146</td><td>22.22413</td><td>209</td></tr>\n",
              "\t<tr><td>AR(GDPC1 ~ order(1) + UMCSENTx_lag1 + UMCSENTx_lag2 + UMCSENTx_lag3)                      </td><td>18.81839</td><td>3.444946</td><td>3.732027</td><td>20.29814</td><td>210</td></tr>\n",
              "\t<tr><td>AR(GDPC1 ~ order(1))                                                                      </td><td>19.39081</td><td>3.887315</td><td>3.943918</td><td>10.62859</td><td>213</td></tr>\n",
              "\t<tr><td>AR(GDPC1 ~ order(1) + UMCSENTx_lag1 + UMCSENTx_lag2)                                      </td><td>19.06065</td><td>4.195016</td><td>4.385493</td><td>17.67757</td><td>211</td></tr>\n",
              "\t<tr><td>AR(GDPC1 ~ order(1) + UMCSENTx_lag1)                                                      </td><td>19.35868</td><td>5.530801</td><td>5.644545</td><td>15.64272</td><td>212</td></tr>\n",
              "</tbody>\n",
              "</table>\n"
            ],
            "text/markdown": "\nA tibble: 5 × 6\n\n| .model &lt;chr&gt; | sigma2 &lt;dbl&gt; | AIC &lt;dbl&gt; | AICc &lt;dbl&gt; | BIC &lt;dbl&gt; | dof &lt;int&gt; |\n|---|---|---|---|---|---|\n| AR(GDPC1 ~ order(1) + UMCSENTx_lag1 + UMCSENTx_lag2 + UMCSENTx_lag3 + \n    UMCSENTx_lag4) | 18.51930 | 2.000300 | 2.404146 | 22.22413 | 209 |\n| AR(GDPC1 ~ order(1) + UMCSENTx_lag1 + UMCSENTx_lag2 + UMCSENTx_lag3)                       | 18.81839 | 3.444946 | 3.732027 | 20.29814 | 210 |\n| AR(GDPC1 ~ order(1))                                                                       | 19.39081 | 3.887315 | 3.943918 | 10.62859 | 213 |\n| AR(GDPC1 ~ order(1) + UMCSENTx_lag1 + UMCSENTx_lag2)                                       | 19.06065 | 4.195016 | 4.385493 | 17.67757 | 211 |\n| AR(GDPC1 ~ order(1) + UMCSENTx_lag1)                                                       | 19.35868 | 5.530801 | 5.644545 | 15.64272 | 212 |\n\n",
            "text/latex": "A tibble: 5 × 6\n\\begin{tabular}{llllll}\n .model & sigma2 & AIC & AICc & BIC & dof\\\\\n <chr> & <dbl> & <dbl> & <dbl> & <dbl> & <int>\\\\\n\\hline\n\t AR(GDPC1 \\textasciitilde{} order(1) + UMCSENTx\\_lag1 + UMCSENTx\\_lag2 + UMCSENTx\\_lag3 + \n    UMCSENTx\\_lag4) & 18.51930 & 2.000300 & 2.404146 & 22.22413 & 209\\\\\n\t AR(GDPC1 \\textasciitilde{} order(1) + UMCSENTx\\_lag1 + UMCSENTx\\_lag2 + UMCSENTx\\_lag3)                       & 18.81839 & 3.444946 & 3.732027 & 20.29814 & 210\\\\\n\t AR(GDPC1 \\textasciitilde{} order(1))                                                                       & 19.39081 & 3.887315 & 3.943918 & 10.62859 & 213\\\\\n\t AR(GDPC1 \\textasciitilde{} order(1) + UMCSENTx\\_lag1 + UMCSENTx\\_lag2)                                       & 19.06065 & 4.195016 & 4.385493 & 17.67757 & 211\\\\\n\t AR(GDPC1 \\textasciitilde{} order(1) + UMCSENTx\\_lag1)                                                       & 19.35868 & 5.530801 & 5.644545 & 15.64272 & 212\\\\\n\\end{tabular}\n",
            "text/plain": [
              "  .model                                                                                    \n",
              "1 AR(GDPC1 ~ order(1) + UMCSENTx_lag1 + UMCSENTx_lag2 + UMCSENTx_lag3 + \\n    UMCSENTx_lag4)\n",
              "2 AR(GDPC1 ~ order(1) + UMCSENTx_lag1 + UMCSENTx_lag2 + UMCSENTx_lag3)                      \n",
              "3 AR(GDPC1 ~ order(1))                                                                      \n",
              "4 AR(GDPC1 ~ order(1) + UMCSENTx_lag1 + UMCSENTx_lag2)                                      \n",
              "5 AR(GDPC1 ~ order(1) + UMCSENTx_lag1)                                                      \n",
              "  sigma2   AIC      AICc     BIC      dof\n",
              "1 18.51930 2.000300 2.404146 22.22413 209\n",
              "2 18.81839 3.444946 3.732027 20.29814 210\n",
              "3 19.39081 3.887315 3.943918 10.62859 213\n",
              "4 19.06065 4.195016 4.385493 17.67757 211\n",
              "5 19.35868 5.530801 5.644545 15.64272 212"
            ]
          },
          "metadata": {}
        }
      ]
    },
    {
      "cell_type": "code",
      "source": [
        "ardl_combined <- transformed[1:215,] %>%\n",
        "  model(AR(GDPC1 ~ order(1) + CLAIMSx_lag1 + CLAIMSx_lag2 + CLAIMSx_lag3 + CLAIMSx_lag4 + ANDENOx_lag1 + ANDENOx_lag2 + GS10TB3Mx_lag1 + GS10TB3Mx_lag2 + UMCSENTx_lag1 + UMCSENTx_lag2 + UMCSENTx_lag3 + UMCSENTx_lag4))\n",
        "\n",
        "glance(ardl_combined)\n",
        "\n",
        "ardl_combined %>%\n",
        "  fabletools::forecast(new_data=transformed[216:219,]) %>%\n",
        "  accuracy(transformed)\n",
        "\n"
      ],
      "metadata": {
        "id": "BdDz8U0zGo5g",
        "outputId": "d2d00c36-4c48-4673-e9b4-0645ea6cd5ca",
        "colab": {
          "base_uri": "https://localhost:8080/",
          "height": 293
        }
      },
      "execution_count": 16,
      "outputs": [
        {
          "output_type": "display_data",
          "data": {
            "text/html": [
              "<table class=\"dataframe\">\n",
              "<caption>A tibble: 1 × 6</caption>\n",
              "<thead>\n",
              "\t<tr><th scope=col>.model</th><th scope=col>sigma2</th><th scope=col>AIC</th><th scope=col>AICc</th><th scope=col>BIC</th><th scope=col>dof</th></tr>\n",
              "\t<tr><th scope=col>&lt;chr&gt;</th><th scope=col>&lt;dbl&gt;</th><th scope=col>&lt;dbl&gt;</th><th scope=col>&lt;dbl&gt;</th><th scope=col>&lt;dbl&gt;</th><th scope=col>&lt;int&gt;</th></tr>\n",
              "</thead>\n",
              "<tbody>\n",
              "\t<tr><td>AR(GDPC1 ~ order(1) + CLAIMSx_lag1 + CLAIMSx_lag2 + CLAIMSx_lag3 + \n",
              "    CLAIMSx_lag4 + ANDENOx_lag1 + ANDENOx_lag2 + GS10TB3Mx_lag1 + \n",
              "    GS10TB3Mx_lag2 + UMCSENTx_lag1 + UMCSENTx_lag2 + UMCSENTx_lag3 + \n",
              "    UMCSENTx_lag4)</td><td>11.68745</td><td>-80.96372</td><td>-78.86372</td><td>-33.77479</td><td>201</td></tr>\n",
              "</tbody>\n",
              "</table>\n"
            ],
            "text/markdown": "\nA tibble: 1 × 6\n\n| .model &lt;chr&gt; | sigma2 &lt;dbl&gt; | AIC &lt;dbl&gt; | AICc &lt;dbl&gt; | BIC &lt;dbl&gt; | dof &lt;int&gt; |\n|---|---|---|---|---|---|\n| AR(GDPC1 ~ order(1) + CLAIMSx_lag1 + CLAIMSx_lag2 + CLAIMSx_lag3 + \n    CLAIMSx_lag4 + ANDENOx_lag1 + ANDENOx_lag2 + GS10TB3Mx_lag1 + \n    GS10TB3Mx_lag2 + UMCSENTx_lag1 + UMCSENTx_lag2 + UMCSENTx_lag3 + \n    UMCSENTx_lag4) | 11.68745 | -80.96372 | -78.86372 | -33.77479 | 201 |\n\n",
            "text/latex": "A tibble: 1 × 6\n\\begin{tabular}{llllll}\n .model & sigma2 & AIC & AICc & BIC & dof\\\\\n <chr> & <dbl> & <dbl> & <dbl> & <dbl> & <int>\\\\\n\\hline\n\t AR(GDPC1 \\textasciitilde{} order(1) + CLAIMSx\\_lag1 + CLAIMSx\\_lag2 + CLAIMSx\\_lag3 + \n    CLAIMSx\\_lag4 + ANDENOx\\_lag1 + ANDENOx\\_lag2 + GS10TB3Mx\\_lag1 + \n    GS10TB3Mx\\_lag2 + UMCSENTx\\_lag1 + UMCSENTx\\_lag2 + UMCSENTx\\_lag3 + \n    UMCSENTx\\_lag4) & 11.68745 & -80.96372 & -78.86372 & -33.77479 & 201\\\\\n\\end{tabular}\n",
            "text/plain": [
              "  .model                                                                                                                                                                                                                            \n",
              "1 AR(GDPC1 ~ order(1) + CLAIMSx_lag1 + CLAIMSx_lag2 + CLAIMSx_lag3 + \\n    CLAIMSx_lag4 + ANDENOx_lag1 + ANDENOx_lag2 + GS10TB3Mx_lag1 + \\n    GS10TB3Mx_lag2 + UMCSENTx_lag1 + UMCSENTx_lag2 + UMCSENTx_lag3 + \\n    UMCSENTx_lag4)\n",
              "  sigma2   AIC       AICc      BIC       dof\n",
              "1 11.68745 -80.96372 -78.86372 -33.77479 201"
            ]
          },
          "metadata": {}
        },
        {
          "output_type": "display_data",
          "data": {
            "text/html": [
              "<table class=\"dataframe\">\n",
              "<caption>A tibble: 1 × 10</caption>\n",
              "<thead>\n",
              "\t<tr><th scope=col>.model</th><th scope=col>.type</th><th scope=col>ME</th><th scope=col>RMSE</th><th scope=col>MAE</th><th scope=col>MPE</th><th scope=col>MAPE</th><th scope=col>MASE</th><th scope=col>RMSSE</th><th scope=col>ACF1</th></tr>\n",
              "\t<tr><th scope=col>&lt;chr&gt;</th><th scope=col>&lt;chr&gt;</th><th scope=col>&lt;dbl&gt;</th><th scope=col>&lt;dbl&gt;</th><th scope=col>&lt;dbl&gt;</th><th scope=col>&lt;dbl&gt;</th><th scope=col>&lt;dbl&gt;</th><th scope=col>&lt;dbl&gt;</th><th scope=col>&lt;dbl&gt;</th><th scope=col>&lt;dbl&gt;</th></tr>\n",
              "</thead>\n",
              "<tbody>\n",
              "\t<tr><td>AR(GDPC1 ~ order(1) + CLAIMSx_lag1 + CLAIMSx_lag2 + CLAIMSx_lag3 + \n",
              "    CLAIMSx_lag4 + ANDENOx_lag1 + ANDENOx_lag2 + GS10TB3Mx_lag1 + \n",
              "    GS10TB3Mx_lag2 + UMCSENTx_lag1 + UMCSENTx_lag2 + UMCSENTx_lag3 + \n",
              "    UMCSENTx_lag4)</td><td>Test</td><td>1.00991</td><td>1.569894</td><td>1.420098</td><td>30.86572</td><td>43.9194</td><td>0.3792432</td><td>0.2525554</td><td>-0.5208495</td></tr>\n",
              "</tbody>\n",
              "</table>\n"
            ],
            "text/markdown": "\nA tibble: 1 × 10\n\n| .model &lt;chr&gt; | .type &lt;chr&gt; | ME &lt;dbl&gt; | RMSE &lt;dbl&gt; | MAE &lt;dbl&gt; | MPE &lt;dbl&gt; | MAPE &lt;dbl&gt; | MASE &lt;dbl&gt; | RMSSE &lt;dbl&gt; | ACF1 &lt;dbl&gt; |\n|---|---|---|---|---|---|---|---|---|---|\n| AR(GDPC1 ~ order(1) + CLAIMSx_lag1 + CLAIMSx_lag2 + CLAIMSx_lag3 + \n    CLAIMSx_lag4 + ANDENOx_lag1 + ANDENOx_lag2 + GS10TB3Mx_lag1 + \n    GS10TB3Mx_lag2 + UMCSENTx_lag1 + UMCSENTx_lag2 + UMCSENTx_lag3 + \n    UMCSENTx_lag4) | Test | 1.00991 | 1.569894 | 1.420098 | 30.86572 | 43.9194 | 0.3792432 | 0.2525554 | -0.5208495 |\n\n",
            "text/latex": "A tibble: 1 × 10\n\\begin{tabular}{llllllllll}\n .model & .type & ME & RMSE & MAE & MPE & MAPE & MASE & RMSSE & ACF1\\\\\n <chr> & <chr> & <dbl> & <dbl> & <dbl> & <dbl> & <dbl> & <dbl> & <dbl> & <dbl>\\\\\n\\hline\n\t AR(GDPC1 \\textasciitilde{} order(1) + CLAIMSx\\_lag1 + CLAIMSx\\_lag2 + CLAIMSx\\_lag3 + \n    CLAIMSx\\_lag4 + ANDENOx\\_lag1 + ANDENOx\\_lag2 + GS10TB3Mx\\_lag1 + \n    GS10TB3Mx\\_lag2 + UMCSENTx\\_lag1 + UMCSENTx\\_lag2 + UMCSENTx\\_lag3 + \n    UMCSENTx\\_lag4) & Test & 1.00991 & 1.569894 & 1.420098 & 30.86572 & 43.9194 & 0.3792432 & 0.2525554 & -0.5208495\\\\\n\\end{tabular}\n",
            "text/plain": [
              "  .model                                                                                                                                                                                                                            \n",
              "1 AR(GDPC1 ~ order(1) + CLAIMSx_lag1 + CLAIMSx_lag2 + CLAIMSx_lag3 + \\n    CLAIMSx_lag4 + ANDENOx_lag1 + ANDENOx_lag2 + GS10TB3Mx_lag1 + \\n    GS10TB3Mx_lag2 + UMCSENTx_lag1 + UMCSENTx_lag2 + UMCSENTx_lag3 + \\n    UMCSENTx_lag4)\n",
              "  .type ME      RMSE     MAE      MPE      MAPE    MASE      RMSSE    \n",
              "1 Test  1.00991 1.569894 1.420098 30.86572 43.9194 0.3792432 0.2525554\n",
              "  ACF1      \n",
              "1 -0.5208495"
            ]
          },
          "metadata": {}
        }
      ]
    },
    {
      "cell_type": "markdown",
      "source": [],
      "metadata": {
        "id": "HJgWo7p-GYjp"
      }
    },
    {
      "cell_type": "code",
      "source": [
        "arima <- transformed[1:215,] %>%\n",
        "  model(ARIMA (GDPC1 ~ pdq() + CLAIMSx_lag1 + CLAIMSx_lag2 + CLAIMSx_lag3 + CLAIMSx_lag4 + ANDENOx_lag1 + ANDENOx_lag2 + GS10TB3Mx_lag1 + GS10TB3Mx_lag2 + UMCSENTx_lag1 + UMCSENTx_lag2 + UMCSENTx_lag3 + UMCSENTx_lag4, ic='aic'))\n",
        "\n",
        "arima %>%\n",
        "  fabletools::forecast(new_data=transformed[216:219,]) %>%\n",
        "  accuracy(transformed)\n"
      ],
      "metadata": {
        "id": "Q4rOuITNIEGJ",
        "outputId": "716bafce-be6b-4ba5-d7e5-51025207137e",
        "colab": {
          "base_uri": "https://localhost:8080/",
          "height": 164
        }
      },
      "execution_count": 25,
      "outputs": [
        {
          "output_type": "display_data",
          "data": {
            "text/html": [
              "<table class=\"dataframe\">\n",
              "<caption>A tibble: 1 × 10</caption>\n",
              "<thead>\n",
              "\t<tr><th scope=col>.model</th><th scope=col>.type</th><th scope=col>ME</th><th scope=col>RMSE</th><th scope=col>MAE</th><th scope=col>MPE</th><th scope=col>MAPE</th><th scope=col>MASE</th><th scope=col>RMSSE</th><th scope=col>ACF1</th></tr>\n",
              "\t<tr><th scope=col>&lt;chr&gt;</th><th scope=col>&lt;chr&gt;</th><th scope=col>&lt;dbl&gt;</th><th scope=col>&lt;dbl&gt;</th><th scope=col>&lt;dbl&gt;</th><th scope=col>&lt;dbl&gt;</th><th scope=col>&lt;dbl&gt;</th><th scope=col>&lt;dbl&gt;</th><th scope=col>&lt;dbl&gt;</th><th scope=col>&lt;dbl&gt;</th></tr>\n",
              "</thead>\n",
              "<tbody>\n",
              "\t<tr><td>ARIMA(GDPC1 ~ pdq() + CLAIMSx_lag1 + CLAIMSx_lag2 + CLAIMSx_lag3 + \n",
              "    CLAIMSx_lag4 + ANDENOx_lag1 + ANDENOx_lag2 + GS10TB3Mx_lag1 + \n",
              "    GS10TB3Mx_lag2 + UMCSENTx_lag1 + UMCSENTx_lag2 + UMCSENTx_lag3 + \n",
              "    UMCSENTx_lag4, ic = \"aic\")</td><td>Test</td><td>1.306166</td><td>2.082307</td><td>1.741416</td><td>37.8729</td><td>51.72417</td><td>0.4650526</td><td>0.3349894</td><td>-0.6464103</td></tr>\n",
              "</tbody>\n",
              "</table>\n"
            ],
            "text/markdown": "\nA tibble: 1 × 10\n\n| .model &lt;chr&gt; | .type &lt;chr&gt; | ME &lt;dbl&gt; | RMSE &lt;dbl&gt; | MAE &lt;dbl&gt; | MPE &lt;dbl&gt; | MAPE &lt;dbl&gt; | MASE &lt;dbl&gt; | RMSSE &lt;dbl&gt; | ACF1 &lt;dbl&gt; |\n|---|---|---|---|---|---|---|---|---|---|\n| ARIMA(GDPC1 ~ pdq() + CLAIMSx_lag1 + CLAIMSx_lag2 + CLAIMSx_lag3 + \n    CLAIMSx_lag4 + ANDENOx_lag1 + ANDENOx_lag2 + GS10TB3Mx_lag1 + \n    GS10TB3Mx_lag2 + UMCSENTx_lag1 + UMCSENTx_lag2 + UMCSENTx_lag3 + \n    UMCSENTx_lag4, ic = \"aic\") | Test | 1.306166 | 2.082307 | 1.741416 | 37.8729 | 51.72417 | 0.4650526 | 0.3349894 | -0.6464103 |\n\n",
            "text/latex": "A tibble: 1 × 10\n\\begin{tabular}{llllllllll}\n .model & .type & ME & RMSE & MAE & MPE & MAPE & MASE & RMSSE & ACF1\\\\\n <chr> & <chr> & <dbl> & <dbl> & <dbl> & <dbl> & <dbl> & <dbl> & <dbl> & <dbl>\\\\\n\\hline\n\t ARIMA(GDPC1 \\textasciitilde{} pdq() + CLAIMSx\\_lag1 + CLAIMSx\\_lag2 + CLAIMSx\\_lag3 + \n    CLAIMSx\\_lag4 + ANDENOx\\_lag1 + ANDENOx\\_lag2 + GS10TB3Mx\\_lag1 + \n    GS10TB3Mx\\_lag2 + UMCSENTx\\_lag1 + UMCSENTx\\_lag2 + UMCSENTx\\_lag3 + \n    UMCSENTx\\_lag4, ic = \"aic\") & Test & 1.306166 & 2.082307 & 1.741416 & 37.8729 & 51.72417 & 0.4650526 & 0.3349894 & -0.6464103\\\\\n\\end{tabular}\n",
            "text/plain": [
              "  .model                                                                                                                                                                                                                                        \n",
              "1 ARIMA(GDPC1 ~ pdq() + CLAIMSx_lag1 + CLAIMSx_lag2 + CLAIMSx_lag3 + \\n    CLAIMSx_lag4 + ANDENOx_lag1 + ANDENOx_lag2 + GS10TB3Mx_lag1 + \\n    GS10TB3Mx_lag2 + UMCSENTx_lag1 + UMCSENTx_lag2 + UMCSENTx_lag3 + \\n    UMCSENTx_lag4, ic = \"aic\")\n",
              "  .type ME       RMSE     MAE      MPE     MAPE     MASE      RMSSE    \n",
              "1 Test  1.306166 2.082307 1.741416 37.8729 51.72417 0.4650526 0.3349894\n",
              "  ACF1      \n",
              "1 -0.6464103"
            ]
          },
          "metadata": {}
        }
      ]
    },
    {
      "cell_type": "code",
      "source": [
        "var <- transformed[1:215,] %>%\n",
        "  model(var1 = VAR(vars(GDPC1, CLAIMSx, UMCSENTx, GS10TB3Mx, ANDENOx) ~ AR(1)),\n",
        "        var2 = VAR(vars(GDPC1, CLAIMSx, UMCSENTx, GS10TB3Mx, ANDENOx) ~ AR(2)),\n",
        "        var3 = VAR(vars(GDPC1, CLAIMSx, UMCSENTx, GS10TB3Mx, ANDENOx) ~ AR(3)),\n",
        "        var4 = VAR(vars(GDPC1, CLAIMSx, UMCSENTx, GS10TB3Mx, ANDENOx) ~ AR(4)))\n",
        "\n",
        "\n",
        "for (i in 1:4){\n",
        "   print(sprintf(\"AIC of VAR %s is %s\", i, var[[i]][[1]][[\"fit\"]][[\"fit\"]][[\"AIC\"]]))\n",
        "}\n",
        "\n",
        "var %>%\n",
        "  fabletools::forecast(new_data=transformed[216:219,]) %>%\n",
        "  accuracy(transformed) %>%\n",
        "  filter(.response == 'GDPC1') %>%\n",
        "  arrange(RMSE)\n"
      ],
      "metadata": {
        "id": "Hm3QkmJAIxzo",
        "outputId": "15d0c5d2-5c98-430e-fc26-22c469d8f209",
        "colab": {
          "base_uri": "https://localhost:8080/",
          "height": 294
        }
      },
      "execution_count": 39,
      "outputs": [
        {
          "output_type": "stream",
          "name": "stdout",
          "text": [
            "[1] \"AIC of VAR 1 is 5928.44235391567\"\n",
            "[1] \"AIC of VAR 2 is 5847.34857094617\"\n",
            "[1] \"AIC of VAR 3 is 5853.57678037953\"\n",
            "[1] \"AIC of VAR 4 is 5826.9000853482\"\n"
          ]
        },
        {
          "output_type": "display_data",
          "data": {
            "text/html": [
              "<table class=\"dataframe\">\n",
              "<caption>A tibble: 4 × 11</caption>\n",
              "<thead>\n",
              "\t<tr><th scope=col>.model</th><th scope=col>.response</th><th scope=col>.type</th><th scope=col>ME</th><th scope=col>RMSE</th><th scope=col>MAE</th><th scope=col>MPE</th><th scope=col>MAPE</th><th scope=col>MASE</th><th scope=col>RMSSE</th><th scope=col>ACF1</th></tr>\n",
              "\t<tr><th scope=col>&lt;chr&gt;</th><th scope=col>&lt;chr&gt;</th><th scope=col>&lt;chr&gt;</th><th scope=col>&lt;dbl&gt;</th><th scope=col>&lt;dbl&gt;</th><th scope=col>&lt;dbl&gt;</th><th scope=col>&lt;dbl&gt;</th><th scope=col>&lt;dbl&gt;</th><th scope=col>&lt;dbl&gt;</th><th scope=col>&lt;dbl&gt;</th><th scope=col>&lt;dbl&gt;</th></tr>\n",
              "</thead>\n",
              "<tbody>\n",
              "\t<tr><td>var1</td><td>GDPC1</td><td>Test</td><td>1.548758</td><td>1.674906</td><td>1.548758</td><td>47.56132</td><td>47.56132</td><td>0.4136022</td><td>0.2694491</td><td>-0.30773978</td></tr>\n",
              "\t<tr><td>var2</td><td>GDPC1</td><td>Test</td><td>1.642458</td><td>1.852914</td><td>1.642458</td><td>49.96256</td><td>49.96256</td><td>0.4386253</td><td>0.2980860</td><td>-0.03717379</td></tr>\n",
              "\t<tr><td>var3</td><td>GDPC1</td><td>Test</td><td>2.127077</td><td>2.242014</td><td>2.127077</td><td>67.70228</td><td>67.70228</td><td>0.5680449</td><td>0.3606822</td><td>-0.03163843</td></tr>\n",
              "\t<tr><td>var4</td><td>GDPC1</td><td>Test</td><td>2.699485</td><td>2.794232</td><td>2.699485</td><td>85.00987</td><td>85.00987</td><td>0.7209088</td><td>0.4495199</td><td>-0.43835207</td></tr>\n",
              "</tbody>\n",
              "</table>\n"
            ],
            "text/markdown": "\nA tibble: 4 × 11\n\n| .model &lt;chr&gt; | .response &lt;chr&gt; | .type &lt;chr&gt; | ME &lt;dbl&gt; | RMSE &lt;dbl&gt; | MAE &lt;dbl&gt; | MPE &lt;dbl&gt; | MAPE &lt;dbl&gt; | MASE &lt;dbl&gt; | RMSSE &lt;dbl&gt; | ACF1 &lt;dbl&gt; |\n|---|---|---|---|---|---|---|---|---|---|---|\n| var1 | GDPC1 | Test | 1.548758 | 1.674906 | 1.548758 | 47.56132 | 47.56132 | 0.4136022 | 0.2694491 | -0.30773978 |\n| var2 | GDPC1 | Test | 1.642458 | 1.852914 | 1.642458 | 49.96256 | 49.96256 | 0.4386253 | 0.2980860 | -0.03717379 |\n| var3 | GDPC1 | Test | 2.127077 | 2.242014 | 2.127077 | 67.70228 | 67.70228 | 0.5680449 | 0.3606822 | -0.03163843 |\n| var4 | GDPC1 | Test | 2.699485 | 2.794232 | 2.699485 | 85.00987 | 85.00987 | 0.7209088 | 0.4495199 | -0.43835207 |\n\n",
            "text/latex": "A tibble: 4 × 11\n\\begin{tabular}{lllllllllll}\n .model & .response & .type & ME & RMSE & MAE & MPE & MAPE & MASE & RMSSE & ACF1\\\\\n <chr> & <chr> & <chr> & <dbl> & <dbl> & <dbl> & <dbl> & <dbl> & <dbl> & <dbl> & <dbl>\\\\\n\\hline\n\t var1 & GDPC1 & Test & 1.548758 & 1.674906 & 1.548758 & 47.56132 & 47.56132 & 0.4136022 & 0.2694491 & -0.30773978\\\\\n\t var2 & GDPC1 & Test & 1.642458 & 1.852914 & 1.642458 & 49.96256 & 49.96256 & 0.4386253 & 0.2980860 & -0.03717379\\\\\n\t var3 & GDPC1 & Test & 2.127077 & 2.242014 & 2.127077 & 67.70228 & 67.70228 & 0.5680449 & 0.3606822 & -0.03163843\\\\\n\t var4 & GDPC1 & Test & 2.699485 & 2.794232 & 2.699485 & 85.00987 & 85.00987 & 0.7209088 & 0.4495199 & -0.43835207\\\\\n\\end{tabular}\n",
            "text/plain": [
              "  .model .response .type ME       RMSE     MAE      MPE      MAPE     MASE     \n",
              "1 var1   GDPC1     Test  1.548758 1.674906 1.548758 47.56132 47.56132 0.4136022\n",
              "2 var2   GDPC1     Test  1.642458 1.852914 1.642458 49.96256 49.96256 0.4386253\n",
              "3 var3   GDPC1     Test  2.127077 2.242014 2.127077 67.70228 67.70228 0.5680449\n",
              "4 var4   GDPC1     Test  2.699485 2.794232 2.699485 85.00987 85.00987 0.7209088\n",
              "  RMSSE     ACF1       \n",
              "1 0.2694491 -0.30773978\n",
              "2 0.2980860 -0.03717379\n",
              "3 0.3606822 -0.03163843\n",
              "4 0.4495199 -0.43835207"
            ]
          },
          "metadata": {}
        }
      ]
    },
    {
      "cell_type": "markdown",
      "source": [
        "## Forecasting"
      ],
      "metadata": {
        "id": "Z7xhou0VKlax"
      }
    },
    {
      "cell_type": "code",
      "source": [
        "## Q1 2024"
      ],
      "metadata": {
        "id": "jGg6hPEcKpFC"
      },
      "execution_count": null,
      "outputs": []
    }
  ],
  "metadata": {
    "kernelspec": {
      "display_name": "R",
      "name": "ir"
    },
    "language_info": {
      "name": "R"
    },
    "colab": {
      "provenance": []
    }
  },
  "nbformat": 4,
  "nbformat_minor": 0
}