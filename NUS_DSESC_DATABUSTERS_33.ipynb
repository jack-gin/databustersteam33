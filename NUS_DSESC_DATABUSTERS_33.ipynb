{
  "cells": [
    {
      "cell_type": "markdown",
      "metadata": {
        "id": "Ac7I8Cn1uCXl"
      },
      "source": [
        "## 1) Libraries Installation\n",
        "##### The cell below is to help you keep track the libraries used and install them quickly.\n",
        "##### Ensure the correct library names are used, and follow the syntax: **%pip install PACKAGE_NAME**."
      ]
    },
    {
      "cell_type": "code",
      "execution_count": 44,
      "metadata": {
        "id": "a4GYYh8ruCXl",
        "outputId": "27d56e55-34c1-4c26-9f2e-1c339f37ce47",
        "colab": {
          "base_uri": "https://localhost:8080/"
        }
      },
      "outputs": [
        {
          "output_type": "stream",
          "name": "stderr",
          "text": [
            "Installing package into ‘/usr/local/lib/R/site-library’\n",
            "(as ‘lib’ is unspecified)\n",
            "\n",
            "also installing the dependencies ‘xts’, ‘TTR’, ‘zoo’, ‘quantmod’\n",
            "\n",
            "\n",
            "Registered S3 method overwritten by 'quantmod':\n",
            "  method            from\n",
            "  as.zoo.data.frame zoo \n",
            "\n"
          ]
        }
      ],
      "source": [
        "#install.packages('tsibble')\n",
        "#install.packages('fable')\n",
        "#install.packages('fabletools')\n",
        "#install.packages('BVAR')\n",
        "#install.packages('feasts')\n",
        "#install.packages(\"urca\")\n",
        "#install.packages('tseries')\n",
        "library(tidyverse)\n",
        "library(tsibble)\n",
        "library(fable)\n",
        "library(fabletools)\n",
        "library(stats)\n",
        "library(BVAR)\n",
        "library(feasts)\n",
        "library(urca)\n",
        "library(tseries)"
      ]
    },
    {
      "cell_type": "markdown",
      "metadata": {
        "id": "0dW6s07OuCXm"
      },
      "source": [
        "## 2) Main Section for Code\n",
        "### Preparing dataset for analysis and applying the relevant stationarity-inducing transformations to the variables."
      ]
    },
    {
      "cell_type": "code",
      "execution_count": 5,
      "metadata": {
        "id": "EyoqPn4nuCXm"
      },
      "outputs": [],
      "source": [
        "data = read.csv(\"https://raw.githubusercontent.com/dsesc-acads/Databusters/refs/heads/main/Quarterly%20Data.csv\")\n",
        "data = data[-c(1:38),]\n",
        "data <- data %>%\n",
        "  dplyr::select('sasdate', \"GDPC1\", 'GS10TB3Mx', 'CLAIMSx', 'ANDENOx', 'UMCSENTx', 'HOUST') %>%\n",
        "  mutate(sasdate = yearquarter(sasdate))\n",
        "transformed <- fred_transform(data[,-1], type=c('fred_qd'), codes=c(5,1,5,5,2,5))\n",
        "transformed <- cbind(data$sasdate[-1], transformed) %>%\n",
        "  rename(date = 'data$sasdate[-1]') %>%\n",
        "  mutate(GDPC1 = 4 * GDPC1) %>%\n",
        "  as_tsibble(index=date)\n",
        "\n",
        "transformed <- transformed %>%\n",
        "  mutate(across(c(GS10TB3Mx, CLAIMSx, ANDENOx, UMCSENTx, GDPC1, HOUST),\n",
        "                 list(lag1 = ~ lag(., 1), lag2 = ~ lag(., 2),lag3 = ~ lag(., 3), lag4 = ~ lag(., 4)),\n",
        "                 .names = \"{col}_{fn}\"))\n",
        "\n",
        "transformed <- transformed[-c(1:4),]"
      ]
    },
    {
      "cell_type": "markdown",
      "source": [],
      "metadata": {
        "id": "APvUzedjSqxq"
      }
    },
    {
      "cell_type": "markdown",
      "source": [
        "ADF test to check for stationarity"
      ],
      "metadata": {
        "id": "uOOk3elUSsdR"
      }
    },
    {
      "cell_type": "code",
      "source": [
        "adf.test(transformed$GDPC1)\n",
        "adf.test(transformed$GS10TB3Mx)\n",
        "adf.test(transformed$CLAIMSx)\n",
        "adf.test(transformed$ANDENOx)\n",
        "adf.test(transformed$UMCSENTx)\n",
        "adf.test(transformed$HOUST)\n"
      ],
      "metadata": {
        "id": "7xyR2DwsR-q2",
        "outputId": "8b43ace9-19e9-4601-864c-890c5117403f",
        "colab": {
          "base_uri": "https://localhost:8080/",
          "height": 839
        }
      },
      "execution_count": 48,
      "outputs": [
        {
          "output_type": "stream",
          "name": "stderr",
          "text": [
            "Warning message in adf.test(transformed$GDPC1):\n",
            "“p-value smaller than printed p-value”\n"
          ]
        },
        {
          "output_type": "display_data",
          "data": {
            "text/plain": [
              "\n",
              "\tAugmented Dickey-Fuller Test\n",
              "\n",
              "data:  transformed$GDPC1\n",
              "Dickey-Fuller = -6.0771, Lag order = 6, p-value = 0.01\n",
              "alternative hypothesis: stationary\n"
            ]
          },
          "metadata": {}
        },
        {
          "output_type": "display_data",
          "data": {
            "text/plain": [
              "\n",
              "\tAugmented Dickey-Fuller Test\n",
              "\n",
              "data:  transformed$GS10TB3Mx\n",
              "Dickey-Fuller = -3.7879, Lag order = 6, p-value = 0.02052\n",
              "alternative hypothesis: stationary\n"
            ]
          },
          "metadata": {}
        },
        {
          "output_type": "stream",
          "name": "stderr",
          "text": [
            "Warning message in adf.test(transformed$CLAIMSx):\n",
            "“p-value smaller than printed p-value”\n"
          ]
        },
        {
          "output_type": "display_data",
          "data": {
            "text/plain": [
              "\n",
              "\tAugmented Dickey-Fuller Test\n",
              "\n",
              "data:  transformed$CLAIMSx\n",
              "Dickey-Fuller = -7.3545, Lag order = 6, p-value = 0.01\n",
              "alternative hypothesis: stationary\n"
            ]
          },
          "metadata": {}
        },
        {
          "output_type": "stream",
          "name": "stderr",
          "text": [
            "Warning message in adf.test(transformed$ANDENOx):\n",
            "“p-value smaller than printed p-value”\n"
          ]
        },
        {
          "output_type": "display_data",
          "data": {
            "text/plain": [
              "\n",
              "\tAugmented Dickey-Fuller Test\n",
              "\n",
              "data:  transformed$ANDENOx\n",
              "Dickey-Fuller = -5.9177, Lag order = 6, p-value = 0.01\n",
              "alternative hypothesis: stationary\n"
            ]
          },
          "metadata": {}
        },
        {
          "output_type": "stream",
          "name": "stderr",
          "text": [
            "Warning message in adf.test(transformed$UMCSENTx):\n",
            "“p-value smaller than printed p-value”\n"
          ]
        },
        {
          "output_type": "display_data",
          "data": {
            "text/plain": [
              "\n",
              "\tAugmented Dickey-Fuller Test\n",
              "\n",
              "data:  transformed$UMCSENTx\n",
              "Dickey-Fuller = -6.1678, Lag order = 6, p-value = 0.01\n",
              "alternative hypothesis: stationary\n"
            ]
          },
          "metadata": {}
        },
        {
          "output_type": "stream",
          "name": "stderr",
          "text": [
            "Warning message in adf.test(transformed$HOUST):\n",
            "“p-value smaller than printed p-value”\n"
          ]
        },
        {
          "output_type": "display_data",
          "data": {
            "text/plain": [
              "\n",
              "\tAugmented Dickey-Fuller Test\n",
              "\n",
              "data:  transformed$HOUST\n",
              "Dickey-Fuller = -4.9351, Lag order = 6, p-value = 0.01\n",
              "alternative hypothesis: stationary\n"
            ]
          },
          "metadata": {}
        }
      ]
    },
    {
      "cell_type": "markdown",
      "source": [
        "## 3) AR Lag Selection\n",
        "### Preparing dataset for analysis and applying the relevant stationarity-inducing transformations to the variables."
      ],
      "metadata": {
        "id": "dIPTy75jFRk7"
      }
    },
    {
      "cell_type": "code",
      "source": [
        "ar_lags <- transformed[1:215,] %>%\n",
        "  model(ar1 = AR(GDPC1 ~ order(1)),\n",
        "        ar2 = AR(GDPC1 ~ order(2)),\n",
        "        ar3 = AR(GDPC1 ~ order(3)),\n",
        "        ar4 = AR(GDPC1 ~ order(4)))\n",
        "\n",
        "glance(ar_lags) %>%\n",
        "  arrange(AIC)\n",
        "\n",
        "ar_lags %>%\n",
        "  fabletools::forecast(new_data=transformed[216:219,]) %>%\n",
        "  accuracy(transformed)"
      ],
      "metadata": {
        "colab": {
          "base_uri": "https://localhost:8080/",
          "height": 430
        },
        "id": "66LPc-vLFayT",
        "outputId": "0d832c45-c96d-40f5-d536-de90b77af34d"
      },
      "execution_count": 35,
      "outputs": [
        {
          "output_type": "display_data",
          "data": {
            "text/html": [
              "<table class=\"dataframe\">\n",
              "<caption>A tibble: 4 × 6</caption>\n",
              "<thead>\n",
              "\t<tr><th scope=col>.model</th><th scope=col>sigma2</th><th scope=col>AIC</th><th scope=col>AICc</th><th scope=col>BIC</th><th scope=col>dof</th></tr>\n",
              "\t<tr><th scope=col>&lt;chr&gt;</th><th scope=col>&lt;dbl&gt;</th><th scope=col>&lt;dbl&gt;</th><th scope=col>&lt;dbl&gt;</th><th scope=col>&lt;dbl&gt;</th><th scope=col>&lt;int&gt;</th></tr>\n",
              "</thead>\n",
              "<tbody>\n",
              "\t<tr><td>ar1</td><td>19.39081</td><td> 3.887315</td><td> 3.943918</td><td>10.62859</td><td>213</td></tr>\n",
              "\t<tr><td>ar2</td><td>19.41131</td><td> 6.114516</td><td> 6.228260</td><td>16.22643</td><td>212</td></tr>\n",
              "\t<tr><td>ar3</td><td>19.38513</td><td> 7.824285</td><td> 8.014761</td><td>21.30684</td><td>211</td></tr>\n",
              "\t<tr><td>ar4</td><td>19.42438</td><td>10.259214</td><td>10.546295</td><td>27.11240</td><td>210</td></tr>\n",
              "</tbody>\n",
              "</table>\n"
            ],
            "text/markdown": "\nA tibble: 4 × 6\n\n| .model &lt;chr&gt; | sigma2 &lt;dbl&gt; | AIC &lt;dbl&gt; | AICc &lt;dbl&gt; | BIC &lt;dbl&gt; | dof &lt;int&gt; |\n|---|---|---|---|---|---|\n| ar1 | 19.39081 |  3.887315 |  3.943918 | 10.62859 | 213 |\n| ar2 | 19.41131 |  6.114516 |  6.228260 | 16.22643 | 212 |\n| ar3 | 19.38513 |  7.824285 |  8.014761 | 21.30684 | 211 |\n| ar4 | 19.42438 | 10.259214 | 10.546295 | 27.11240 | 210 |\n\n",
            "text/latex": "A tibble: 4 × 6\n\\begin{tabular}{llllll}\n .model & sigma2 & AIC & AICc & BIC & dof\\\\\n <chr> & <dbl> & <dbl> & <dbl> & <dbl> & <int>\\\\\n\\hline\n\t ar1 & 19.39081 &  3.887315 &  3.943918 & 10.62859 & 213\\\\\n\t ar2 & 19.41131 &  6.114516 &  6.228260 & 16.22643 & 212\\\\\n\t ar3 & 19.38513 &  7.824285 &  8.014761 & 21.30684 & 211\\\\\n\t ar4 & 19.42438 & 10.259214 & 10.546295 & 27.11240 & 210\\\\\n\\end{tabular}\n",
            "text/plain": [
              "  .model sigma2   AIC       AICc      BIC      dof\n",
              "1 ar1    19.39081  3.887315  3.943918 10.62859 213\n",
              "2 ar2    19.41131  6.114516  6.228260 16.22643 212\n",
              "3 ar3    19.38513  7.824285  8.014761 21.30684 211\n",
              "4 ar4    19.42438 10.259214 10.546295 27.11240 210"
            ]
          },
          "metadata": {}
        },
        {
          "output_type": "display_data",
          "data": {
            "text/html": [
              "<table class=\"dataframe\">\n",
              "<caption>A tibble: 4 × 10</caption>\n",
              "<thead>\n",
              "\t<tr><th scope=col>.model</th><th scope=col>.type</th><th scope=col>ME</th><th scope=col>RMSE</th><th scope=col>MAE</th><th scope=col>MPE</th><th scope=col>MAPE</th><th scope=col>MASE</th><th scope=col>RMSSE</th><th scope=col>ACF1</th></tr>\n",
              "\t<tr><th scope=col>&lt;chr&gt;</th><th scope=col>&lt;chr&gt;</th><th scope=col>&lt;dbl&gt;</th><th scope=col>&lt;dbl&gt;</th><th scope=col>&lt;dbl&gt;</th><th scope=col>&lt;dbl&gt;</th><th scope=col>&lt;dbl&gt;</th><th scope=col>&lt;dbl&gt;</th><th scope=col>&lt;dbl&gt;</th><th scope=col>&lt;dbl&gt;</th></tr>\n",
              "</thead>\n",
              "<tbody>\n",
              "\t<tr><td>ar1</td><td>Test</td><td>0.4649493</td><td>0.8348992</td><td>0.5954848</td><td>10.95524</td><td>16.34803</td><td>0.1590267</td><td>0.1343137</td><td>-0.2781114</td></tr>\n",
              "\t<tr><td>ar2</td><td>Test</td><td>0.4542497</td><td>0.8372748</td><td>0.6037337</td><td>10.52520</td><td>16.70080</td><td>0.1612296</td><td>0.1346959</td><td>-0.2835602</td></tr>\n",
              "\t<tr><td>ar3</td><td>Test</td><td>0.4484738</td><td>0.8205455</td><td>0.6083450</td><td>10.43221</td><td>17.03695</td><td>0.1624611</td><td>0.1320046</td><td>-0.3238528</td></tr>\n",
              "\t<tr><td>ar4</td><td>Test</td><td>0.4454774</td><td>0.8117210</td><td>0.6028504</td><td>10.39569</td><td>16.89720</td><td>0.1609937</td><td>0.1305850</td><td>-0.3419946</td></tr>\n",
              "</tbody>\n",
              "</table>\n"
            ],
            "text/markdown": "\nA tibble: 4 × 10\n\n| .model &lt;chr&gt; | .type &lt;chr&gt; | ME &lt;dbl&gt; | RMSE &lt;dbl&gt; | MAE &lt;dbl&gt; | MPE &lt;dbl&gt; | MAPE &lt;dbl&gt; | MASE &lt;dbl&gt; | RMSSE &lt;dbl&gt; | ACF1 &lt;dbl&gt; |\n|---|---|---|---|---|---|---|---|---|---|\n| ar1 | Test | 0.4649493 | 0.8348992 | 0.5954848 | 10.95524 | 16.34803 | 0.1590267 | 0.1343137 | -0.2781114 |\n| ar2 | Test | 0.4542497 | 0.8372748 | 0.6037337 | 10.52520 | 16.70080 | 0.1612296 | 0.1346959 | -0.2835602 |\n| ar3 | Test | 0.4484738 | 0.8205455 | 0.6083450 | 10.43221 | 17.03695 | 0.1624611 | 0.1320046 | -0.3238528 |\n| ar4 | Test | 0.4454774 | 0.8117210 | 0.6028504 | 10.39569 | 16.89720 | 0.1609937 | 0.1305850 | -0.3419946 |\n\n",
            "text/latex": "A tibble: 4 × 10\n\\begin{tabular}{llllllllll}\n .model & .type & ME & RMSE & MAE & MPE & MAPE & MASE & RMSSE & ACF1\\\\\n <chr> & <chr> & <dbl> & <dbl> & <dbl> & <dbl> & <dbl> & <dbl> & <dbl> & <dbl>\\\\\n\\hline\n\t ar1 & Test & 0.4649493 & 0.8348992 & 0.5954848 & 10.95524 & 16.34803 & 0.1590267 & 0.1343137 & -0.2781114\\\\\n\t ar2 & Test & 0.4542497 & 0.8372748 & 0.6037337 & 10.52520 & 16.70080 & 0.1612296 & 0.1346959 & -0.2835602\\\\\n\t ar3 & Test & 0.4484738 & 0.8205455 & 0.6083450 & 10.43221 & 17.03695 & 0.1624611 & 0.1320046 & -0.3238528\\\\\n\t ar4 & Test & 0.4454774 & 0.8117210 & 0.6028504 & 10.39569 & 16.89720 & 0.1609937 & 0.1305850 & -0.3419946\\\\\n\\end{tabular}\n",
            "text/plain": [
              "  .model .type ME        RMSE      MAE       MPE      MAPE     MASE     \n",
              "1 ar1    Test  0.4649493 0.8348992 0.5954848 10.95524 16.34803 0.1590267\n",
              "2 ar2    Test  0.4542497 0.8372748 0.6037337 10.52520 16.70080 0.1612296\n",
              "3 ar3    Test  0.4484738 0.8205455 0.6083450 10.43221 17.03695 0.1624611\n",
              "4 ar4    Test  0.4454774 0.8117210 0.6028504 10.39569 16.89720 0.1609937\n",
              "  RMSSE     ACF1      \n",
              "1 0.1343137 -0.2781114\n",
              "2 0.1346959 -0.2835602\n",
              "3 0.1320046 -0.3238528\n",
              "4 0.1305850 -0.3419946"
            ]
          },
          "metadata": {}
        }
      ]
    },
    {
      "cell_type": "markdown",
      "source": [
        "Selection of lags of other predictors:"
      ],
      "metadata": {
        "id": "5PtGPZcNGJl9"
      }
    },
    {
      "cell_type": "code",
      "source": [
        "### Term Spread\n",
        "ardl_spread<- transformed[1:215,] %>%\n",
        "  model(AR(GDPC1 ~ order(1)),\n",
        "        AR(GDPC1 ~ order(1) + GS10TB3Mx_lag1),\n",
        "        AR(GDPC1 ~ order(1) + GS10TB3Mx_lag1 + GS10TB3Mx_lag2),\n",
        "        AR(GDPC1 ~ order(1) + GS10TB3Mx_lag1 + GS10TB3Mx_lag2 + GS10TB3Mx_lag3),\n",
        "        AR(GDPC1 ~ order(1) + GS10TB3Mx_lag1 + GS10TB3Mx_lag2 + GS10TB3Mx_lag3 + GS10TB3Mx_lag4))\n",
        "\n",
        "glance(ardl_spread) %>%\n",
        "  arrange(AIC)\n",
        "\n",
        "ardl_spread %>%\n",
        "  fabletools::forecast(new_data=transformed[216:219,]) %>%\n",
        "  accuracy(transformed)"
      ],
      "metadata": {
        "id": "K9z4NFA-GM3L",
        "outputId": "08f66739-db6f-4213-811c-0a11660dad99",
        "colab": {
          "base_uri": "https://localhost:8080/",
          "height": 493
        }
      },
      "execution_count": 43,
      "outputs": [
        {
          "output_type": "display_data",
          "data": {
            "text/html": [
              "<table class=\"dataframe\">\n",
              "<caption>A tibble: 5 × 6</caption>\n",
              "<thead>\n",
              "\t<tr><th scope=col>.model</th><th scope=col>sigma2</th><th scope=col>AIC</th><th scope=col>AICc</th><th scope=col>BIC</th><th scope=col>dof</th></tr>\n",
              "\t<tr><th scope=col>&lt;chr&gt;</th><th scope=col>&lt;dbl&gt;</th><th scope=col>&lt;dbl&gt;</th><th scope=col>&lt;dbl&gt;</th><th scope=col>&lt;dbl&gt;</th><th scope=col>&lt;int&gt;</th></tr>\n",
              "</thead>\n",
              "<tbody>\n",
              "\t<tr><td>AR(GDPC1 ~ order(1) + GS10TB3Mx_lag1 + GS10TB3Mx_lag2)                                        </td><td>18.18772</td><td>-5.884038</td><td>-5.693562</td><td> 7.598514</td><td>211</td></tr>\n",
              "\t<tr><td>AR(GDPC1 ~ order(1) + GS10TB3Mx_lag1 + GS10TB3Mx_lag2 + GS10TB3Mx_lag3)                       </td><td>18.15880</td><td>-4.226142</td><td>-3.939061</td><td>12.627048</td><td>210</td></tr>\n",
              "\t<tr><td>AR(GDPC1 ~ order(1) + GS10TB3Mx_lag1 + GS10TB3Mx_lag2 + GS10TB3Mx_lag3 + \n",
              "    GS10TB3Mx_lag4)</td><td>18.12433</td><td>-2.634605</td><td>-2.230759</td><td>17.589223</td><td>209</td></tr>\n",
              "\t<tr><td>AR(GDPC1 ~ order(1) + GS10TB3Mx_lag1)                                                         </td><td>18.69201</td><td>-2.003878</td><td>-1.890134</td><td> 8.108036</td><td>212</td></tr>\n",
              "\t<tr><td>AR(GDPC1 ~ order(1))                                                                          </td><td>19.39081</td><td> 3.887315</td><td> 3.943918</td><td>10.628591</td><td>213</td></tr>\n",
              "</tbody>\n",
              "</table>\n"
            ],
            "text/markdown": "\nA tibble: 5 × 6\n\n| .model &lt;chr&gt; | sigma2 &lt;dbl&gt; | AIC &lt;dbl&gt; | AICc &lt;dbl&gt; | BIC &lt;dbl&gt; | dof &lt;int&gt; |\n|---|---|---|---|---|---|\n| AR(GDPC1 ~ order(1) + GS10TB3Mx_lag1 + GS10TB3Mx_lag2)                                         | 18.18772 | -5.884038 | -5.693562 |  7.598514 | 211 |\n| AR(GDPC1 ~ order(1) + GS10TB3Mx_lag1 + GS10TB3Mx_lag2 + GS10TB3Mx_lag3)                        | 18.15880 | -4.226142 | -3.939061 | 12.627048 | 210 |\n| AR(GDPC1 ~ order(1) + GS10TB3Mx_lag1 + GS10TB3Mx_lag2 + GS10TB3Mx_lag3 + \n    GS10TB3Mx_lag4) | 18.12433 | -2.634605 | -2.230759 | 17.589223 | 209 |\n| AR(GDPC1 ~ order(1) + GS10TB3Mx_lag1)                                                          | 18.69201 | -2.003878 | -1.890134 |  8.108036 | 212 |\n| AR(GDPC1 ~ order(1))                                                                           | 19.39081 |  3.887315 |  3.943918 | 10.628591 | 213 |\n\n",
            "text/latex": "A tibble: 5 × 6\n\\begin{tabular}{llllll}\n .model & sigma2 & AIC & AICc & BIC & dof\\\\\n <chr> & <dbl> & <dbl> & <dbl> & <dbl> & <int>\\\\\n\\hline\n\t AR(GDPC1 \\textasciitilde{} order(1) + GS10TB3Mx\\_lag1 + GS10TB3Mx\\_lag2)                                         & 18.18772 & -5.884038 & -5.693562 &  7.598514 & 211\\\\\n\t AR(GDPC1 \\textasciitilde{} order(1) + GS10TB3Mx\\_lag1 + GS10TB3Mx\\_lag2 + GS10TB3Mx\\_lag3)                        & 18.15880 & -4.226142 & -3.939061 & 12.627048 & 210\\\\\n\t AR(GDPC1 \\textasciitilde{} order(1) + GS10TB3Mx\\_lag1 + GS10TB3Mx\\_lag2 + GS10TB3Mx\\_lag3 + \n    GS10TB3Mx\\_lag4) & 18.12433 & -2.634605 & -2.230759 & 17.589223 & 209\\\\\n\t AR(GDPC1 \\textasciitilde{} order(1) + GS10TB3Mx\\_lag1)                                                          & 18.69201 & -2.003878 & -1.890134 &  8.108036 & 212\\\\\n\t AR(GDPC1 \\textasciitilde{} order(1))                                                                           & 19.39081 &  3.887315 &  3.943918 & 10.628591 & 213\\\\\n\\end{tabular}\n",
            "text/plain": [
              "  .model                                                                                        \n",
              "1 AR(GDPC1 ~ order(1) + GS10TB3Mx_lag1 + GS10TB3Mx_lag2)                                        \n",
              "2 AR(GDPC1 ~ order(1) + GS10TB3Mx_lag1 + GS10TB3Mx_lag2 + GS10TB3Mx_lag3)                       \n",
              "3 AR(GDPC1 ~ order(1) + GS10TB3Mx_lag1 + GS10TB3Mx_lag2 + GS10TB3Mx_lag3 + \\n    GS10TB3Mx_lag4)\n",
              "4 AR(GDPC1 ~ order(1) + GS10TB3Mx_lag1)                                                         \n",
              "5 AR(GDPC1 ~ order(1))                                                                          \n",
              "  sigma2   AIC       AICc      BIC       dof\n",
              "1 18.18772 -5.884038 -5.693562  7.598514 211\n",
              "2 18.15880 -4.226142 -3.939061 12.627048 210\n",
              "3 18.12433 -2.634605 -2.230759 17.589223 209\n",
              "4 18.69201 -2.003878 -1.890134  8.108036 212\n",
              "5 19.39081  3.887315  3.943918 10.628591 213"
            ]
          },
          "metadata": {}
        },
        {
          "output_type": "display_data",
          "data": {
            "text/html": [
              "<table class=\"dataframe\">\n",
              "<caption>A tibble: 5 × 10</caption>\n",
              "<thead>\n",
              "\t<tr><th scope=col>.model</th><th scope=col>.type</th><th scope=col>ME</th><th scope=col>RMSE</th><th scope=col>MAE</th><th scope=col>MPE</th><th scope=col>MAPE</th><th scope=col>MASE</th><th scope=col>RMSSE</th><th scope=col>ACF1</th></tr>\n",
              "\t<tr><th scope=col>&lt;chr&gt;</th><th scope=col>&lt;chr&gt;</th><th scope=col>&lt;dbl&gt;</th><th scope=col>&lt;dbl&gt;</th><th scope=col>&lt;dbl&gt;</th><th scope=col>&lt;dbl&gt;</th><th scope=col>&lt;dbl&gt;</th><th scope=col>&lt;dbl&gt;</th><th scope=col>&lt;dbl&gt;</th><th scope=col>&lt;dbl&gt;</th></tr>\n",
              "</thead>\n",
              "<tbody>\n",
              "\t<tr><td>AR(GDPC1 ~ order(1) + GS10TB3Mx_lag1 + GS10TB3Mx_lag2 + GS10TB3Mx_lag3 + \n",
              "    GS10TB3Mx_lag4)</td><td>Test</td><td>1.8978953</td><td>2.3138050</td><td>1.8978953</td><td>55.20913</td><td>55.20913</td><td>0.5068409</td><td>0.3722315</td><td> 0.1878086</td></tr>\n",
              "\t<tr><td>AR(GDPC1 ~ order(1) + GS10TB3Mx_lag1 + GS10TB3Mx_lag2 + GS10TB3Mx_lag3)                       </td><td>Test</td><td>2.0000153</td><td>2.3900285</td><td>2.0000153</td><td>59.10982</td><td>59.10982</td><td>0.5341125</td><td>0.3844939</td><td> 0.2469661</td></tr>\n",
              "\t<tr><td>AR(GDPC1 ~ order(1) + GS10TB3Mx_lag1 + GS10TB3Mx_lag2)                                        </td><td>Test</td><td>2.1353886</td><td>2.4682678</td><td>2.1353886</td><td>63.73273</td><td>63.73273</td><td>0.5702645</td><td>0.3970806</td><td> 0.2144260</td></tr>\n",
              "\t<tr><td>AR(GDPC1 ~ order(1) + GS10TB3Mx_lag1)                                                         </td><td>Test</td><td>2.2503848</td><td>2.4340597</td><td>2.2503848</td><td>69.00876</td><td>69.00876</td><td>0.6009747</td><td>0.3915774</td><td>-0.0793700</td></tr>\n",
              "\t<tr><td>AR(GDPC1 ~ order(1))                                                                          </td><td>Test</td><td>0.4649493</td><td>0.8348992</td><td>0.5954848</td><td>10.95524</td><td>16.34803</td><td>0.1590267</td><td>0.1343137</td><td>-0.2781114</td></tr>\n",
              "</tbody>\n",
              "</table>\n"
            ],
            "text/markdown": "\nA tibble: 5 × 10\n\n| .model &lt;chr&gt; | .type &lt;chr&gt; | ME &lt;dbl&gt; | RMSE &lt;dbl&gt; | MAE &lt;dbl&gt; | MPE &lt;dbl&gt; | MAPE &lt;dbl&gt; | MASE &lt;dbl&gt; | RMSSE &lt;dbl&gt; | ACF1 &lt;dbl&gt; |\n|---|---|---|---|---|---|---|---|---|---|\n| AR(GDPC1 ~ order(1) + GS10TB3Mx_lag1 + GS10TB3Mx_lag2 + GS10TB3Mx_lag3 + \n    GS10TB3Mx_lag4) | Test | 1.8978953 | 2.3138050 | 1.8978953 | 55.20913 | 55.20913 | 0.5068409 | 0.3722315 |  0.1878086 |\n| AR(GDPC1 ~ order(1) + GS10TB3Mx_lag1 + GS10TB3Mx_lag2 + GS10TB3Mx_lag3)                        | Test | 2.0000153 | 2.3900285 | 2.0000153 | 59.10982 | 59.10982 | 0.5341125 | 0.3844939 |  0.2469661 |\n| AR(GDPC1 ~ order(1) + GS10TB3Mx_lag1 + GS10TB3Mx_lag2)                                         | Test | 2.1353886 | 2.4682678 | 2.1353886 | 63.73273 | 63.73273 | 0.5702645 | 0.3970806 |  0.2144260 |\n| AR(GDPC1 ~ order(1) + GS10TB3Mx_lag1)                                                          | Test | 2.2503848 | 2.4340597 | 2.2503848 | 69.00876 | 69.00876 | 0.6009747 | 0.3915774 | -0.0793700 |\n| AR(GDPC1 ~ order(1))                                                                           | Test | 0.4649493 | 0.8348992 | 0.5954848 | 10.95524 | 16.34803 | 0.1590267 | 0.1343137 | -0.2781114 |\n\n",
            "text/latex": "A tibble: 5 × 10\n\\begin{tabular}{llllllllll}\n .model & .type & ME & RMSE & MAE & MPE & MAPE & MASE & RMSSE & ACF1\\\\\n <chr> & <chr> & <dbl> & <dbl> & <dbl> & <dbl> & <dbl> & <dbl> & <dbl> & <dbl>\\\\\n\\hline\n\t AR(GDPC1 \\textasciitilde{} order(1) + GS10TB3Mx\\_lag1 + GS10TB3Mx\\_lag2 + GS10TB3Mx\\_lag3 + \n    GS10TB3Mx\\_lag4) & Test & 1.8978953 & 2.3138050 & 1.8978953 & 55.20913 & 55.20913 & 0.5068409 & 0.3722315 &  0.1878086\\\\\n\t AR(GDPC1 \\textasciitilde{} order(1) + GS10TB3Mx\\_lag1 + GS10TB3Mx\\_lag2 + GS10TB3Mx\\_lag3)                        & Test & 2.0000153 & 2.3900285 & 2.0000153 & 59.10982 & 59.10982 & 0.5341125 & 0.3844939 &  0.2469661\\\\\n\t AR(GDPC1 \\textasciitilde{} order(1) + GS10TB3Mx\\_lag1 + GS10TB3Mx\\_lag2)                                         & Test & 2.1353886 & 2.4682678 & 2.1353886 & 63.73273 & 63.73273 & 0.5702645 & 0.3970806 &  0.2144260\\\\\n\t AR(GDPC1 \\textasciitilde{} order(1) + GS10TB3Mx\\_lag1)                                                          & Test & 2.2503848 & 2.4340597 & 2.2503848 & 69.00876 & 69.00876 & 0.6009747 & 0.3915774 & -0.0793700\\\\\n\t AR(GDPC1 \\textasciitilde{} order(1))                                                                           & Test & 0.4649493 & 0.8348992 & 0.5954848 & 10.95524 & 16.34803 & 0.1590267 & 0.1343137 & -0.2781114\\\\\n\\end{tabular}\n",
            "text/plain": [
              "  .model                                                                                        \n",
              "1 AR(GDPC1 ~ order(1) + GS10TB3Mx_lag1 + GS10TB3Mx_lag2 + GS10TB3Mx_lag3 + \\n    GS10TB3Mx_lag4)\n",
              "2 AR(GDPC1 ~ order(1) + GS10TB3Mx_lag1 + GS10TB3Mx_lag2 + GS10TB3Mx_lag3)                       \n",
              "3 AR(GDPC1 ~ order(1) + GS10TB3Mx_lag1 + GS10TB3Mx_lag2)                                        \n",
              "4 AR(GDPC1 ~ order(1) + GS10TB3Mx_lag1)                                                         \n",
              "5 AR(GDPC1 ~ order(1))                                                                          \n",
              "  .type ME        RMSE      MAE       MPE      MAPE     MASE      RMSSE    \n",
              "1 Test  1.8978953 2.3138050 1.8978953 55.20913 55.20913 0.5068409 0.3722315\n",
              "2 Test  2.0000153 2.3900285 2.0000153 59.10982 59.10982 0.5341125 0.3844939\n",
              "3 Test  2.1353886 2.4682678 2.1353886 63.73273 63.73273 0.5702645 0.3970806\n",
              "4 Test  2.2503848 2.4340597 2.2503848 69.00876 69.00876 0.6009747 0.3915774\n",
              "5 Test  0.4649493 0.8348992 0.5954848 10.95524 16.34803 0.1590267 0.1343137\n",
              "  ACF1      \n",
              "1  0.1878086\n",
              "2  0.2469661\n",
              "3  0.2144260\n",
              "4 -0.0793700\n",
              "5 -0.2781114"
            ]
          },
          "metadata": {}
        }
      ]
    },
    {
      "cell_type": "markdown",
      "source": [],
      "metadata": {
        "id": "f4C_rIwpGIwI"
      }
    },
    {
      "cell_type": "code",
      "source": [
        "### Unemployment claims\n",
        "ardl_claims<- transformed[1:215,] %>%\n",
        "  model(AR(GDPC1 ~ order(1)),\n",
        "        AR(GDPC1 ~ order(1) + CLAIMSx_lag1),\n",
        "        AR(GDPC1 ~ order(1) + CLAIMSx_lag1 + CLAIMSx_lag2),\n",
        "        AR(GDPC1 ~ order(1) + CLAIMSx_lag1 + CLAIMSx_lag2 + CLAIMSx_lag3),\n",
        "        AR(GDPC1 ~ order(1) + CLAIMSx_lag1 + CLAIMSx_lag2 + CLAIMSx_lag3 + CLAIMSx_lag4))\n",
        "\n",
        "glance(ardl_claims) %>%\n",
        "  arrange(AIC)\n"
      ],
      "metadata": {
        "id": "S4_DAPeRGYwQ",
        "outputId": "73db36f6-0068-404c-9822-1871aabe32da",
        "colab": {
          "base_uri": "https://localhost:8080/",
          "height": 255
        }
      },
      "execution_count": 9,
      "outputs": [
        {
          "output_type": "display_data",
          "data": {
            "text/html": [
              "<table class=\"dataframe\">\n",
              "<caption>A tibble: 5 × 6</caption>\n",
              "<thead>\n",
              "\t<tr><th scope=col>.model</th><th scope=col>sigma2</th><th scope=col>AIC</th><th scope=col>AICc</th><th scope=col>BIC</th><th scope=col>dof</th></tr>\n",
              "\t<tr><th scope=col>&lt;chr&gt;</th><th scope=col>&lt;dbl&gt;</th><th scope=col>&lt;dbl&gt;</th><th scope=col>&lt;dbl&gt;</th><th scope=col>&lt;dbl&gt;</th><th scope=col>&lt;int&gt;</th></tr>\n",
              "</thead>\n",
              "<tbody>\n",
              "\t<tr><td>AR(GDPC1 ~ order(1) + CLAIMSx_lag1 + CLAIMSx_lag2 + CLAIMSx_lag3 + \n",
              "    CLAIMSx_lag4)</td><td>15.04411</td><td>-42.682365</td><td>-42.278518</td><td>-22.45854</td><td>209</td></tr>\n",
              "\t<tr><td>AR(GDPC1 ~ order(1) + CLAIMSx_lag1 + CLAIMSx_lag2 + CLAIMSx_lag3)                     </td><td>15.26594</td><td>-41.535387</td><td>-41.248306</td><td>-24.68220</td><td>210</td></tr>\n",
              "\t<tr><td>AR(GDPC1 ~ order(1) + CLAIMSx_lag1 + CLAIMSx_lag2)                                    </td><td>15.45349</td><td>-40.910092</td><td>-40.719616</td><td>-27.42754</td><td>211</td></tr>\n",
              "\t<tr><td>AR(GDPC1 ~ order(1) + CLAIMSx_lag1)                                                   </td><td>16.25040</td><td>-32.099198</td><td>-31.985454</td><td>-21.98728</td><td>212</td></tr>\n",
              "\t<tr><td>AR(GDPC1 ~ order(1))                                                                  </td><td>19.39081</td><td>  3.887315</td><td>  3.943918</td><td> 10.62859</td><td>213</td></tr>\n",
              "</tbody>\n",
              "</table>\n"
            ],
            "text/markdown": "\nA tibble: 5 × 6\n\n| .model &lt;chr&gt; | sigma2 &lt;dbl&gt; | AIC &lt;dbl&gt; | AICc &lt;dbl&gt; | BIC &lt;dbl&gt; | dof &lt;int&gt; |\n|---|---|---|---|---|---|\n| AR(GDPC1 ~ order(1) + CLAIMSx_lag1 + CLAIMSx_lag2 + CLAIMSx_lag3 + \n    CLAIMSx_lag4) | 15.04411 | -42.682365 | -42.278518 | -22.45854 | 209 |\n| AR(GDPC1 ~ order(1) + CLAIMSx_lag1 + CLAIMSx_lag2 + CLAIMSx_lag3)                      | 15.26594 | -41.535387 | -41.248306 | -24.68220 | 210 |\n| AR(GDPC1 ~ order(1) + CLAIMSx_lag1 + CLAIMSx_lag2)                                     | 15.45349 | -40.910092 | -40.719616 | -27.42754 | 211 |\n| AR(GDPC1 ~ order(1) + CLAIMSx_lag1)                                                    | 16.25040 | -32.099198 | -31.985454 | -21.98728 | 212 |\n| AR(GDPC1 ~ order(1))                                                                   | 19.39081 |   3.887315 |   3.943918 |  10.62859 | 213 |\n\n",
            "text/latex": "A tibble: 5 × 6\n\\begin{tabular}{llllll}\n .model & sigma2 & AIC & AICc & BIC & dof\\\\\n <chr> & <dbl> & <dbl> & <dbl> & <dbl> & <int>\\\\\n\\hline\n\t AR(GDPC1 \\textasciitilde{} order(1) + CLAIMSx\\_lag1 + CLAIMSx\\_lag2 + CLAIMSx\\_lag3 + \n    CLAIMSx\\_lag4) & 15.04411 & -42.682365 & -42.278518 & -22.45854 & 209\\\\\n\t AR(GDPC1 \\textasciitilde{} order(1) + CLAIMSx\\_lag1 + CLAIMSx\\_lag2 + CLAIMSx\\_lag3)                      & 15.26594 & -41.535387 & -41.248306 & -24.68220 & 210\\\\\n\t AR(GDPC1 \\textasciitilde{} order(1) + CLAIMSx\\_lag1 + CLAIMSx\\_lag2)                                     & 15.45349 & -40.910092 & -40.719616 & -27.42754 & 211\\\\\n\t AR(GDPC1 \\textasciitilde{} order(1) + CLAIMSx\\_lag1)                                                    & 16.25040 & -32.099198 & -31.985454 & -21.98728 & 212\\\\\n\t AR(GDPC1 \\textasciitilde{} order(1))                                                                   & 19.39081 &   3.887315 &   3.943918 &  10.62859 & 213\\\\\n\\end{tabular}\n",
            "text/plain": [
              "  .model                                                                                \n",
              "1 AR(GDPC1 ~ order(1) + CLAIMSx_lag1 + CLAIMSx_lag2 + CLAIMSx_lag3 + \\n    CLAIMSx_lag4)\n",
              "2 AR(GDPC1 ~ order(1) + CLAIMSx_lag1 + CLAIMSx_lag2 + CLAIMSx_lag3)                     \n",
              "3 AR(GDPC1 ~ order(1) + CLAIMSx_lag1 + CLAIMSx_lag2)                                    \n",
              "4 AR(GDPC1 ~ order(1) + CLAIMSx_lag1)                                                   \n",
              "5 AR(GDPC1 ~ order(1))                                                                  \n",
              "  sigma2   AIC        AICc       BIC       dof\n",
              "1 15.04411 -42.682365 -42.278518 -22.45854 209\n",
              "2 15.26594 -41.535387 -41.248306 -24.68220 210\n",
              "3 15.45349 -40.910092 -40.719616 -27.42754 211\n",
              "4 16.25040 -32.099198 -31.985454 -21.98728 212\n",
              "5 19.39081   3.887315   3.943918  10.62859 213"
            ]
          },
          "metadata": {}
        }
      ]
    },
    {
      "cell_type": "code",
      "source": [
        "### New orders of capital goods\n",
        "ardl_andeno<- transformed[1:215,] %>%\n",
        "  model(AR(GDPC1 ~ order(1)),\n",
        "        AR(GDPC1 ~ order(1) + ANDENOx_lag1),\n",
        "        AR(GDPC1 ~ order(1) + ANDENOx_lag1 + ANDENOx_lag2),\n",
        "        AR(GDPC1 ~ order(1) + ANDENOx_lag1 + ANDENOx_lag2 + ANDENOx_lag3),\n",
        "        AR(GDPC1 ~ order(1) + ANDENOx_lag1 + ANDENOx_lag2 + ANDENOx_lag3 + ANDENOx_lag4))\n",
        "\n",
        "glance(ardl_andeno) %>%\n",
        "  arrange(AIC)\n"
      ],
      "metadata": {
        "id": "bCBf1BNCGiBi",
        "outputId": "1ea83a85-4a8e-414c-caa0-81323ee9b629",
        "colab": {
          "base_uri": "https://localhost:8080/",
          "height": 255
        }
      },
      "execution_count": 10,
      "outputs": [
        {
          "output_type": "display_data",
          "data": {
            "text/html": [
              "<table class=\"dataframe\">\n",
              "<caption>A tibble: 5 × 6</caption>\n",
              "<thead>\n",
              "\t<tr><th scope=col>.model</th><th scope=col>sigma2</th><th scope=col>AIC</th><th scope=col>AICc</th><th scope=col>BIC</th><th scope=col>dof</th></tr>\n",
              "\t<tr><th scope=col>&lt;chr&gt;</th><th scope=col>&lt;dbl&gt;</th><th scope=col>&lt;dbl&gt;</th><th scope=col>&lt;dbl&gt;</th><th scope=col>&lt;dbl&gt;</th><th scope=col>&lt;int&gt;</th></tr>\n",
              "</thead>\n",
              "<tbody>\n",
              "\t<tr><td>AR(GDPC1 ~ order(1) + ANDENOx_lag1 + ANDENOx_lag2)                                    </td><td>18.53431</td><td>-1.8254707</td><td>-1.6349945</td><td>11.65708</td><td>211</td></tr>\n",
              "\t<tr><td>AR(GDPC1 ~ order(1) + ANDENOx_lag1 + ANDENOx_lag2 + ANDENOx_lag3)                     </td><td>18.47990</td><td>-0.4575456</td><td>-0.1704643</td><td>16.39564</td><td>210</td></tr>\n",
              "\t<tr><td>AR(GDPC1 ~ order(1) + ANDENOx_lag1 + ANDENOx_lag2 + ANDENOx_lag3 + \n",
              "    ANDENOx_lag4)</td><td>18.43130</td><td> 0.9763187</td><td> 1.3801648</td><td>21.20015</td><td>209</td></tr>\n",
              "\t<tr><td>AR(GDPC1 ~ order(1))                                                                  </td><td>19.39081</td><td> 3.8873146</td><td> 3.9439184</td><td>10.62859</td><td>213</td></tr>\n",
              "\t<tr><td>AR(GDPC1 ~ order(1) + ANDENOx_lag1)                                                   </td><td>19.39060</td><td> 5.8850083</td><td> 5.9987524</td><td>15.99692</td><td>212</td></tr>\n",
              "</tbody>\n",
              "</table>\n"
            ],
            "text/markdown": "\nA tibble: 5 × 6\n\n| .model &lt;chr&gt; | sigma2 &lt;dbl&gt; | AIC &lt;dbl&gt; | AICc &lt;dbl&gt; | BIC &lt;dbl&gt; | dof &lt;int&gt; |\n|---|---|---|---|---|---|\n| AR(GDPC1 ~ order(1) + ANDENOx_lag1 + ANDENOx_lag2)                                     | 18.53431 | -1.8254707 | -1.6349945 | 11.65708 | 211 |\n| AR(GDPC1 ~ order(1) + ANDENOx_lag1 + ANDENOx_lag2 + ANDENOx_lag3)                      | 18.47990 | -0.4575456 | -0.1704643 | 16.39564 | 210 |\n| AR(GDPC1 ~ order(1) + ANDENOx_lag1 + ANDENOx_lag2 + ANDENOx_lag3 + \n    ANDENOx_lag4) | 18.43130 |  0.9763187 |  1.3801648 | 21.20015 | 209 |\n| AR(GDPC1 ~ order(1))                                                                   | 19.39081 |  3.8873146 |  3.9439184 | 10.62859 | 213 |\n| AR(GDPC1 ~ order(1) + ANDENOx_lag1)                                                    | 19.39060 |  5.8850083 |  5.9987524 | 15.99692 | 212 |\n\n",
            "text/latex": "A tibble: 5 × 6\n\\begin{tabular}{llllll}\n .model & sigma2 & AIC & AICc & BIC & dof\\\\\n <chr> & <dbl> & <dbl> & <dbl> & <dbl> & <int>\\\\\n\\hline\n\t AR(GDPC1 \\textasciitilde{} order(1) + ANDENOx\\_lag1 + ANDENOx\\_lag2)                                     & 18.53431 & -1.8254707 & -1.6349945 & 11.65708 & 211\\\\\n\t AR(GDPC1 \\textasciitilde{} order(1) + ANDENOx\\_lag1 + ANDENOx\\_lag2 + ANDENOx\\_lag3)                      & 18.47990 & -0.4575456 & -0.1704643 & 16.39564 & 210\\\\\n\t AR(GDPC1 \\textasciitilde{} order(1) + ANDENOx\\_lag1 + ANDENOx\\_lag2 + ANDENOx\\_lag3 + \n    ANDENOx\\_lag4) & 18.43130 &  0.9763187 &  1.3801648 & 21.20015 & 209\\\\\n\t AR(GDPC1 \\textasciitilde{} order(1))                                                                   & 19.39081 &  3.8873146 &  3.9439184 & 10.62859 & 213\\\\\n\t AR(GDPC1 \\textasciitilde{} order(1) + ANDENOx\\_lag1)                                                    & 19.39060 &  5.8850083 &  5.9987524 & 15.99692 & 212\\\\\n\\end{tabular}\n",
            "text/plain": [
              "  .model                                                                                \n",
              "1 AR(GDPC1 ~ order(1) + ANDENOx_lag1 + ANDENOx_lag2)                                    \n",
              "2 AR(GDPC1 ~ order(1) + ANDENOx_lag1 + ANDENOx_lag2 + ANDENOx_lag3)                     \n",
              "3 AR(GDPC1 ~ order(1) + ANDENOx_lag1 + ANDENOx_lag2 + ANDENOx_lag3 + \\n    ANDENOx_lag4)\n",
              "4 AR(GDPC1 ~ order(1))                                                                  \n",
              "5 AR(GDPC1 ~ order(1) + ANDENOx_lag1)                                                   \n",
              "  sigma2   AIC        AICc       BIC      dof\n",
              "1 18.53431 -1.8254707 -1.6349945 11.65708 211\n",
              "2 18.47990 -0.4575456 -0.1704643 16.39564 210\n",
              "3 18.43130  0.9763187  1.3801648 21.20015 209\n",
              "4 19.39081  3.8873146  3.9439184 10.62859 213\n",
              "5 19.39060  5.8850083  5.9987524 15.99692 212"
            ]
          },
          "metadata": {}
        }
      ]
    },
    {
      "cell_type": "code",
      "source": [
        "### Consumer Sentiment Index\n",
        "ardl_csent <- transformed[1:215,] %>%\n",
        "  model(AR(GDPC1 ~ order(1)),\n",
        "        AR(GDPC1 ~ order(1) + UMCSENTx_lag1),\n",
        "        AR(GDPC1 ~ order(1) + UMCSENTx_lag1 + UMCSENTx_lag2),\n",
        "        AR(GDPC1 ~ order(1) + UMCSENTx_lag1 + UMCSENTx_lag2 + UMCSENTx_lag3),\n",
        "        AR(GDPC1 ~ order(1) + UMCSENTx_lag1 + UMCSENTx_lag2 + UMCSENTx_lag3 + UMCSENTx_lag4))\n",
        "\n",
        "glance(ardl_csent) %>%\n",
        "  arrange(AIC)\n"
      ],
      "metadata": {
        "id": "Og7iu3Y4GlBV",
        "outputId": "c807ea37-3754-43f6-81ce-871c9af84b13",
        "colab": {
          "base_uri": "https://localhost:8080/",
          "height": 255
        }
      },
      "execution_count": 11,
      "outputs": [
        {
          "output_type": "display_data",
          "data": {
            "text/html": [
              "<table class=\"dataframe\">\n",
              "<caption>A tibble: 5 × 6</caption>\n",
              "<thead>\n",
              "\t<tr><th scope=col>.model</th><th scope=col>sigma2</th><th scope=col>AIC</th><th scope=col>AICc</th><th scope=col>BIC</th><th scope=col>dof</th></tr>\n",
              "\t<tr><th scope=col>&lt;chr&gt;</th><th scope=col>&lt;dbl&gt;</th><th scope=col>&lt;dbl&gt;</th><th scope=col>&lt;dbl&gt;</th><th scope=col>&lt;dbl&gt;</th><th scope=col>&lt;int&gt;</th></tr>\n",
              "</thead>\n",
              "<tbody>\n",
              "\t<tr><td>AR(GDPC1 ~ order(1) + UMCSENTx_lag1 + UMCSENTx_lag2 + UMCSENTx_lag3 + \n",
              "    UMCSENTx_lag4)</td><td>18.51930</td><td>2.000300</td><td>2.404146</td><td>22.22413</td><td>209</td></tr>\n",
              "\t<tr><td>AR(GDPC1 ~ order(1) + UMCSENTx_lag1 + UMCSENTx_lag2 + UMCSENTx_lag3)                      </td><td>18.81839</td><td>3.444946</td><td>3.732027</td><td>20.29814</td><td>210</td></tr>\n",
              "\t<tr><td>AR(GDPC1 ~ order(1))                                                                      </td><td>19.39081</td><td>3.887315</td><td>3.943918</td><td>10.62859</td><td>213</td></tr>\n",
              "\t<tr><td>AR(GDPC1 ~ order(1) + UMCSENTx_lag1 + UMCSENTx_lag2)                                      </td><td>19.06065</td><td>4.195016</td><td>4.385493</td><td>17.67757</td><td>211</td></tr>\n",
              "\t<tr><td>AR(GDPC1 ~ order(1) + UMCSENTx_lag1)                                                      </td><td>19.35868</td><td>5.530801</td><td>5.644545</td><td>15.64272</td><td>212</td></tr>\n",
              "</tbody>\n",
              "</table>\n"
            ],
            "text/markdown": "\nA tibble: 5 × 6\n\n| .model &lt;chr&gt; | sigma2 &lt;dbl&gt; | AIC &lt;dbl&gt; | AICc &lt;dbl&gt; | BIC &lt;dbl&gt; | dof &lt;int&gt; |\n|---|---|---|---|---|---|\n| AR(GDPC1 ~ order(1) + UMCSENTx_lag1 + UMCSENTx_lag2 + UMCSENTx_lag3 + \n    UMCSENTx_lag4) | 18.51930 | 2.000300 | 2.404146 | 22.22413 | 209 |\n| AR(GDPC1 ~ order(1) + UMCSENTx_lag1 + UMCSENTx_lag2 + UMCSENTx_lag3)                       | 18.81839 | 3.444946 | 3.732027 | 20.29814 | 210 |\n| AR(GDPC1 ~ order(1))                                                                       | 19.39081 | 3.887315 | 3.943918 | 10.62859 | 213 |\n| AR(GDPC1 ~ order(1) + UMCSENTx_lag1 + UMCSENTx_lag2)                                       | 19.06065 | 4.195016 | 4.385493 | 17.67757 | 211 |\n| AR(GDPC1 ~ order(1) + UMCSENTx_lag1)                                                       | 19.35868 | 5.530801 | 5.644545 | 15.64272 | 212 |\n\n",
            "text/latex": "A tibble: 5 × 6\n\\begin{tabular}{llllll}\n .model & sigma2 & AIC & AICc & BIC & dof\\\\\n <chr> & <dbl> & <dbl> & <dbl> & <dbl> & <int>\\\\\n\\hline\n\t AR(GDPC1 \\textasciitilde{} order(1) + UMCSENTx\\_lag1 + UMCSENTx\\_lag2 + UMCSENTx\\_lag3 + \n    UMCSENTx\\_lag4) & 18.51930 & 2.000300 & 2.404146 & 22.22413 & 209\\\\\n\t AR(GDPC1 \\textasciitilde{} order(1) + UMCSENTx\\_lag1 + UMCSENTx\\_lag2 + UMCSENTx\\_lag3)                       & 18.81839 & 3.444946 & 3.732027 & 20.29814 & 210\\\\\n\t AR(GDPC1 \\textasciitilde{} order(1))                                                                       & 19.39081 & 3.887315 & 3.943918 & 10.62859 & 213\\\\\n\t AR(GDPC1 \\textasciitilde{} order(1) + UMCSENTx\\_lag1 + UMCSENTx\\_lag2)                                       & 19.06065 & 4.195016 & 4.385493 & 17.67757 & 211\\\\\n\t AR(GDPC1 \\textasciitilde{} order(1) + UMCSENTx\\_lag1)                                                       & 19.35868 & 5.530801 & 5.644545 & 15.64272 & 212\\\\\n\\end{tabular}\n",
            "text/plain": [
              "  .model                                                                                    \n",
              "1 AR(GDPC1 ~ order(1) + UMCSENTx_lag1 + UMCSENTx_lag2 + UMCSENTx_lag3 + \\n    UMCSENTx_lag4)\n",
              "2 AR(GDPC1 ~ order(1) + UMCSENTx_lag1 + UMCSENTx_lag2 + UMCSENTx_lag3)                      \n",
              "3 AR(GDPC1 ~ order(1))                                                                      \n",
              "4 AR(GDPC1 ~ order(1) + UMCSENTx_lag1 + UMCSENTx_lag2)                                      \n",
              "5 AR(GDPC1 ~ order(1) + UMCSENTx_lag1)                                                      \n",
              "  sigma2   AIC      AICc     BIC      dof\n",
              "1 18.51930 2.000300 2.404146 22.22413 209\n",
              "2 18.81839 3.444946 3.732027 20.29814 210\n",
              "3 19.39081 3.887315 3.943918 10.62859 213\n",
              "4 19.06065 4.195016 4.385493 17.67757 211\n",
              "5 19.35868 5.530801 5.644545 15.64272 212"
            ]
          },
          "metadata": {}
        }
      ]
    },
    {
      "cell_type": "code",
      "source": [
        "ardl_houst <- transformed[1:215,] %>%\n",
        "  model(AR(GDPC1 ~ order(1)),\n",
        "        AR(GDPC1 ~ order(1) + HOUST_lag1),\n",
        "        AR(GDPC1 ~ order(1) + HOUST_lag1 + HOUST_lag2),\n",
        "        AR(GDPC1 ~ order(1) + HOUST_lag1 + HOUST_lag2 + HOUST_lag3),\n",
        "        AR(GDPC1 ~ order(1) + HOUST_lag1 + HOUST_lag2 + HOUST_lag3 + HOUST_lag4))\n",
        "\n",
        "glance(ardl_houst) %>%\n",
        "  arrange(AIC)"
      ],
      "metadata": {
        "colab": {
          "base_uri": "https://localhost:8080/",
          "height": 255
        },
        "id": "yBTYoTqvGgp2",
        "outputId": "95468b35-d03b-42e1-e684-3f947d6233ac"
      },
      "execution_count": 36,
      "outputs": [
        {
          "output_type": "display_data",
          "data": {
            "text/html": [
              "<table class=\"dataframe\">\n",
              "<caption>A tibble: 5 × 6</caption>\n",
              "<thead>\n",
              "\t<tr><th scope=col>.model</th><th scope=col>sigma2</th><th scope=col>AIC</th><th scope=col>AICc</th><th scope=col>BIC</th><th scope=col>dof</th></tr>\n",
              "\t<tr><th scope=col>&lt;chr&gt;</th><th scope=col>&lt;dbl&gt;</th><th scope=col>&lt;dbl&gt;</th><th scope=col>&lt;dbl&gt;</th><th scope=col>&lt;dbl&gt;</th><th scope=col>&lt;int&gt;</th></tr>\n",
              "</thead>\n",
              "<tbody>\n",
              "\t<tr><td>AR(GDPC1 ~ order(1) + HOUST_lag1 + HOUST_lag2 + HOUST_lag3)                   </td><td>17.58143</td><td>-11.173198</td><td>-10.886117</td><td> 5.679992</td><td>210</td></tr>\n",
              "\t<tr><td>AR(GDPC1 ~ order(1) + HOUST_lag1 + HOUST_lag2 + HOUST_lag3 + \n",
              "    HOUST_lag4)</td><td>17.56663</td><td> -9.354332</td><td> -8.950486</td><td>10.869496</td><td>209</td></tr>\n",
              "\t<tr><td>AR(GDPC1 ~ order(1) + HOUST_lag1 + HOUST_lag2)                                </td><td>17.96522</td><td> -8.530439</td><td> -8.339963</td><td> 4.952113</td><td>211</td></tr>\n",
              "\t<tr><td>AR(GDPC1 ~ order(1) + HOUST_lag1)                                             </td><td>18.66334</td><td> -2.333903</td><td> -2.220159</td><td> 7.778011</td><td>212</td></tr>\n",
              "\t<tr><td>AR(GDPC1 ~ order(1))                                                          </td><td>19.39081</td><td>  3.887315</td><td>  3.943918</td><td>10.628591</td><td>213</td></tr>\n",
              "</tbody>\n",
              "</table>\n"
            ],
            "text/markdown": "\nA tibble: 5 × 6\n\n| .model &lt;chr&gt; | sigma2 &lt;dbl&gt; | AIC &lt;dbl&gt; | AICc &lt;dbl&gt; | BIC &lt;dbl&gt; | dof &lt;int&gt; |\n|---|---|---|---|---|---|\n| AR(GDPC1 ~ order(1) + HOUST_lag1 + HOUST_lag2 + HOUST_lag3)                    | 17.58143 | -11.173198 | -10.886117 |  5.679992 | 210 |\n| AR(GDPC1 ~ order(1) + HOUST_lag1 + HOUST_lag2 + HOUST_lag3 + \n    HOUST_lag4) | 17.56663 |  -9.354332 |  -8.950486 | 10.869496 | 209 |\n| AR(GDPC1 ~ order(1) + HOUST_lag1 + HOUST_lag2)                                 | 17.96522 |  -8.530439 |  -8.339963 |  4.952113 | 211 |\n| AR(GDPC1 ~ order(1) + HOUST_lag1)                                              | 18.66334 |  -2.333903 |  -2.220159 |  7.778011 | 212 |\n| AR(GDPC1 ~ order(1))                                                           | 19.39081 |   3.887315 |   3.943918 | 10.628591 | 213 |\n\n",
            "text/latex": "A tibble: 5 × 6\n\\begin{tabular}{llllll}\n .model & sigma2 & AIC & AICc & BIC & dof\\\\\n <chr> & <dbl> & <dbl> & <dbl> & <dbl> & <int>\\\\\n\\hline\n\t AR(GDPC1 \\textasciitilde{} order(1) + HOUST\\_lag1 + HOUST\\_lag2 + HOUST\\_lag3)                    & 17.58143 & -11.173198 & -10.886117 &  5.679992 & 210\\\\\n\t AR(GDPC1 \\textasciitilde{} order(1) + HOUST\\_lag1 + HOUST\\_lag2 + HOUST\\_lag3 + \n    HOUST\\_lag4) & 17.56663 &  -9.354332 &  -8.950486 & 10.869496 & 209\\\\\n\t AR(GDPC1 \\textasciitilde{} order(1) + HOUST\\_lag1 + HOUST\\_lag2)                                 & 17.96522 &  -8.530439 &  -8.339963 &  4.952113 & 211\\\\\n\t AR(GDPC1 \\textasciitilde{} order(1) + HOUST\\_lag1)                                              & 18.66334 &  -2.333903 &  -2.220159 &  7.778011 & 212\\\\\n\t AR(GDPC1 \\textasciitilde{} order(1))                                                           & 19.39081 &   3.887315 &   3.943918 & 10.628591 & 213\\\\\n\\end{tabular}\n",
            "text/plain": [
              "  .model                                                                        \n",
              "1 AR(GDPC1 ~ order(1) + HOUST_lag1 + HOUST_lag2 + HOUST_lag3)                   \n",
              "2 AR(GDPC1 ~ order(1) + HOUST_lag1 + HOUST_lag2 + HOUST_lag3 + \\n    HOUST_lag4)\n",
              "3 AR(GDPC1 ~ order(1) + HOUST_lag1 + HOUST_lag2)                                \n",
              "4 AR(GDPC1 ~ order(1) + HOUST_lag1)                                             \n",
              "5 AR(GDPC1 ~ order(1))                                                          \n",
              "  sigma2   AIC        AICc       BIC       dof\n",
              "1 17.58143 -11.173198 -10.886117  5.679992 210\n",
              "2 17.56663  -9.354332  -8.950486 10.869496 209\n",
              "3 17.96522  -8.530439  -8.339963  4.952113 211\n",
              "4 18.66334  -2.333903  -2.220159  7.778011 212\n",
              "5 19.39081   3.887315   3.943918 10.628591 213"
            ]
          },
          "metadata": {}
        }
      ]
    },
    {
      "cell_type": "code",
      "source": [
        "ardl_combined <- transformed[1:215,] %>%\n",
        "  model(AR(GDPC1 ~ order(1) + CLAIMSx_lag1 + CLAIMSx_lag2 + CLAIMSx_lag3 + CLAIMSx_lag4 + ANDENOx_lag1 + ANDENOx_lag2 + GS10TB3Mx_lag1 + GS10TB3Mx_lag2 + UMCSENTx_lag1 + UMCSENTx_lag2 + UMCSENTx_lag3 + UMCSENTx_lag4 + HOUST_lag1 + HOUST_lag2 + HOUST_lag3))\n",
        "\n",
        "glance(ardl_combined)\n",
        "\n",
        "ardl_combined %>%\n",
        "  fabletools::forecast(new_data=transformed[216:219,]) %>%\n",
        "  accuracy(transformed)\n",
        "\n"
      ],
      "metadata": {
        "id": "BdDz8U0zGo5g",
        "outputId": "d9f7f9c9-a5d6-4db4-c16b-8c3df3ea7fa9",
        "colab": {
          "base_uri": "https://localhost:8080/",
          "height": 277
        }
      },
      "execution_count": 15,
      "outputs": [
        {
          "output_type": "display_data",
          "data": {
            "text/html": [
              "<table class=\"dataframe\">\n",
              "<caption>A tibble: 1 × 6</caption>\n",
              "<thead>\n",
              "\t<tr><th scope=col>.model</th><th scope=col>sigma2</th><th scope=col>AIC</th><th scope=col>AICc</th><th scope=col>BIC</th><th scope=col>dof</th></tr>\n",
              "\t<tr><th scope=col>&lt;chr&gt;</th><th scope=col>&lt;dbl&gt;</th><th scope=col>&lt;dbl&gt;</th><th scope=col>&lt;dbl&gt;</th><th scope=col>&lt;dbl&gt;</th><th scope=col>&lt;int&gt;</th></tr>\n",
              "</thead>\n",
              "<tbody>\n",
              "\t<tr><td>AR(GDPC1 ~ order(1) + CLAIMSx_lag1 + CLAIMSx_lag2 + CLAIMSx_lag3 + \n",
              "    CLAIMSx_lag4 + ANDENOx_lag1 + ANDENOx_lag2 + GS10TB3Mx_lag1 + \n",
              "    GS10TB3Mx_lag2 + UMCSENTx_lag1 + UMCSENTx_lag2 + UMCSENTx_lag3 + \n",
              "    UMCSENTx_lag4 + HOUST_lag1 + HOUST_lag2 + HOUST_lag3)</td><td>10.78291</td><td>-92.28266</td><td>-89.17606</td><td>-34.98181</td><td>198</td></tr>\n",
              "</tbody>\n",
              "</table>\n"
            ],
            "text/markdown": "\nA tibble: 1 × 6\n\n| .model &lt;chr&gt; | sigma2 &lt;dbl&gt; | AIC &lt;dbl&gt; | AICc &lt;dbl&gt; | BIC &lt;dbl&gt; | dof &lt;int&gt; |\n|---|---|---|---|---|---|\n| AR(GDPC1 ~ order(1) + CLAIMSx_lag1 + CLAIMSx_lag2 + CLAIMSx_lag3 + \n    CLAIMSx_lag4 + ANDENOx_lag1 + ANDENOx_lag2 + GS10TB3Mx_lag1 + \n    GS10TB3Mx_lag2 + UMCSENTx_lag1 + UMCSENTx_lag2 + UMCSENTx_lag3 + \n    UMCSENTx_lag4 + HOUST_lag1 + HOUST_lag2 + HOUST_lag3) | 10.78291 | -92.28266 | -89.17606 | -34.98181 | 198 |\n\n",
            "text/latex": "A tibble: 1 × 6\n\\begin{tabular}{llllll}\n .model & sigma2 & AIC & AICc & BIC & dof\\\\\n <chr> & <dbl> & <dbl> & <dbl> & <dbl> & <int>\\\\\n\\hline\n\t AR(GDPC1 \\textasciitilde{} order(1) + CLAIMSx\\_lag1 + CLAIMSx\\_lag2 + CLAIMSx\\_lag3 + \n    CLAIMSx\\_lag4 + ANDENOx\\_lag1 + ANDENOx\\_lag2 + GS10TB3Mx\\_lag1 + \n    GS10TB3Mx\\_lag2 + UMCSENTx\\_lag1 + UMCSENTx\\_lag2 + UMCSENTx\\_lag3 + \n    UMCSENTx\\_lag4 + HOUST\\_lag1 + HOUST\\_lag2 + HOUST\\_lag3) & 10.78291 & -92.28266 & -89.17606 & -34.98181 & 198\\\\\n\\end{tabular}\n",
            "text/plain": [
              "  .model                                                                                                                                                                                                                                                                   \n",
              "1 AR(GDPC1 ~ order(1) + CLAIMSx_lag1 + CLAIMSx_lag2 + CLAIMSx_lag3 + \\n    CLAIMSx_lag4 + ANDENOx_lag1 + ANDENOx_lag2 + GS10TB3Mx_lag1 + \\n    GS10TB3Mx_lag2 + UMCSENTx_lag1 + UMCSENTx_lag2 + UMCSENTx_lag3 + \\n    UMCSENTx_lag4 + HOUST_lag1 + HOUST_lag2 + HOUST_lag3)\n",
              "  sigma2   AIC       AICc      BIC       dof\n",
              "1 10.78291 -92.28266 -89.17606 -34.98181 198"
            ]
          },
          "metadata": {}
        },
        {
          "output_type": "display_data",
          "data": {
            "text/html": [
              "<table class=\"dataframe\">\n",
              "<caption>A tibble: 1 × 10</caption>\n",
              "<thead>\n",
              "\t<tr><th scope=col>.model</th><th scope=col>.type</th><th scope=col>ME</th><th scope=col>RMSE</th><th scope=col>MAE</th><th scope=col>MPE</th><th scope=col>MAPE</th><th scope=col>MASE</th><th scope=col>RMSSE</th><th scope=col>ACF1</th></tr>\n",
              "\t<tr><th scope=col>&lt;chr&gt;</th><th scope=col>&lt;chr&gt;</th><th scope=col>&lt;dbl&gt;</th><th scope=col>&lt;dbl&gt;</th><th scope=col>&lt;dbl&gt;</th><th scope=col>&lt;dbl&gt;</th><th scope=col>&lt;dbl&gt;</th><th scope=col>&lt;dbl&gt;</th><th scope=col>&lt;dbl&gt;</th><th scope=col>&lt;dbl&gt;</th></tr>\n",
              "</thead>\n",
              "<tbody>\n",
              "\t<tr><td>AR(GDPC1 ~ order(1) + CLAIMSx_lag1 + CLAIMSx_lag2 + CLAIMSx_lag3 + \n",
              "    CLAIMSx_lag4 + ANDENOx_lag1 + ANDENOx_lag2 + GS10TB3Mx_lag1 + \n",
              "    GS10TB3Mx_lag2 + UMCSENTx_lag1 + UMCSENTx_lag2 + UMCSENTx_lag3 + \n",
              "    UMCSENTx_lag4 + HOUST_lag1 + HOUST_lag2 + HOUST_lag3)</td><td>Test</td><td>1.217375</td><td>2.181504</td><td>2.059469</td><td>39.16988</td><td>65.9684</td><td>0.5499898</td><td>0.3509477</td><td>-0.3288316</td></tr>\n",
              "</tbody>\n",
              "</table>\n"
            ],
            "text/markdown": "\nA tibble: 1 × 10\n\n| .model &lt;chr&gt; | .type &lt;chr&gt; | ME &lt;dbl&gt; | RMSE &lt;dbl&gt; | MAE &lt;dbl&gt; | MPE &lt;dbl&gt; | MAPE &lt;dbl&gt; | MASE &lt;dbl&gt; | RMSSE &lt;dbl&gt; | ACF1 &lt;dbl&gt; |\n|---|---|---|---|---|---|---|---|---|---|\n| AR(GDPC1 ~ order(1) + CLAIMSx_lag1 + CLAIMSx_lag2 + CLAIMSx_lag3 + \n    CLAIMSx_lag4 + ANDENOx_lag1 + ANDENOx_lag2 + GS10TB3Mx_lag1 + \n    GS10TB3Mx_lag2 + UMCSENTx_lag1 + UMCSENTx_lag2 + UMCSENTx_lag3 + \n    UMCSENTx_lag4 + HOUST_lag1 + HOUST_lag2 + HOUST_lag3) | Test | 1.217375 | 2.181504 | 2.059469 | 39.16988 | 65.9684 | 0.5499898 | 0.3509477 | -0.3288316 |\n\n",
            "text/latex": "A tibble: 1 × 10\n\\begin{tabular}{llllllllll}\n .model & .type & ME & RMSE & MAE & MPE & MAPE & MASE & RMSSE & ACF1\\\\\n <chr> & <chr> & <dbl> & <dbl> & <dbl> & <dbl> & <dbl> & <dbl> & <dbl> & <dbl>\\\\\n\\hline\n\t AR(GDPC1 \\textasciitilde{} order(1) + CLAIMSx\\_lag1 + CLAIMSx\\_lag2 + CLAIMSx\\_lag3 + \n    CLAIMSx\\_lag4 + ANDENOx\\_lag1 + ANDENOx\\_lag2 + GS10TB3Mx\\_lag1 + \n    GS10TB3Mx\\_lag2 + UMCSENTx\\_lag1 + UMCSENTx\\_lag2 + UMCSENTx\\_lag3 + \n    UMCSENTx\\_lag4 + HOUST\\_lag1 + HOUST\\_lag2 + HOUST\\_lag3) & Test & 1.217375 & 2.181504 & 2.059469 & 39.16988 & 65.9684 & 0.5499898 & 0.3509477 & -0.3288316\\\\\n\\end{tabular}\n",
            "text/plain": [
              "  .model                                                                                                                                                                                                                                                                   \n",
              "1 AR(GDPC1 ~ order(1) + CLAIMSx_lag1 + CLAIMSx_lag2 + CLAIMSx_lag3 + \\n    CLAIMSx_lag4 + ANDENOx_lag1 + ANDENOx_lag2 + GS10TB3Mx_lag1 + \\n    GS10TB3Mx_lag2 + UMCSENTx_lag1 + UMCSENTx_lag2 + UMCSENTx_lag3 + \\n    UMCSENTx_lag4 + HOUST_lag1 + HOUST_lag2 + HOUST_lag3)\n",
              "  .type ME       RMSE     MAE      MPE      MAPE    MASE      RMSSE    \n",
              "1 Test  1.217375 2.181504 2.059469 39.16988 65.9684 0.5499898 0.3509477\n",
              "  ACF1      \n",
              "1 -0.3288316"
            ]
          },
          "metadata": {}
        }
      ]
    },
    {
      "cell_type": "markdown",
      "source": [
        "VAR"
      ],
      "metadata": {
        "id": "HJgWo7p-GYjp"
      }
    },
    {
      "cell_type": "code",
      "source": [
        "var <- transformed[1:215,] %>%\n",
        "  model(var1 = VAR(vars(GDPC1, CLAIMSx, UMCSENTx, GS10TB3Mx, ANDENOx, HOUST) ~ AR(1)),\n",
        "        var2 = VAR(vars(GDPC1, CLAIMSx, UMCSENTx, GS10TB3Mx, ANDENOx, HOUST) ~ AR(2)),\n",
        "        var3 = VAR(vars(GDPC1, CLAIMSx, UMCSENTx, GS10TB3Mx, ANDENOx, HOUST) ~ AR(3)),\n",
        "        var4 = VAR(vars(GDPC1, CLAIMSx, UMCSENTx, GS10TB3Mx, ANDENOx, HOUST) ~ AR(4)))\n",
        "\n",
        "\n",
        "for (i in 1:4){\n",
        "   print(sprintf(\"AIC of VAR %s is %s\", i, var[[i]][[1]][[\"fit\"]][[\"fit\"]][[\"AIC\"]]))\n",
        "}\n",
        "\n",
        "var %>%\n",
        "  fabletools::forecast(new_data=transformed[216:219,]) %>%\n",
        "  accuracy(transformed) %>%\n",
        "  filter(.response == 'GDPC1') %>%\n",
        "  arrange(RMSE)\n"
      ],
      "metadata": {
        "id": "Hm3QkmJAIxzo",
        "outputId": "9520e202-442b-4394-923b-44176cdf7c6d",
        "colab": {
          "base_uri": "https://localhost:8080/",
          "height": 295
        }
      },
      "execution_count": 31,
      "outputs": [
        {
          "output_type": "stream",
          "name": "stdout",
          "text": [
            "[1] \"AIC of VAR 1 is 7409.27755768287\"\n",
            "[1] \"AIC of VAR 2 is 7317.09559771354\"\n",
            "[1] \"AIC of VAR 3 is 7325.64587576418\"\n",
            "[1] \"AIC of VAR 4 is 7302.2307184856\"\n"
          ]
        },
        {
          "output_type": "display_data",
          "data": {
            "text/html": [
              "<table class=\"dataframe\">\n",
              "<caption>A tibble: 4 × 11</caption>\n",
              "<thead>\n",
              "\t<tr><th scope=col>.model</th><th scope=col>.response</th><th scope=col>.type</th><th scope=col>ME</th><th scope=col>RMSE</th><th scope=col>MAE</th><th scope=col>MPE</th><th scope=col>MAPE</th><th scope=col>MASE</th><th scope=col>RMSSE</th><th scope=col>ACF1</th></tr>\n",
              "\t<tr><th scope=col>&lt;chr&gt;</th><th scope=col>&lt;chr&gt;</th><th scope=col>&lt;chr&gt;</th><th scope=col>&lt;dbl&gt;</th><th scope=col>&lt;dbl&gt;</th><th scope=col>&lt;dbl&gt;</th><th scope=col>&lt;dbl&gt;</th><th scope=col>&lt;dbl&gt;</th><th scope=col>&lt;dbl&gt;</th><th scope=col>&lt;dbl&gt;</th><th scope=col>&lt;dbl&gt;</th></tr>\n",
              "</thead>\n",
              "<tbody>\n",
              "\t<tr><td>var1</td><td>GDPC1</td><td>Test</td><td>1.551045</td><td>1.667352</td><td>1.551045</td><td> 47.76156</td><td> 47.76156</td><td>0.4142132</td><td>0.2682339</td><td>-0.3906258</td></tr>\n",
              "\t<tr><td>var2</td><td>GDPC1</td><td>Test</td><td>2.120961</td><td>2.218015</td><td>2.120961</td><td> 66.89606</td><td> 66.89606</td><td>0.5664117</td><td>0.3568214</td><td>-0.5469034</td></tr>\n",
              "\t<tr><td>var3</td><td>GDPC1</td><td>Test</td><td>2.990439</td><td>3.027955</td><td>2.990439</td><td> 97.25131</td><td> 97.25131</td><td>0.7986094</td><td>0.4871199</td><td>-0.3374764</td></tr>\n",
              "\t<tr><td>var4</td><td>GDPC1</td><td>Test</td><td>3.505753</td><td>3.615190</td><td>3.505753</td><td>112.80827</td><td>112.80827</td><td>0.9362261</td><td>0.5815907</td><td>-0.5946136</td></tr>\n",
              "</tbody>\n",
              "</table>\n"
            ],
            "text/markdown": "\nA tibble: 4 × 11\n\n| .model &lt;chr&gt; | .response &lt;chr&gt; | .type &lt;chr&gt; | ME &lt;dbl&gt; | RMSE &lt;dbl&gt; | MAE &lt;dbl&gt; | MPE &lt;dbl&gt; | MAPE &lt;dbl&gt; | MASE &lt;dbl&gt; | RMSSE &lt;dbl&gt; | ACF1 &lt;dbl&gt; |\n|---|---|---|---|---|---|---|---|---|---|---|\n| var1 | GDPC1 | Test | 1.551045 | 1.667352 | 1.551045 |  47.76156 |  47.76156 | 0.4142132 | 0.2682339 | -0.3906258 |\n| var2 | GDPC1 | Test | 2.120961 | 2.218015 | 2.120961 |  66.89606 |  66.89606 | 0.5664117 | 0.3568214 | -0.5469034 |\n| var3 | GDPC1 | Test | 2.990439 | 3.027955 | 2.990439 |  97.25131 |  97.25131 | 0.7986094 | 0.4871199 | -0.3374764 |\n| var4 | GDPC1 | Test | 3.505753 | 3.615190 | 3.505753 | 112.80827 | 112.80827 | 0.9362261 | 0.5815907 | -0.5946136 |\n\n",
            "text/latex": "A tibble: 4 × 11\n\\begin{tabular}{lllllllllll}\n .model & .response & .type & ME & RMSE & MAE & MPE & MAPE & MASE & RMSSE & ACF1\\\\\n <chr> & <chr> & <chr> & <dbl> & <dbl> & <dbl> & <dbl> & <dbl> & <dbl> & <dbl> & <dbl>\\\\\n\\hline\n\t var1 & GDPC1 & Test & 1.551045 & 1.667352 & 1.551045 &  47.76156 &  47.76156 & 0.4142132 & 0.2682339 & -0.3906258\\\\\n\t var2 & GDPC1 & Test & 2.120961 & 2.218015 & 2.120961 &  66.89606 &  66.89606 & 0.5664117 & 0.3568214 & -0.5469034\\\\\n\t var3 & GDPC1 & Test & 2.990439 & 3.027955 & 2.990439 &  97.25131 &  97.25131 & 0.7986094 & 0.4871199 & -0.3374764\\\\\n\t var4 & GDPC1 & Test & 3.505753 & 3.615190 & 3.505753 & 112.80827 & 112.80827 & 0.9362261 & 0.5815907 & -0.5946136\\\\\n\\end{tabular}\n",
            "text/plain": [
              "  .model .response .type ME       RMSE     MAE      MPE       MAPE     \n",
              "1 var1   GDPC1     Test  1.551045 1.667352 1.551045  47.76156  47.76156\n",
              "2 var2   GDPC1     Test  2.120961 2.218015 2.120961  66.89606  66.89606\n",
              "3 var3   GDPC1     Test  2.990439 3.027955 2.990439  97.25131  97.25131\n",
              "4 var4   GDPC1     Test  3.505753 3.615190 3.505753 112.80827 112.80827\n",
              "  MASE      RMSSE     ACF1      \n",
              "1 0.4142132 0.2682339 -0.3906258\n",
              "2 0.5664117 0.3568214 -0.5469034\n",
              "3 0.7986094 0.4871199 -0.3374764\n",
              "4 0.9362261 0.5815907 -0.5946136"
            ]
          },
          "metadata": {}
        }
      ]
    },
    {
      "cell_type": "markdown",
      "source": [
        "## Forecasting"
      ],
      "metadata": {
        "id": "Z7xhou0VKlax"
      }
    },
    {
      "cell_type": "code",
      "source": [
        "## Q1 2024\n",
        "### AR\n",
        "ar1 <-transformed %>%\n",
        "  model(ar1 = AR(GDPC1 ~ order(1)))\n",
        "\n",
        "ar1_fc <- ar1 %>%\n",
        "  fabletools::forecast(h=5)\n",
        "ar1_fc %>%\n",
        "  hilo(50)\n",
        "\n",
        "\n",
        "### ARDL using direct h-step forecasting\n",
        "transformed_ardl <- transformed %>%\n",
        "  mutate(across(c(GDPC1, GS10TB3Mx, CLAIMSx, ANDENOx, UMCSENTx, HOUST),\n",
        "                list(lag5 = ~ lag(., 5), lag6 = ~ lag(., 6),lag7 = ~ lag(., 7), lag8 = ~ lag(., 8), lag9 = ~ lag(., 9)),\n",
        "                .names = \"{col}_{fn}\"))\n",
        "\n",
        "last_obs <- transformed_ardl %>% slice_tail(n = 3)\n",
        "future_data1 <- new_data(transformed, n = 1, keep_all=TRUE) %>%\n",
        "  mutate(\n",
        "    date = yearquarter(\"2025 Q1\"),\n",
        "    GDPC1_lag2 = last_obs$GDPC1[3],\n",
        "    CLAIMSx_lag2 = last_obs$CLAIMSx_lag1[3],\n",
        "    CLAIMSx_lag3 = last_obs$CLAIMSx_lag2[3],  # Correctly getting the t-2 value\n",
        "    CLAIMSx_lag4 = last_obs$CLAIMSx_lag3[3],\n",
        "    CLAIMSx_lag5 = last_obs$CLAIMSx_lag4[3],\n",
        "    ANDENOx_lag2 = last_obs$ANDENOx_lag1[3],\n",
        "    ANDENOx_lag3 = last_obs$ANDENOx_lag2[3],\n",
        "    GS10TB3Mx_lag2 = last_obs$GS10TB3Mx_lag1[3],\n",
        "    GS10TB3Mx_lag3 = last_obs$GS10TB3Mx_lag2[3],\n",
        "    UMCSENTx_lag2 = last_obs$UMCSENTx_lag1[3],\n",
        "    UMCSENTx_lag3 = last_obs$UMCSENTx_lag2[3],\n",
        "    UMCSENTx_lag4 = last_obs$UMCSENTx_lag3[3],\n",
        "    UMCSENTx_lag5 = last_obs$UMCSENTx_lag4[3],\n",
        "    HOUST_lag2 = last_obs$HOUST_lag1[3],\n",
        "    HOUST_lag3 = last_obs$HOUST_lag2[3],\n",
        "    HOUST_lag4 = last_obs$HOUST_lag3[3],\n",
        "  )\n",
        "head\n",
        "q1_ardl <- transformed_ardl %>%\n",
        "  model(TSLM(GDPC1 ~ GDPC1_lag2 + CLAIMSx_lag2 + CLAIMSx_lag3 + CLAIMSx_lag4 + CLAIMSx_lag5 + ANDENOx_lag2 + ANDENOx_lag3 + GS10TB3Mx_lag2 + GS10TB3Mx_lag3 + UMCSENTx_lag2 + UMCSENTx_lag3 + UMCSENTx_lag4 + UMCSENTx_lag5 + HOUST_lag2 + HOUST_lag3 + HOUST_lag4))\n",
        "ardl_fc_q1 <- q1_ardl %>%\n",
        "  fabletools::forecast(future_data1)\n",
        "hilo(ardl_fc_q1, 50) %>%\n",
        "  dplyr::select(.mean, '50%')\n",
        "\n",
        "### VAR\n",
        "var_fc <- transformed %>%\n",
        "  model(var1 = VAR(vars(GDPC1, CLAIMSx, UMCSENTx, GS10TB3Mx, ANDENOx, HOUST) ~ AR(2))) %>%\n",
        "  fabletools::forecast()\n",
        "\n",
        "hilo(var_fc, 50) %>%\n",
        "  dplyr::select(.mean, '50%')\n",
        "\n",
        "mean_forecast_q1 <- (ar1_fc[2,4] + var_fc[[4]][2] + ardl_fc_q1[4])/3\n",
        "print(sprintf(\"The mean forecast growth for Q1 2025 is %s%%\", round(mean_forecast_q1,2)))"
      ],
      "metadata": {
        "id": "jGg6hPEcKpFC",
        "outputId": "890d3828-a247-4934-d6d6-86bccbc76878",
        "colab": {
          "base_uri": "https://localhost:8080/",
          "height": 1000
        }
      },
      "execution_count": 42,
      "outputs": [
        {
          "output_type": "display_data",
          "data": {
            "text/html": [
              "<table class=\"dataframe\">\n",
              "<caption>A tbl_ts: 5 × 5</caption>\n",
              "<thead>\n",
              "\t<tr><th scope=col>.model</th><th scope=col>date</th><th scope=col>GDPC1</th><th scope=col>.mean</th><th scope=col>50%</th></tr>\n",
              "\t<tr><th scope=col>&lt;chr&gt;</th><th scope=col>&lt;qtr&gt;</th><th scope=col>&lt;dist&gt;</th><th scope=col>&lt;dbl&gt;</th><th scope=col>&lt;hilo&gt;</th></tr>\n",
              "</thead>\n",
              "<tbody>\n",
              "\t<tr><td>ar1</td><td>2024 Q4</td><td>N(2.7, 19)</td><td>2.687118</td><td>[-0.2370247, 5.611261]50</td></tr>\n",
              "\t<tr><td>ar1</td><td>2025 Q1</td><td>N(2.7, 19)</td><td>2.687968</td><td>[-0.2361841, 5.612120]50</td></tr>\n",
              "\t<tr><td>ar1</td><td>2025 Q2</td><td>N(2.7, 19)</td><td>2.687966</td><td>[-0.2361862, 5.612118]50</td></tr>\n",
              "\t<tr><td>ar1</td><td>2025 Q3</td><td>N(2.7, 19)</td><td>2.687966</td><td>[-0.2361862, 5.612118]50</td></tr>\n",
              "\t<tr><td>ar1</td><td>2025 Q4</td><td>N(2.7, 19)</td><td>2.687966</td><td>[-0.2361862, 5.612118]50</td></tr>\n",
              "</tbody>\n",
              "</table>\n"
            ],
            "text/markdown": "\nA tbl_ts: 5 × 5\n\n| .model &lt;chr&gt; | date &lt;qtr&gt; | GDPC1 &lt;dist&gt; | .mean &lt;dbl&gt; | 50% &lt;hilo&gt; |\n|---|---|---|---|---|\n| ar1 | 2024 Q4 | N(2.7, 19) | 2.687118 | [-0.2370247, 5.611261]50 |\n| ar1 | 2025 Q1 | N(2.7, 19) | 2.687968 | [-0.2361841, 5.612120]50 |\n| ar1 | 2025 Q2 | N(2.7, 19) | 2.687966 | [-0.2361862, 5.612118]50 |\n| ar1 | 2025 Q3 | N(2.7, 19) | 2.687966 | [-0.2361862, 5.612118]50 |\n| ar1 | 2025 Q4 | N(2.7, 19) | 2.687966 | [-0.2361862, 5.612118]50 |\n\n",
            "text/latex": "A tbl\\_ts: 5 × 5\n\\begin{tabular}{lllll}\n .model & date & GDPC1 & .mean & 50\\%\\\\\n <chr> & <qtr> & <dist> & <dbl> & <hilo>\\\\\n\\hline\n\t ar1 & 2024 Q4 & N(2.7, 19) & 2.687118 & {[}-0.2370247, 5.611261{]}50\\\\\n\t ar1 & 2025 Q1 & N(2.7, 19) & 2.687968 & {[}-0.2361841, 5.612120{]}50\\\\\n\t ar1 & 2025 Q2 & N(2.7, 19) & 2.687966 & {[}-0.2361862, 5.612118{]}50\\\\\n\t ar1 & 2025 Q3 & N(2.7, 19) & 2.687966 & {[}-0.2361862, 5.612118{]}50\\\\\n\t ar1 & 2025 Q4 & N(2.7, 19) & 2.687966 & {[}-0.2361862, 5.612118{]}50\\\\\n\\end{tabular}\n",
            "text/plain": [
              "  .model date    GDPC1      .mean    50%                     \n",
              "1 ar1    2024 Q4 N(2.7, 19) 2.687118 [-0.2370247, 5.611261]50\n",
              "2 ar1    2025 Q1 N(2.7, 19) 2.687968 [-0.2361841, 5.612120]50\n",
              "3 ar1    2025 Q2 N(2.7, 19) 2.687966 [-0.2361862, 5.612118]50\n",
              "4 ar1    2025 Q3 N(2.7, 19) 2.687966 [-0.2361862, 5.612118]50\n",
              "5 ar1    2025 Q4 N(2.7, 19) 2.687966 [-0.2361862, 5.612118]50"
            ]
          },
          "metadata": {}
        },
        {
          "output_type": "display_data",
          "data": {
            "text/html": [
              "<pre class=language-r><code>function (x, ...) \n",
              "UseMethod(\"head\")</code></pre>"
            ],
            "text/markdown": "```r\nfunction (x, ...) \nUseMethod(\"head\")\n```",
            "text/latex": "\\begin{minted}{r}\nfunction (x, ...) \nUseMethod(\"head\")\n\\end{minted}",
            "text/plain": [
              "function (x, ...) \n",
              "UseMethod(\"head\")\n",
              "<bytecode: 0x5cc1ca475308>\n",
              "<environment: namespace:utils>"
            ]
          },
          "metadata": {}
        },
        {
          "output_type": "display_data",
          "data": {
            "text/html": [
              "<table class=\"dataframe\">\n",
              "<caption>A tbl_ts: 1 × 3</caption>\n",
              "<thead>\n",
              "\t<tr><th scope=col>.mean</th><th scope=col>50%</th><th scope=col>date</th></tr>\n",
              "\t<tr><th scope=col>&lt;dbl&gt;</th><th scope=col>&lt;hilo&gt;</th><th scope=col>&lt;qtr&gt;</th></tr>\n",
              "</thead>\n",
              "<tbody>\n",
              "\t<tr><td>0.1415071</td><td>[-2.741421, 3.024435]50</td><td>2025 Q1</td></tr>\n",
              "</tbody>\n",
              "</table>\n"
            ],
            "text/markdown": "\nA tbl_ts: 1 × 3\n\n| .mean &lt;dbl&gt; | 50% &lt;hilo&gt; | date &lt;qtr&gt; |\n|---|---|---|\n| 0.1415071 | [-2.741421, 3.024435]50 | 2025 Q1 |\n\n",
            "text/latex": "A tbl\\_ts: 1 × 3\n\\begin{tabular}{lll}\n .mean & 50\\% & date\\\\\n <dbl> & <hilo> & <qtr>\\\\\n\\hline\n\t 0.1415071 & {[}-2.741421, 3.024435{]}50 & 2025 Q1\\\\\n\\end{tabular}\n",
            "text/plain": [
              "  .mean     50%                     date   \n",
              "1 0.1415071 [-2.741421, 3.024435]50 2025 Q1"
            ]
          },
          "metadata": {}
        },
        {
          "output_type": "display_data",
          "data": {
            "text/plain": [
              "  .mean      <NA>     <NA>       <NA>        <NA>       <NA>      \n",
              "1 -0.4330342 9.657873 -1.8179432 -0.97109642 -4.9898275 -6.5875003\n",
              "2  2.7371425 3.499008 -2.0355182 -0.61584446 -0.4364838 -4.7907885\n",
              "3  0.1681690 6.477541 -1.2548836 -0.25251502 -2.1437307 -3.4991415\n",
              "4  1.4518235 4.429064 -0.7391259  0.02813594 -1.6221799 -2.6623239\n",
              "5  1.2006864 3.979401 -0.8372555  0.31090354 -1.5883119 -1.6861095\n",
              "6  1.7813782 2.620591 -0.4152749  0.52947530 -1.0824092 -1.0458482\n",
              "7  1.8537110 2.341234 -0.4137416  0.71361720 -0.8905777 -0.7916619\n",
              "8  2.0917491 1.829921 -0.3241255  0.86054045 -0.6180659 -0.5928551\n",
              "  50%$GDPC1                 50%$CLAIMSx              50%$UMCSENTx           \n",
              "1 [-2.66421239, 1.798144]50 [ 0.5506869, 18.76506]50 [-5.275139, 1.639253]50\n",
              "2 [ 0.09302205, 5.381263]50 [-7.0043466, 14.00236]50 [-5.693558, 1.622522]50\n",
              "3 [-2.72614389, 3.062482]50 [-4.4850805, 17.44016]50 [-4.949418, 2.439651]50\n",
              "4 [-1.51530000, 4.418947]50 [-6.7286952, 15.58682]50 [-4.458879, 2.980627]50\n",
              "5 [-1.78493432, 4.186307]50 [-7.2146454, 15.17345]50 [-4.562514, 2.888003]50\n",
              "6 [-1.21757885, 4.780335]50 [-8.6083473, 13.84953]50 [-4.147436, 3.316887]50\n",
              "7 [-1.15143759, 4.858860]50 [-8.9027126, 13.58518]50 [-4.147884, 3.320401]50\n",
              "8 [-0.91818170, 5.101680]50 [-9.4236447, 13.08349]50 [-4.059160, 3.410909]50\n",
              "  50%$GS10TB3Mx                50%$ANDENOx              \n",
              "1 [-1.336961496, -0.6052313]50 [-9.313005, -0.6666503]50\n",
              "2 [-1.168785721, -0.0629032]50 [-4.999100,  4.1261323]50\n",
              "3 [-0.920296425,  0.4152664]50 [-6.779904,  2.4924429]50\n",
              "4 [-0.715740514,  0.7720124]50 [-6.319967,  3.0756076]50\n",
              "5 [-0.485161941,  1.1069690]50 [-6.305590,  3.1289664]50\n",
              "6 [-0.301193162,  1.3601438]50 [-5.811531,  3.6467128]50\n",
              "7 [-0.140181515,  1.5674159]50 [-5.626678,  3.8455225]50\n",
              "8 [-0.008553492,  1.7296344]50 [-5.359293,  4.1231611]50\n",
              "  50%$HOUST                  date   \n",
              "1 [-11.837149, -1.3378520]50 2024 Q4\n",
              "2 [-10.306998,  0.7254209]50 2025 Q1\n",
              "3 [ -9.342844,  2.3445608]50 2025 Q2\n",
              "4 [ -8.624356,  3.2997086]50 2025 Q3\n",
              "5 [ -7.689688,  4.3174687]50 2025 Q4\n",
              "6 [ -7.075449,  4.9837530]50 2026 Q1\n",
              "7 [ -6.832218,  5.2488937]50 2026 Q2\n",
              "8 [ -6.638415,  5.4527050]50 2026 Q3"
            ]
          },
          "metadata": {}
        },
        {
          "output_type": "stream",
          "name": "stdout",
          "text": [
            "[1] \"The mean forecast growth for Q1 2025 is 1.86%\"\n"
          ]
        }
      ]
    },
    {
      "cell_type": "code",
      "source": [
        "## Q2 2025\n",
        "### ARDL using direct h-step forecasting\n",
        "transformed_ardl <- transformed %>%\n",
        "  mutate(across(c(GDPC1, GS10TB3Mx, CLAIMSx, ANDENOx, UMCSENTx, HOUST),\n",
        "                list(lag5 = ~ lag(., 5), lag6 = ~ lag(., 6),lag7 = ~ lag(., 7), lag8 = ~ lag(., 8), lag9 = ~ lag(., 9)),\n",
        "                .names = \"{col}_{fn}\"))\n",
        "\n",
        "\n",
        "future_data2 <- new_data(transformed, n = 1, keep_all=TRUE) %>%\n",
        "  mutate(\n",
        "    date = yearquarter(\"2025 Q2\"),\n",
        "    GDPC1_lag3 = last_obs$GDPC1[3],\n",
        "    CLAIMSx_lag3 = last_obs$CLAIMSx_lag1[3],\n",
        "    CLAIMSx_lag4 = last_obs$CLAIMSx_lag2[3],  # Correctly getting the t-2 value\n",
        "    CLAIMSx_lag5 = last_obs$CLAIMSx_lag3[3],\n",
        "    CLAIMSx_lag6 = last_obs$CLAIMSx_lag4[3],\n",
        "    ANDENOx_lag3 = last_obs$ANDENOx_lag1[3],\n",
        "    ANDENOx_lag4 = last_obs$ANDENOx_lag2[3],\n",
        "    GS10TB3Mx_lag3 = last_obs$GS10TB3Mx_lag1[3],\n",
        "    GS10TB3Mx_lag4 = last_obs$GS10TB3Mx_lag2[3],\n",
        "    UMCSENTx_lag3 = last_obs$UMCSENTx_lag1[3],\n",
        "    UMCSENTx_lag4 = last_obs$UMCSENTx_lag2[3],\n",
        "    UMCSENTx_lag5 = last_obs$UMCSENTx_lag3[3],\n",
        "    UMCSENTx_lag6 = last_obs$UMCSENTx_lag4[3],\n",
        "    HOUST_lag3 = last_obs$HOUST_lag1[3],\n",
        "    HOUST_lag4 = last_obs$HOUST_lag2[3],\n",
        "    HOUST_lag5 = last_obs$HOUST_lag3[3],\n",
        "  )\n",
        "head\n",
        "q2_ardl <- transformed_ardl %>%\n",
        "  model(TSLM(GDPC1 ~ GDPC1_lag3 + CLAIMSx_lag3 + CLAIMSx_lag4 + CLAIMSx_lag5 + CLAIMSx_lag6 + ANDENOx_lag3 + ANDENOx_lag4 + GS10TB3Mx_lag3 + GS10TB3Mx_lag4 + UMCSENTx_lag3 + UMCSENTx_lag4 + UMCSENTx_lag5 + UMCSENTx_lag6 + HOUST_lag3 + HOUST_lag4 + HOUST_lag5))\n",
        "ardl_fc_q2 <- q2_ardl %>%\n",
        "  fabletools::forecast(future_data2)\n",
        "hilo(ardl_fc_q2, 50) %>%\n",
        "  dplyr::select(.mean, '50%')\n",
        "\n",
        "mean_forecast_q2 <- (ar1_fc[3,4] + var_fc[[4]][3] + ardl_fc_q2[4])/3\n",
        "print(sprintf(\"The mean forecast growth for Q2 2025 is %s%%\", round(mean_forecast_q2,2)))\n",
        "\n",
        "### Since our VAR and AR forecasts are already iterated through Q4 2025, we do not need to do a separate forecast and will just take the corresponding values from the forecast earlier."
      ],
      "metadata": {
        "id": "vJ2UWIUP6Pcc",
        "outputId": "394e9160-95c0-4201-c175-6dcb6221447f",
        "colab": {
          "base_uri": "https://localhost:8080/",
          "height": 182
        }
      },
      "execution_count": 33,
      "outputs": [
        {
          "output_type": "display_data",
          "data": {
            "text/html": [
              "<pre class=language-r><code>function (x, ...) \n",
              "UseMethod(\"head\")</code></pre>"
            ],
            "text/markdown": "```r\nfunction (x, ...) \nUseMethod(\"head\")\n```",
            "text/latex": "\\begin{minted}{r}\nfunction (x, ...) \nUseMethod(\"head\")\n\\end{minted}",
            "text/plain": [
              "function (x, ...) \n",
              "UseMethod(\"head\")\n",
              "<bytecode: 0x5cc1ca475308>\n",
              "<environment: namespace:utils>"
            ]
          },
          "metadata": {}
        },
        {
          "output_type": "display_data",
          "data": {
            "text/html": [
              "<table class=\"dataframe\">\n",
              "<caption>A tbl_ts: 1 × 3</caption>\n",
              "<thead>\n",
              "\t<tr><th scope=col>.mean</th><th scope=col>50%</th><th scope=col>date</th></tr>\n",
              "\t<tr><th scope=col>&lt;dbl&gt;</th><th scope=col>&lt;hilo&gt;</th><th scope=col>&lt;qtr&gt;</th></tr>\n",
              "</thead>\n",
              "<tbody>\n",
              "\t<tr><td>0.3244481</td><td>[-2.731409, 3.380306]50</td><td>2025 Q2</td></tr>\n",
              "</tbody>\n",
              "</table>\n"
            ],
            "text/markdown": "\nA tbl_ts: 1 × 3\n\n| .mean &lt;dbl&gt; | 50% &lt;hilo&gt; | date &lt;qtr&gt; |\n|---|---|---|\n| 0.3244481 | [-2.731409, 3.380306]50 | 2025 Q2 |\n\n",
            "text/latex": "A tbl\\_ts: 1 × 3\n\\begin{tabular}{lll}\n .mean & 50\\% & date\\\\\n <dbl> & <hilo> & <qtr>\\\\\n\\hline\n\t 0.3244481 & {[}-2.731409, 3.380306{]}50 & 2025 Q2\\\\\n\\end{tabular}\n",
            "text/plain": [
              "  .mean     50%                     date   \n",
              "1 0.3244481 [-2.731409, 3.380306]50 2025 Q2"
            ]
          },
          "metadata": {}
        },
        {
          "output_type": "stream",
          "name": "stdout",
          "text": [
            "[1] \"The mean forecast growth for Q2 2025 is 1.06%\"\n"
          ]
        }
      ]
    },
    {
      "cell_type": "code",
      "source": [
        "## Q4 2025\n",
        "### ARDL using direct h-step forecasting\n",
        "transformed_ardl <- transformed %>%\n",
        "  mutate(across(c(GDPC1, GS10TB3Mx, CLAIMSx, ANDENOx, UMCSENTx, HOUST),\n",
        "                list(lag5 = ~ lag(., 5), lag6 = ~ lag(., 6),lag7 = ~ lag(., 7), lag8 = ~ lag(., 8), lag9 = ~ lag(., 9)),\n",
        "                .names = \"{col}_{fn}\"))\n",
        "\n",
        "\n",
        "future_data2 <- new_data(transformed, n = 1, keep_all=TRUE) %>%\n",
        "  mutate(\n",
        "    date = yearquarter(\"2025 Q4\"),\n",
        "    GDPC1_lag5 = last_obs$GDPC1[3],\n",
        "    CLAIMSx_lag5 = last_obs$CLAIMSx_lag1[3],\n",
        "    CLAIMSx_lag6 = last_obs$CLAIMSx_lag2[3],  # Correctly getting the t-2 value\n",
        "    CLAIMSx_lag7 = last_obs$CLAIMSx_lag3[3],\n",
        "    CLAIMSx_lag8 = last_obs$CLAIMSx_lag4[3],\n",
        "    ANDENOx_lag5 = last_obs$ANDENOx_lag1[3],\n",
        "    ANDENOx_lag6 = last_obs$ANDENOx_lag2[3],\n",
        "    GS10TB3Mx_lag5 = last_obs$GS10TB3Mx_lag1[3],\n",
        "    GS10TB3Mx_lag6 = last_obs$GS10TB3Mx_lag2[3],\n",
        "    UMCSENTx_lag5 = last_obs$UMCSENTx_lag1[3],\n",
        "    UMCSENTx_lag6 = last_obs$UMCSENTx_lag2[3],\n",
        "    UMCSENTx_lag7 = last_obs$UMCSENTx_lag3[3],\n",
        "    UMCSENTx_lag8 = last_obs$UMCSENTx_lag4[3],\n",
        "    HOUST_lag5 = last_obs$HOUST_lag1[3],\n",
        "    HOUST_lag6 = last_obs$HOUST_lag2[3],\n",
        "    HOUST_lag7 = last_obs$HOUST_lag3[3],\n",
        "  )\n",
        "head\n",
        "q4_ardl <- transformed_ardl %>%\n",
        "  model(TSLM(GDPC1 ~ GDPC1_lag5 + CLAIMSx_lag5 + CLAIMSx_lag6 + CLAIMSx_lag7 + CLAIMSx_lag8 + ANDENOx_lag5 + ANDENOx_lag6 + GS10TB3Mx_lag5 + GS10TB3Mx_lag6 + UMCSENTx_lag5 + UMCSENTx_lag6 + UMCSENTx_lag7 + UMCSENTx_lag8 + HOUST_lag5 + HOUST_lag6 + HOUST_lag7))\n",
        "ardl_fc_q4 <- q4_ardl %>%\n",
        "  fabletools::forecast(future_data2)\n",
        "hilo(ardl_fc_q4, 50) %>%\n",
        "  dplyr::select(.mean, '50%')\n",
        "\n",
        "mean_forecast_q4 <- (ar1_fc[5,4] + var_fc[[4]][5] + ardl_fc_q4[4])/3\n",
        "print(sprintf(\"The mean forecast growth for Q4 2025 is %s%%\", round(mean_forecast_q4,2)))\n",
        "\n",
        "### Since our VAR and AR forecasts are already iterated through Q4 2025, we do not need to do a separate forecast and will just take the corresponding values from the forecast earlier."
      ],
      "metadata": {
        "id": "e1vrRQ1D8EpC",
        "outputId": "5c15ab1b-1198-43b3-a1d5-082f58dea67a",
        "colab": {
          "base_uri": "https://localhost:8080/",
          "height": 182
        }
      },
      "execution_count": 41,
      "outputs": [
        {
          "output_type": "display_data",
          "data": {
            "text/html": [
              "<pre class=language-r><code>function (x, ...) \n",
              "UseMethod(\"head\")</code></pre>"
            ],
            "text/markdown": "```r\nfunction (x, ...) \nUseMethod(\"head\")\n```",
            "text/latex": "\\begin{minted}{r}\nfunction (x, ...) \nUseMethod(\"head\")\n\\end{minted}",
            "text/plain": [
              "function (x, ...) \n",
              "UseMethod(\"head\")\n",
              "<bytecode: 0x5cc1ca475308>\n",
              "<environment: namespace:utils>"
            ]
          },
          "metadata": {}
        },
        {
          "output_type": "display_data",
          "data": {
            "text/html": [
              "<table class=\"dataframe\">\n",
              "<caption>A tbl_ts: 1 × 3</caption>\n",
              "<thead>\n",
              "\t<tr><th scope=col>.mean</th><th scope=col>50%</th><th scope=col>date</th></tr>\n",
              "\t<tr><th scope=col>&lt;dbl&gt;</th><th scope=col>&lt;hilo&gt;</th><th scope=col>&lt;qtr&gt;</th></tr>\n",
              "</thead>\n",
              "<tbody>\n",
              "\t<tr><td>1.370689</td><td>[-1.67057, 4.411949]50</td><td>2025 Q4</td></tr>\n",
              "</tbody>\n",
              "</table>\n"
            ],
            "text/markdown": "\nA tbl_ts: 1 × 3\n\n| .mean &lt;dbl&gt; | 50% &lt;hilo&gt; | date &lt;qtr&gt; |\n|---|---|---|\n| 1.370689 | [-1.67057, 4.411949]50 | 2025 Q4 |\n\n",
            "text/latex": "A tbl\\_ts: 1 × 3\n\\begin{tabular}{lll}\n .mean & 50\\% & date\\\\\n <dbl> & <hilo> & <qtr>\\\\\n\\hline\n\t 1.370689 & {[}-1.67057, 4.411949{]}50 & 2025 Q4\\\\\n\\end{tabular}\n",
            "text/plain": [
              "  .mean    50%                    date   \n",
              "1 1.370689 [-1.67057, 4.411949]50 2025 Q4"
            ]
          },
          "metadata": {}
        },
        {
          "output_type": "stream",
          "name": "stdout",
          "text": [
            "[1] \"The mean forecast growth for Q4 2025 is 1.88%\"\n"
          ]
        }
      ]
    }
  ],
  "metadata": {
    "kernelspec": {
      "display_name": "R",
      "name": "ir"
    },
    "language_info": {
      "name": "R"
    },
    "colab": {
      "provenance": []
    }
  },
  "nbformat": 4,
  "nbformat_minor": 0
}