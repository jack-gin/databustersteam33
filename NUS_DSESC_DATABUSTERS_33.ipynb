{
  "cells": [
    {
      "cell_type": "markdown",
      "metadata": {
        "id": "Ac7I8Cn1uCXl"
      },
      "source": [
        "## 1) Libraries Installation\n",
        "##### The cell below is to help you keep track the libraries used and install them quickly.\n",
        "##### Ensure the correct library names are used, and follow the syntax: **%pip install PACKAGE_NAME**."
      ]
    },
    {
      "cell_type": "code",
      "execution_count": 45,
      "metadata": {
        "id": "a4GYYh8ruCXl"
      },
      "outputs": [],
      "source": [
        "#install.packages('tsibble')\n",
        "#install.packages('fable')\n",
        "#install.packages('fabletools')\n",
        "#install.packages('BVAR')\n",
        "#install.packages('feasts')\n",
        "##install.packages(\"urca\")\n",
        "#install.packages('tseries')\n",
        "library(tidyverse)\n",
        "library(tsibble)\n",
        "library(fable)\n",
        "library(fabletools)\n",
        "library(stats)\n",
        "library(BVAR)\n",
        "library(feasts)\n",
        "library(urca)\n",
        "library(tseries)\n",
        "library(ggplot2)"
      ]
    },
    {
      "cell_type": "markdown",
      "metadata": {
        "id": "0dW6s07OuCXm"
      },
      "source": [
        "## 2) Main Section for Code\n",
        "### Preparing dataset for analysis and applying the relevant stationarity-inducing transformations to the variables."
      ]
    },
    {
      "cell_type": "code",
      "execution_count": 32,
      "metadata": {
        "id": "EyoqPn4nuCXm"
      },
      "outputs": [],
      "source": [
        "data = read.csv(\"https://raw.githubusercontent.com/dsesc-acads/Databusters/refs/heads/main/Quarterly%20Data.csv\")\n",
        "data = data[-c(1:38),]\n",
        "data <- data %>%\n",
        "  dplyr::select('sasdate', \"GDPC1\", 'GS10TB3Mx', 'CLAIMSx', 'ANDENOx', 'UMCSENTx', 'HOUST') %>%\n",
        "  mutate(sasdate = yearquarter(sasdate))\n",
        "transformed <- fred_transform(data[,-1], type=c('fred_qd'), codes=c(5,1,5,5,2,5))\n",
        "transformed <- cbind(data$sasdate[-1], transformed) %>%\n",
        "  rename(date = 'data$sasdate[-1]') %>%\n",
        "  mutate(GDPC1 = 4 * GDPC1) %>%\n",
        "  as_tsibble(index=date)\n",
        "\n",
        "transformed <- transformed %>%\n",
        "  mutate(across(c(GS10TB3Mx, CLAIMSx, ANDENOx, UMCSENTx, GDPC1, HOUST),\n",
        "                 list(lag1 = ~ lag(., 1), lag2 = ~ lag(., 2),lag3 = ~ lag(., 3), lag4 = ~ lag(., 4)),\n",
        "                 .names = \"{col}_{fn}\"))\n",
        "\n",
        "transformed <- transformed[-c(1:4),]"
      ]
    },
    {
      "cell_type": "markdown",
      "source": [],
      "metadata": {
        "id": "APvUzedjSqxq"
      }
    },
    {
      "cell_type": "markdown",
      "source": [
        "ADF test to check for stationarity"
      ],
      "metadata": {
        "id": "uOOk3elUSsdR"
      }
    },
    {
      "cell_type": "code",
      "source": [
        "adf.test(transformed$GDPC1)\n",
        "adf.test(transformed$GS10TB3Mx)\n",
        "adf.test(transformed$CLAIMSx)\n",
        "adf.test(transformed$ANDENOx)\n",
        "adf.test(transformed$UMCSENTx)\n",
        "adf.test(transformed$HOUST)\n"
      ],
      "metadata": {
        "id": "7xyR2DwsR-q2",
        "outputId": "ab3f3465-147b-48d4-bfae-247635176e04",
        "colab": {
          "base_uri": "https://localhost:8080/",
          "height": 850
        }
      },
      "execution_count": 33,
      "outputs": [
        {
          "output_type": "stream",
          "name": "stderr",
          "text": [
            "Warning message in adf.test(transformed$GDPC1):\n",
            "“p-value smaller than printed p-value”\n"
          ]
        },
        {
          "output_type": "display_data",
          "data": {
            "text/plain": [
              "\n",
              "\tAugmented Dickey-Fuller Test\n",
              "\n",
              "data:  transformed$GDPC1\n",
              "Dickey-Fuller = -6.0771, Lag order = 6, p-value = 0.01\n",
              "alternative hypothesis: stationary\n"
            ]
          },
          "metadata": {}
        },
        {
          "output_type": "display_data",
          "data": {
            "text/plain": [
              "\n",
              "\tAugmented Dickey-Fuller Test\n",
              "\n",
              "data:  transformed$GS10TB3Mx\n",
              "Dickey-Fuller = -3.7879, Lag order = 6, p-value = 0.02052\n",
              "alternative hypothesis: stationary\n"
            ]
          },
          "metadata": {}
        },
        {
          "output_type": "stream",
          "name": "stderr",
          "text": [
            "Warning message in adf.test(transformed$CLAIMSx):\n",
            "“p-value smaller than printed p-value”\n"
          ]
        },
        {
          "output_type": "display_data",
          "data": {
            "text/plain": [
              "\n",
              "\tAugmented Dickey-Fuller Test\n",
              "\n",
              "data:  transformed$CLAIMSx\n",
              "Dickey-Fuller = -7.3545, Lag order = 6, p-value = 0.01\n",
              "alternative hypothesis: stationary\n"
            ]
          },
          "metadata": {}
        },
        {
          "output_type": "stream",
          "name": "stderr",
          "text": [
            "Warning message in adf.test(transformed$ANDENOx):\n",
            "“p-value smaller than printed p-value”\n"
          ]
        },
        {
          "output_type": "display_data",
          "data": {
            "text/plain": [
              "\n",
              "\tAugmented Dickey-Fuller Test\n",
              "\n",
              "data:  transformed$ANDENOx\n",
              "Dickey-Fuller = -5.9177, Lag order = 6, p-value = 0.01\n",
              "alternative hypothesis: stationary\n"
            ]
          },
          "metadata": {}
        },
        {
          "output_type": "stream",
          "name": "stderr",
          "text": [
            "Warning message in adf.test(transformed$UMCSENTx):\n",
            "“p-value smaller than printed p-value”\n"
          ]
        },
        {
          "output_type": "display_data",
          "data": {
            "text/plain": [
              "\n",
              "\tAugmented Dickey-Fuller Test\n",
              "\n",
              "data:  transformed$UMCSENTx\n",
              "Dickey-Fuller = -6.1678, Lag order = 6, p-value = 0.01\n",
              "alternative hypothesis: stationary\n"
            ]
          },
          "metadata": {}
        },
        {
          "output_type": "stream",
          "name": "stderr",
          "text": [
            "Warning message in adf.test(transformed$HOUST):\n",
            "“p-value smaller than printed p-value”\n"
          ]
        },
        {
          "output_type": "display_data",
          "data": {
            "text/plain": [
              "\n",
              "\tAugmented Dickey-Fuller Test\n",
              "\n",
              "data:  transformed$HOUST\n",
              "Dickey-Fuller = -4.9351, Lag order = 6, p-value = 0.01\n",
              "alternative hypothesis: stationary\n"
            ]
          },
          "metadata": {}
        }
      ]
    },
    {
      "cell_type": "markdown",
      "source": [
        "## 3) AR Lag Selection\n",
        "### Preparing dataset for analysis and applying the relevant stationarity-inducing transformations to the variables."
      ],
      "metadata": {
        "id": "dIPTy75jFRk7"
      }
    },
    {
      "cell_type": "code",
      "source": [
        "ar_lags <- transformed[1:215,] %>%\n",
        "  model(ar1 = AR(GDPC1 ~ order(1)),\n",
        "        ar2 = AR(GDPC1 ~ order(2)),\n",
        "        ar3 = AR(GDPC1 ~ order(3)),\n",
        "        ar4 = AR(GDPC1 ~ order(4)))\n",
        "\n",
        "glance(ar_lags) %>%\n",
        "  arrange(AIC)\n",
        "\n",
        "ar_lags %>%\n",
        "  fabletools::forecast(new_data=transformed[216:219,]) %>%\n",
        "  accuracy(transformed)"
      ],
      "metadata": {
        "colab": {
          "base_uri": "https://localhost:8080/",
          "height": 429
        },
        "id": "66LPc-vLFayT",
        "outputId": "58d854d3-e871-4a48-9344-ed66a2e32df5"
      },
      "execution_count": 34,
      "outputs": [
        {
          "output_type": "display_data",
          "data": {
            "text/html": [
              "<table class=\"dataframe\">\n",
              "<caption>A tibble: 4 × 6</caption>\n",
              "<thead>\n",
              "\t<tr><th scope=col>.model</th><th scope=col>sigma2</th><th scope=col>AIC</th><th scope=col>AICc</th><th scope=col>BIC</th><th scope=col>dof</th></tr>\n",
              "\t<tr><th scope=col>&lt;chr&gt;</th><th scope=col>&lt;dbl&gt;</th><th scope=col>&lt;dbl&gt;</th><th scope=col>&lt;dbl&gt;</th><th scope=col>&lt;dbl&gt;</th><th scope=col>&lt;int&gt;</th></tr>\n",
              "</thead>\n",
              "<tbody>\n",
              "\t<tr><td>ar1</td><td>19.39081</td><td> 3.887315</td><td> 3.943918</td><td>10.62859</td><td>213</td></tr>\n",
              "\t<tr><td>ar2</td><td>19.41131</td><td> 6.114516</td><td> 6.228260</td><td>16.22643</td><td>212</td></tr>\n",
              "\t<tr><td>ar3</td><td>19.38513</td><td> 7.824285</td><td> 8.014761</td><td>21.30684</td><td>211</td></tr>\n",
              "\t<tr><td>ar4</td><td>19.42438</td><td>10.259214</td><td>10.546295</td><td>27.11240</td><td>210</td></tr>\n",
              "</tbody>\n",
              "</table>\n"
            ],
            "text/markdown": "\nA tibble: 4 × 6\n\n| .model &lt;chr&gt; | sigma2 &lt;dbl&gt; | AIC &lt;dbl&gt; | AICc &lt;dbl&gt; | BIC &lt;dbl&gt; | dof &lt;int&gt; |\n|---|---|---|---|---|---|\n| ar1 | 19.39081 |  3.887315 |  3.943918 | 10.62859 | 213 |\n| ar2 | 19.41131 |  6.114516 |  6.228260 | 16.22643 | 212 |\n| ar3 | 19.38513 |  7.824285 |  8.014761 | 21.30684 | 211 |\n| ar4 | 19.42438 | 10.259214 | 10.546295 | 27.11240 | 210 |\n\n",
            "text/latex": "A tibble: 4 × 6\n\\begin{tabular}{llllll}\n .model & sigma2 & AIC & AICc & BIC & dof\\\\\n <chr> & <dbl> & <dbl> & <dbl> & <dbl> & <int>\\\\\n\\hline\n\t ar1 & 19.39081 &  3.887315 &  3.943918 & 10.62859 & 213\\\\\n\t ar2 & 19.41131 &  6.114516 &  6.228260 & 16.22643 & 212\\\\\n\t ar3 & 19.38513 &  7.824285 &  8.014761 & 21.30684 & 211\\\\\n\t ar4 & 19.42438 & 10.259214 & 10.546295 & 27.11240 & 210\\\\\n\\end{tabular}\n",
            "text/plain": [
              "  .model sigma2   AIC       AICc      BIC      dof\n",
              "1 ar1    19.39081  3.887315  3.943918 10.62859 213\n",
              "2 ar2    19.41131  6.114516  6.228260 16.22643 212\n",
              "3 ar3    19.38513  7.824285  8.014761 21.30684 211\n",
              "4 ar4    19.42438 10.259214 10.546295 27.11240 210"
            ]
          },
          "metadata": {}
        },
        {
          "output_type": "display_data",
          "data": {
            "text/html": [
              "<table class=\"dataframe\">\n",
              "<caption>A tibble: 4 × 10</caption>\n",
              "<thead>\n",
              "\t<tr><th scope=col>.model</th><th scope=col>.type</th><th scope=col>ME</th><th scope=col>RMSE</th><th scope=col>MAE</th><th scope=col>MPE</th><th scope=col>MAPE</th><th scope=col>MASE</th><th scope=col>RMSSE</th><th scope=col>ACF1</th></tr>\n",
              "\t<tr><th scope=col>&lt;chr&gt;</th><th scope=col>&lt;chr&gt;</th><th scope=col>&lt;dbl&gt;</th><th scope=col>&lt;dbl&gt;</th><th scope=col>&lt;dbl&gt;</th><th scope=col>&lt;dbl&gt;</th><th scope=col>&lt;dbl&gt;</th><th scope=col>&lt;dbl&gt;</th><th scope=col>&lt;dbl&gt;</th><th scope=col>&lt;dbl&gt;</th></tr>\n",
              "</thead>\n",
              "<tbody>\n",
              "\t<tr><td>ar1</td><td>Test</td><td>0.4649493</td><td>0.8348992</td><td>0.5954848</td><td>10.95524</td><td>16.34803</td><td>0.1590267</td><td>0.1343137</td><td>-0.2781114</td></tr>\n",
              "\t<tr><td>ar2</td><td>Test</td><td>0.4542497</td><td>0.8372748</td><td>0.6037337</td><td>10.52520</td><td>16.70080</td><td>0.1612296</td><td>0.1346959</td><td>-0.2835602</td></tr>\n",
              "\t<tr><td>ar3</td><td>Test</td><td>0.4484738</td><td>0.8205455</td><td>0.6083450</td><td>10.43221</td><td>17.03695</td><td>0.1624611</td><td>0.1320046</td><td>-0.3238528</td></tr>\n",
              "\t<tr><td>ar4</td><td>Test</td><td>0.4454774</td><td>0.8117210</td><td>0.6028504</td><td>10.39569</td><td>16.89720</td><td>0.1609937</td><td>0.1305850</td><td>-0.3419946</td></tr>\n",
              "</tbody>\n",
              "</table>\n"
            ],
            "text/markdown": "\nA tibble: 4 × 10\n\n| .model &lt;chr&gt; | .type &lt;chr&gt; | ME &lt;dbl&gt; | RMSE &lt;dbl&gt; | MAE &lt;dbl&gt; | MPE &lt;dbl&gt; | MAPE &lt;dbl&gt; | MASE &lt;dbl&gt; | RMSSE &lt;dbl&gt; | ACF1 &lt;dbl&gt; |\n|---|---|---|---|---|---|---|---|---|---|\n| ar1 | Test | 0.4649493 | 0.8348992 | 0.5954848 | 10.95524 | 16.34803 | 0.1590267 | 0.1343137 | -0.2781114 |\n| ar2 | Test | 0.4542497 | 0.8372748 | 0.6037337 | 10.52520 | 16.70080 | 0.1612296 | 0.1346959 | -0.2835602 |\n| ar3 | Test | 0.4484738 | 0.8205455 | 0.6083450 | 10.43221 | 17.03695 | 0.1624611 | 0.1320046 | -0.3238528 |\n| ar4 | Test | 0.4454774 | 0.8117210 | 0.6028504 | 10.39569 | 16.89720 | 0.1609937 | 0.1305850 | -0.3419946 |\n\n",
            "text/latex": "A tibble: 4 × 10\n\\begin{tabular}{llllllllll}\n .model & .type & ME & RMSE & MAE & MPE & MAPE & MASE & RMSSE & ACF1\\\\\n <chr> & <chr> & <dbl> & <dbl> & <dbl> & <dbl> & <dbl> & <dbl> & <dbl> & <dbl>\\\\\n\\hline\n\t ar1 & Test & 0.4649493 & 0.8348992 & 0.5954848 & 10.95524 & 16.34803 & 0.1590267 & 0.1343137 & -0.2781114\\\\\n\t ar2 & Test & 0.4542497 & 0.8372748 & 0.6037337 & 10.52520 & 16.70080 & 0.1612296 & 0.1346959 & -0.2835602\\\\\n\t ar3 & Test & 0.4484738 & 0.8205455 & 0.6083450 & 10.43221 & 17.03695 & 0.1624611 & 0.1320046 & -0.3238528\\\\\n\t ar4 & Test & 0.4454774 & 0.8117210 & 0.6028504 & 10.39569 & 16.89720 & 0.1609937 & 0.1305850 & -0.3419946\\\\\n\\end{tabular}\n",
            "text/plain": [
              "  .model .type ME        RMSE      MAE       MPE      MAPE     MASE     \n",
              "1 ar1    Test  0.4649493 0.8348992 0.5954848 10.95524 16.34803 0.1590267\n",
              "2 ar2    Test  0.4542497 0.8372748 0.6037337 10.52520 16.70080 0.1612296\n",
              "3 ar3    Test  0.4484738 0.8205455 0.6083450 10.43221 17.03695 0.1624611\n",
              "4 ar4    Test  0.4454774 0.8117210 0.6028504 10.39569 16.89720 0.1609937\n",
              "  RMSSE     ACF1      \n",
              "1 0.1343137 -0.2781114\n",
              "2 0.1346959 -0.2835602\n",
              "3 0.1320046 -0.3238528\n",
              "4 0.1305850 -0.3419946"
            ]
          },
          "metadata": {}
        }
      ]
    },
    {
      "cell_type": "markdown",
      "source": [
        "Selection of lags of other predictors:"
      ],
      "metadata": {
        "id": "5PtGPZcNGJl9"
      }
    },
    {
      "cell_type": "code",
      "source": [
        "### Term Spread\n",
        "ardl_spread<- transformed[1:215,] %>%\n",
        "  model(AR(GDPC1 ~ order(1)),\n",
        "        AR(GDPC1 ~ order(1) + GS10TB3Mx_lag1),\n",
        "        AR(GDPC1 ~ order(1) + GS10TB3Mx_lag1 + GS10TB3Mx_lag2),\n",
        "        AR(GDPC1 ~ order(1) + GS10TB3Mx_lag1 + GS10TB3Mx_lag2 + GS10TB3Mx_lag3),\n",
        "        AR(GDPC1 ~ order(1) + GS10TB3Mx_lag1 + GS10TB3Mx_lag2 + GS10TB3Mx_lag3 + GS10TB3Mx_lag4))\n",
        "\n",
        "glance(ardl_spread) %>%\n",
        "  arrange(AIC)\n",
        "\n",
        "ardl_spread %>%\n",
        "  fabletools::forecast(new_data=transformed[216:219,]) %>%\n",
        "  accuracy(transformed)"
      ],
      "metadata": {
        "id": "K9z4NFA-GM3L",
        "outputId": "610562be-82d1-45ee-a7d1-372e984dbade",
        "colab": {
          "base_uri": "https://localhost:8080/",
          "height": 509
        }
      },
      "execution_count": 35,
      "outputs": [
        {
          "output_type": "display_data",
          "data": {
            "text/html": [
              "<table class=\"dataframe\">\n",
              "<caption>A tibble: 5 × 6</caption>\n",
              "<thead>\n",
              "\t<tr><th scope=col>.model</th><th scope=col>sigma2</th><th scope=col>AIC</th><th scope=col>AICc</th><th scope=col>BIC</th><th scope=col>dof</th></tr>\n",
              "\t<tr><th scope=col>&lt;chr&gt;</th><th scope=col>&lt;dbl&gt;</th><th scope=col>&lt;dbl&gt;</th><th scope=col>&lt;dbl&gt;</th><th scope=col>&lt;dbl&gt;</th><th scope=col>&lt;int&gt;</th></tr>\n",
              "</thead>\n",
              "<tbody>\n",
              "\t<tr><td>AR(GDPC1 ~ order(1) + GS10TB3Mx_lag1 + GS10TB3Mx_lag2)                                        </td><td>18.18772</td><td>-5.884038</td><td>-5.693562</td><td> 7.598514</td><td>211</td></tr>\n",
              "\t<tr><td>AR(GDPC1 ~ order(1) + GS10TB3Mx_lag1 + GS10TB3Mx_lag2 + GS10TB3Mx_lag3)                       </td><td>18.15880</td><td>-4.226142</td><td>-3.939061</td><td>12.627048</td><td>210</td></tr>\n",
              "\t<tr><td>AR(GDPC1 ~ order(1) + GS10TB3Mx_lag1 + GS10TB3Mx_lag2 + GS10TB3Mx_lag3 + \n",
              "    GS10TB3Mx_lag4)</td><td>18.12433</td><td>-2.634605</td><td>-2.230759</td><td>17.589223</td><td>209</td></tr>\n",
              "\t<tr><td>AR(GDPC1 ~ order(1) + GS10TB3Mx_lag1)                                                         </td><td>18.69201</td><td>-2.003878</td><td>-1.890134</td><td> 8.108036</td><td>212</td></tr>\n",
              "\t<tr><td>AR(GDPC1 ~ order(1))                                                                          </td><td>19.39081</td><td> 3.887315</td><td> 3.943918</td><td>10.628591</td><td>213</td></tr>\n",
              "</tbody>\n",
              "</table>\n"
            ],
            "text/markdown": "\nA tibble: 5 × 6\n\n| .model &lt;chr&gt; | sigma2 &lt;dbl&gt; | AIC &lt;dbl&gt; | AICc &lt;dbl&gt; | BIC &lt;dbl&gt; | dof &lt;int&gt; |\n|---|---|---|---|---|---|\n| AR(GDPC1 ~ order(1) + GS10TB3Mx_lag1 + GS10TB3Mx_lag2)                                         | 18.18772 | -5.884038 | -5.693562 |  7.598514 | 211 |\n| AR(GDPC1 ~ order(1) + GS10TB3Mx_lag1 + GS10TB3Mx_lag2 + GS10TB3Mx_lag3)                        | 18.15880 | -4.226142 | -3.939061 | 12.627048 | 210 |\n| AR(GDPC1 ~ order(1) + GS10TB3Mx_lag1 + GS10TB3Mx_lag2 + GS10TB3Mx_lag3 + \n    GS10TB3Mx_lag4) | 18.12433 | -2.634605 | -2.230759 | 17.589223 | 209 |\n| AR(GDPC1 ~ order(1) + GS10TB3Mx_lag1)                                                          | 18.69201 | -2.003878 | -1.890134 |  8.108036 | 212 |\n| AR(GDPC1 ~ order(1))                                                                           | 19.39081 |  3.887315 |  3.943918 | 10.628591 | 213 |\n\n",
            "text/latex": "A tibble: 5 × 6\n\\begin{tabular}{llllll}\n .model & sigma2 & AIC & AICc & BIC & dof\\\\\n <chr> & <dbl> & <dbl> & <dbl> & <dbl> & <int>\\\\\n\\hline\n\t AR(GDPC1 \\textasciitilde{} order(1) + GS10TB3Mx\\_lag1 + GS10TB3Mx\\_lag2)                                         & 18.18772 & -5.884038 & -5.693562 &  7.598514 & 211\\\\\n\t AR(GDPC1 \\textasciitilde{} order(1) + GS10TB3Mx\\_lag1 + GS10TB3Mx\\_lag2 + GS10TB3Mx\\_lag3)                        & 18.15880 & -4.226142 & -3.939061 & 12.627048 & 210\\\\\n\t AR(GDPC1 \\textasciitilde{} order(1) + GS10TB3Mx\\_lag1 + GS10TB3Mx\\_lag2 + GS10TB3Mx\\_lag3 + \n    GS10TB3Mx\\_lag4) & 18.12433 & -2.634605 & -2.230759 & 17.589223 & 209\\\\\n\t AR(GDPC1 \\textasciitilde{} order(1) + GS10TB3Mx\\_lag1)                                                          & 18.69201 & -2.003878 & -1.890134 &  8.108036 & 212\\\\\n\t AR(GDPC1 \\textasciitilde{} order(1))                                                                           & 19.39081 &  3.887315 &  3.943918 & 10.628591 & 213\\\\\n\\end{tabular}\n",
            "text/plain": [
              "  .model                                                                                        \n",
              "1 AR(GDPC1 ~ order(1) + GS10TB3Mx_lag1 + GS10TB3Mx_lag2)                                        \n",
              "2 AR(GDPC1 ~ order(1) + GS10TB3Mx_lag1 + GS10TB3Mx_lag2 + GS10TB3Mx_lag3)                       \n",
              "3 AR(GDPC1 ~ order(1) + GS10TB3Mx_lag1 + GS10TB3Mx_lag2 + GS10TB3Mx_lag3 + \\n    GS10TB3Mx_lag4)\n",
              "4 AR(GDPC1 ~ order(1) + GS10TB3Mx_lag1)                                                         \n",
              "5 AR(GDPC1 ~ order(1))                                                                          \n",
              "  sigma2   AIC       AICc      BIC       dof\n",
              "1 18.18772 -5.884038 -5.693562  7.598514 211\n",
              "2 18.15880 -4.226142 -3.939061 12.627048 210\n",
              "3 18.12433 -2.634605 -2.230759 17.589223 209\n",
              "4 18.69201 -2.003878 -1.890134  8.108036 212\n",
              "5 19.39081  3.887315  3.943918 10.628591 213"
            ]
          },
          "metadata": {}
        },
        {
          "output_type": "display_data",
          "data": {
            "text/html": [
              "<table class=\"dataframe\">\n",
              "<caption>A tibble: 5 × 10</caption>\n",
              "<thead>\n",
              "\t<tr><th scope=col>.model</th><th scope=col>.type</th><th scope=col>ME</th><th scope=col>RMSE</th><th scope=col>MAE</th><th scope=col>MPE</th><th scope=col>MAPE</th><th scope=col>MASE</th><th scope=col>RMSSE</th><th scope=col>ACF1</th></tr>\n",
              "\t<tr><th scope=col>&lt;chr&gt;</th><th scope=col>&lt;chr&gt;</th><th scope=col>&lt;dbl&gt;</th><th scope=col>&lt;dbl&gt;</th><th scope=col>&lt;dbl&gt;</th><th scope=col>&lt;dbl&gt;</th><th scope=col>&lt;dbl&gt;</th><th scope=col>&lt;dbl&gt;</th><th scope=col>&lt;dbl&gt;</th><th scope=col>&lt;dbl&gt;</th></tr>\n",
              "</thead>\n",
              "<tbody>\n",
              "\t<tr><td>AR(GDPC1 ~ order(1) + GS10TB3Mx_lag1 + GS10TB3Mx_lag2 + GS10TB3Mx_lag3 + \n",
              "    GS10TB3Mx_lag4)</td><td>Test</td><td>1.8978953</td><td>2.3138050</td><td>1.8978953</td><td>55.20913</td><td>55.20913</td><td>0.5068409</td><td>0.3722315</td><td> 0.1878086</td></tr>\n",
              "\t<tr><td>AR(GDPC1 ~ order(1) + GS10TB3Mx_lag1 + GS10TB3Mx_lag2 + GS10TB3Mx_lag3)                       </td><td>Test</td><td>2.0000153</td><td>2.3900285</td><td>2.0000153</td><td>59.10982</td><td>59.10982</td><td>0.5341125</td><td>0.3844939</td><td> 0.2469661</td></tr>\n",
              "\t<tr><td>AR(GDPC1 ~ order(1) + GS10TB3Mx_lag1 + GS10TB3Mx_lag2)                                        </td><td>Test</td><td>2.1353886</td><td>2.4682678</td><td>2.1353886</td><td>63.73273</td><td>63.73273</td><td>0.5702645</td><td>0.3970806</td><td> 0.2144260</td></tr>\n",
              "\t<tr><td>AR(GDPC1 ~ order(1) + GS10TB3Mx_lag1)                                                         </td><td>Test</td><td>2.2503848</td><td>2.4340597</td><td>2.2503848</td><td>69.00876</td><td>69.00876</td><td>0.6009747</td><td>0.3915774</td><td>-0.0793700</td></tr>\n",
              "\t<tr><td>AR(GDPC1 ~ order(1))                                                                          </td><td>Test</td><td>0.4649493</td><td>0.8348992</td><td>0.5954848</td><td>10.95524</td><td>16.34803</td><td>0.1590267</td><td>0.1343137</td><td>-0.2781114</td></tr>\n",
              "</tbody>\n",
              "</table>\n"
            ],
            "text/markdown": "\nA tibble: 5 × 10\n\n| .model &lt;chr&gt; | .type &lt;chr&gt; | ME &lt;dbl&gt; | RMSE &lt;dbl&gt; | MAE &lt;dbl&gt; | MPE &lt;dbl&gt; | MAPE &lt;dbl&gt; | MASE &lt;dbl&gt; | RMSSE &lt;dbl&gt; | ACF1 &lt;dbl&gt; |\n|---|---|---|---|---|---|---|---|---|---|\n| AR(GDPC1 ~ order(1) + GS10TB3Mx_lag1 + GS10TB3Mx_lag2 + GS10TB3Mx_lag3 + \n    GS10TB3Mx_lag4) | Test | 1.8978953 | 2.3138050 | 1.8978953 | 55.20913 | 55.20913 | 0.5068409 | 0.3722315 |  0.1878086 |\n| AR(GDPC1 ~ order(1) + GS10TB3Mx_lag1 + GS10TB3Mx_lag2 + GS10TB3Mx_lag3)                        | Test | 2.0000153 | 2.3900285 | 2.0000153 | 59.10982 | 59.10982 | 0.5341125 | 0.3844939 |  0.2469661 |\n| AR(GDPC1 ~ order(1) + GS10TB3Mx_lag1 + GS10TB3Mx_lag2)                                         | Test | 2.1353886 | 2.4682678 | 2.1353886 | 63.73273 | 63.73273 | 0.5702645 | 0.3970806 |  0.2144260 |\n| AR(GDPC1 ~ order(1) + GS10TB3Mx_lag1)                                                          | Test | 2.2503848 | 2.4340597 | 2.2503848 | 69.00876 | 69.00876 | 0.6009747 | 0.3915774 | -0.0793700 |\n| AR(GDPC1 ~ order(1))                                                                           | Test | 0.4649493 | 0.8348992 | 0.5954848 | 10.95524 | 16.34803 | 0.1590267 | 0.1343137 | -0.2781114 |\n\n",
            "text/latex": "A tibble: 5 × 10\n\\begin{tabular}{llllllllll}\n .model & .type & ME & RMSE & MAE & MPE & MAPE & MASE & RMSSE & ACF1\\\\\n <chr> & <chr> & <dbl> & <dbl> & <dbl> & <dbl> & <dbl> & <dbl> & <dbl> & <dbl>\\\\\n\\hline\n\t AR(GDPC1 \\textasciitilde{} order(1) + GS10TB3Mx\\_lag1 + GS10TB3Mx\\_lag2 + GS10TB3Mx\\_lag3 + \n    GS10TB3Mx\\_lag4) & Test & 1.8978953 & 2.3138050 & 1.8978953 & 55.20913 & 55.20913 & 0.5068409 & 0.3722315 &  0.1878086\\\\\n\t AR(GDPC1 \\textasciitilde{} order(1) + GS10TB3Mx\\_lag1 + GS10TB3Mx\\_lag2 + GS10TB3Mx\\_lag3)                        & Test & 2.0000153 & 2.3900285 & 2.0000153 & 59.10982 & 59.10982 & 0.5341125 & 0.3844939 &  0.2469661\\\\\n\t AR(GDPC1 \\textasciitilde{} order(1) + GS10TB3Mx\\_lag1 + GS10TB3Mx\\_lag2)                                         & Test & 2.1353886 & 2.4682678 & 2.1353886 & 63.73273 & 63.73273 & 0.5702645 & 0.3970806 &  0.2144260\\\\\n\t AR(GDPC1 \\textasciitilde{} order(1) + GS10TB3Mx\\_lag1)                                                          & Test & 2.2503848 & 2.4340597 & 2.2503848 & 69.00876 & 69.00876 & 0.6009747 & 0.3915774 & -0.0793700\\\\\n\t AR(GDPC1 \\textasciitilde{} order(1))                                                                           & Test & 0.4649493 & 0.8348992 & 0.5954848 & 10.95524 & 16.34803 & 0.1590267 & 0.1343137 & -0.2781114\\\\\n\\end{tabular}\n",
            "text/plain": [
              "  .model                                                                                        \n",
              "1 AR(GDPC1 ~ order(1) + GS10TB3Mx_lag1 + GS10TB3Mx_lag2 + GS10TB3Mx_lag3 + \\n    GS10TB3Mx_lag4)\n",
              "2 AR(GDPC1 ~ order(1) + GS10TB3Mx_lag1 + GS10TB3Mx_lag2 + GS10TB3Mx_lag3)                       \n",
              "3 AR(GDPC1 ~ order(1) + GS10TB3Mx_lag1 + GS10TB3Mx_lag2)                                        \n",
              "4 AR(GDPC1 ~ order(1) + GS10TB3Mx_lag1)                                                         \n",
              "5 AR(GDPC1 ~ order(1))                                                                          \n",
              "  .type ME        RMSE      MAE       MPE      MAPE     MASE      RMSSE    \n",
              "1 Test  1.8978953 2.3138050 1.8978953 55.20913 55.20913 0.5068409 0.3722315\n",
              "2 Test  2.0000153 2.3900285 2.0000153 59.10982 59.10982 0.5341125 0.3844939\n",
              "3 Test  2.1353886 2.4682678 2.1353886 63.73273 63.73273 0.5702645 0.3970806\n",
              "4 Test  2.2503848 2.4340597 2.2503848 69.00876 69.00876 0.6009747 0.3915774\n",
              "5 Test  0.4649493 0.8348992 0.5954848 10.95524 16.34803 0.1590267 0.1343137\n",
              "  ACF1      \n",
              "1  0.1878086\n",
              "2  0.2469661\n",
              "3  0.2144260\n",
              "4 -0.0793700\n",
              "5 -0.2781114"
            ]
          },
          "metadata": {}
        }
      ]
    },
    {
      "cell_type": "markdown",
      "source": [],
      "metadata": {
        "id": "f4C_rIwpGIwI"
      }
    },
    {
      "cell_type": "code",
      "source": [
        "### Unemployment claims\n",
        "ardl_claims<- transformed[1:215,] %>%\n",
        "  model(AR(GDPC1 ~ order(1)),\n",
        "        AR(GDPC1 ~ order(1) + CLAIMSx_lag1),\n",
        "        AR(GDPC1 ~ order(1) + CLAIMSx_lag1 + CLAIMSx_lag2),\n",
        "        AR(GDPC1 ~ order(1) + CLAIMSx_lag1 + CLAIMSx_lag2 + CLAIMSx_lag3),\n",
        "        AR(GDPC1 ~ order(1) + CLAIMSx_lag1 + CLAIMSx_lag2 + CLAIMSx_lag3 + CLAIMSx_lag4))\n",
        "\n",
        "glance(ardl_claims) %>%\n",
        "  arrange(AIC)\n"
      ],
      "metadata": {
        "id": "S4_DAPeRGYwQ",
        "outputId": "df68876f-042c-4267-92f0-3e2ed8399a04",
        "colab": {
          "base_uri": "https://localhost:8080/",
          "height": 254
        }
      },
      "execution_count": 36,
      "outputs": [
        {
          "output_type": "display_data",
          "data": {
            "text/html": [
              "<table class=\"dataframe\">\n",
              "<caption>A tibble: 5 × 6</caption>\n",
              "<thead>\n",
              "\t<tr><th scope=col>.model</th><th scope=col>sigma2</th><th scope=col>AIC</th><th scope=col>AICc</th><th scope=col>BIC</th><th scope=col>dof</th></tr>\n",
              "\t<tr><th scope=col>&lt;chr&gt;</th><th scope=col>&lt;dbl&gt;</th><th scope=col>&lt;dbl&gt;</th><th scope=col>&lt;dbl&gt;</th><th scope=col>&lt;dbl&gt;</th><th scope=col>&lt;int&gt;</th></tr>\n",
              "</thead>\n",
              "<tbody>\n",
              "\t<tr><td>AR(GDPC1 ~ order(1) + CLAIMSx_lag1 + CLAIMSx_lag2 + CLAIMSx_lag3 + \n",
              "    CLAIMSx_lag4)</td><td>15.04411</td><td>-42.682365</td><td>-42.278518</td><td>-22.45854</td><td>209</td></tr>\n",
              "\t<tr><td>AR(GDPC1 ~ order(1) + CLAIMSx_lag1 + CLAIMSx_lag2 + CLAIMSx_lag3)                     </td><td>15.26594</td><td>-41.535387</td><td>-41.248306</td><td>-24.68220</td><td>210</td></tr>\n",
              "\t<tr><td>AR(GDPC1 ~ order(1) + CLAIMSx_lag1 + CLAIMSx_lag2)                                    </td><td>15.45349</td><td>-40.910092</td><td>-40.719616</td><td>-27.42754</td><td>211</td></tr>\n",
              "\t<tr><td>AR(GDPC1 ~ order(1) + CLAIMSx_lag1)                                                   </td><td>16.25040</td><td>-32.099198</td><td>-31.985454</td><td>-21.98728</td><td>212</td></tr>\n",
              "\t<tr><td>AR(GDPC1 ~ order(1))                                                                  </td><td>19.39081</td><td>  3.887315</td><td>  3.943918</td><td> 10.62859</td><td>213</td></tr>\n",
              "</tbody>\n",
              "</table>\n"
            ],
            "text/markdown": "\nA tibble: 5 × 6\n\n| .model &lt;chr&gt; | sigma2 &lt;dbl&gt; | AIC &lt;dbl&gt; | AICc &lt;dbl&gt; | BIC &lt;dbl&gt; | dof &lt;int&gt; |\n|---|---|---|---|---|---|\n| AR(GDPC1 ~ order(1) + CLAIMSx_lag1 + CLAIMSx_lag2 + CLAIMSx_lag3 + \n    CLAIMSx_lag4) | 15.04411 | -42.682365 | -42.278518 | -22.45854 | 209 |\n| AR(GDPC1 ~ order(1) + CLAIMSx_lag1 + CLAIMSx_lag2 + CLAIMSx_lag3)                      | 15.26594 | -41.535387 | -41.248306 | -24.68220 | 210 |\n| AR(GDPC1 ~ order(1) + CLAIMSx_lag1 + CLAIMSx_lag2)                                     | 15.45349 | -40.910092 | -40.719616 | -27.42754 | 211 |\n| AR(GDPC1 ~ order(1) + CLAIMSx_lag1)                                                    | 16.25040 | -32.099198 | -31.985454 | -21.98728 | 212 |\n| AR(GDPC1 ~ order(1))                                                                   | 19.39081 |   3.887315 |   3.943918 |  10.62859 | 213 |\n\n",
            "text/latex": "A tibble: 5 × 6\n\\begin{tabular}{llllll}\n .model & sigma2 & AIC & AICc & BIC & dof\\\\\n <chr> & <dbl> & <dbl> & <dbl> & <dbl> & <int>\\\\\n\\hline\n\t AR(GDPC1 \\textasciitilde{} order(1) + CLAIMSx\\_lag1 + CLAIMSx\\_lag2 + CLAIMSx\\_lag3 + \n    CLAIMSx\\_lag4) & 15.04411 & -42.682365 & -42.278518 & -22.45854 & 209\\\\\n\t AR(GDPC1 \\textasciitilde{} order(1) + CLAIMSx\\_lag1 + CLAIMSx\\_lag2 + CLAIMSx\\_lag3)                      & 15.26594 & -41.535387 & -41.248306 & -24.68220 & 210\\\\\n\t AR(GDPC1 \\textasciitilde{} order(1) + CLAIMSx\\_lag1 + CLAIMSx\\_lag2)                                     & 15.45349 & -40.910092 & -40.719616 & -27.42754 & 211\\\\\n\t AR(GDPC1 \\textasciitilde{} order(1) + CLAIMSx\\_lag1)                                                    & 16.25040 & -32.099198 & -31.985454 & -21.98728 & 212\\\\\n\t AR(GDPC1 \\textasciitilde{} order(1))                                                                   & 19.39081 &   3.887315 &   3.943918 &  10.62859 & 213\\\\\n\\end{tabular}\n",
            "text/plain": [
              "  .model                                                                                \n",
              "1 AR(GDPC1 ~ order(1) + CLAIMSx_lag1 + CLAIMSx_lag2 + CLAIMSx_lag3 + \\n    CLAIMSx_lag4)\n",
              "2 AR(GDPC1 ~ order(1) + CLAIMSx_lag1 + CLAIMSx_lag2 + CLAIMSx_lag3)                     \n",
              "3 AR(GDPC1 ~ order(1) + CLAIMSx_lag1 + CLAIMSx_lag2)                                    \n",
              "4 AR(GDPC1 ~ order(1) + CLAIMSx_lag1)                                                   \n",
              "5 AR(GDPC1 ~ order(1))                                                                  \n",
              "  sigma2   AIC        AICc       BIC       dof\n",
              "1 15.04411 -42.682365 -42.278518 -22.45854 209\n",
              "2 15.26594 -41.535387 -41.248306 -24.68220 210\n",
              "3 15.45349 -40.910092 -40.719616 -27.42754 211\n",
              "4 16.25040 -32.099198 -31.985454 -21.98728 212\n",
              "5 19.39081   3.887315   3.943918  10.62859 213"
            ]
          },
          "metadata": {}
        }
      ]
    },
    {
      "cell_type": "code",
      "source": [
        "### New orders of capital goods\n",
        "ardl_andeno<- transformed[1:215,] %>%\n",
        "  model(AR(GDPC1 ~ order(1)),\n",
        "        AR(GDPC1 ~ order(1) + ANDENOx_lag1),\n",
        "        AR(GDPC1 ~ order(1) + ANDENOx_lag1 + ANDENOx_lag2),\n",
        "        AR(GDPC1 ~ order(1) + ANDENOx_lag1 + ANDENOx_lag2 + ANDENOx_lag3),\n",
        "        AR(GDPC1 ~ order(1) + ANDENOx_lag1 + ANDENOx_lag2 + ANDENOx_lag3 + ANDENOx_lag4))\n",
        "\n",
        "glance(ardl_andeno) %>%\n",
        "  arrange(AIC)\n"
      ],
      "metadata": {
        "id": "bCBf1BNCGiBi",
        "outputId": "5f04a97f-8d58-45c5-c97f-780f2659d2ff",
        "colab": {
          "base_uri": "https://localhost:8080/",
          "height": 254
        }
      },
      "execution_count": 37,
      "outputs": [
        {
          "output_type": "display_data",
          "data": {
            "text/html": [
              "<table class=\"dataframe\">\n",
              "<caption>A tibble: 5 × 6</caption>\n",
              "<thead>\n",
              "\t<tr><th scope=col>.model</th><th scope=col>sigma2</th><th scope=col>AIC</th><th scope=col>AICc</th><th scope=col>BIC</th><th scope=col>dof</th></tr>\n",
              "\t<tr><th scope=col>&lt;chr&gt;</th><th scope=col>&lt;dbl&gt;</th><th scope=col>&lt;dbl&gt;</th><th scope=col>&lt;dbl&gt;</th><th scope=col>&lt;dbl&gt;</th><th scope=col>&lt;int&gt;</th></tr>\n",
              "</thead>\n",
              "<tbody>\n",
              "\t<tr><td>AR(GDPC1 ~ order(1) + ANDENOx_lag1 + ANDENOx_lag2)                                    </td><td>18.53431</td><td>-1.8254707</td><td>-1.6349945</td><td>11.65708</td><td>211</td></tr>\n",
              "\t<tr><td>AR(GDPC1 ~ order(1) + ANDENOx_lag1 + ANDENOx_lag2 + ANDENOx_lag3)                     </td><td>18.47990</td><td>-0.4575456</td><td>-0.1704643</td><td>16.39564</td><td>210</td></tr>\n",
              "\t<tr><td>AR(GDPC1 ~ order(1) + ANDENOx_lag1 + ANDENOx_lag2 + ANDENOx_lag3 + \n",
              "    ANDENOx_lag4)</td><td>18.43130</td><td> 0.9763187</td><td> 1.3801648</td><td>21.20015</td><td>209</td></tr>\n",
              "\t<tr><td>AR(GDPC1 ~ order(1))                                                                  </td><td>19.39081</td><td> 3.8873146</td><td> 3.9439184</td><td>10.62859</td><td>213</td></tr>\n",
              "\t<tr><td>AR(GDPC1 ~ order(1) + ANDENOx_lag1)                                                   </td><td>19.39060</td><td> 5.8850083</td><td> 5.9987524</td><td>15.99692</td><td>212</td></tr>\n",
              "</tbody>\n",
              "</table>\n"
            ],
            "text/markdown": "\nA tibble: 5 × 6\n\n| .model &lt;chr&gt; | sigma2 &lt;dbl&gt; | AIC &lt;dbl&gt; | AICc &lt;dbl&gt; | BIC &lt;dbl&gt; | dof &lt;int&gt; |\n|---|---|---|---|---|---|\n| AR(GDPC1 ~ order(1) + ANDENOx_lag1 + ANDENOx_lag2)                                     | 18.53431 | -1.8254707 | -1.6349945 | 11.65708 | 211 |\n| AR(GDPC1 ~ order(1) + ANDENOx_lag1 + ANDENOx_lag2 + ANDENOx_lag3)                      | 18.47990 | -0.4575456 | -0.1704643 | 16.39564 | 210 |\n| AR(GDPC1 ~ order(1) + ANDENOx_lag1 + ANDENOx_lag2 + ANDENOx_lag3 + \n    ANDENOx_lag4) | 18.43130 |  0.9763187 |  1.3801648 | 21.20015 | 209 |\n| AR(GDPC1 ~ order(1))                                                                   | 19.39081 |  3.8873146 |  3.9439184 | 10.62859 | 213 |\n| AR(GDPC1 ~ order(1) + ANDENOx_lag1)                                                    | 19.39060 |  5.8850083 |  5.9987524 | 15.99692 | 212 |\n\n",
            "text/latex": "A tibble: 5 × 6\n\\begin{tabular}{llllll}\n .model & sigma2 & AIC & AICc & BIC & dof\\\\\n <chr> & <dbl> & <dbl> & <dbl> & <dbl> & <int>\\\\\n\\hline\n\t AR(GDPC1 \\textasciitilde{} order(1) + ANDENOx\\_lag1 + ANDENOx\\_lag2)                                     & 18.53431 & -1.8254707 & -1.6349945 & 11.65708 & 211\\\\\n\t AR(GDPC1 \\textasciitilde{} order(1) + ANDENOx\\_lag1 + ANDENOx\\_lag2 + ANDENOx\\_lag3)                      & 18.47990 & -0.4575456 & -0.1704643 & 16.39564 & 210\\\\\n\t AR(GDPC1 \\textasciitilde{} order(1) + ANDENOx\\_lag1 + ANDENOx\\_lag2 + ANDENOx\\_lag3 + \n    ANDENOx\\_lag4) & 18.43130 &  0.9763187 &  1.3801648 & 21.20015 & 209\\\\\n\t AR(GDPC1 \\textasciitilde{} order(1))                                                                   & 19.39081 &  3.8873146 &  3.9439184 & 10.62859 & 213\\\\\n\t AR(GDPC1 \\textasciitilde{} order(1) + ANDENOx\\_lag1)                                                    & 19.39060 &  5.8850083 &  5.9987524 & 15.99692 & 212\\\\\n\\end{tabular}\n",
            "text/plain": [
              "  .model                                                                                \n",
              "1 AR(GDPC1 ~ order(1) + ANDENOx_lag1 + ANDENOx_lag2)                                    \n",
              "2 AR(GDPC1 ~ order(1) + ANDENOx_lag1 + ANDENOx_lag2 + ANDENOx_lag3)                     \n",
              "3 AR(GDPC1 ~ order(1) + ANDENOx_lag1 + ANDENOx_lag2 + ANDENOx_lag3 + \\n    ANDENOx_lag4)\n",
              "4 AR(GDPC1 ~ order(1))                                                                  \n",
              "5 AR(GDPC1 ~ order(1) + ANDENOx_lag1)                                                   \n",
              "  sigma2   AIC        AICc       BIC      dof\n",
              "1 18.53431 -1.8254707 -1.6349945 11.65708 211\n",
              "2 18.47990 -0.4575456 -0.1704643 16.39564 210\n",
              "3 18.43130  0.9763187  1.3801648 21.20015 209\n",
              "4 19.39081  3.8873146  3.9439184 10.62859 213\n",
              "5 19.39060  5.8850083  5.9987524 15.99692 212"
            ]
          },
          "metadata": {}
        }
      ]
    },
    {
      "cell_type": "code",
      "source": [
        "### Consumer Sentiment Index\n",
        "ardl_csent <- transformed[1:215,] %>%\n",
        "  model(AR(GDPC1 ~ order(1)),\n",
        "        AR(GDPC1 ~ order(1) + UMCSENTx_lag1),\n",
        "        AR(GDPC1 ~ order(1) + UMCSENTx_lag1 + UMCSENTx_lag2),\n",
        "        AR(GDPC1 ~ order(1) + UMCSENTx_lag1 + UMCSENTx_lag2 + UMCSENTx_lag3),\n",
        "        AR(GDPC1 ~ order(1) + UMCSENTx_lag1 + UMCSENTx_lag2 + UMCSENTx_lag3 + UMCSENTx_lag4))\n",
        "\n",
        "glance(ardl_csent) %>%\n",
        "  arrange(AIC)\n"
      ],
      "metadata": {
        "id": "Og7iu3Y4GlBV",
        "outputId": "d46687c1-5d33-4494-8c2f-0c013c6e7d5c",
        "colab": {
          "base_uri": "https://localhost:8080/",
          "height": 254
        }
      },
      "execution_count": 38,
      "outputs": [
        {
          "output_type": "display_data",
          "data": {
            "text/html": [
              "<table class=\"dataframe\">\n",
              "<caption>A tibble: 5 × 6</caption>\n",
              "<thead>\n",
              "\t<tr><th scope=col>.model</th><th scope=col>sigma2</th><th scope=col>AIC</th><th scope=col>AICc</th><th scope=col>BIC</th><th scope=col>dof</th></tr>\n",
              "\t<tr><th scope=col>&lt;chr&gt;</th><th scope=col>&lt;dbl&gt;</th><th scope=col>&lt;dbl&gt;</th><th scope=col>&lt;dbl&gt;</th><th scope=col>&lt;dbl&gt;</th><th scope=col>&lt;int&gt;</th></tr>\n",
              "</thead>\n",
              "<tbody>\n",
              "\t<tr><td>AR(GDPC1 ~ order(1) + UMCSENTx_lag1 + UMCSENTx_lag2 + UMCSENTx_lag3 + \n",
              "    UMCSENTx_lag4)</td><td>18.51930</td><td>2.000300</td><td>2.404146</td><td>22.22413</td><td>209</td></tr>\n",
              "\t<tr><td>AR(GDPC1 ~ order(1) + UMCSENTx_lag1 + UMCSENTx_lag2 + UMCSENTx_lag3)                      </td><td>18.81839</td><td>3.444946</td><td>3.732027</td><td>20.29814</td><td>210</td></tr>\n",
              "\t<tr><td>AR(GDPC1 ~ order(1))                                                                      </td><td>19.39081</td><td>3.887315</td><td>3.943918</td><td>10.62859</td><td>213</td></tr>\n",
              "\t<tr><td>AR(GDPC1 ~ order(1) + UMCSENTx_lag1 + UMCSENTx_lag2)                                      </td><td>19.06065</td><td>4.195016</td><td>4.385493</td><td>17.67757</td><td>211</td></tr>\n",
              "\t<tr><td>AR(GDPC1 ~ order(1) + UMCSENTx_lag1)                                                      </td><td>19.35868</td><td>5.530801</td><td>5.644545</td><td>15.64272</td><td>212</td></tr>\n",
              "</tbody>\n",
              "</table>\n"
            ],
            "text/markdown": "\nA tibble: 5 × 6\n\n| .model &lt;chr&gt; | sigma2 &lt;dbl&gt; | AIC &lt;dbl&gt; | AICc &lt;dbl&gt; | BIC &lt;dbl&gt; | dof &lt;int&gt; |\n|---|---|---|---|---|---|\n| AR(GDPC1 ~ order(1) + UMCSENTx_lag1 + UMCSENTx_lag2 + UMCSENTx_lag3 + \n    UMCSENTx_lag4) | 18.51930 | 2.000300 | 2.404146 | 22.22413 | 209 |\n| AR(GDPC1 ~ order(1) + UMCSENTx_lag1 + UMCSENTx_lag2 + UMCSENTx_lag3)                       | 18.81839 | 3.444946 | 3.732027 | 20.29814 | 210 |\n| AR(GDPC1 ~ order(1))                                                                       | 19.39081 | 3.887315 | 3.943918 | 10.62859 | 213 |\n| AR(GDPC1 ~ order(1) + UMCSENTx_lag1 + UMCSENTx_lag2)                                       | 19.06065 | 4.195016 | 4.385493 | 17.67757 | 211 |\n| AR(GDPC1 ~ order(1) + UMCSENTx_lag1)                                                       | 19.35868 | 5.530801 | 5.644545 | 15.64272 | 212 |\n\n",
            "text/latex": "A tibble: 5 × 6\n\\begin{tabular}{llllll}\n .model & sigma2 & AIC & AICc & BIC & dof\\\\\n <chr> & <dbl> & <dbl> & <dbl> & <dbl> & <int>\\\\\n\\hline\n\t AR(GDPC1 \\textasciitilde{} order(1) + UMCSENTx\\_lag1 + UMCSENTx\\_lag2 + UMCSENTx\\_lag3 + \n    UMCSENTx\\_lag4) & 18.51930 & 2.000300 & 2.404146 & 22.22413 & 209\\\\\n\t AR(GDPC1 \\textasciitilde{} order(1) + UMCSENTx\\_lag1 + UMCSENTx\\_lag2 + UMCSENTx\\_lag3)                       & 18.81839 & 3.444946 & 3.732027 & 20.29814 & 210\\\\\n\t AR(GDPC1 \\textasciitilde{} order(1))                                                                       & 19.39081 & 3.887315 & 3.943918 & 10.62859 & 213\\\\\n\t AR(GDPC1 \\textasciitilde{} order(1) + UMCSENTx\\_lag1 + UMCSENTx\\_lag2)                                       & 19.06065 & 4.195016 & 4.385493 & 17.67757 & 211\\\\\n\t AR(GDPC1 \\textasciitilde{} order(1) + UMCSENTx\\_lag1)                                                       & 19.35868 & 5.530801 & 5.644545 & 15.64272 & 212\\\\\n\\end{tabular}\n",
            "text/plain": [
              "  .model                                                                                    \n",
              "1 AR(GDPC1 ~ order(1) + UMCSENTx_lag1 + UMCSENTx_lag2 + UMCSENTx_lag3 + \\n    UMCSENTx_lag4)\n",
              "2 AR(GDPC1 ~ order(1) + UMCSENTx_lag1 + UMCSENTx_lag2 + UMCSENTx_lag3)                      \n",
              "3 AR(GDPC1 ~ order(1))                                                                      \n",
              "4 AR(GDPC1 ~ order(1) + UMCSENTx_lag1 + UMCSENTx_lag2)                                      \n",
              "5 AR(GDPC1 ~ order(1) + UMCSENTx_lag1)                                                      \n",
              "  sigma2   AIC      AICc     BIC      dof\n",
              "1 18.51930 2.000300 2.404146 22.22413 209\n",
              "2 18.81839 3.444946 3.732027 20.29814 210\n",
              "3 19.39081 3.887315 3.943918 10.62859 213\n",
              "4 19.06065 4.195016 4.385493 17.67757 211\n",
              "5 19.35868 5.530801 5.644545 15.64272 212"
            ]
          },
          "metadata": {}
        }
      ]
    },
    {
      "cell_type": "code",
      "source": [
        "ardl_houst <- transformed[1:215,] %>%\n",
        "  model(AR(GDPC1 ~ order(1)),\n",
        "        AR(GDPC1 ~ order(1) + HOUST_lag1),\n",
        "        AR(GDPC1 ~ order(1) + HOUST_lag1 + HOUST_lag2),\n",
        "        AR(GDPC1 ~ order(1) + HOUST_lag1 + HOUST_lag2 + HOUST_lag3),\n",
        "        AR(GDPC1 ~ order(1) + HOUST_lag1 + HOUST_lag2 + HOUST_lag3 + HOUST_lag4))\n",
        "\n",
        "glance(ardl_houst) %>%\n",
        "  arrange(AIC)"
      ],
      "metadata": {
        "colab": {
          "base_uri": "https://localhost:8080/",
          "height": 254
        },
        "id": "yBTYoTqvGgp2",
        "outputId": "14139b97-f1d7-4e1c-80a8-cca281c11e24"
      },
      "execution_count": 39,
      "outputs": [
        {
          "output_type": "display_data",
          "data": {
            "text/html": [
              "<table class=\"dataframe\">\n",
              "<caption>A tibble: 5 × 6</caption>\n",
              "<thead>\n",
              "\t<tr><th scope=col>.model</th><th scope=col>sigma2</th><th scope=col>AIC</th><th scope=col>AICc</th><th scope=col>BIC</th><th scope=col>dof</th></tr>\n",
              "\t<tr><th scope=col>&lt;chr&gt;</th><th scope=col>&lt;dbl&gt;</th><th scope=col>&lt;dbl&gt;</th><th scope=col>&lt;dbl&gt;</th><th scope=col>&lt;dbl&gt;</th><th scope=col>&lt;int&gt;</th></tr>\n",
              "</thead>\n",
              "<tbody>\n",
              "\t<tr><td>AR(GDPC1 ~ order(1) + HOUST_lag1 + HOUST_lag2 + HOUST_lag3)                   </td><td>17.58143</td><td>-11.173198</td><td>-10.886117</td><td> 5.679992</td><td>210</td></tr>\n",
              "\t<tr><td>AR(GDPC1 ~ order(1) + HOUST_lag1 + HOUST_lag2 + HOUST_lag3 + \n",
              "    HOUST_lag4)</td><td>17.56663</td><td> -9.354332</td><td> -8.950486</td><td>10.869496</td><td>209</td></tr>\n",
              "\t<tr><td>AR(GDPC1 ~ order(1) + HOUST_lag1 + HOUST_lag2)                                </td><td>17.96522</td><td> -8.530439</td><td> -8.339963</td><td> 4.952113</td><td>211</td></tr>\n",
              "\t<tr><td>AR(GDPC1 ~ order(1) + HOUST_lag1)                                             </td><td>18.66334</td><td> -2.333903</td><td> -2.220159</td><td> 7.778011</td><td>212</td></tr>\n",
              "\t<tr><td>AR(GDPC1 ~ order(1))                                                          </td><td>19.39081</td><td>  3.887315</td><td>  3.943918</td><td>10.628591</td><td>213</td></tr>\n",
              "</tbody>\n",
              "</table>\n"
            ],
            "text/markdown": "\nA tibble: 5 × 6\n\n| .model &lt;chr&gt; | sigma2 &lt;dbl&gt; | AIC &lt;dbl&gt; | AICc &lt;dbl&gt; | BIC &lt;dbl&gt; | dof &lt;int&gt; |\n|---|---|---|---|---|---|\n| AR(GDPC1 ~ order(1) + HOUST_lag1 + HOUST_lag2 + HOUST_lag3)                    | 17.58143 | -11.173198 | -10.886117 |  5.679992 | 210 |\n| AR(GDPC1 ~ order(1) + HOUST_lag1 + HOUST_lag2 + HOUST_lag3 + \n    HOUST_lag4) | 17.56663 |  -9.354332 |  -8.950486 | 10.869496 | 209 |\n| AR(GDPC1 ~ order(1) + HOUST_lag1 + HOUST_lag2)                                 | 17.96522 |  -8.530439 |  -8.339963 |  4.952113 | 211 |\n| AR(GDPC1 ~ order(1) + HOUST_lag1)                                              | 18.66334 |  -2.333903 |  -2.220159 |  7.778011 | 212 |\n| AR(GDPC1 ~ order(1))                                                           | 19.39081 |   3.887315 |   3.943918 | 10.628591 | 213 |\n\n",
            "text/latex": "A tibble: 5 × 6\n\\begin{tabular}{llllll}\n .model & sigma2 & AIC & AICc & BIC & dof\\\\\n <chr> & <dbl> & <dbl> & <dbl> & <dbl> & <int>\\\\\n\\hline\n\t AR(GDPC1 \\textasciitilde{} order(1) + HOUST\\_lag1 + HOUST\\_lag2 + HOUST\\_lag3)                    & 17.58143 & -11.173198 & -10.886117 &  5.679992 & 210\\\\\n\t AR(GDPC1 \\textasciitilde{} order(1) + HOUST\\_lag1 + HOUST\\_lag2 + HOUST\\_lag3 + \n    HOUST\\_lag4) & 17.56663 &  -9.354332 &  -8.950486 & 10.869496 & 209\\\\\n\t AR(GDPC1 \\textasciitilde{} order(1) + HOUST\\_lag1 + HOUST\\_lag2)                                 & 17.96522 &  -8.530439 &  -8.339963 &  4.952113 & 211\\\\\n\t AR(GDPC1 \\textasciitilde{} order(1) + HOUST\\_lag1)                                              & 18.66334 &  -2.333903 &  -2.220159 &  7.778011 & 212\\\\\n\t AR(GDPC1 \\textasciitilde{} order(1))                                                           & 19.39081 &   3.887315 &   3.943918 & 10.628591 & 213\\\\\n\\end{tabular}\n",
            "text/plain": [
              "  .model                                                                        \n",
              "1 AR(GDPC1 ~ order(1) + HOUST_lag1 + HOUST_lag2 + HOUST_lag3)                   \n",
              "2 AR(GDPC1 ~ order(1) + HOUST_lag1 + HOUST_lag2 + HOUST_lag3 + \\n    HOUST_lag4)\n",
              "3 AR(GDPC1 ~ order(1) + HOUST_lag1 + HOUST_lag2)                                \n",
              "4 AR(GDPC1 ~ order(1) + HOUST_lag1)                                             \n",
              "5 AR(GDPC1 ~ order(1))                                                          \n",
              "  sigma2   AIC        AICc       BIC       dof\n",
              "1 17.58143 -11.173198 -10.886117  5.679992 210\n",
              "2 17.56663  -9.354332  -8.950486 10.869496 209\n",
              "3 17.96522  -8.530439  -8.339963  4.952113 211\n",
              "4 18.66334  -2.333903  -2.220159  7.778011 212\n",
              "5 19.39081   3.887315   3.943918 10.628591 213"
            ]
          },
          "metadata": {}
        }
      ]
    },
    {
      "cell_type": "code",
      "source": [
        "ardl_combined <- transformed[1:215,] %>%\n",
        "  model(AR(GDPC1 ~ order(1) + CLAIMSx_lag1 + CLAIMSx_lag2 + CLAIMSx_lag3 + CLAIMSx_lag4 + ANDENOx_lag1 + ANDENOx_lag2 + GS10TB3Mx_lag1 + GS10TB3Mx_lag2 + UMCSENTx_lag1 + UMCSENTx_lag2 + UMCSENTx_lag3 + UMCSENTx_lag4 + HOUST_lag1 + HOUST_lag2 + HOUST_lag3))\n",
        "\n",
        "glance(ardl_combined)\n",
        "\n",
        "ardl_combined %>%\n",
        "  fabletools::forecast(new_data=transformed[216:219,]) %>%\n",
        "  accuracy(transformed)\n",
        "\n"
      ],
      "metadata": {
        "id": "BdDz8U0zGo5g",
        "outputId": "029e4899-86af-4701-b4d5-bd92763e4d39",
        "colab": {
          "base_uri": "https://localhost:8080/",
          "height": 328
        }
      },
      "execution_count": 40,
      "outputs": [
        {
          "output_type": "display_data",
          "data": {
            "text/html": [
              "<table class=\"dataframe\">\n",
              "<caption>A tibble: 1 × 6</caption>\n",
              "<thead>\n",
              "\t<tr><th scope=col>.model</th><th scope=col>sigma2</th><th scope=col>AIC</th><th scope=col>AICc</th><th scope=col>BIC</th><th scope=col>dof</th></tr>\n",
              "\t<tr><th scope=col>&lt;chr&gt;</th><th scope=col>&lt;dbl&gt;</th><th scope=col>&lt;dbl&gt;</th><th scope=col>&lt;dbl&gt;</th><th scope=col>&lt;dbl&gt;</th><th scope=col>&lt;int&gt;</th></tr>\n",
              "</thead>\n",
              "<tbody>\n",
              "\t<tr><td>AR(GDPC1 ~ order(1) + CLAIMSx_lag1 + CLAIMSx_lag2 + CLAIMSx_lag3 + \n",
              "    CLAIMSx_lag4 + ANDENOx_lag1 + ANDENOx_lag2 + GS10TB3Mx_lag1 + \n",
              "    GS10TB3Mx_lag2 + UMCSENTx_lag1 + UMCSENTx_lag2 + UMCSENTx_lag3 + \n",
              "    UMCSENTx_lag4 + HOUST_lag1 + HOUST_lag2 + HOUST_lag3)</td><td>10.78291</td><td>-92.28266</td><td>-89.17606</td><td>-34.98181</td><td>198</td></tr>\n",
              "</tbody>\n",
              "</table>\n"
            ],
            "text/markdown": "\nA tibble: 1 × 6\n\n| .model &lt;chr&gt; | sigma2 &lt;dbl&gt; | AIC &lt;dbl&gt; | AICc &lt;dbl&gt; | BIC &lt;dbl&gt; | dof &lt;int&gt; |\n|---|---|---|---|---|---|\n| AR(GDPC1 ~ order(1) + CLAIMSx_lag1 + CLAIMSx_lag2 + CLAIMSx_lag3 + \n    CLAIMSx_lag4 + ANDENOx_lag1 + ANDENOx_lag2 + GS10TB3Mx_lag1 + \n    GS10TB3Mx_lag2 + UMCSENTx_lag1 + UMCSENTx_lag2 + UMCSENTx_lag3 + \n    UMCSENTx_lag4 + HOUST_lag1 + HOUST_lag2 + HOUST_lag3) | 10.78291 | -92.28266 | -89.17606 | -34.98181 | 198 |\n\n",
            "text/latex": "A tibble: 1 × 6\n\\begin{tabular}{llllll}\n .model & sigma2 & AIC & AICc & BIC & dof\\\\\n <chr> & <dbl> & <dbl> & <dbl> & <dbl> & <int>\\\\\n\\hline\n\t AR(GDPC1 \\textasciitilde{} order(1) + CLAIMSx\\_lag1 + CLAIMSx\\_lag2 + CLAIMSx\\_lag3 + \n    CLAIMSx\\_lag4 + ANDENOx\\_lag1 + ANDENOx\\_lag2 + GS10TB3Mx\\_lag1 + \n    GS10TB3Mx\\_lag2 + UMCSENTx\\_lag1 + UMCSENTx\\_lag2 + UMCSENTx\\_lag3 + \n    UMCSENTx\\_lag4 + HOUST\\_lag1 + HOUST\\_lag2 + HOUST\\_lag3) & 10.78291 & -92.28266 & -89.17606 & -34.98181 & 198\\\\\n\\end{tabular}\n",
            "text/plain": [
              "  .model                                                                                                                                                                                                                                                                   \n",
              "1 AR(GDPC1 ~ order(1) + CLAIMSx_lag1 + CLAIMSx_lag2 + CLAIMSx_lag3 + \\n    CLAIMSx_lag4 + ANDENOx_lag1 + ANDENOx_lag2 + GS10TB3Mx_lag1 + \\n    GS10TB3Mx_lag2 + UMCSENTx_lag1 + UMCSENTx_lag2 + UMCSENTx_lag3 + \\n    UMCSENTx_lag4 + HOUST_lag1 + HOUST_lag2 + HOUST_lag3)\n",
              "  sigma2   AIC       AICc      BIC       dof\n",
              "1 10.78291 -92.28266 -89.17606 -34.98181 198"
            ]
          },
          "metadata": {}
        },
        {
          "output_type": "display_data",
          "data": {
            "text/html": [
              "<table class=\"dataframe\">\n",
              "<caption>A tibble: 1 × 10</caption>\n",
              "<thead>\n",
              "\t<tr><th scope=col>.model</th><th scope=col>.type</th><th scope=col>ME</th><th scope=col>RMSE</th><th scope=col>MAE</th><th scope=col>MPE</th><th scope=col>MAPE</th><th scope=col>MASE</th><th scope=col>RMSSE</th><th scope=col>ACF1</th></tr>\n",
              "\t<tr><th scope=col>&lt;chr&gt;</th><th scope=col>&lt;chr&gt;</th><th scope=col>&lt;dbl&gt;</th><th scope=col>&lt;dbl&gt;</th><th scope=col>&lt;dbl&gt;</th><th scope=col>&lt;dbl&gt;</th><th scope=col>&lt;dbl&gt;</th><th scope=col>&lt;dbl&gt;</th><th scope=col>&lt;dbl&gt;</th><th scope=col>&lt;dbl&gt;</th></tr>\n",
              "</thead>\n",
              "<tbody>\n",
              "\t<tr><td>AR(GDPC1 ~ order(1) + CLAIMSx_lag1 + CLAIMSx_lag2 + CLAIMSx_lag3 + \n",
              "    CLAIMSx_lag4 + ANDENOx_lag1 + ANDENOx_lag2 + GS10TB3Mx_lag1 + \n",
              "    GS10TB3Mx_lag2 + UMCSENTx_lag1 + UMCSENTx_lag2 + UMCSENTx_lag3 + \n",
              "    UMCSENTx_lag4 + HOUST_lag1 + HOUST_lag2 + HOUST_lag3)</td><td>Test</td><td>1.217375</td><td>2.181504</td><td>2.059469</td><td>39.16988</td><td>65.9684</td><td>0.5499898</td><td>0.3509477</td><td>-0.3288316</td></tr>\n",
              "</tbody>\n",
              "</table>\n"
            ],
            "text/markdown": "\nA tibble: 1 × 10\n\n| .model &lt;chr&gt; | .type &lt;chr&gt; | ME &lt;dbl&gt; | RMSE &lt;dbl&gt; | MAE &lt;dbl&gt; | MPE &lt;dbl&gt; | MAPE &lt;dbl&gt; | MASE &lt;dbl&gt; | RMSSE &lt;dbl&gt; | ACF1 &lt;dbl&gt; |\n|---|---|---|---|---|---|---|---|---|---|\n| AR(GDPC1 ~ order(1) + CLAIMSx_lag1 + CLAIMSx_lag2 + CLAIMSx_lag3 + \n    CLAIMSx_lag4 + ANDENOx_lag1 + ANDENOx_lag2 + GS10TB3Mx_lag1 + \n    GS10TB3Mx_lag2 + UMCSENTx_lag1 + UMCSENTx_lag2 + UMCSENTx_lag3 + \n    UMCSENTx_lag4 + HOUST_lag1 + HOUST_lag2 + HOUST_lag3) | Test | 1.217375 | 2.181504 | 2.059469 | 39.16988 | 65.9684 | 0.5499898 | 0.3509477 | -0.3288316 |\n\n",
            "text/latex": "A tibble: 1 × 10\n\\begin{tabular}{llllllllll}\n .model & .type & ME & RMSE & MAE & MPE & MAPE & MASE & RMSSE & ACF1\\\\\n <chr> & <chr> & <dbl> & <dbl> & <dbl> & <dbl> & <dbl> & <dbl> & <dbl> & <dbl>\\\\\n\\hline\n\t AR(GDPC1 \\textasciitilde{} order(1) + CLAIMSx\\_lag1 + CLAIMSx\\_lag2 + CLAIMSx\\_lag3 + \n    CLAIMSx\\_lag4 + ANDENOx\\_lag1 + ANDENOx\\_lag2 + GS10TB3Mx\\_lag1 + \n    GS10TB3Mx\\_lag2 + UMCSENTx\\_lag1 + UMCSENTx\\_lag2 + UMCSENTx\\_lag3 + \n    UMCSENTx\\_lag4 + HOUST\\_lag1 + HOUST\\_lag2 + HOUST\\_lag3) & Test & 1.217375 & 2.181504 & 2.059469 & 39.16988 & 65.9684 & 0.5499898 & 0.3509477 & -0.3288316\\\\\n\\end{tabular}\n",
            "text/plain": [
              "  .model                                                                                                                                                                                                                                                                   \n",
              "1 AR(GDPC1 ~ order(1) + CLAIMSx_lag1 + CLAIMSx_lag2 + CLAIMSx_lag3 + \\n    CLAIMSx_lag4 + ANDENOx_lag1 + ANDENOx_lag2 + GS10TB3Mx_lag1 + \\n    GS10TB3Mx_lag2 + UMCSENTx_lag1 + UMCSENTx_lag2 + UMCSENTx_lag3 + \\n    UMCSENTx_lag4 + HOUST_lag1 + HOUST_lag2 + HOUST_lag3)\n",
              "  .type ME       RMSE     MAE      MPE      MAPE    MASE      RMSSE    \n",
              "1 Test  1.217375 2.181504 2.059469 39.16988 65.9684 0.5499898 0.3509477\n",
              "  ACF1      \n",
              "1 -0.3288316"
            ]
          },
          "metadata": {}
        }
      ]
    },
    {
      "cell_type": "markdown",
      "source": [
        "VAR"
      ],
      "metadata": {
        "id": "HJgWo7p-GYjp"
      }
    },
    {
      "cell_type": "code",
      "source": [
        "var <- transformed[1:215,] %>%\n",
        "  model(var1 = VAR(vars(GDPC1, CLAIMSx, UMCSENTx, GS10TB3Mx, ANDENOx, HOUST) ~ AR(1)),\n",
        "        var2 = VAR(vars(GDPC1, CLAIMSx, UMCSENTx, GS10TB3Mx, ANDENOx, HOUST) ~ AR(2)),\n",
        "        var3 = VAR(vars(GDPC1, CLAIMSx, UMCSENTx, GS10TB3Mx, ANDENOx, HOUST) ~ AR(3)),\n",
        "        var4 = VAR(vars(GDPC1, CLAIMSx, UMCSENTx, GS10TB3Mx, ANDENOx, HOUST) ~ AR(4)))\n",
        "\n",
        "\n",
        "for (i in 1:4){\n",
        "   print(sprintf(\"AIC of VAR %s is %s\", i, var[[i]][[1]][[\"fit\"]][[\"fit\"]][[\"AIC\"]]))\n",
        "}\n",
        "\n",
        "var %>%\n",
        "  fabletools::forecast(new_data=transformed[216:219,]) %>%\n",
        "  accuracy(transformed) %>%\n",
        "  filter(.response == 'GDPC1') %>%\n",
        "  arrange(RMSE)\n"
      ],
      "metadata": {
        "id": "Hm3QkmJAIxzo",
        "outputId": "c6a2530b-07f9-451f-9771-f9345910fe47",
        "colab": {
          "base_uri": "https://localhost:8080/",
          "height": 296
        }
      },
      "execution_count": 41,
      "outputs": [
        {
          "output_type": "stream",
          "name": "stdout",
          "text": [
            "[1] \"AIC of VAR 1 is 7409.27755768287\"\n",
            "[1] \"AIC of VAR 2 is 7317.09559771354\"\n",
            "[1] \"AIC of VAR 3 is 7325.64587576418\"\n",
            "[1] \"AIC of VAR 4 is 7302.2307184856\"\n"
          ]
        },
        {
          "output_type": "display_data",
          "data": {
            "text/html": [
              "<table class=\"dataframe\">\n",
              "<caption>A tibble: 4 × 11</caption>\n",
              "<thead>\n",
              "\t<tr><th scope=col>.model</th><th scope=col>.response</th><th scope=col>.type</th><th scope=col>ME</th><th scope=col>RMSE</th><th scope=col>MAE</th><th scope=col>MPE</th><th scope=col>MAPE</th><th scope=col>MASE</th><th scope=col>RMSSE</th><th scope=col>ACF1</th></tr>\n",
              "\t<tr><th scope=col>&lt;chr&gt;</th><th scope=col>&lt;chr&gt;</th><th scope=col>&lt;chr&gt;</th><th scope=col>&lt;dbl&gt;</th><th scope=col>&lt;dbl&gt;</th><th scope=col>&lt;dbl&gt;</th><th scope=col>&lt;dbl&gt;</th><th scope=col>&lt;dbl&gt;</th><th scope=col>&lt;dbl&gt;</th><th scope=col>&lt;dbl&gt;</th><th scope=col>&lt;dbl&gt;</th></tr>\n",
              "</thead>\n",
              "<tbody>\n",
              "\t<tr><td>var1</td><td>GDPC1</td><td>Test</td><td>1.551045</td><td>1.667352</td><td>1.551045</td><td> 47.76156</td><td> 47.76156</td><td>0.4142132</td><td>0.2682339</td><td>-0.3906258</td></tr>\n",
              "\t<tr><td>var2</td><td>GDPC1</td><td>Test</td><td>2.120961</td><td>2.218015</td><td>2.120961</td><td> 66.89606</td><td> 66.89606</td><td>0.5664117</td><td>0.3568214</td><td>-0.5469034</td></tr>\n",
              "\t<tr><td>var3</td><td>GDPC1</td><td>Test</td><td>2.990439</td><td>3.027955</td><td>2.990439</td><td> 97.25131</td><td> 97.25131</td><td>0.7986094</td><td>0.4871199</td><td>-0.3374764</td></tr>\n",
              "\t<tr><td>var4</td><td>GDPC1</td><td>Test</td><td>3.505753</td><td>3.615190</td><td>3.505753</td><td>112.80827</td><td>112.80827</td><td>0.9362261</td><td>0.5815907</td><td>-0.5946136</td></tr>\n",
              "</tbody>\n",
              "</table>\n"
            ],
            "text/markdown": "\nA tibble: 4 × 11\n\n| .model &lt;chr&gt; | .response &lt;chr&gt; | .type &lt;chr&gt; | ME &lt;dbl&gt; | RMSE &lt;dbl&gt; | MAE &lt;dbl&gt; | MPE &lt;dbl&gt; | MAPE &lt;dbl&gt; | MASE &lt;dbl&gt; | RMSSE &lt;dbl&gt; | ACF1 &lt;dbl&gt; |\n|---|---|---|---|---|---|---|---|---|---|---|\n| var1 | GDPC1 | Test | 1.551045 | 1.667352 | 1.551045 |  47.76156 |  47.76156 | 0.4142132 | 0.2682339 | -0.3906258 |\n| var2 | GDPC1 | Test | 2.120961 | 2.218015 | 2.120961 |  66.89606 |  66.89606 | 0.5664117 | 0.3568214 | -0.5469034 |\n| var3 | GDPC1 | Test | 2.990439 | 3.027955 | 2.990439 |  97.25131 |  97.25131 | 0.7986094 | 0.4871199 | -0.3374764 |\n| var4 | GDPC1 | Test | 3.505753 | 3.615190 | 3.505753 | 112.80827 | 112.80827 | 0.9362261 | 0.5815907 | -0.5946136 |\n\n",
            "text/latex": "A tibble: 4 × 11\n\\begin{tabular}{lllllllllll}\n .model & .response & .type & ME & RMSE & MAE & MPE & MAPE & MASE & RMSSE & ACF1\\\\\n <chr> & <chr> & <chr> & <dbl> & <dbl> & <dbl> & <dbl> & <dbl> & <dbl> & <dbl> & <dbl>\\\\\n\\hline\n\t var1 & GDPC1 & Test & 1.551045 & 1.667352 & 1.551045 &  47.76156 &  47.76156 & 0.4142132 & 0.2682339 & -0.3906258\\\\\n\t var2 & GDPC1 & Test & 2.120961 & 2.218015 & 2.120961 &  66.89606 &  66.89606 & 0.5664117 & 0.3568214 & -0.5469034\\\\\n\t var3 & GDPC1 & Test & 2.990439 & 3.027955 & 2.990439 &  97.25131 &  97.25131 & 0.7986094 & 0.4871199 & -0.3374764\\\\\n\t var4 & GDPC1 & Test & 3.505753 & 3.615190 & 3.505753 & 112.80827 & 112.80827 & 0.9362261 & 0.5815907 & -0.5946136\\\\\n\\end{tabular}\n",
            "text/plain": [
              "  .model .response .type ME       RMSE     MAE      MPE       MAPE     \n",
              "1 var1   GDPC1     Test  1.551045 1.667352 1.551045  47.76156  47.76156\n",
              "2 var2   GDPC1     Test  2.120961 2.218015 2.120961  66.89606  66.89606\n",
              "3 var3   GDPC1     Test  2.990439 3.027955 2.990439  97.25131  97.25131\n",
              "4 var4   GDPC1     Test  3.505753 3.615190 3.505753 112.80827 112.80827\n",
              "  MASE      RMSSE     ACF1      \n",
              "1 0.4142132 0.2682339 -0.3906258\n",
              "2 0.5664117 0.3568214 -0.5469034\n",
              "3 0.7986094 0.4871199 -0.3374764\n",
              "4 0.9362261 0.5815907 -0.5946136"
            ]
          },
          "metadata": {}
        }
      ]
    },
    {
      "cell_type": "markdown",
      "source": [
        "## Forecasting"
      ],
      "metadata": {
        "id": "Z7xhou0VKlax"
      }
    },
    {
      "cell_type": "code",
      "source": [
        "## Q1 2024\n",
        "### AR\n",
        "ar1 <-transformed %>%\n",
        "  model(ar1 = AR(GDPC1 ~ order(1)))\n",
        "\n",
        "ar1_fc <- ar1 %>%\n",
        "  fabletools::forecast(h=5)\n",
        "ar1_fc %>%\n",
        "  hilo(level=c(50,80))\n",
        "\n",
        "\n",
        "### ARDL using direct h-step forecasting\n",
        "transformed_ardl <- transformed %>%\n",
        "  mutate(across(c(GDPC1, GS10TB3Mx, CLAIMSx, ANDENOx, UMCSENTx, HOUST),\n",
        "                list(lag5 = ~ lag(., 5), lag6 = ~ lag(., 6),lag7 = ~ lag(., 7), lag8 = ~ lag(., 8), lag9 = ~ lag(., 9)),\n",
        "                .names = \"{col}_{fn}\"))\n",
        "\n",
        "last_obs <- transformed_ardl %>% slice_tail(n = 3)\n",
        "future_data1 <- new_data(transformed, n = 1, keep_all=TRUE) %>%\n",
        "  mutate(\n",
        "    date = yearquarter(\"2025 Q1\"),\n",
        "    GDPC1_lag2 = last_obs$GDPC1[3],\n",
        "    CLAIMSx_lag2 = last_obs$CLAIMSx_lag1[3],\n",
        "    CLAIMSx_lag3 = last_obs$CLAIMSx_lag2[3],  # Correctly getting the t-2 value\n",
        "    CLAIMSx_lag4 = last_obs$CLAIMSx_lag3[3],\n",
        "    CLAIMSx_lag5 = last_obs$CLAIMSx_lag4[3],\n",
        "    ANDENOx_lag2 = last_obs$ANDENOx_lag1[3],\n",
        "    ANDENOx_lag3 = last_obs$ANDENOx_lag2[3],\n",
        "    GS10TB3Mx_lag2 = last_obs$GS10TB3Mx_lag1[3],\n",
        "    GS10TB3Mx_lag3 = last_obs$GS10TB3Mx_lag2[3],\n",
        "    UMCSENTx_lag2 = last_obs$UMCSENTx_lag1[3],\n",
        "    UMCSENTx_lag3 = last_obs$UMCSENTx_lag2[3],\n",
        "    UMCSENTx_lag4 = last_obs$UMCSENTx_lag3[3],\n",
        "    UMCSENTx_lag5 = last_obs$UMCSENTx_lag4[3],\n",
        "    HOUST_lag2 = last_obs$HOUST_lag1[3],\n",
        "    HOUST_lag3 = last_obs$HOUST_lag2[3],\n",
        "    HOUST_lag4 = last_obs$HOUST_lag3[3],\n",
        "  )\n",
        "head\n",
        "q1_ardl <- transformed_ardl %>%\n",
        "  model(TSLM(GDPC1 ~ GDPC1_lag2 + CLAIMSx_lag2 + CLAIMSx_lag3 + CLAIMSx_lag4 + CLAIMSx_lag5 + ANDENOx_lag2 + ANDENOx_lag3 + GS10TB3Mx_lag2 + GS10TB3Mx_lag3 + UMCSENTx_lag2 + UMCSENTx_lag3 + UMCSENTx_lag4 + UMCSENTx_lag5 + HOUST_lag2 + HOUST_lag3 + HOUST_lag4))\n",
        "ardl_fc_q1 <- q1_ardl %>%\n",
        "  fabletools::forecast(future_data1)\n",
        "hilo(ardl_fc_q1, 50) %>%\n",
        "  dplyr::select(.mean, '50%')\n",
        "\n",
        "### VAR\n",
        "var_fc <- transformed %>%\n",
        "  model(var1 = VAR(vars(GDPC1, CLAIMSx, UMCSENTx, GS10TB3Mx, ANDENOx, HOUST) ~ AR(2))) %>%\n",
        "  fabletools::forecast()\n",
        "\n",
        "hilo(var_fc, 50) %>%\n",
        "  dplyr::select(.mean, '50%')\n",
        "\n",
        "mean_forecast_q1 <- (ar1_fc[2,4] + var_fc[[4]][2] + ardl_fc_q1[4])/3\n",
        "print(sprintf(\"The mean forecast growth for Q1 2025 is %s%%\", round(mean_forecast_q1,2)))"
      ],
      "metadata": {
        "id": "jGg6hPEcKpFC",
        "outputId": "e9677303-363a-445a-be7f-26fc12f35445",
        "colab": {
          "base_uri": "https://localhost:8080/",
          "height": 1000
        }
      },
      "execution_count": 99,
      "outputs": [
        {
          "output_type": "display_data",
          "data": {
            "text/html": [
              "<table class=\"dataframe\">\n",
              "<caption>A tbl_ts: 5 × 6</caption>\n",
              "<thead>\n",
              "\t<tr><th scope=col>.model</th><th scope=col>date</th><th scope=col>GDPC1</th><th scope=col>.mean</th><th scope=col>50%</th><th scope=col>80%</th></tr>\n",
              "\t<tr><th scope=col>&lt;chr&gt;</th><th scope=col>&lt;qtr&gt;</th><th scope=col>&lt;dist&gt;</th><th scope=col>&lt;dbl&gt;</th><th scope=col>&lt;hilo&gt;</th><th scope=col>&lt;hilo&gt;</th></tr>\n",
              "</thead>\n",
              "<tbody>\n",
              "\t<tr><td>ar1</td><td>2024 Q4</td><td>N(2.7, 19)</td><td>2.687118</td><td>[-0.2370247, 5.611261]50</td><td>[-2.868845, 8.243081]80</td></tr>\n",
              "\t<tr><td>ar1</td><td>2025 Q1</td><td>N(2.7, 19)</td><td>2.687968</td><td>[-0.2361841, 5.612120]50</td><td>[-2.868012, 8.243948]80</td></tr>\n",
              "\t<tr><td>ar1</td><td>2025 Q2</td><td>N(2.7, 19)</td><td>2.687966</td><td>[-0.2361862, 5.612118]50</td><td>[-2.868014, 8.243946]80</td></tr>\n",
              "\t<tr><td>ar1</td><td>2025 Q3</td><td>N(2.7, 19)</td><td>2.687966</td><td>[-0.2361862, 5.612118]50</td><td>[-2.868014, 8.243946]80</td></tr>\n",
              "\t<tr><td>ar1</td><td>2025 Q4</td><td>N(2.7, 19)</td><td>2.687966</td><td>[-0.2361862, 5.612118]50</td><td>[-2.868014, 8.243946]80</td></tr>\n",
              "</tbody>\n",
              "</table>\n"
            ],
            "text/markdown": "\nA tbl_ts: 5 × 6\n\n| .model &lt;chr&gt; | date &lt;qtr&gt; | GDPC1 &lt;dist&gt; | .mean &lt;dbl&gt; | 50% &lt;hilo&gt; | 80% &lt;hilo&gt; |\n|---|---|---|---|---|---|\n| ar1 | 2024 Q4 | N(2.7, 19) | 2.687118 | [-0.2370247, 5.611261]50 | [-2.868845, 8.243081]80 |\n| ar1 | 2025 Q1 | N(2.7, 19) | 2.687968 | [-0.2361841, 5.612120]50 | [-2.868012, 8.243948]80 |\n| ar1 | 2025 Q2 | N(2.7, 19) | 2.687966 | [-0.2361862, 5.612118]50 | [-2.868014, 8.243946]80 |\n| ar1 | 2025 Q3 | N(2.7, 19) | 2.687966 | [-0.2361862, 5.612118]50 | [-2.868014, 8.243946]80 |\n| ar1 | 2025 Q4 | N(2.7, 19) | 2.687966 | [-0.2361862, 5.612118]50 | [-2.868014, 8.243946]80 |\n\n",
            "text/latex": "A tbl\\_ts: 5 × 6\n\\begin{tabular}{llllll}\n .model & date & GDPC1 & .mean & 50\\% & 80\\%\\\\\n <chr> & <qtr> & <dist> & <dbl> & <hilo> & <hilo>\\\\\n\\hline\n\t ar1 & 2024 Q4 & N(2.7, 19) & 2.687118 & {[}-0.2370247, 5.611261{]}50 & {[}-2.868845, 8.243081{]}80\\\\\n\t ar1 & 2025 Q1 & N(2.7, 19) & 2.687968 & {[}-0.2361841, 5.612120{]}50 & {[}-2.868012, 8.243948{]}80\\\\\n\t ar1 & 2025 Q2 & N(2.7, 19) & 2.687966 & {[}-0.2361862, 5.612118{]}50 & {[}-2.868014, 8.243946{]}80\\\\\n\t ar1 & 2025 Q3 & N(2.7, 19) & 2.687966 & {[}-0.2361862, 5.612118{]}50 & {[}-2.868014, 8.243946{]}80\\\\\n\t ar1 & 2025 Q4 & N(2.7, 19) & 2.687966 & {[}-0.2361862, 5.612118{]}50 & {[}-2.868014, 8.243946{]}80\\\\\n\\end{tabular}\n",
            "text/plain": [
              "  .model date    GDPC1      .mean    50%                     \n",
              "1 ar1    2024 Q4 N(2.7, 19) 2.687118 [-0.2370247, 5.611261]50\n",
              "2 ar1    2025 Q1 N(2.7, 19) 2.687968 [-0.2361841, 5.612120]50\n",
              "3 ar1    2025 Q2 N(2.7, 19) 2.687966 [-0.2361862, 5.612118]50\n",
              "4 ar1    2025 Q3 N(2.7, 19) 2.687966 [-0.2361862, 5.612118]50\n",
              "5 ar1    2025 Q4 N(2.7, 19) 2.687966 [-0.2361862, 5.612118]50\n",
              "  80%                    \n",
              "1 [-2.868845, 8.243081]80\n",
              "2 [-2.868012, 8.243948]80\n",
              "3 [-2.868014, 8.243946]80\n",
              "4 [-2.868014, 8.243946]80\n",
              "5 [-2.868014, 8.243946]80"
            ]
          },
          "metadata": {}
        },
        {
          "output_type": "display_data",
          "data": {
            "text/html": [
              "<pre class=language-r><code>function (x, ...) \n",
              "UseMethod(\"head\")</code></pre>"
            ],
            "text/markdown": "```r\nfunction (x, ...) \nUseMethod(\"head\")\n```",
            "text/latex": "\\begin{minted}{r}\nfunction (x, ...) \nUseMethod(\"head\")\n\\end{minted}",
            "text/plain": [
              "function (x, ...) \n",
              "UseMethod(\"head\")\n",
              "<bytecode: 0x583bb31f2308>\n",
              "<environment: namespace:utils>"
            ]
          },
          "metadata": {}
        },
        {
          "output_type": "display_data",
          "data": {
            "text/html": [
              "<table class=\"dataframe\">\n",
              "<caption>A tbl_ts: 1 × 3</caption>\n",
              "<thead>\n",
              "\t<tr><th scope=col>.mean</th><th scope=col>50%</th><th scope=col>date</th></tr>\n",
              "\t<tr><th scope=col>&lt;dbl&gt;</th><th scope=col>&lt;hilo&gt;</th><th scope=col>&lt;qtr&gt;</th></tr>\n",
              "</thead>\n",
              "<tbody>\n",
              "\t<tr><td>0.1415071</td><td>[-2.741421, 3.024435]50</td><td>2025 Q1</td></tr>\n",
              "</tbody>\n",
              "</table>\n"
            ],
            "text/markdown": "\nA tbl_ts: 1 × 3\n\n| .mean &lt;dbl&gt; | 50% &lt;hilo&gt; | date &lt;qtr&gt; |\n|---|---|---|\n| 0.1415071 | [-2.741421, 3.024435]50 | 2025 Q1 |\n\n",
            "text/latex": "A tbl\\_ts: 1 × 3\n\\begin{tabular}{lll}\n .mean & 50\\% & date\\\\\n <dbl> & <hilo> & <qtr>\\\\\n\\hline\n\t 0.1415071 & {[}-2.741421, 3.024435{]}50 & 2025 Q1\\\\\n\\end{tabular}\n",
            "text/plain": [
              "  .mean     50%                     date   \n",
              "1 0.1415071 [-2.741421, 3.024435]50 2025 Q1"
            ]
          },
          "metadata": {}
        },
        {
          "output_type": "display_data",
          "data": {
            "text/plain": [
              "  .mean      <NA>     <NA>       <NA>        <NA>       <NA>      \n",
              "1 -0.4330342 9.657873 -1.8179432 -0.97109642 -4.9898275 -6.5875003\n",
              "2  2.7371425 3.499008 -2.0355182 -0.61584446 -0.4364838 -4.7907885\n",
              "3  0.1681690 6.477541 -1.2548836 -0.25251502 -2.1437307 -3.4991415\n",
              "4  1.4518235 4.429064 -0.7391259  0.02813594 -1.6221799 -2.6623239\n",
              "5  1.2006864 3.979401 -0.8372555  0.31090354 -1.5883119 -1.6861095\n",
              "6  1.7813782 2.620591 -0.4152749  0.52947530 -1.0824092 -1.0458482\n",
              "7  1.8537110 2.341234 -0.4137416  0.71361720 -0.8905777 -0.7916619\n",
              "8  2.0917491 1.829921 -0.3241255  0.86054045 -0.6180659 -0.5928551\n",
              "  50%$GDPC1                 50%$CLAIMSx              50%$UMCSENTx           \n",
              "1 [-2.66421239, 1.798144]50 [ 0.5506869, 18.76506]50 [-5.275139, 1.639253]50\n",
              "2 [ 0.09302205, 5.381263]50 [-7.0043466, 14.00236]50 [-5.693558, 1.622522]50\n",
              "3 [-2.72614389, 3.062482]50 [-4.4850805, 17.44016]50 [-4.949418, 2.439651]50\n",
              "4 [-1.51530000, 4.418947]50 [-6.7286952, 15.58682]50 [-4.458879, 2.980627]50\n",
              "5 [-1.78493432, 4.186307]50 [-7.2146454, 15.17345]50 [-4.562514, 2.888003]50\n",
              "6 [-1.21757885, 4.780335]50 [-8.6083473, 13.84953]50 [-4.147436, 3.316887]50\n",
              "7 [-1.15143759, 4.858860]50 [-8.9027126, 13.58518]50 [-4.147884, 3.320401]50\n",
              "8 [-0.91818170, 5.101680]50 [-9.4236447, 13.08349]50 [-4.059160, 3.410909]50\n",
              "  50%$GS10TB3Mx                50%$ANDENOx              \n",
              "1 [-1.336961496, -0.6052313]50 [-9.313005, -0.6666503]50\n",
              "2 [-1.168785721, -0.0629032]50 [-4.999100,  4.1261323]50\n",
              "3 [-0.920296425,  0.4152664]50 [-6.779904,  2.4924429]50\n",
              "4 [-0.715740514,  0.7720124]50 [-6.319967,  3.0756076]50\n",
              "5 [-0.485161941,  1.1069690]50 [-6.305590,  3.1289664]50\n",
              "6 [-0.301193162,  1.3601438]50 [-5.811531,  3.6467128]50\n",
              "7 [-0.140181515,  1.5674159]50 [-5.626678,  3.8455225]50\n",
              "8 [-0.008553492,  1.7296344]50 [-5.359293,  4.1231611]50\n",
              "  50%$HOUST                  date   \n",
              "1 [-11.837149, -1.3378520]50 2024 Q4\n",
              "2 [-10.306998,  0.7254209]50 2025 Q1\n",
              "3 [ -9.342844,  2.3445608]50 2025 Q2\n",
              "4 [ -8.624356,  3.2997086]50 2025 Q3\n",
              "5 [ -7.689688,  4.3174687]50 2025 Q4\n",
              "6 [ -7.075449,  4.9837530]50 2026 Q1\n",
              "7 [ -6.832218,  5.2488937]50 2026 Q2\n",
              "8 [ -6.638415,  5.4527050]50 2026 Q3"
            ]
          },
          "metadata": {}
        },
        {
          "output_type": "stream",
          "name": "stdout",
          "text": [
            "[1] \"The mean forecast growth for Q1 2025 is 1.86%\"\n"
          ]
        }
      ]
    },
    {
      "cell_type": "code",
      "source": [
        "## Q2 2025\n",
        "### ARDL using direct h-step forecasting\n",
        "transformed_ardl <- transformed %>%\n",
        "  mutate(across(c(GDPC1, GS10TB3Mx, CLAIMSx, ANDENOx, UMCSENTx, HOUST),\n",
        "                list(lag5 = ~ lag(., 5), lag6 = ~ lag(., 6),lag7 = ~ lag(., 7), lag8 = ~ lag(., 8), lag9 = ~ lag(., 9)),\n",
        "                .names = \"{col}_{fn}\"))\n",
        "\n",
        "\n",
        "future_data2 <- new_data(transformed, n = 1, keep_all=TRUE) %>%\n",
        "  mutate(\n",
        "    date = yearquarter(\"2025 Q2\"),\n",
        "    GDPC1_lag3 = last_obs$GDPC1[3],\n",
        "    CLAIMSx_lag3 = last_obs$CLAIMSx_lag1[3],\n",
        "    CLAIMSx_lag4 = last_obs$CLAIMSx_lag2[3],  # Correctly getting the t-2 value\n",
        "    CLAIMSx_lag5 = last_obs$CLAIMSx_lag3[3],\n",
        "    CLAIMSx_lag6 = last_obs$CLAIMSx_lag4[3],\n",
        "    ANDENOx_lag3 = last_obs$ANDENOx_lag1[3],\n",
        "    ANDENOx_lag4 = last_obs$ANDENOx_lag2[3],\n",
        "    GS10TB3Mx_lag3 = last_obs$GS10TB3Mx_lag1[3],\n",
        "    GS10TB3Mx_lag4 = last_obs$GS10TB3Mx_lag2[3],\n",
        "    UMCSENTx_lag3 = last_obs$UMCSENTx_lag1[3],\n",
        "    UMCSENTx_lag4 = last_obs$UMCSENTx_lag2[3],\n",
        "    UMCSENTx_lag5 = last_obs$UMCSENTx_lag3[3],\n",
        "    UMCSENTx_lag6 = last_obs$UMCSENTx_lag4[3],\n",
        "    HOUST_lag3 = last_obs$HOUST_lag1[3],\n",
        "    HOUST_lag4 = last_obs$HOUST_lag2[3],\n",
        "    HOUST_lag5 = last_obs$HOUST_lag3[3],\n",
        "  )\n",
        "head\n",
        "q2_ardl <- transformed_ardl %>%\n",
        "  model(TSLM(GDPC1 ~ GDPC1_lag3 + CLAIMSx_lag3 + CLAIMSx_lag4 + CLAIMSx_lag5 + CLAIMSx_lag6 + ANDENOx_lag3 + ANDENOx_lag4 + GS10TB3Mx_lag3 + GS10TB3Mx_lag4 + UMCSENTx_lag3 + UMCSENTx_lag4 + UMCSENTx_lag5 + UMCSENTx_lag6 + HOUST_lag3 + HOUST_lag4 + HOUST_lag5))\n",
        "ardl_fc_q2 <- q2_ardl %>%\n",
        "  fabletools::forecast(future_data2)\n",
        "hilo(ardl_fc_q2, 50) %>%\n",
        "  dplyr::select(.mean, '50%')\n",
        "\n",
        "mean_forecast_q2 <- (ar1_fc[3,4] + var_fc[[4]][3] + ardl_fc_q2[4])/3\n",
        "print(sprintf(\"The mean forecast growth for Q2 2025 is %s%%\", round(mean_forecast_q2,2)))\n",
        "\n",
        "### Since our VAR and AR forecasts are already iterated through Q4 2025, we do not need to do a separate forecast and will just take the corresponding values from the forecast earlier."
      ],
      "metadata": {
        "id": "vJ2UWIUP6Pcc",
        "outputId": "c3cc03fd-2e55-4e19-bc88-c5bbcf09f6d2",
        "colab": {
          "base_uri": "https://localhost:8080/",
          "height": 182
        }
      },
      "execution_count": 43,
      "outputs": [
        {
          "output_type": "display_data",
          "data": {
            "text/html": [
              "<pre class=language-r><code>function (x, ...) \n",
              "UseMethod(\"head\")</code></pre>"
            ],
            "text/markdown": "```r\nfunction (x, ...) \nUseMethod(\"head\")\n```",
            "text/latex": "\\begin{minted}{r}\nfunction (x, ...) \nUseMethod(\"head\")\n\\end{minted}",
            "text/plain": [
              "function (x, ...) \n",
              "UseMethod(\"head\")\n",
              "<bytecode: 0x583bb31f2308>\n",
              "<environment: namespace:utils>"
            ]
          },
          "metadata": {}
        },
        {
          "output_type": "display_data",
          "data": {
            "text/html": [
              "<table class=\"dataframe\">\n",
              "<caption>A tbl_ts: 1 × 3</caption>\n",
              "<thead>\n",
              "\t<tr><th scope=col>.mean</th><th scope=col>50%</th><th scope=col>date</th></tr>\n",
              "\t<tr><th scope=col>&lt;dbl&gt;</th><th scope=col>&lt;hilo&gt;</th><th scope=col>&lt;qtr&gt;</th></tr>\n",
              "</thead>\n",
              "<tbody>\n",
              "\t<tr><td>0.3244481</td><td>[-2.731409, 3.380306]50</td><td>2025 Q2</td></tr>\n",
              "</tbody>\n",
              "</table>\n"
            ],
            "text/markdown": "\nA tbl_ts: 1 × 3\n\n| .mean &lt;dbl&gt; | 50% &lt;hilo&gt; | date &lt;qtr&gt; |\n|---|---|---|\n| 0.3244481 | [-2.731409, 3.380306]50 | 2025 Q2 |\n\n",
            "text/latex": "A tbl\\_ts: 1 × 3\n\\begin{tabular}{lll}\n .mean & 50\\% & date\\\\\n <dbl> & <hilo> & <qtr>\\\\\n\\hline\n\t 0.3244481 & {[}-2.731409, 3.380306{]}50 & 2025 Q2\\\\\n\\end{tabular}\n",
            "text/plain": [
              "  .mean     50%                     date   \n",
              "1 0.3244481 [-2.731409, 3.380306]50 2025 Q2"
            ]
          },
          "metadata": {}
        },
        {
          "output_type": "stream",
          "name": "stdout",
          "text": [
            "[1] \"The mean forecast growth for Q2 2025 is 1.06%\"\n"
          ]
        }
      ]
    },
    {
      "cell_type": "code",
      "source": [
        "## Q4 2025\n",
        "### ARDL using direct h-step forecasting\n",
        "transformed_ardl <- transformed %>%\n",
        "  mutate(across(c(GDPC1, GS10TB3Mx, CLAIMSx, ANDENOx, UMCSENTx, HOUST),\n",
        "                list(lag5 = ~ lag(., 5), lag6 = ~ lag(., 6),lag7 = ~ lag(., 7), lag8 = ~ lag(., 8), lag9 = ~ lag(., 9)),\n",
        "                .names = \"{col}_{fn}\"))\n",
        "\n",
        "\n",
        "future_data2 <- new_data(transformed, n = 1, keep_all=TRUE) %>%\n",
        "  mutate(\n",
        "    date = yearquarter(\"2025 Q4\"),\n",
        "    GDPC1_lag5 = last_obs$GDPC1[3],\n",
        "    CLAIMSx_lag5 = last_obs$CLAIMSx_lag1[3],\n",
        "    CLAIMSx_lag6 = last_obs$CLAIMSx_lag2[3],  # Correctly getting the t-2 value\n",
        "    CLAIMSx_lag7 = last_obs$CLAIMSx_lag3[3],\n",
        "    CLAIMSx_lag8 = last_obs$CLAIMSx_lag4[3],\n",
        "    ANDENOx_lag5 = last_obs$ANDENOx_lag1[3],\n",
        "    ANDENOx_lag6 = last_obs$ANDENOx_lag2[3],\n",
        "    GS10TB3Mx_lag5 = last_obs$GS10TB3Mx_lag1[3],\n",
        "    GS10TB3Mx_lag6 = last_obs$GS10TB3Mx_lag2[3],\n",
        "    UMCSENTx_lag5 = last_obs$UMCSENTx_lag1[3],\n",
        "    UMCSENTx_lag6 = last_obs$UMCSENTx_lag2[3],\n",
        "    UMCSENTx_lag7 = last_obs$UMCSENTx_lag3[3],\n",
        "    UMCSENTx_lag8 = last_obs$UMCSENTx_lag4[3],\n",
        "    HOUST_lag5 = last_obs$HOUST_lag1[3],\n",
        "    HOUST_lag6 = last_obs$HOUST_lag2[3],\n",
        "    HOUST_lag7 = last_obs$HOUST_lag3[3],\n",
        "  )\n",
        "head\n",
        "q4_ardl <- transformed_ardl %>%\n",
        "  model(TSLM(GDPC1 ~ GDPC1_lag5 + CLAIMSx_lag5 + CLAIMSx_lag6 + CLAIMSx_lag7 + CLAIMSx_lag8 + ANDENOx_lag5 + ANDENOx_lag6 + GS10TB3Mx_lag5 + GS10TB3Mx_lag6 + UMCSENTx_lag5 + UMCSENTx_lag6 + UMCSENTx_lag7 + UMCSENTx_lag8 + HOUST_lag5 + HOUST_lag6 + HOUST_lag7))\n",
        "ardl_fc_q4 <- q4_ardl %>%\n",
        "  fabletools::forecast(future_data2)\n",
        "hilo(ardl_fc_q4, 50) %>%\n",
        "  dplyr::select(.mean, '50%')\n",
        "\n",
        "mean_forecast_q4 <- (ar1_fc[5,4] + var_fc[[4]][5] + ardl_fc_q4[4])/3\n",
        "print(sprintf(\"The mean forecast growth for Q4 2025 is %s%%\", round(mean_forecast_q4,2)))\n",
        "\n",
        "### Since our VAR and AR forecasts are already iterated through Q4 2025, we do not need to do a separate forecast and will just take the corresponding values from the forecast earlier."
      ],
      "metadata": {
        "id": "e1vrRQ1D8EpC",
        "outputId": "91fdbfc5-1736-41a2-ab79-cdfd5d9b72fb",
        "colab": {
          "base_uri": "https://localhost:8080/",
          "height": 182
        }
      },
      "execution_count": 44,
      "outputs": [
        {
          "output_type": "display_data",
          "data": {
            "text/html": [
              "<pre class=language-r><code>function (x, ...) \n",
              "UseMethod(\"head\")</code></pre>"
            ],
            "text/markdown": "```r\nfunction (x, ...) \nUseMethod(\"head\")\n```",
            "text/latex": "\\begin{minted}{r}\nfunction (x, ...) \nUseMethod(\"head\")\n\\end{minted}",
            "text/plain": [
              "function (x, ...) \n",
              "UseMethod(\"head\")\n",
              "<bytecode: 0x583bb31f2308>\n",
              "<environment: namespace:utils>"
            ]
          },
          "metadata": {}
        },
        {
          "output_type": "display_data",
          "data": {
            "text/html": [
              "<table class=\"dataframe\">\n",
              "<caption>A tbl_ts: 1 × 3</caption>\n",
              "<thead>\n",
              "\t<tr><th scope=col>.mean</th><th scope=col>50%</th><th scope=col>date</th></tr>\n",
              "\t<tr><th scope=col>&lt;dbl&gt;</th><th scope=col>&lt;hilo&gt;</th><th scope=col>&lt;qtr&gt;</th></tr>\n",
              "</thead>\n",
              "<tbody>\n",
              "\t<tr><td>1.370689</td><td>[-1.67057, 4.411949]50</td><td>2025 Q4</td></tr>\n",
              "</tbody>\n",
              "</table>\n"
            ],
            "text/markdown": "\nA tbl_ts: 1 × 3\n\n| .mean &lt;dbl&gt; | 50% &lt;hilo&gt; | date &lt;qtr&gt; |\n|---|---|---|\n| 1.370689 | [-1.67057, 4.411949]50 | 2025 Q4 |\n\n",
            "text/latex": "A tbl\\_ts: 1 × 3\n\\begin{tabular}{lll}\n .mean & 50\\% & date\\\\\n <dbl> & <hilo> & <qtr>\\\\\n\\hline\n\t 1.370689 & {[}-1.67057, 4.411949{]}50 & 2025 Q4\\\\\n\\end{tabular}\n",
            "text/plain": [
              "  .mean    50%                    date   \n",
              "1 1.370689 [-1.67057, 4.411949]50 2025 Q4"
            ]
          },
          "metadata": {}
        },
        {
          "output_type": "stream",
          "name": "stdout",
          "text": [
            "[1] \"The mean forecast growth for Q4 2025 is 1.75%\"\n"
          ]
        }
      ]
    },
    {
      "cell_type": "code",
      "source": [
        "# Example data\n",
        "ar1_data <- tibble(\n",
        "  date = yearquarter(c(\"2024 Q4\", \"2025 Q1\", \"2025 Q2\", \"2025 Q3\", \"2025 Q4\")),\n",
        "  mean = c(2.687118, 2.687968, 2.687966, 2.687966, 2.687966),\n",
        "  hilo = c(\"[-0.2370247, 5.611261]\", \"[-0.2361841, 5.612120]\",\n",
        "           \"[-0.2361862, 5.612118]\", \"[-0.2361862, 5.612118]\",\n",
        "           \"[-0.2361862, 5.612118]\")\n",
        ")\n",
        "\n",
        "# Extract lower and upper bounds\n",
        "ar1bounds <- ar1_data %>%\n",
        "  mutate(\n",
        "    lower = as.numeric(str_extract(hilo, \"-?[0-9.]+\")),   # Extract first number\n",
        "    upper = as.numeric(str_extract(hilo, \"(?<=, )[0-9.]+\"))  # Extract second number\n",
        "  )\n",
        "plotar<-transformed%>%\n",
        "  full_join(ar1bounds, by=c(\"date\"=\"date\", \"GDPC1\"=\"mean\"))%>%\n",
        "  filter(date>=yearquarter(\"2023 Q1\"))\n",
        "plotar\n"
      ],
      "metadata": {
        "id": "NhegmSUzbGP5",
        "outputId": "f82f42a5-0792-44ee-f833-48b596553985",
        "colab": {
          "base_uri": "https://localhost:8080/",
          "height": 702
        }
      },
      "execution_count": 80,
      "outputs": [
        {
          "output_type": "display_data",
          "data": {
            "text/html": [
              "<table class=\"dataframe\">\n",
              "<caption>A tbl_ts: 12 × 34</caption>\n",
              "<thead>\n",
              "\t<tr><th scope=col>date</th><th scope=col>GDPC1</th><th scope=col>GS10TB3Mx</th><th scope=col>CLAIMSx</th><th scope=col>ANDENOx</th><th scope=col>UMCSENTx</th><th scope=col>HOUST</th><th scope=col>GS10TB3Mx_lag1</th><th scope=col>GS10TB3Mx_lag2</th><th scope=col>GS10TB3Mx_lag3</th><th scope=col>⋯</th><th scope=col>GDPC1_lag2</th><th scope=col>GDPC1_lag3</th><th scope=col>GDPC1_lag4</th><th scope=col>HOUST_lag1</th><th scope=col>HOUST_lag2</th><th scope=col>HOUST_lag3</th><th scope=col>HOUST_lag4</th><th scope=col>hilo</th><th scope=col>lower</th><th scope=col>upper</th></tr>\n",
              "\t<tr><th scope=col>&lt;qtr&gt;</th><th scope=col>&lt;dbl&gt;</th><th scope=col>&lt;dbl&gt;</th><th scope=col>&lt;dbl&gt;</th><th scope=col>&lt;dbl&gt;</th><th scope=col>&lt;dbl&gt;</th><th scope=col>&lt;dbl&gt;</th><th scope=col>&lt;dbl&gt;</th><th scope=col>&lt;dbl&gt;</th><th scope=col>&lt;dbl&gt;</th><th scope=col>⋯</th><th scope=col>&lt;dbl&gt;</th><th scope=col>&lt;dbl&gt;</th><th scope=col>&lt;dbl&gt;</th><th scope=col>&lt;dbl&gt;</th><th scope=col>&lt;dbl&gt;</th><th scope=col>&lt;dbl&gt;</th><th scope=col>&lt;dbl&gt;</th><th scope=col>&lt;chr&gt;</th><th scope=col>&lt;dbl&gt;</th><th scope=col>&lt;dbl&gt;</th></tr>\n",
              "</thead>\n",
              "<tbody>\n",
              "\t<tr><td>2023 Q1</td><td>2.758641</td><td>-0.98</td><td> 3.4880305</td><td> -1.774462</td><td> 5.8</td><td>-2.2391690</td><td>-0.21</td><td> 0.44</td><td> 1.85</td><td>⋯</td><td>2.683809</td><td>0.2806193</td><td>-1.0311458</td><td>-4.242074</td><td>-11.376870</td><td> -4.422150</td><td>  1.650332</td><td>NA                    </td><td>        NA</td><td>      NA</td></tr>\n",
              "\t<tr><td>2023 Q2</td><td>2.420557</td><td>-1.48</td><td> 8.0395301</td><td>  9.456229</td><td>-2.3</td><td> 6.1154400</td><td>-0.98</td><td>-0.21</td><td> 0.44</td><td>⋯</td><td>3.297681</td><td>2.6838091</td><td> 0.2806193</td><td>-2.239169</td><td> -4.242074</td><td>-11.376870</td><td> -4.422150</td><td>NA                    </td><td>        NA</td><td>      NA</td></tr>\n",
              "\t<tr><td>2023 Q3</td><td>4.263291</td><td>-1.14</td><td> 0.4791251</td><td> -1.852639</td><td> 7.3</td><td>-5.2909955</td><td>-1.48</td><td>-0.98</td><td>-0.21</td><td>⋯</td><td>2.758641</td><td>3.2976809</td><td> 2.6838091</td><td> 6.115440</td><td> -2.239169</td><td> -4.242074</td><td>-11.376870</td><td>NA                    </td><td>        NA</td><td>      NA</td></tr>\n",
              "\t<tr><td>2023 Q4</td><td>3.142316</td><td>-0.84</td><td>-9.6839082</td><td>  4.002614</td><td>-4.7</td><td> 7.0392544</td><td>-1.14</td><td>-1.48</td><td>-0.98</td><td>⋯</td><td>2.420557</td><td>2.7586406</td><td> 3.2976809</td><td>-5.290995</td><td>  6.115440</td><td> -2.239169</td><td> -4.242074</td><td>NA                    </td><td>        NA</td><td>      NA</td></tr>\n",
              "\t<tr><td>2024 Q1</td><td>1.615940</td><td>-1.07</td><td>-0.5441019</td><td>-13.246670</td><td>13.5</td><td>-5.1257757</td><td>-0.84</td><td>-1.14</td><td>-1.48</td><td>⋯</td><td>4.263291</td><td>2.4205569</td><td> 2.7586406</td><td> 7.039254</td><td> -5.290995</td><td>  6.115440</td><td> -2.239169</td><td>NA                    </td><td>        NA</td><td>      NA</td></tr>\n",
              "\t<tr><td>2024 Q2</td><td>2.945050</td><td>-0.80</td><td> 5.7910880</td><td> -9.793386</td><td>-6.9</td><td>-4.8541464</td><td>-1.07</td><td>-0.84</td><td>-1.14</td><td>⋯</td><td>3.142316</td><td>4.2632907</td><td> 2.4205569</td><td>-5.125776</td><td>  7.039254</td><td> -5.290995</td><td>  6.115440</td><td>NA                    </td><td>        NA</td><td>      NA</td></tr>\n",
              "\t<tr><td>2024 Q3</td><td>3.026563</td><td>-1.04</td><td> 3.4400345</td><td> 12.272210</td><td>-3.4</td><td>-0.6236742</td><td>-0.80</td><td>-1.07</td><td>-0.84</td><td>⋯</td><td>1.615940</td><td>3.1423157</td><td> 4.2632907</td><td>-4.854146</td><td> -5.125776</td><td>  7.039254</td><td> -5.290995</td><td>NA                    </td><td>        NA</td><td>      NA</td></tr>\n",
              "\t<tr><td>2024 Q4</td><td>2.687118</td><td>   NA</td><td>        NA</td><td>        NA</td><td>  NA</td><td>        NA</td><td>   NA</td><td>   NA</td><td>   NA</td><td>⋯</td><td>      NA</td><td>       NA</td><td>        NA</td><td>       NA</td><td>        NA</td><td>        NA</td><td>        NA</td><td>[-0.2370247, 5.611261]</td><td>-0.2370247</td><td>5.611261</td></tr>\n",
              "\t<tr><td>2025 Q1</td><td>2.687968</td><td>   NA</td><td>        NA</td><td>        NA</td><td>  NA</td><td>        NA</td><td>   NA</td><td>   NA</td><td>   NA</td><td>⋯</td><td>      NA</td><td>       NA</td><td>        NA</td><td>       NA</td><td>        NA</td><td>        NA</td><td>        NA</td><td>[-0.2361841, 5.612120]</td><td>-0.2361841</td><td>5.612120</td></tr>\n",
              "\t<tr><td>2025 Q2</td><td>2.687966</td><td>   NA</td><td>        NA</td><td>        NA</td><td>  NA</td><td>        NA</td><td>   NA</td><td>   NA</td><td>   NA</td><td>⋯</td><td>      NA</td><td>       NA</td><td>        NA</td><td>       NA</td><td>        NA</td><td>        NA</td><td>        NA</td><td>[-0.2361862, 5.612118]</td><td>-0.2361862</td><td>5.612118</td></tr>\n",
              "\t<tr><td>2025 Q3</td><td>2.687966</td><td>   NA</td><td>        NA</td><td>        NA</td><td>  NA</td><td>        NA</td><td>   NA</td><td>   NA</td><td>   NA</td><td>⋯</td><td>      NA</td><td>       NA</td><td>        NA</td><td>       NA</td><td>        NA</td><td>        NA</td><td>        NA</td><td>[-0.2361862, 5.612118]</td><td>-0.2361862</td><td>5.612118</td></tr>\n",
              "\t<tr><td>2025 Q4</td><td>2.687966</td><td>   NA</td><td>        NA</td><td>        NA</td><td>  NA</td><td>        NA</td><td>   NA</td><td>   NA</td><td>   NA</td><td>⋯</td><td>      NA</td><td>       NA</td><td>        NA</td><td>       NA</td><td>        NA</td><td>        NA</td><td>        NA</td><td>[-0.2361862, 5.612118]</td><td>-0.2361862</td><td>5.612118</td></tr>\n",
              "</tbody>\n",
              "</table>\n"
            ],
            "text/markdown": "\nA tbl_ts: 12 × 34\n\n| date &lt;qtr&gt; | GDPC1 &lt;dbl&gt; | GS10TB3Mx &lt;dbl&gt; | CLAIMSx &lt;dbl&gt; | ANDENOx &lt;dbl&gt; | UMCSENTx &lt;dbl&gt; | HOUST &lt;dbl&gt; | GS10TB3Mx_lag1 &lt;dbl&gt; | GS10TB3Mx_lag2 &lt;dbl&gt; | GS10TB3Mx_lag3 &lt;dbl&gt; | ⋯ ⋯ | GDPC1_lag2 &lt;dbl&gt; | GDPC1_lag3 &lt;dbl&gt; | GDPC1_lag4 &lt;dbl&gt; | HOUST_lag1 &lt;dbl&gt; | HOUST_lag2 &lt;dbl&gt; | HOUST_lag3 &lt;dbl&gt; | HOUST_lag4 &lt;dbl&gt; | hilo &lt;chr&gt; | lower &lt;dbl&gt; | upper &lt;dbl&gt; |\n|---|---|---|---|---|---|---|---|---|---|---|---|---|---|---|---|---|---|---|---|---|\n| 2023 Q1 | 2.758641 | -0.98 |  3.4880305 |  -1.774462 |  5.8 | -2.2391690 | -0.21 |  0.44 |  1.85 | ⋯ | 2.683809 | 0.2806193 | -1.0311458 | -4.242074 | -11.376870 |  -4.422150 |   1.650332 | NA                     |         NA |       NA |\n| 2023 Q2 | 2.420557 | -1.48 |  8.0395301 |   9.456229 | -2.3 |  6.1154400 | -0.98 | -0.21 |  0.44 | ⋯ | 3.297681 | 2.6838091 |  0.2806193 | -2.239169 |  -4.242074 | -11.376870 |  -4.422150 | NA                     |         NA |       NA |\n| 2023 Q3 | 4.263291 | -1.14 |  0.4791251 |  -1.852639 |  7.3 | -5.2909955 | -1.48 | -0.98 | -0.21 | ⋯ | 2.758641 | 3.2976809 |  2.6838091 |  6.115440 |  -2.239169 |  -4.242074 | -11.376870 | NA                     |         NA |       NA |\n| 2023 Q4 | 3.142316 | -0.84 | -9.6839082 |   4.002614 | -4.7 |  7.0392544 | -1.14 | -1.48 | -0.98 | ⋯ | 2.420557 | 2.7586406 |  3.2976809 | -5.290995 |   6.115440 |  -2.239169 |  -4.242074 | NA                     |         NA |       NA |\n| 2024 Q1 | 1.615940 | -1.07 | -0.5441019 | -13.246670 | 13.5 | -5.1257757 | -0.84 | -1.14 | -1.48 | ⋯ | 4.263291 | 2.4205569 |  2.7586406 |  7.039254 |  -5.290995 |   6.115440 |  -2.239169 | NA                     |         NA |       NA |\n| 2024 Q2 | 2.945050 | -0.80 |  5.7910880 |  -9.793386 | -6.9 | -4.8541464 | -1.07 | -0.84 | -1.14 | ⋯ | 3.142316 | 4.2632907 |  2.4205569 | -5.125776 |   7.039254 |  -5.290995 |   6.115440 | NA                     |         NA |       NA |\n| 2024 Q3 | 3.026563 | -1.04 |  3.4400345 |  12.272210 | -3.4 | -0.6236742 | -0.80 | -1.07 | -0.84 | ⋯ | 1.615940 | 3.1423157 |  4.2632907 | -4.854146 |  -5.125776 |   7.039254 |  -5.290995 | NA                     |         NA |       NA |\n| 2024 Q4 | 2.687118 |    NA |         NA |         NA |   NA |         NA |    NA |    NA |    NA | ⋯ |       NA |        NA |         NA |        NA |         NA |         NA |         NA | [-0.2370247, 5.611261] | -0.2370247 | 5.611261 |\n| 2025 Q1 | 2.687968 |    NA |         NA |         NA |   NA |         NA |    NA |    NA |    NA | ⋯ |       NA |        NA |         NA |        NA |         NA |         NA |         NA | [-0.2361841, 5.612120] | -0.2361841 | 5.612120 |\n| 2025 Q2 | 2.687966 |    NA |         NA |         NA |   NA |         NA |    NA |    NA |    NA | ⋯ |       NA |        NA |         NA |        NA |         NA |         NA |         NA | [-0.2361862, 5.612118] | -0.2361862 | 5.612118 |\n| 2025 Q3 | 2.687966 |    NA |         NA |         NA |   NA |         NA |    NA |    NA |    NA | ⋯ |       NA |        NA |         NA |        NA |         NA |         NA |         NA | [-0.2361862, 5.612118] | -0.2361862 | 5.612118 |\n| 2025 Q4 | 2.687966 |    NA |         NA |         NA |   NA |         NA |    NA |    NA |    NA | ⋯ |       NA |        NA |         NA |        NA |         NA |         NA |         NA | [-0.2361862, 5.612118] | -0.2361862 | 5.612118 |\n\n",
            "text/latex": "A tbl\\_ts: 12 × 34\n\\begin{tabular}{lllllllllllllllllllll}\n date & GDPC1 & GS10TB3Mx & CLAIMSx & ANDENOx & UMCSENTx & HOUST & GS10TB3Mx\\_lag1 & GS10TB3Mx\\_lag2 & GS10TB3Mx\\_lag3 & ⋯ & GDPC1\\_lag2 & GDPC1\\_lag3 & GDPC1\\_lag4 & HOUST\\_lag1 & HOUST\\_lag2 & HOUST\\_lag3 & HOUST\\_lag4 & hilo & lower & upper\\\\\n <qtr> & <dbl> & <dbl> & <dbl> & <dbl> & <dbl> & <dbl> & <dbl> & <dbl> & <dbl> & ⋯ & <dbl> & <dbl> & <dbl> & <dbl> & <dbl> & <dbl> & <dbl> & <chr> & <dbl> & <dbl>\\\\\n\\hline\n\t 2023 Q1 & 2.758641 & -0.98 &  3.4880305 &  -1.774462 &  5.8 & -2.2391690 & -0.21 &  0.44 &  1.85 & ⋯ & 2.683809 & 0.2806193 & -1.0311458 & -4.242074 & -11.376870 &  -4.422150 &   1.650332 & NA                     &         NA &       NA\\\\\n\t 2023 Q2 & 2.420557 & -1.48 &  8.0395301 &   9.456229 & -2.3 &  6.1154400 & -0.98 & -0.21 &  0.44 & ⋯ & 3.297681 & 2.6838091 &  0.2806193 & -2.239169 &  -4.242074 & -11.376870 &  -4.422150 & NA                     &         NA &       NA\\\\\n\t 2023 Q3 & 4.263291 & -1.14 &  0.4791251 &  -1.852639 &  7.3 & -5.2909955 & -1.48 & -0.98 & -0.21 & ⋯ & 2.758641 & 3.2976809 &  2.6838091 &  6.115440 &  -2.239169 &  -4.242074 & -11.376870 & NA                     &         NA &       NA\\\\\n\t 2023 Q4 & 3.142316 & -0.84 & -9.6839082 &   4.002614 & -4.7 &  7.0392544 & -1.14 & -1.48 & -0.98 & ⋯ & 2.420557 & 2.7586406 &  3.2976809 & -5.290995 &   6.115440 &  -2.239169 &  -4.242074 & NA                     &         NA &       NA\\\\\n\t 2024 Q1 & 1.615940 & -1.07 & -0.5441019 & -13.246670 & 13.5 & -5.1257757 & -0.84 & -1.14 & -1.48 & ⋯ & 4.263291 & 2.4205569 &  2.7586406 &  7.039254 &  -5.290995 &   6.115440 &  -2.239169 & NA                     &         NA &       NA\\\\\n\t 2024 Q2 & 2.945050 & -0.80 &  5.7910880 &  -9.793386 & -6.9 & -4.8541464 & -1.07 & -0.84 & -1.14 & ⋯ & 3.142316 & 4.2632907 &  2.4205569 & -5.125776 &   7.039254 &  -5.290995 &   6.115440 & NA                     &         NA &       NA\\\\\n\t 2024 Q3 & 3.026563 & -1.04 &  3.4400345 &  12.272210 & -3.4 & -0.6236742 & -0.80 & -1.07 & -0.84 & ⋯ & 1.615940 & 3.1423157 &  4.2632907 & -4.854146 &  -5.125776 &   7.039254 &  -5.290995 & NA                     &         NA &       NA\\\\\n\t 2024 Q4 & 2.687118 &    NA &         NA &         NA &   NA &         NA &    NA &    NA &    NA & ⋯ &       NA &        NA &         NA &        NA &         NA &         NA &         NA & {[}-0.2370247, 5.611261{]} & -0.2370247 & 5.611261\\\\\n\t 2025 Q1 & 2.687968 &    NA &         NA &         NA &   NA &         NA &    NA &    NA &    NA & ⋯ &       NA &        NA &         NA &        NA &         NA &         NA &         NA & {[}-0.2361841, 5.612120{]} & -0.2361841 & 5.612120\\\\\n\t 2025 Q2 & 2.687966 &    NA &         NA &         NA &   NA &         NA &    NA &    NA &    NA & ⋯ &       NA &        NA &         NA &        NA &         NA &         NA &         NA & {[}-0.2361862, 5.612118{]} & -0.2361862 & 5.612118\\\\\n\t 2025 Q3 & 2.687966 &    NA &         NA &         NA &   NA &         NA &    NA &    NA &    NA & ⋯ &       NA &        NA &         NA &        NA &         NA &         NA &         NA & {[}-0.2361862, 5.612118{]} & -0.2361862 & 5.612118\\\\\n\t 2025 Q4 & 2.687966 &    NA &         NA &         NA &   NA &         NA &    NA &    NA &    NA & ⋯ &       NA &        NA &         NA &        NA &         NA &         NA &         NA & {[}-0.2361862, 5.612118{]} & -0.2361862 & 5.612118\\\\\n\\end{tabular}\n",
            "text/plain": [
              "   date    GDPC1    GS10TB3Mx CLAIMSx    ANDENOx    UMCSENTx HOUST     \n",
              "1  2023 Q1 2.758641 -0.98      3.4880305  -1.774462  5.8     -2.2391690\n",
              "2  2023 Q2 2.420557 -1.48      8.0395301   9.456229 -2.3      6.1154400\n",
              "3  2023 Q3 4.263291 -1.14      0.4791251  -1.852639  7.3     -5.2909955\n",
              "4  2023 Q4 3.142316 -0.84     -9.6839082   4.002614 -4.7      7.0392544\n",
              "5  2024 Q1 1.615940 -1.07     -0.5441019 -13.246670 13.5     -5.1257757\n",
              "6  2024 Q2 2.945050 -0.80      5.7910880  -9.793386 -6.9     -4.8541464\n",
              "7  2024 Q3 3.026563 -1.04      3.4400345  12.272210 -3.4     -0.6236742\n",
              "8  2024 Q4 2.687118    NA             NA         NA   NA             NA\n",
              "9  2025 Q1 2.687968    NA             NA         NA   NA             NA\n",
              "10 2025 Q2 2.687966    NA             NA         NA   NA             NA\n",
              "11 2025 Q3 2.687966    NA             NA         NA   NA             NA\n",
              "12 2025 Q4 2.687966    NA             NA         NA   NA             NA\n",
              "   GS10TB3Mx_lag1 GS10TB3Mx_lag2 GS10TB3Mx_lag3 ⋯ GDPC1_lag2 GDPC1_lag3\n",
              "1  -0.21           0.44           1.85          ⋯ 2.683809   0.2806193 \n",
              "2  -0.98          -0.21           0.44          ⋯ 3.297681   2.6838091 \n",
              "3  -1.48          -0.98          -0.21          ⋯ 2.758641   3.2976809 \n",
              "4  -1.14          -1.48          -0.98          ⋯ 2.420557   2.7586406 \n",
              "5  -0.84          -1.14          -1.48          ⋯ 4.263291   2.4205569 \n",
              "6  -1.07          -0.84          -1.14          ⋯ 3.142316   4.2632907 \n",
              "7  -0.80          -1.07          -0.84          ⋯ 1.615940   3.1423157 \n",
              "8     NA             NA             NA          ⋯       NA          NA \n",
              "9     NA             NA             NA          ⋯       NA          NA \n",
              "10    NA             NA             NA          ⋯       NA          NA \n",
              "11    NA             NA             NA          ⋯       NA          NA \n",
              "12    NA             NA             NA          ⋯       NA          NA \n",
              "   GDPC1_lag4 HOUST_lag1 HOUST_lag2 HOUST_lag3 HOUST_lag4\n",
              "1  -1.0311458 -4.242074  -11.376870  -4.422150   1.650332\n",
              "2   0.2806193 -2.239169   -4.242074 -11.376870  -4.422150\n",
              "3   2.6838091  6.115440   -2.239169  -4.242074 -11.376870\n",
              "4   3.2976809 -5.290995    6.115440  -2.239169  -4.242074\n",
              "5   2.7586406  7.039254   -5.290995   6.115440  -2.239169\n",
              "6   2.4205569 -5.125776    7.039254  -5.290995   6.115440\n",
              "7   4.2632907 -4.854146   -5.125776   7.039254  -5.290995\n",
              "8          NA        NA          NA         NA         NA\n",
              "9          NA        NA          NA         NA         NA\n",
              "10         NA        NA          NA         NA         NA\n",
              "11         NA        NA          NA         NA         NA\n",
              "12         NA        NA          NA         NA         NA\n",
              "   hilo                   lower      upper   \n",
              "1  NA                             NA       NA\n",
              "2  NA                             NA       NA\n",
              "3  NA                             NA       NA\n",
              "4  NA                             NA       NA\n",
              "5  NA                             NA       NA\n",
              "6  NA                             NA       NA\n",
              "7  NA                             NA       NA\n",
              "8  [-0.2370247, 5.611261] -0.2370247 5.611261\n",
              "9  [-0.2361841, 5.612120] -0.2361841 5.612120\n",
              "10 [-0.2361862, 5.612118] -0.2361862 5.612118\n",
              "11 [-0.2361862, 5.612118] -0.2361862 5.612118\n",
              "12 [-0.2361862, 5.612118] -0.2361862 5.612118"
            ]
          },
          "metadata": {}
        }
      ]
    },
    {
      "cell_type": "code",
      "source": [
        "ggplot(plotar, aes(x = date, y = GDPC1)) +\n",
        "  geom_ribbon(aes(ymin = lower, ymax = upper), fill = \"blue\", alpha = 0.2) +  # Shaded region for uncertainty\n",
        "  geom_line(color = \"blue\") +  # Mean forecast line\n",
        "  geom_point(size = 2, color = \"blue\") # Highlight points"
      ],
      "metadata": {
        "id": "xQpgI6nLbgW2",
        "outputId": "181bb780-e14f-4287-81b2-4c42f17e18b7",
        "colab": {
          "base_uri": "https://localhost:8080/",
          "height": 437
        }
      },
      "execution_count": 81,
      "outputs": [
        {
          "output_type": "display_data",
          "data": {
            "text/plain": [
              "plot without title"
            ],
            "image/png": "[encoded data removed]"
          },
          "metadata": {
            "image/png": {
              "width": 420,
              "height": 420
            }
          }
        }
      ]
    },
    {
      "cell_type": "code",
      "source": [
        "varplot<-hilo(var_fc, 50) %>%\n",
        "  dplyr::select(.mean, '50%') %>%\n",
        "  full_join(transformed, by=c(\"date\", \".mean\"=\"GDPC1\"));varplot"
      ],
      "metadata": {
        "id": "3eDXJq5cYAoP",
        "outputId": "33eafdd7-51f9-4c80-c3b5-61a940c90d97",
        "colab": {
          "base_uri": "https://localhost:8080/",
          "height": 1000
        }
      },
      "execution_count": 98,
      "outputs": [
        {
          "output_type": "display_data",
          "data": {
            "text/plain": [
              "    .mean       <NA>        <NA>        <NA>         <NA>        <NA>       \n",
              "1    1.2115790   1.2115790   1.2115790   1.2115790    1.2115790   1.2115790 \n",
              "2    2.6311368   2.6311368   2.6311368   2.6311368    2.6311368   2.6311368 \n",
              "3   -1.9576187  -1.9576187  -1.9576187  -1.9576187   -1.9576187  -1.9576187 \n",
              "4   -0.5960107  -0.5960107  -0.5960107  -0.5960107   -0.5960107  -0.5960107 \n",
              "5    0.5664724   0.5664724   0.5664724   0.5664724    0.5664724   0.5664724 \n",
              "6    3.6689911   3.6689911   3.6689911   3.6689911    3.6689911   3.6689911 \n",
              "7   -4.3094235  -4.3094235  -4.3094235  -4.3094235   -4.3094235  -4.3094235 \n",
              "8   10.7196661  10.7196661  10.7196661  10.7196661   10.7196661  10.7196661 \n",
              "9    2.1574381   2.1574381   2.1574381   2.1574381    2.1574381   2.1574381 \n",
              "10   3.2763326   3.2763326   3.2763326   3.2763326    3.2763326   3.2763326 \n",
              "11   0.9383571   0.9383571   0.9383571   0.9383571    0.9383571   0.9383571 \n",
              "12   7.2821720   7.2821720   7.2821720   7.2821720    7.2821720   7.2821720 \n",
              "13   8.9756888   8.9756888   8.9756888   8.9756888    8.9756888   8.9756888 \n",
              "14   3.7586438   3.7586438   3.7586438   3.7586438    3.7586438   3.7586438 \n",
              "15   6.6422869   6.6422869   6.6422869   6.6422869    6.6422869   6.6422869 \n",
              "16   9.7792447   9.7792447   9.7792447   9.7792447    9.7792447   9.7792447 \n",
              "17   4.3314372   4.3314372   4.3314372   4.3314372    4.3314372   4.3314372 \n",
              "18  -2.1089029  -2.1089029  -2.1089029  -2.1089029   -2.1089029  -2.1089029 \n",
              "19   3.7790158   3.7790158   3.7790158   3.7790158    3.7790158   3.7790158 \n",
              "20  -3.4536882  -3.4536882  -3.4536882  -3.4536882   -3.4536882  -3.4536882 \n",
              "21   0.9496598   0.9496598   0.9496598   0.9496598    0.9496598   0.9496598 \n",
              "22  -3.7990939  -3.7990939  -3.7990939  -3.7990939   -3.7990939  -3.7990939 \n",
              "23  -1.5566481  -1.5566481  -1.5566481  -1.5566481   -1.5566481  -1.5566481 \n",
              "24  -4.9004329  -4.9004329  -4.9004329  -4.9004329   -4.9004329  -4.9004329 \n",
              "25   2.8486372   2.8486372   2.8486372   2.8486372    2.8486372   2.8486372 \n",
              "26   6.7902171   6.7902171   6.7902171   6.7902171    6.7902171   6.7902171 \n",
              "27   5.3524011   5.3524011   5.3524011   5.3524011    5.3524011   5.3524011 \n",
              "28   8.8981609   8.8981609   8.8981609   8.8981609    8.8981609   8.8981609 \n",
              "29   2.9227917   2.9227917   2.9227917   2.9227917    2.9227917   2.9227917 \n",
              "30   2.1836590   2.1836590   2.1836590   2.1836590    2.1836590   2.1836590 \n",
              "⋮   ⋮           ⋮           ⋮           ⋮            ⋮           ⋮          \n",
              "201   3.3267112   3.3267112   3.3267112   3.32671117   3.3267112   3.3267112\n",
              "202   4.6528410   4.6528410   4.6528410   4.65284103   4.6528410   4.6528410\n",
              "203   2.7182544   2.7182544   2.7182544   2.71825439   2.7182544   2.7182544\n",
              "204  -5.6089060  -5.6089060  -5.6089060  -5.60890596  -5.6089060  -5.6089060\n",
              "205 -32.9570360 -32.9570360 -32.9570360 -32.95703596 -32.9570360 -32.9570360\n",
              "206  30.1551256  30.1551256  30.1551256  30.15512563  30.1551256  30.1551256\n",
              "207   4.3155383   4.3155383   4.3155383   4.31553826   4.3155383   4.3155383\n",
              "208   5.4829932   5.4829932   5.4829932   5.48299324   5.4829932   5.4829932\n",
              "209   6.2313887   6.2313887   6.2313887   6.23138871   6.2313887   6.2313887\n",
              "210   3.3969327   3.3969327   3.3969327   3.39693273   3.3969327   3.3969327\n",
              "211   7.1483793   7.1483793   7.1483793   7.14837928   7.1483793   7.1483793\n",
              "212  -1.0311458  -1.0311458  -1.0311458  -1.03114581  -1.0311458  -1.0311458\n",
              "213   0.2806193   0.2806193   0.2806193   0.28061932   0.2806193   0.2806193\n",
              "214   2.6838091   2.6838091   2.6838091   2.68380909   2.6838091   2.6838091\n",
              "215   3.2976809   3.2976809   3.2976809   3.29768089   3.2976809   3.2976809\n",
              "216   2.7586406   2.7586406   2.7586406   2.75864064   2.7586406   2.7586406\n",
              "217   2.4205569   2.4205569   2.4205569   2.42055688   2.4205569   2.4205569\n",
              "218   4.2632907   4.2632907   4.2632907   4.26329066   4.2632907   4.2632907\n",
              "219   3.1423157   3.1423157   3.1423157   3.14231574   3.1423157   3.1423157\n",
              "220   1.6159401   1.6159401   1.6159401   1.61594008   1.6159401   1.6159401\n",
              "221   2.9450502   2.9450502   2.9450502   2.94505019   2.9450502   2.9450502\n",
              "222   3.0265629   3.0265629   3.0265629   3.02656288   3.0265629   3.0265629\n",
              "223  -0.4330342   9.6578727  -1.8179432  -0.97109642  -4.9898275  -6.5875003\n",
              "224   2.7371425   3.4990082  -2.0355182  -0.61584446  -0.4364838  -4.7907885\n",
              "225   0.1681690   6.4775414  -1.2548836  -0.25251502  -2.1437307  -3.4991415\n",
              "226   1.4518235   4.4290644  -0.7391259   0.02813594  -1.6221799  -2.6623239\n",
              "227   1.2006864   3.9794009  -0.8372555   0.31090354  -1.5883119  -1.6861095\n",
              "228   1.7813782   2.6205914  -0.4152749   0.52947530  -1.0824092  -1.0458482\n",
              "229   1.8537110   2.3412342  -0.4137416   0.71361720  -0.8905777  -0.7916619\n",
              "230   2.0917491   1.8299209  -0.3241255   0.86054045  -0.6180659  -0.5928551\n",
              "    50%$GDPC1                 50%$CLAIMSx              50%$UMCSENTx           \n",
              "1   [NA, NA]NA                [NA, NA]NA               [NA, NA]NA             \n",
              "2   [NA, NA]NA                [NA, NA]NA               [NA, NA]NA             \n",
              "3   [NA, NA]NA                [NA, NA]NA               [NA, NA]NA             \n",
              "4   [NA, NA]NA                [NA, NA]NA               [NA, NA]NA             \n",
              "5   [NA, NA]NA                [NA, NA]NA               [NA, NA]NA             \n",
              "6   [NA, NA]NA                [NA, NA]NA               [NA, NA]NA             \n",
              "7   [NA, NA]NA                [NA, NA]NA               [NA, NA]NA             \n",
              "8   [NA, NA]NA                [NA, NA]NA               [NA, NA]NA             \n",
              "9   [NA, NA]NA                [NA, NA]NA               [NA, NA]NA             \n",
              "10  [NA, NA]NA                [NA, NA]NA               [NA, NA]NA             \n",
              "11  [NA, NA]NA                [NA, NA]NA               [NA, NA]NA             \n",
              "12  [NA, NA]NA                [NA, NA]NA               [NA, NA]NA             \n",
              "13  [NA, NA]NA                [NA, NA]NA               [NA, NA]NA             \n",
              "14  [NA, NA]NA                [NA, NA]NA               [NA, NA]NA             \n",
              "15  [NA, NA]NA                [NA, NA]NA               [NA, NA]NA             \n",
              "16  [NA, NA]NA                [NA, NA]NA               [NA, NA]NA             \n",
              "17  [NA, NA]NA                [NA, NA]NA               [NA, NA]NA             \n",
              "18  [NA, NA]NA                [NA, NA]NA               [NA, NA]NA             \n",
              "19  [NA, NA]NA                [NA, NA]NA               [NA, NA]NA             \n",
              "20  [NA, NA]NA                [NA, NA]NA               [NA, NA]NA             \n",
              "21  [NA, NA]NA                [NA, NA]NA               [NA, NA]NA             \n",
              "22  [NA, NA]NA                [NA, NA]NA               [NA, NA]NA             \n",
              "23  [NA, NA]NA                [NA, NA]NA               [NA, NA]NA             \n",
              "24  [NA, NA]NA                [NA, NA]NA               [NA, NA]NA             \n",
              "25  [NA, NA]NA                [NA, NA]NA               [NA, NA]NA             \n",
              "26  [NA, NA]NA                [NA, NA]NA               [NA, NA]NA             \n",
              "27  [NA, NA]NA                [NA, NA]NA               [NA, NA]NA             \n",
              "28  [NA, NA]NA                [NA, NA]NA               [NA, NA]NA             \n",
              "29  [NA, NA]NA                [NA, NA]NA               [NA, NA]NA             \n",
              "30  [NA, NA]NA                [NA, NA]NA               [NA, NA]NA             \n",
              "⋮   ⋮                         ⋮                        ⋮                      \n",
              "201 [         NA,       NA]NA [        NA,       NA]NA [       NA,       NA]NA\n",
              "202 [         NA,       NA]NA [        NA,       NA]NA [       NA,       NA]NA\n",
              "203 [         NA,       NA]NA [        NA,       NA]NA [       NA,       NA]NA\n",
              "204 [         NA,       NA]NA [        NA,       NA]NA [       NA,       NA]NA\n",
              "205 [         NA,       NA]NA [        NA,       NA]NA [       NA,       NA]NA\n",
              "206 [         NA,       NA]NA [        NA,       NA]NA [       NA,       NA]NA\n",
              "207 [         NA,       NA]NA [        NA,       NA]NA [       NA,       NA]NA\n",
              "208 [         NA,       NA]NA [        NA,       NA]NA [       NA,       NA]NA\n",
              "209 [         NA,       NA]NA [        NA,       NA]NA [       NA,       NA]NA\n",
              "210 [         NA,       NA]NA [        NA,       NA]NA [       NA,       NA]NA\n",
              "211 [         NA,       NA]NA [        NA,       NA]NA [       NA,       NA]NA\n",
              "212 [         NA,       NA]NA [        NA,       NA]NA [       NA,       NA]NA\n",
              "213 [         NA,       NA]NA [        NA,       NA]NA [       NA,       NA]NA\n",
              "214 [         NA,       NA]NA [        NA,       NA]NA [       NA,       NA]NA\n",
              "215 [         NA,       NA]NA [        NA,       NA]NA [       NA,       NA]NA\n",
              "216 [         NA,       NA]NA [        NA,       NA]NA [       NA,       NA]NA\n",
              "217 [         NA,       NA]NA [        NA,       NA]NA [       NA,       NA]NA\n",
              "218 [         NA,       NA]NA [        NA,       NA]NA [       NA,       NA]NA\n",
              "219 [         NA,       NA]NA [        NA,       NA]NA [       NA,       NA]NA\n",
              "220 [         NA,       NA]NA [        NA,       NA]NA [       NA,       NA]NA\n",
              "221 [         NA,       NA]NA [        NA,       NA]NA [       NA,       NA]NA\n",
              "222 [         NA,       NA]NA [        NA,       NA]NA [       NA,       NA]NA\n",
              "223 [-2.66421239, 1.798144]50 [ 0.5506869, 18.76506]50 [-5.275139, 1.639253]50\n",
              "224 [ 0.09302205, 5.381263]50 [-7.0043466, 14.00236]50 [-5.693558, 1.622522]50\n",
              "225 [-2.72614389, 3.062482]50 [-4.4850805, 17.44016]50 [-4.949418, 2.439651]50\n",
              "226 [-1.51530000, 4.418947]50 [-6.7286952, 15.58682]50 [-4.458879, 2.980627]50\n",
              "227 [-1.78493432, 4.186307]50 [-7.2146454, 15.17345]50 [-4.562514, 2.888003]50\n",
              "228 [-1.21757885, 4.780335]50 [-8.6083473, 13.84953]50 [-4.147436, 3.316887]50\n",
              "229 [-1.15143759, 4.858860]50 [-8.9027126, 13.58518]50 [-4.147884, 3.320401]50\n",
              "230 [-0.91818170, 5.101680]50 [-9.4236447, 13.08349]50 [-4.059160, 3.410909]50\n",
              "    50%$GS10TB3Mx                50%$ANDENOx              \n",
              "1   [NA, NA]NA                   [NA, NA]NA               \n",
              "2   [NA, NA]NA                   [NA, NA]NA               \n",
              "3   [NA, NA]NA                   [NA, NA]NA               \n",
              "4   [NA, NA]NA                   [NA, NA]NA               \n",
              "5   [NA, NA]NA                   [NA, NA]NA               \n",
              "6   [NA, NA]NA                   [NA, NA]NA               \n",
              "7   [NA, NA]NA                   [NA, NA]NA               \n",
              "8   [NA, NA]NA                   [NA, NA]NA               \n",
              "9   [NA, NA]NA                   [NA, NA]NA               \n",
              "10  [NA, NA]NA                   [NA, NA]NA               \n",
              "11  [NA, NA]NA                   [NA, NA]NA               \n",
              "12  [NA, NA]NA                   [NA, NA]NA               \n",
              "13  [NA, NA]NA                   [NA, NA]NA               \n",
              "14  [NA, NA]NA                   [NA, NA]NA               \n",
              "15  [NA, NA]NA                   [NA, NA]NA               \n",
              "16  [NA, NA]NA                   [NA, NA]NA               \n",
              "17  [NA, NA]NA                   [NA, NA]NA               \n",
              "18  [NA, NA]NA                   [NA, NA]NA               \n",
              "19  [NA, NA]NA                   [NA, NA]NA               \n",
              "20  [NA, NA]NA                   [NA, NA]NA               \n",
              "21  [NA, NA]NA                   [NA, NA]NA               \n",
              "22  [NA, NA]NA                   [NA, NA]NA               \n",
              "23  [NA, NA]NA                   [NA, NA]NA               \n",
              "24  [NA, NA]NA                   [NA, NA]NA               \n",
              "25  [NA, NA]NA                   [NA, NA]NA               \n",
              "26  [NA, NA]NA                   [NA, NA]NA               \n",
              "27  [NA, NA]NA                   [NA, NA]NA               \n",
              "28  [NA, NA]NA                   [NA, NA]NA               \n",
              "29  [NA, NA]NA                   [NA, NA]NA               \n",
              "30  [NA, NA]NA                   [NA, NA]NA               \n",
              "⋮   ⋮                            ⋮                        \n",
              "201 [          NA,         NA]NA [       NA,         NA]NA\n",
              "202 [          NA,         NA]NA [       NA,         NA]NA\n",
              "203 [          NA,         NA]NA [       NA,         NA]NA\n",
              "204 [          NA,         NA]NA [       NA,         NA]NA\n",
              "205 [          NA,         NA]NA [       NA,         NA]NA\n",
              "206 [          NA,         NA]NA [       NA,         NA]NA\n",
              "207 [          NA,         NA]NA [       NA,         NA]NA\n",
              "208 [          NA,         NA]NA [       NA,         NA]NA\n",
              "209 [          NA,         NA]NA [       NA,         NA]NA\n",
              "210 [          NA,         NA]NA [       NA,         NA]NA\n",
              "211 [          NA,         NA]NA [       NA,         NA]NA\n",
              "212 [          NA,         NA]NA [       NA,         NA]NA\n",
              "213 [          NA,         NA]NA [       NA,         NA]NA\n",
              "214 [          NA,         NA]NA [       NA,         NA]NA\n",
              "215 [          NA,         NA]NA [       NA,         NA]NA\n",
              "216 [          NA,         NA]NA [       NA,         NA]NA\n",
              "217 [          NA,         NA]NA [       NA,         NA]NA\n",
              "218 [          NA,         NA]NA [       NA,         NA]NA\n",
              "219 [          NA,         NA]NA [       NA,         NA]NA\n",
              "220 [          NA,         NA]NA [       NA,         NA]NA\n",
              "221 [          NA,         NA]NA [       NA,         NA]NA\n",
              "222 [          NA,         NA]NA [       NA,         NA]NA\n",
              "223 [-1.336961496, -0.6052313]50 [-9.313005, -0.6666503]50\n",
              "224 [-1.168785721, -0.0629032]50 [-4.999100,  4.1261323]50\n",
              "225 [-0.920296425,  0.4152664]50 [-6.779904,  2.4924429]50\n",
              "226 [-0.715740514,  0.7720124]50 [-6.319967,  3.0756076]50\n",
              "227 [-0.485161941,  1.1069690]50 [-6.305590,  3.1289664]50\n",
              "228 [-0.301193162,  1.3601438]50 [-5.811531,  3.6467128]50\n",
              "229 [-0.140181515,  1.5674159]50 [-5.626678,  3.8455225]50\n",
              "230 [-0.008553492,  1.7296344]50 [-5.359293,  4.1231611]50\n",
              "    50%$HOUST                  date    GS10TB3Mx CLAIMSx      ANDENOx     \n",
              "1   [NA, NA]NA                 1969 Q2  0.16      -3.40546271   1.03846605\n",
              "2   [NA, NA]NA                 1969 Q3 -0.17       7.71672099  -0.71667770\n",
              "3   [NA, NA]NA                 1969 Q4 -0.06       3.60607112 -10.52544727\n",
              "4   [NA, NA]NA                 1970 Q1  0.16      21.50997480  -2.13088398\n",
              "5   [NA, NA]NA                 1970 Q2  1.04      18.62447023 -14.89902259\n",
              "6   [NA, NA]NA                 1970 Q3  1.13      -4.58240188   3.40907596\n",
              "7   [NA, NA]NA                 1970 Q4  1.50       8.03028853  -0.03362818\n",
              "8   [NA, NA]NA                 1971 Q1  2.18      -9.59810783   7.74514002\n",
              "9   [NA, NA]NA                 1971 Q2  2.00      -0.03970903   0.42064416\n",
              "10  [NA, NA]NA                 1971 Q3  1.47       6.89004227  -2.70967550\n",
              "11  [NA, NA]NA                 1971 Q4  1.66      -9.03569830   1.59789789\n",
              "12  [NA, NA]NA                 1972 Q1  2.60      -7.27185656   4.37248710\n",
              "13  [NA, NA]NA                 1972 Q2  2.37       0.81788784   3.54769073\n",
              "14  [NA, NA]NA                 1972 Q3  2.07       0.40960772   7.97229344\n",
              "15  [NA, NA]NA                 1972 Q4  1.51      -8.14527190   2.11851595\n",
              "16  [NA, NA]NA                 1973 Q1  0.90      -9.35379153   7.48720903\n",
              "17  [NA, NA]NA                 1973 Q2  0.20       5.78344924   5.00287961\n",
              "18  [NA, NA]NA                 1973 Q3 -1.12       4.05976953   3.27582013\n",
              "19  [NA, NA]NA                 1973 Q4 -0.75       4.11950188   6.54015573\n",
              "20  [NA, NA]NA                 1974 Q1 -0.56      18.25878030   3.05156659\n",
              "21  [NA, NA]NA                 1974 Q2 -0.61      -4.28677078  -3.74515081\n",
              "22  [NA, NA]NA                 1974 Q3 -0.23      12.12869148   9.57483651\n",
              "23  [NA, NA]NA                 1974 Q4  0.31      30.93034819 -19.30748207\n",
              "24  [NA, NA]NA                 1975 Q1  1.79      16.52967632  -9.36372273\n",
              "25  [NA, NA]NA                 1975 Q2  2.66      -6.77689984  -5.64066725\n",
              "26  [NA, NA]NA                 1975 Q3  1.97     -12.63043940   3.26507228\n",
              "27  [NA, NA]NA                 1975 Q4  2.44     -11.30442384  -4.54614534\n",
              "28  [NA, NA]NA                 1976 Q1  2.84     -10.21524463   4.39043923\n",
              "29  [NA, NA]NA                 1976 Q2  2.62       6.77058718   4.73156432\n",
              "30  [NA, NA]NA                 1976 Q3  2.58       2.66409198   8.39423192\n",
              "⋮   ⋮                          ⋮       ⋮         ⋮            ⋮           \n",
              "201 [        NA,         NA]NA 2019 Q2  0.03      -0.5494092  -12.7222879 \n",
              "202 [        NA,         NA]NA 2019 Q3 -0.18      -3.8134703    1.8615482 \n",
              "203 [        NA,         NA]NA 2019 Q4  0.22       6.7093775   -7.6782466 \n",
              "204 [        NA,         NA]NA 2020 Q1  0.27     141.0962280   12.3006576 \n",
              "205 [        NA,         NA]NA 2020 Q2  0.54     110.5057495  -18.9960931 \n",
              "206 [        NA,         NA]NA 2020 Q3  0.54     -96.9663038   13.2165477 \n",
              "207 [        NA,         NA]NA 2020 Q4  0.77     -28.1299621    8.0917471 \n",
              "208 [        NA,         NA]NA 2021 Q1  1.27      -5.6687991    8.8129385 \n",
              "209 [        NA,         NA]NA 2021 Q2  1.57     -42.7462132    3.1734248 \n",
              "210 [        NA,         NA]NA 2021 Q3  1.28     -30.1139818   -1.0192094 \n",
              "211 [        NA,         NA]NA 2021 Q4  1.48     -39.4938731    1.7629781 \n",
              "212 [        NA,         NA]NA 2022 Q1  1.63      -9.2367373    6.3058094 \n",
              "213 [        NA,         NA]NA 2022 Q2  1.85      -4.4642764   -6.2098142 \n",
              "214 [        NA,         NA]NA 2022 Q3  0.44      -0.7153717    1.6388628 \n",
              "215 [        NA,         NA]NA 2022 Q4 -0.21      -2.0236512    0.1201491 \n",
              "216 [        NA,         NA]NA 2023 Q1 -0.98       3.4880305   -1.7744623 \n",
              "217 [        NA,         NA]NA 2023 Q2 -1.48       8.0395301    9.4562292 \n",
              "218 [        NA,         NA]NA 2023 Q3 -1.14       0.4791251   -1.8526391 \n",
              "219 [        NA,         NA]NA 2023 Q4 -0.84      -9.6839082    4.0026136 \n",
              "220 [        NA,         NA]NA 2024 Q1 -1.07      -0.5441019  -13.2466700 \n",
              "221 [        NA,         NA]NA 2024 Q2 -0.80       5.7910880   -9.7933865 \n",
              "222 [        NA,         NA]NA 2024 Q3 -1.04       3.4400345   12.2722101 \n",
              "223 [-11.837149, -1.3378520]50 2024 Q4    NA              NA           NA \n",
              "224 [-10.306998,  0.7254209]50 2025 Q1    NA              NA           NA \n",
              "225 [ -9.342844,  2.3445608]50 2025 Q2    NA              NA           NA \n",
              "226 [ -8.624356,  3.2997086]50 2025 Q3    NA              NA           NA \n",
              "227 [ -7.689688,  4.3174687]50 2025 Q4    NA              NA           NA \n",
              "228 [ -7.075449,  4.9837530]50 2026 Q1    NA              NA           NA \n",
              "229 [ -6.832218,  5.2488937]50 2026 Q2    NA              NA           NA \n",
              "230 [ -6.638415,  5.4527050]50 2026 Q3    NA              NA           NA \n",
              "    UMCSENTx HOUST       GS10TB3Mx_lag1 GS10TB3Mx_lag2 ⋯ UMCSENTx_lag3\n",
              "1    -6.7     -8.2777307  0.08           0.18          ⋯   0.0        \n",
              "2    -5.1     -9.0725237  0.16           0.08          ⋯  -0.7        \n",
              "3    -6.7     -7.2491975 -0.17           0.16          ⋯   6.5        \n",
              "4    -1.6     -5.9656715 -0.06          -0.17          ⋯  -6.7        \n",
              "5    -2.7      6.0164612  0.16          -0.06          ⋯  -5.1        \n",
              "6     2.2     12.1977190  1.04           0.16          ⋯  -6.7        \n",
              "7    -5.2     14.0250385  1.13           1.04          ⋯  -1.6        \n",
              "8     5.7      6.7768126  1.50           1.13          ⋯  -2.7        \n",
              "9     2.1     10.0952202  2.18           1.50          ⋯   2.2        \n",
              "10    1.9      3.5813615  2.00           2.18          ⋯  -5.2        \n",
              "11   -0.1      5.0138552  1.47           2.00          ⋯   5.7        \n",
              "12   10.8      8.8750953  1.66           1.47          ⋯   2.1        \n",
              "13   -4.2     -7.0894706  2.60           1.66          ⋯   1.9        \n",
              "14    6.6      5.6522045  2.37           2.60          ⋯  -0.1        \n",
              "15   -4.5      2.1826111  2.07           2.37          ⋯  10.8        \n",
              "16   -8.8     -1.9019120  1.51           2.07          ⋯  -4.2        \n",
              "17   -4.9    -10.6061518  0.90           1.51          ⋯   6.6        \n",
              "18   -5.0     -5.9223080  0.20           0.90          ⋯  -4.5        \n",
              "19    4.5    -20.4997376 -1.12           0.20          ⋯  -8.8        \n",
              "20  -14.7     -3.4902851 -0.75          -1.12          ⋯  -4.9        \n",
              "21   10.3     -4.5579708 -0.56          -0.75          ⋯  -5.0        \n",
              "22   -7.7    -23.1094074 -0.61          -0.56          ⋯   4.5        \n",
              "23   -4.9    -16.1150356 -0.23          -0.61          ⋯ -14.7        \n",
              "24   -1.9     -4.7342240  0.31          -0.23          ⋯  10.3        \n",
              "25   15.2      9.2544046  1.79           0.31          ⋯  -7.7        \n",
              "26    2.9     15.4550760  2.66           1.79          ⋯  -4.9        \n",
              "27   -0.1      7.0769096  1.97           2.66          ⋯  -1.9        \n",
              "28    9.0      7.2118392  2.44           1.97          ⋯  15.2        \n",
              "29   -1.3      0.5302629  2.84           2.44          ⋯   2.9        \n",
              "30    6.4      7.1427225  2.62           2.84          ⋯  -0.1        \n",
              "⋮   ⋮        ⋮           ⋮              ⋮              ⋱ ⋮            \n",
              "201   4.0      7.3542523  0.27           0.72          ⋯  -0.2        \n",
              "202  -4.7      3.0517031  0.03           0.27          ⋯   0.0        \n",
              "203   3.4      7.3634822 -0.18           0.03          ⋯  -3.6        \n",
              "204  -0.6      3.2820355  0.22          -0.18          ⋯   4.0        \n",
              "205 -22.5    -29.9120473  0.27           0.22          ⋯  -4.7        \n",
              "206   1.6     30.3689775  0.54           0.27          ⋯   3.4        \n",
              "207   4.1      7.5490997  0.54           0.54          ⋯  -0.6        \n",
              "208   0.4     -0.3599813  0.77           0.54          ⋯ -22.5        \n",
              "209   5.4      0.4867241  1.27           0.77          ⋯   1.6        \n",
              "210 -10.8      0.4423388  1.57           1.27          ⋯   4.1        \n",
              "211  -4.9      5.9164733  1.28           1.57          ⋯   0.4        \n",
              "212  -6.8      1.6503321  1.48           1.28          ⋯   5.4        \n",
              "213  -5.2     -4.4221504  1.63           1.48          ⋯ -10.8        \n",
              "214  -1.8    -11.3768698  1.85           1.63          ⋯  -4.9        \n",
              "215   2.7     -4.2420739  0.44           1.85          ⋯  -6.8        \n",
              "216   5.8     -2.2391690 -0.21           0.44          ⋯  -5.2        \n",
              "217  -2.3      6.1154400 -0.98          -0.21          ⋯  -1.8        \n",
              "218   7.3     -5.2909955 -1.48          -0.98          ⋯   2.7        \n",
              "219  -4.7      7.0392544 -1.14          -1.48          ⋯   5.8        \n",
              "220  13.5     -5.1257757 -0.84          -1.14          ⋯  -2.3        \n",
              "221  -6.9     -4.8541464 -1.07          -0.84          ⋯   7.3        \n",
              "222  -3.4     -0.6236742 -0.80          -1.07          ⋯  -4.7        \n",
              "223    NA             NA    NA             NA          ⋯    NA        \n",
              "224    NA             NA    NA             NA          ⋯    NA        \n",
              "225    NA             NA    NA             NA          ⋯    NA        \n",
              "226    NA             NA    NA             NA          ⋯    NA        \n",
              "227    NA             NA    NA             NA          ⋯    NA        \n",
              "228    NA             NA    NA             NA          ⋯    NA        \n",
              "229    NA             NA    NA             NA          ⋯    NA        \n",
              "230    NA             NA    NA             NA          ⋯    NA        \n",
              "    UMCSENTx_lag4 GDPC1_lag1  GDPC1_lag2  GDPC1_lag3  GDPC1_lag4  HOUST_lag1 \n",
              "1    -4.8          6.2092784   1.5680190   3.0861383   6.6263028    5.8900688\n",
              "2     0.0          1.2115790   6.2092784   1.5680190   3.0861383   -8.2777307\n",
              "3    -0.7          2.6311368   1.2115790   6.2092784   1.5680190   -9.0725237\n",
              "4     6.5         -1.9576187   2.6311368   1.2115790   6.2092784   -7.2491975\n",
              "5    -6.7         -0.5960107  -1.9576187   2.6311368   1.2115790   -5.9656715\n",
              "6    -5.1          0.5664724  -0.5960107  -1.9576187   2.6311368    6.0164612\n",
              "7    -6.7          3.6689911   0.5664724  -0.5960107  -1.9576187   12.1977190\n",
              "8    -1.6         -4.3094235   3.6689911   0.5664724  -0.5960107   14.0250385\n",
              "9    -2.7         10.7196661  -4.3094235   3.6689911   0.5664724    6.7768126\n",
              "10    2.2          2.1574381  10.7196661  -4.3094235   3.6689911   10.0952202\n",
              "11   -5.2          3.2763326   2.1574381  10.7196661  -4.3094235    3.5813615\n",
              "12    5.7          0.9383571   3.2763326   2.1574381  10.7196661    5.0138552\n",
              "13    2.1          7.2821720   0.9383571   3.2763326   2.1574381    8.8750953\n",
              "14    1.9          8.9756888   7.2821720   0.9383571   3.2763326   -7.0894706\n",
              "15   -0.1          3.7586438   8.9756888   7.2821720   0.9383571    5.6522045\n",
              "16   10.8          6.6422869   3.7586438   8.9756888   7.2821720    2.1826111\n",
              "17   -4.2          9.7792447   6.6422869   3.7586438   8.9756888   -1.9019120\n",
              "18    6.6          4.3314372   9.7792447   6.6422869   3.7586438  -10.6061518\n",
              "19   -4.5         -2.1089029   4.3314372   9.7792447   6.6422869   -5.9223080\n",
              "20   -8.8          3.7790158  -2.1089029   4.3314372   9.7792447  -20.4997376\n",
              "21   -4.9         -3.4536882   3.7790158  -2.1089029   4.3314372   -3.4902851\n",
              "22   -5.0          0.9496598  -3.4536882   3.7790158  -2.1089029   -4.5579708\n",
              "23    4.5         -3.7990939   0.9496598  -3.4536882   3.7790158  -23.1094074\n",
              "24  -14.7         -1.5566481  -3.7990939   0.9496598  -3.4536882  -16.1150356\n",
              "25   10.3         -4.9004329  -1.5566481  -3.7990939   0.9496598   -4.7342240\n",
              "26   -7.7          2.8486372  -4.9004329  -1.5566481  -3.7990939    9.2544046\n",
              "27   -4.9          6.7902171   2.8486372  -4.9004329  -1.5566481   15.4550760\n",
              "28   -1.9          5.3524011   6.7902171   2.8486372  -4.9004329    7.0769096\n",
              "29   15.2          8.8981609   5.3524011   6.7902171   2.8486372    7.2118392\n",
              "30    2.9          2.9227917   8.8981609   5.3524011   6.7902171    0.5302629\n",
              "⋮   ⋮             ⋮           ⋮           ⋮           ⋮           ⋮          \n",
              "201  -0.6           2.4895092   0.5661760   2.4870419   2.1176849   1.1656081\n",
              "202  -0.2           3.3267112   2.4895092   0.5661760   2.4870419   7.3542523\n",
              "203   0.0           4.6528410   3.3267112   2.4895092   0.5661760   3.0517031\n",
              "204  -3.6           2.7182544   4.6528410   3.3267112   2.4895092   7.3634822\n",
              "205   4.0          -5.6089060   2.7182544   4.6528410   3.3267112   3.2820355\n",
              "206  -4.7         -32.9570360  -5.6089060   2.7182544   4.6528410 -29.9120473\n",
              "207   3.4          30.1551256 -32.9570360  -5.6089060   2.7182544  30.3689775\n",
              "208  -0.6           4.3155383  30.1551256 -32.9570360  -5.6089060   7.5490997\n",
              "209 -22.5           5.4829932   4.3155383  30.1551256 -32.9570360  -0.3599813\n",
              "210   1.6           6.2313887   5.4829932   4.3155383  30.1551256   0.4867241\n",
              "211   4.1           3.3969327   6.2313887   5.4829932   4.3155383   0.4423388\n",
              "212   0.4           7.1483793   3.3969327   6.2313887   5.4829932   5.9164733\n",
              "213   5.4          -1.0311458   7.1483793   3.3969327   6.2313887   1.6503321\n",
              "214 -10.8           0.2806193  -1.0311458   7.1483793   3.3969327  -4.4221504\n",
              "215  -4.9           2.6838091   0.2806193  -1.0311458   7.1483793 -11.3768698\n",
              "216  -6.8           3.2976809   2.6838091   0.2806193  -1.0311458  -4.2420739\n",
              "217  -5.2           2.7586406   3.2976809   2.6838091   0.2806193  -2.2391690\n",
              "218  -1.8           2.4205569   2.7586406   3.2976809   2.6838091   6.1154400\n",
              "219   2.7           4.2632907   2.4205569   2.7586406   3.2976809  -5.2909955\n",
              "220   5.8           3.1423157   4.2632907   2.4205569   2.7586406   7.0392544\n",
              "221  -2.3           1.6159401   3.1423157   4.2632907   2.4205569  -5.1257757\n",
              "222   7.3           2.9450502   1.6159401   3.1423157   4.2632907  -4.8541464\n",
              "223    NA                  NA          NA          NA          NA          NA\n",
              "224    NA                  NA          NA          NA          NA          NA\n",
              "225    NA                  NA          NA          NA          NA          NA\n",
              "226    NA                  NA          NA          NA          NA          NA\n",
              "227    NA                  NA          NA          NA          NA          NA\n",
              "228    NA                  NA          NA          NA          NA          NA\n",
              "229    NA                  NA          NA          NA          NA          NA\n",
              "230    NA                  NA          NA          NA          NA          NA\n",
              "    HOUST_lag2  HOUST_lag3  HOUST_lag4  \n",
              "1     3.953252    4.390400    0.02290622\n",
              "2     5.890069    3.953252    4.39040045\n",
              "3    -8.277731    5.890069    3.95325166\n",
              "4    -9.072524   -8.277731    5.89006878\n",
              "5    -7.249197   -9.072524   -8.27773073\n",
              "6    -5.965672   -7.249197   -9.07252375\n",
              "7     6.016461   -5.965672   -7.24919750\n",
              "8    12.197719    6.016461   -5.96567150\n",
              "9    14.025038   12.197719    6.01646124\n",
              "10    6.776813   14.025038   12.19771897\n",
              "11   10.095220    6.776813   14.02503849\n",
              "12    3.581361   10.095220    6.77681257\n",
              "13    5.013855    3.581361   10.09522022\n",
              "14    8.875095    5.013855    3.58136146\n",
              "15   -7.089471    8.875095    5.01385520\n",
              "16    5.652204   -7.089471    8.87509531\n",
              "17    2.182611    5.652204   -7.08947055\n",
              "18   -1.901912    2.182611    5.65220449\n",
              "19  -10.606152   -1.901912    2.18261113\n",
              "20   -5.922308  -10.606152   -1.90191200\n",
              "21  -20.499738   -5.922308  -10.60615181\n",
              "22   -3.490285  -20.499738   -5.92230799\n",
              "23   -4.557971   -3.490285  -20.49973756\n",
              "24  -23.109407   -4.557971   -3.49028514\n",
              "25  -16.115036  -23.109407   -4.55797084\n",
              "26   -4.734224  -16.115036  -23.10940735\n",
              "27    9.254405   -4.734224  -16.11503559\n",
              "28   15.455076    9.254405   -4.73422403\n",
              "29    7.076910   15.455076    9.25440464\n",
              "30    7.211839    7.076910   15.45507598\n",
              "⋮   ⋮           ⋮           ⋮           \n",
              "201  -6.8783144  -2.0869837  -1.7878440 \n",
              "202   1.1656081  -6.8783144  -2.0869837 \n",
              "203   7.3542523   1.1656081  -6.8783144 \n",
              "204   3.0517031   7.3542523   1.1656081 \n",
              "205   7.3634822   3.0517031   7.3542523 \n",
              "206   3.2820355   7.3634822   3.0517031 \n",
              "207 -29.9120473   3.2820355   7.3634822 \n",
              "208  30.3689775 -29.9120473   3.2820355 \n",
              "209   7.5490997  30.3689775 -29.9120473 \n",
              "210  -0.3599813   7.5490997  30.3689775 \n",
              "211   0.4867241  -0.3599813   7.5490997 \n",
              "212   0.4423388   0.4867241  -0.3599813 \n",
              "213   5.9164733   0.4423388   0.4867241 \n",
              "214   1.6503321   5.9164733   0.4423388 \n",
              "215  -4.4221504   1.6503321   5.9164733 \n",
              "216 -11.3768698  -4.4221504   1.6503321 \n",
              "217  -4.2420739 -11.3768698  -4.4221504 \n",
              "218  -2.2391690  -4.2420739 -11.3768698 \n",
              "219   6.1154400  -2.2391690  -4.2420739 \n",
              "220  -5.2909955   6.1154400  -2.2391690 \n",
              "221   7.0392544  -5.2909955   6.1154400 \n",
              "222  -5.1257757   7.0392544  -5.2909955 \n",
              "223          NA          NA          NA \n",
              "224          NA          NA          NA \n",
              "225          NA          NA          NA \n",
              "226          NA          NA          NA \n",
              "227          NA          NA          NA \n",
              "228          NA          NA          NA \n",
              "229          NA          NA          NA \n",
              "230          NA          NA          NA "
            ]
          },
          "metadata": {}
        }
      ]
    },
    {
      "cell_type": "code",
      "source": [
        "\n",
        "v1<-varplot%>%\n",
        "  mutate(\n",
        "    lower = as.numeric(str_extract(hilo, \"-?[0-9.]+\")),   # Extract first number\n",
        "    upper = as.numeric(str_extract(hilo, \"(?<=, )[0-9.]+\")) ) # Extract second number"
      ],
      "metadata": {
        "id": "-rnQ7O65kk0Z"
      },
      "execution_count": null,
      "outputs": []
    },
    {
      "cell_type": "code",
      "source": [
        "ggplot(varplot, aes(x = date, y = `.mean`)) +\n",
        "  geom_ribbon(aes(ymin = lower, ymax = upper), fill = \"blue\", alpha = 0.2) +  # Shaded region for uncertainty\n",
        "  geom_line(color = \"blue\") +  # Mean forecast line\n",
        "  geom_point(size = 2, color = \"blue\") # Highlight points"
      ],
      "metadata": {
        "id": "TwzFLsd5hkOI"
      },
      "execution_count": null,
      "outputs": []
    }
  ],
  "metadata": {
    "kernelspec": {
      "display_name": "R",
      "name": "ir"
    },
    "language_info": {
      "name": "R"
    },
    "colab": {
      "provenance": []
    }
  },
  "nbformat": 4,
  "nbformat_minor": 0
}